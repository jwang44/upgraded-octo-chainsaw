{
  "nbformat": 4,
  "nbformat_minor": 0,
  "metadata": {
    "accelerator": "GPU",
    "colab": {
      "name": "ConvNet.ipynb",
      "provenance": [],
      "collapsed_sections": [
        "CFEyrp_mYmIO",
        "ZX0XLJDjkqX_",
        "3yEtGFpwdYx1",
        "K7VpSLb22POJ"
      ],
      "toc_visible": true,
      "include_colab_link": true
    },
    "kernelspec": {
      "display_name": "Python 3",
      "name": "python3"
    }
  },
  "cells": [
    {
      "cell_type": "markdown",
      "metadata": {
        "id": "view-in-github",
        "colab_type": "text"
      },
      "source": [
        "<a href=\"https://colab.research.google.com/github/jwang44/upgraded-octo-chainsaw/blob/main/ConvNet_ResNet18_ROTATE_BESTPARAM.ipynb\" target=\"_parent\"><img src=\"https://colab.research.google.com/assets/colab-badge.svg\" alt=\"Open In Colab\"/></a>"
      ]
    },
    {
      "cell_type": "code",
      "metadata": {
        "colab": {
          "base_uri": "https://localhost:8080/"
        },
        "id": "0dOxAvsuIul3",
        "outputId": "1623a739-17e8-4623-b4ce-bbc8eaa99085"
      },
      "source": [
        "from google.colab import drive\n",
        "drive.mount('/content/drive')"
      ],
      "execution_count": 1,
      "outputs": [
        {
          "output_type": "stream",
          "text": [
            "Mounted at /content/drive\n"
          ],
          "name": "stdout"
        }
      ]
    },
    {
      "cell_type": "code",
      "metadata": {
        "colab": {
          "base_uri": "https://localhost:8080/"
        },
        "id": "mqRELpG1DsZq",
        "outputId": "6ca9c71b-2b0d-4492-857c-c738f91d606e"
      },
      "source": [
        "%cd '/content/drive/MyDrive/551 A3'\n",
        "!ls"
      ],
      "execution_count": null,
      "outputs": [
        {
          "output_type": "stream",
          "text": [
            "/content/drive/MyDrive/551 A3\n",
            "mlruns\tTest.pkl  Train_labels.csv  Train.pkl\n"
          ],
          "name": "stdout"
        }
      ]
    },
    {
      "cell_type": "code",
      "metadata": {
        "colab": {
          "base_uri": "https://localhost:8080/"
        },
        "id": "k4WoprD5s5kd",
        "outputId": "04226c8e-4b44-4212-baaa-cb5f5c7fbad1"
      },
      "source": [
        "%cd '/content/drive/MyDrive/imageunderstanding'\n",
        "!ls"
      ],
      "execution_count": 2,
      "outputs": [
        {
          "output_type": "stream",
          "text": [
            "/content/drive/MyDrive/imageunderstanding\n",
            "ExampleSubmissionRandom.csv  Test.pkl\t       VAL_ACCU_RES18.csv\n",
            "Load_data.ipynb\t\t     Train_labels.csv  VAL_ACCU_RES34_ROTATE.csv\n",
            "PRED_RESULT.csv\t\t     Train.pkl\n"
          ],
          "name": "stdout"
        }
      ]
    },
    {
      "cell_type": "code",
      "metadata": {
        "id": "T1-Hfwf3lrw4"
      },
      "source": [
        "TRAIN_DATA_PATH = \"Train.pkl\"\n",
        "TRAIN_LABEL_PATH = \"Train_labels.csv\"\n",
        "TEST_DATA_PATH = \"Test.pkl\"\n",
        "CSV_OUTPUT_PATH = \"PRED_RESULT.csv\""
      ],
      "execution_count": 3,
      "outputs": []
    },
    {
      "cell_type": "code",
      "metadata": {
        "id": "7XS2MS7nHzIN"
      },
      "source": [
        "import pickle\n",
        "import matplotlib.pyplot as plt\n",
        "import numpy as np\n",
        "from torchvision import transforms\n",
        "from torch.utils.data import Dataset\n",
        "from torch.utils.data import DataLoader, TensorDataset\n",
        "from PIL import Image\n",
        "import torch\n",
        "import pandas as pd"
      ],
      "execution_count": 4,
      "outputs": []
    },
    {
      "cell_type": "code",
      "metadata": {
        "colab": {
          "base_uri": "https://localhost:8080/"
        },
        "id": "FBXdYCpunCp2",
        "outputId": "8b5ccc29-9b9e-4d5e-efb9-a3de138c589d"
      },
      "source": [
        "DEVICE = torch.device('cuda' if torch.cuda.is_available() else 'cpu')\n",
        "DEVICE"
      ],
      "execution_count": 5,
      "outputs": [
        {
          "output_type": "execute_result",
          "data": {
            "text/plain": [
              "device(type='cuda')"
            ]
          },
          "metadata": {
            "tags": []
          },
          "execution_count": 5
        }
      ]
    },
    {
      "cell_type": "code",
      "metadata": {
        "id": "zppkOjQwVjy2"
      },
      "source": [
        "torch.manual_seed(0)\n",
        "torch.cuda.manual_seed(0)"
      ],
      "execution_count": 6,
      "outputs": []
    },
    {
      "cell_type": "markdown",
      "metadata": {
        "id": "_2Vm3wY_K3DA"
      },
      "source": [
        "## Dataset Class / Data Loaders"
      ]
    },
    {
      "cell_type": "code",
      "metadata": {
        "id": "bydOoypc5SAM"
      },
      "source": [
        "IMG_SIZE = (224, 224)"
      ],
      "execution_count": 7,
      "outputs": []
    },
    {
      "cell_type": "code",
      "metadata": {
        "id": "RMnXBwXMCqd5"
      },
      "source": [
        "# Transforms are common image transformations. They can be chained together using Compose.\n",
        "# Here we normalize images img=(img-0.5)/0.5\n",
        "img_transform = transforms.Compose([\n",
        "    transforms.ToTensor(),\n",
        "    # transforms.Normalize([0.5], [0.5]),\n",
        "    transforms.Resize(IMG_SIZE),\n",
        "    transforms.RandomRotation(10)\n",
        "    # transforms.ColorJitter(brightness=0, contrast=0, saturation=0, hue=0)\n",
        "    # transforms.RandomAffine(degrees, translate=None, scale=None, shear=None, interpolation=<InterpolationMode.NEAREST: 'nearest'>, fill=0, fillcolor=None, resample=None)\n",
        "])"
      ],
      "execution_count": 15,
      "outputs": []
    },
    {
      "cell_type": "code",
      "metadata": {
        "id": "sG5W0Az2S4sX"
      },
      "source": [
        "test_transform = transforms.Compose([\n",
        "    transforms.ToTensor(),\n",
        "    # transforms.Normalize([0.5], [0.5]),\n",
        "    transforms.Resize(IMG_SIZE),\n",
        "    # transforms.RandomRotation(10)\n",
        "    # transforms.ColorJitter(brightness=0, contrast=0, saturation=0, hue=0)\n",
        "    # transforms.RandomAffine(degrees, translate=None, scale=None, shear=None, interpolation=<InterpolationMode.NEAREST: 'nearest'>, fill=0, fillcolor=None, resample=None)\n",
        "])"
      ],
      "execution_count": 16,
      "outputs": []
    },
    {
      "cell_type": "code",
      "metadata": {
        "id": "CY0SndE2qcmb"
      },
      "source": [
        "# img_file: the pickle file containing the images\n",
        "# label_file: the .csv file containing the labels\n",
        "# idx: This is a binary vector that is useful for creating training and validation set.\n",
        "# It return only samples where idx is True\n",
        "\n",
        "class MyDataset(Dataset):\n",
        "    def __init__(self, img_file, label_file, transform=None, idx = None):\n",
        "        self.data = pickle.load( open( img_file, 'rb' ), encoding='bytes')\n",
        "        self.targets = np.genfromtxt(label_file, delimiter=',', skip_header=1, usecols=1) #[:,1:]\n",
        "        if idx is not None:\n",
        "          self.targets = self.targets[idx]\n",
        "          self.data = self.data[idx]\n",
        "        self.transform = transform\n",
        "\n",
        "    def __len__(self):\n",
        "        return len(self.targets)\n",
        "\n",
        "    def __getitem__(self, index):\n",
        "        img, target = self.data[index].squeeze(), int(self.targets[index])\n",
        "        img = Image.fromarray((img*255).astype('uint8'), mode='L')\n",
        "        if self.transform is not None:\n",
        "           img = self.transform(img)\n",
        "        return img, target"
      ],
      "execution_count": 17,
      "outputs": []
    },
    {
      "cell_type": "markdown",
      "metadata": {
        "id": "q3b-QvEvqNE3"
      },
      "source": [
        "Get loader for all train data"
      ]
    },
    {
      "cell_type": "code",
      "metadata": {
        "id": "74kV_DwkqizL"
      },
      "source": [
        "BATCH_SIZE = 128\n",
        "dataset = MyDataset(TRAIN_DATA_PATH, TRAIN_LABEL_PATH,transform=img_transform, idx=None)\n",
        "# dataloader for all data\n",
        "data_loader = DataLoader(dataset, batch_size=BATCH_SIZE, shuffle=True)"
      ],
      "execution_count": 18,
      "outputs": []
    },
    {
      "cell_type": "markdown",
      "metadata": {
        "id": "1ZNiErb-pbPt"
      },
      "source": [
        "Get loaders for train/val data"
      ]
    },
    {
      "cell_type": "code",
      "metadata": {
        "id": "05SXSXBRW4DX"
      },
      "source": [
        "VAL_SPLIT = 0.15\n",
        "shuffle = True\n",
        "\n",
        "# Creating indices for train and val split:\n",
        "dataset_size = len(dataset)\n",
        "indices = list(range(dataset_size))\n",
        "split = int(np.floor(VAL_SPLIT * dataset_size))\n",
        "if shuffle:\n",
        "  # set random seed so that we get the same split everytime\n",
        "  np.random.seed(0)\n",
        "  np.random.shuffle(indices)\n",
        "train_indices, val_indices = indices[split:], indices[:split]\n",
        "\n",
        "train_dataset = MyDataset(TRAIN_DATA_PATH, TRAIN_LABEL_PATH,transform=img_transform, idx=train_indices)\n",
        "val_dataset = MyDataset(TRAIN_DATA_PATH, TRAIN_LABEL_PATH,transform=test_transform, idx=val_indices)\n",
        "\n",
        "# separate loaders for train and val data\n",
        "train_loader = DataLoader(train_dataset, batch_size=BATCH_SIZE, shuffle=False)\n",
        "val_loader = DataLoader(val_dataset, batch_size=BATCH_SIZE, shuffle=False)"
      ],
      "execution_count": 19,
      "outputs": []
    },
    {
      "cell_type": "markdown",
      "metadata": {
        "id": "CFEyrp_mYmIO"
      },
      "source": [
        "## Test Dataset / Loader"
      ]
    },
    {
      "cell_type": "code",
      "metadata": {
        "id": "x1d3LIGlYrDK"
      },
      "source": [
        "class MyTestSet(Dataset):\n",
        "  def __init__(self, img_file, transform=None):\n",
        "    self.data = pickle.load( open(img_file, 'rb' ), encoding='bytes')\n",
        "    self.transform = transform\n",
        "\n",
        "  def __len__(self):\n",
        "    # return self.data.shape[0]\n",
        "    return len(self.data)\n",
        "\n",
        "  def __getitem__(self, index):\n",
        "    img = self.data[index].squeeze()\n",
        "    img = Image.fromarray((img*255).astype('uint8'), mode='L')\n",
        "    if self.transform is not None:\n",
        "      img = self.transform(img)\n",
        "    return img"
      ],
      "execution_count": 20,
      "outputs": []
    },
    {
      "cell_type": "code",
      "metadata": {
        "id": "fk5z7LRha2Uc"
      },
      "source": [
        "test_dataset = MyTestSet(TEST_DATA_PATH,transform=test_transform)\n",
        "# dataloader for test data\n",
        "test_loader = DataLoader(test_dataset, batch_size=BATCH_SIZE, shuffle=False)"
      ],
      "execution_count": 21,
      "outputs": []
    },
    {
      "cell_type": "markdown",
      "metadata": {
        "id": "wdvC0-OfRnQV"
      },
      "source": [
        "## ResNet18"
      ]
    },
    {
      "cell_type": "code",
      "metadata": {
        "id": "pFVSRS6gs8t7"
      },
      "source": [
        "import torch.nn as nn\n",
        "import torch.nn.functional as F\n",
        "import torch.optim as optim\n",
        "import torch\n",
        "import torchvision.models as models"
      ],
      "execution_count": 22,
      "outputs": []
    },
    {
      "cell_type": "markdown",
      "metadata": {
        "id": "BeVwuJHatdb7"
      },
      "source": [
        "Let's train these. But first, create the network, the optimizer and some lists for logging the training process"
      ]
    },
    {
      "cell_type": "markdown",
      "metadata": {
        "id": "ci11eU_mKnkX"
      },
      "source": [
        "### resnet18"
      ]
    },
    {
      "cell_type": "code",
      "metadata": {
        "id": "VfN0avQP398k"
      },
      "source": [
        "model = models.resnet18(pretrained=False)\n",
        "model.conv1 = nn.Conv2d(1, 64, kernel_size=(7, 7), stride=(2, 2), padding=(3, 3), bias=False)\n",
        "model.fc = nn.Linear(in_features=512, out_features=10, bias=True)\n",
        "model = model.to(DEVICE)"
      ],
      "execution_count": 23,
      "outputs": []
    },
    {
      "cell_type": "markdown",
      "metadata": {
        "id": "ZFDcK-NeKvm4"
      },
      "source": [
        "### optimizer & initialization"
      ]
    },
    {
      "cell_type": "code",
      "metadata": {
        "id": "fJqfMWSFIztX"
      },
      "source": [
        "# optimizer = optim.SGD(tutor_model.parameters(), lr=0.01, momentum=0.5)\n",
        "# optimizer = optim.SGD(tutor_model.parameters(), lr=1, momentum=0.5)\n",
        "optimizer = optim.Adam(model.parameters(), lr=0.0001)\n",
        "# optimizer = optim.RMSprop(model.parameters())\n",
        "\n",
        "train_losses = []\n",
        "train_counter = []\n",
        "val_accus = []\n",
        "epochs = []\n",
        "val_losses = []\n",
        "val_counter = [i*len(train_loader.dataset) for i in range(3)]"
      ],
      "execution_count": 24,
      "outputs": []
    },
    {
      "cell_type": "markdown",
      "metadata": {
        "id": "Ck4yNKs46Q1Y"
      },
      "source": [
        "### Train and test function, used many times"
      ]
    },
    {
      "cell_type": "code",
      "metadata": {
        "id": "0Ps3KWsvtlSS"
      },
      "source": [
        "def train(epoch, model, loader):\n",
        "  model.train()\n",
        "  for batch_idx, (data, target) in enumerate(loader):\n",
        "    optimizer.zero_grad()\n",
        "    data = data.to(DEVICE)\n",
        "    # print(data.shape)\n",
        "    target = target.to(DEVICE)\n",
        "    output = model(data)\n",
        "    # print(output.shape)\n",
        "    # target = torch.argmax(target, dim=1) # convert from 1-hot to 1D\n",
        "    loss = F.cross_entropy(output, target) #negative log likelihood loss\n",
        "    loss.backward()\n",
        "    optimizer.step()\n",
        "    if batch_idx % 200 == 0:\n",
        "      print('Train Epoch: {} [{}/{} ({:.0f}%)]\\tLoss: {:.6f}'.format(\n",
        "        epoch, batch_idx * len(data), len(loader.dataset),\n",
        "        100. * batch_idx / len(loader), loss.item()))\n",
        "      train_losses.append(loss.item())\n",
        "      train_counter.append(\n",
        "        (batch_idx*64) + ((epoch-1)*len(loader.dataset)))\n",
        "      torch.save(model.state_dict(), '/model.pth')\n",
        "      torch.save(optimizer.state_dict(), '/optimizer.pth')\n",
        "\n",
        "def val(model, loader):\n",
        "  model.eval()\n",
        "  val_loss = 0\n",
        "  correct = 0\n",
        "  with torch.no_grad():\n",
        "    for data, target in loader:\n",
        "      data = data.to(DEVICE)\n",
        "      target = target.to(DEVICE)\n",
        "      output = model(data)\n",
        "      val_loss += F.cross_entropy(output, target, size_average=False).item()\n",
        "      pred = output.data.max(1, keepdim=True)[1]\n",
        "      correct += pred.eq(target.data.view_as(pred)).sum()\n",
        "  val_loss /= len(loader.dataset)\n",
        "  val_losses.append(val_loss)\n",
        "\n",
        "  val_accu = 100. * correct / len(loader.dataset)\n",
        "  val_accus.append(val_accu)\n",
        "  epochs.append(epoch)\n",
        "\n",
        "  print('Val set: Epoch: {}, Avg. loss: {:.4f}, Accuracy: {}/{} ({:.2f}%)'.format(\n",
        "    epoch, val_loss, correct, len(loader.dataset),\n",
        "    100. * correct / len(loader.dataset)))"
      ],
      "execution_count": 25,
      "outputs": []
    },
    {
      "cell_type": "markdown",
      "metadata": {
        "id": "BaaA04yUtj1T"
      },
      "source": [
        "Train the network"
      ]
    },
    {
      "cell_type": "code",
      "metadata": {
        "id": "CCgK_yOvtrjz",
        "colab": {
          "base_uri": "https://localhost:8080/"
        },
        "outputId": "d0832014-a015-43a8-b1ac-6430be4a8e37"
      },
      "source": [
        "for epoch in range(1, 41):\n",
        "  train(epoch, model, train_loader)\n",
        "  val(model, val_loader)"
      ],
      "execution_count": 26,
      "outputs": [
        {
          "output_type": "stream",
          "text": [
            "Train Epoch: 1 [0/51000 (0%)]\tLoss: 2.501626\n",
            "Train Epoch: 1 [25600/51000 (50%)]\tLoss: 0.345483\n"
          ],
          "name": "stdout"
        },
        {
          "output_type": "stream",
          "text": [
            "/usr/local/lib/python3.7/dist-packages/torch/nn/_reduction.py:42: UserWarning: size_average and reduce args will be deprecated, please use reduction='sum' instead.\n",
            "  warnings.warn(warning.format(ret))\n"
          ],
          "name": "stderr"
        },
        {
          "output_type": "stream",
          "text": [
            "Val set: Epoch: 1, Avg. loss: 0.4054, Accuracy: 7823/9000 (86.92%)\n",
            "Train Epoch: 2 [0/51000 (0%)]\tLoss: 0.200145\n",
            "Train Epoch: 2 [25600/51000 (50%)]\tLoss: 0.175531\n",
            "Val set: Epoch: 2, Avg. loss: 0.3676, Accuracy: 7941/9000 (88.23%)\n",
            "Train Epoch: 3 [0/51000 (0%)]\tLoss: 0.138677\n",
            "Train Epoch: 3 [25600/51000 (50%)]\tLoss: 0.154430\n",
            "Val set: Epoch: 3, Avg. loss: 0.3978, Accuracy: 7958/9000 (88.42%)\n",
            "Train Epoch: 4 [0/51000 (0%)]\tLoss: 0.085552\n",
            "Train Epoch: 4 [25600/51000 (50%)]\tLoss: 0.134357\n",
            "Val set: Epoch: 4, Avg. loss: 0.1303, Accuracy: 8631/9000 (95.90%)\n",
            "Train Epoch: 5 [0/51000 (0%)]\tLoss: 0.089935\n",
            "Train Epoch: 5 [25600/51000 (50%)]\tLoss: 0.101597\n",
            "Val set: Epoch: 5, Avg. loss: 0.1004, Accuracy: 8705/9000 (96.72%)\n",
            "Train Epoch: 6 [0/51000 (0%)]\tLoss: 0.041052\n",
            "Train Epoch: 6 [25600/51000 (50%)]\tLoss: 0.079101\n",
            "Val set: Epoch: 6, Avg. loss: 0.1224, Accuracy: 8663/9000 (96.26%)\n",
            "Train Epoch: 7 [0/51000 (0%)]\tLoss: 0.022913\n",
            "Train Epoch: 7 [25600/51000 (50%)]\tLoss: 0.088278\n",
            "Val set: Epoch: 7, Avg. loss: 0.1170, Accuracy: 8680/9000 (96.44%)\n",
            "Train Epoch: 8 [0/51000 (0%)]\tLoss: 0.033290\n",
            "Train Epoch: 8 [25600/51000 (50%)]\tLoss: 0.076201\n",
            "Val set: Epoch: 8, Avg. loss: 0.0891, Accuracy: 8749/9000 (97.21%)\n",
            "Train Epoch: 9 [0/51000 (0%)]\tLoss: 0.040865\n",
            "Train Epoch: 9 [25600/51000 (50%)]\tLoss: 0.050845\n",
            "Val set: Epoch: 9, Avg. loss: 0.0824, Accuracy: 8762/9000 (97.36%)\n",
            "Train Epoch: 10 [0/51000 (0%)]\tLoss: 0.021306\n",
            "Train Epoch: 10 [25600/51000 (50%)]\tLoss: 0.059554\n",
            "Val set: Epoch: 10, Avg. loss: 0.3200, Accuracy: 8177/9000 (90.86%)\n",
            "Train Epoch: 11 [0/51000 (0%)]\tLoss: 0.021888\n",
            "Train Epoch: 11 [25600/51000 (50%)]\tLoss: 0.021340\n",
            "Val set: Epoch: 11, Avg. loss: 0.0961, Accuracy: 8726/9000 (96.96%)\n",
            "Train Epoch: 12 [0/51000 (0%)]\tLoss: 0.043056\n",
            "Train Epoch: 12 [25600/51000 (50%)]\tLoss: 0.084785\n",
            "Val set: Epoch: 12, Avg. loss: 0.0780, Accuracy: 8789/9000 (97.66%)\n",
            "Train Epoch: 13 [0/51000 (0%)]\tLoss: 0.018782\n",
            "Train Epoch: 13 [25600/51000 (50%)]\tLoss: 0.023672\n",
            "Val set: Epoch: 13, Avg. loss: 0.1224, Accuracy: 8657/9000 (96.19%)\n",
            "Train Epoch: 14 [0/51000 (0%)]\tLoss: 0.041165\n",
            "Train Epoch: 14 [25600/51000 (50%)]\tLoss: 0.019037\n",
            "Val set: Epoch: 14, Avg. loss: 0.1064, Accuracy: 8705/9000 (96.72%)\n",
            "Train Epoch: 15 [0/51000 (0%)]\tLoss: 0.019497\n",
            "Train Epoch: 15 [25600/51000 (50%)]\tLoss: 0.042490\n",
            "Val set: Epoch: 15, Avg. loss: 0.1100, Accuracy: 8685/9000 (96.50%)\n",
            "Train Epoch: 16 [0/51000 (0%)]\tLoss: 0.053180\n",
            "Train Epoch: 16 [25600/51000 (50%)]\tLoss: 0.017102\n",
            "Val set: Epoch: 16, Avg. loss: 0.0959, Accuracy: 8741/9000 (97.12%)\n",
            "Train Epoch: 17 [0/51000 (0%)]\tLoss: 0.027471\n",
            "Train Epoch: 17 [25600/51000 (50%)]\tLoss: 0.076199\n",
            "Val set: Epoch: 17, Avg. loss: 0.0921, Accuracy: 8758/9000 (97.31%)\n",
            "Train Epoch: 18 [0/51000 (0%)]\tLoss: 0.013738\n",
            "Train Epoch: 18 [25600/51000 (50%)]\tLoss: 0.003694\n",
            "Val set: Epoch: 18, Avg. loss: 0.1034, Accuracy: 8761/9000 (97.34%)\n",
            "Train Epoch: 19 [0/51000 (0%)]\tLoss: 0.004749\n",
            "Train Epoch: 19 [25600/51000 (50%)]\tLoss: 0.074731\n",
            "Val set: Epoch: 19, Avg. loss: 0.0774, Accuracy: 8812/9000 (97.91%)\n",
            "Train Epoch: 20 [0/51000 (0%)]\tLoss: 0.009945\n",
            "Train Epoch: 20 [25600/51000 (50%)]\tLoss: 0.020056\n",
            "Val set: Epoch: 20, Avg. loss: 0.0619, Accuracy: 8829/9000 (98.10%)\n",
            "Train Epoch: 21 [0/51000 (0%)]\tLoss: 0.033499\n",
            "Train Epoch: 21 [25600/51000 (50%)]\tLoss: 0.057539\n",
            "Val set: Epoch: 21, Avg. loss: 0.0664, Accuracy: 8820/9000 (98.00%)\n",
            "Train Epoch: 22 [0/51000 (0%)]\tLoss: 0.017945\n",
            "Train Epoch: 22 [25600/51000 (50%)]\tLoss: 0.005888\n",
            "Val set: Epoch: 22, Avg. loss: 0.1423, Accuracy: 8681/9000 (96.46%)\n",
            "Train Epoch: 23 [0/51000 (0%)]\tLoss: 0.010195\n",
            "Train Epoch: 23 [25600/51000 (50%)]\tLoss: 0.028393\n",
            "Val set: Epoch: 23, Avg. loss: 0.0960, Accuracy: 8781/9000 (97.57%)\n",
            "Train Epoch: 24 [0/51000 (0%)]\tLoss: 0.007358\n",
            "Train Epoch: 24 [25600/51000 (50%)]\tLoss: 0.037781\n",
            "Val set: Epoch: 24, Avg. loss: 0.0688, Accuracy: 8823/9000 (98.03%)\n",
            "Train Epoch: 25 [0/51000 (0%)]\tLoss: 0.006244\n",
            "Train Epoch: 25 [25600/51000 (50%)]\tLoss: 0.013710\n",
            "Val set: Epoch: 25, Avg. loss: 0.0693, Accuracy: 8828/9000 (98.09%)\n",
            "Train Epoch: 26 [0/51000 (0%)]\tLoss: 0.002032\n",
            "Train Epoch: 26 [25600/51000 (50%)]\tLoss: 0.043714\n",
            "Val set: Epoch: 26, Avg. loss: 0.0846, Accuracy: 8798/9000 (97.76%)\n",
            "Train Epoch: 27 [0/51000 (0%)]\tLoss: 0.008833\n",
            "Train Epoch: 27 [25600/51000 (50%)]\tLoss: 0.001330\n",
            "Val set: Epoch: 27, Avg. loss: 0.1374, Accuracy: 8701/9000 (96.68%)\n",
            "Train Epoch: 28 [0/51000 (0%)]\tLoss: 0.004132\n",
            "Train Epoch: 28 [25600/51000 (50%)]\tLoss: 0.045154\n",
            "Val set: Epoch: 28, Avg. loss: 0.0835, Accuracy: 8819/9000 (97.99%)\n",
            "Train Epoch: 29 [0/51000 (0%)]\tLoss: 0.007324\n",
            "Train Epoch: 29 [25600/51000 (50%)]\tLoss: 0.001266\n",
            "Val set: Epoch: 29, Avg. loss: 0.0912, Accuracy: 8800/9000 (97.78%)\n",
            "Train Epoch: 30 [0/51000 (0%)]\tLoss: 0.004701\n",
            "Train Epoch: 30 [25600/51000 (50%)]\tLoss: 0.013684\n",
            "Val set: Epoch: 30, Avg. loss: 0.0729, Accuracy: 8834/9000 (98.16%)\n",
            "Train Epoch: 31 [0/51000 (0%)]\tLoss: 0.011789\n",
            "Train Epoch: 31 [25600/51000 (50%)]\tLoss: 0.007472\n",
            "Val set: Epoch: 31, Avg. loss: 0.0833, Accuracy: 8788/9000 (97.64%)\n",
            "Train Epoch: 32 [0/51000 (0%)]\tLoss: 0.007391\n",
            "Train Epoch: 32 [25600/51000 (50%)]\tLoss: 0.011398\n",
            "Val set: Epoch: 32, Avg. loss: 0.0991, Accuracy: 8769/9000 (97.43%)\n",
            "Train Epoch: 33 [0/51000 (0%)]\tLoss: 0.011326\n",
            "Train Epoch: 33 [25600/51000 (50%)]\tLoss: 0.001664\n",
            "Val set: Epoch: 33, Avg. loss: 0.0918, Accuracy: 8770/9000 (97.44%)\n",
            "Train Epoch: 34 [0/51000 (0%)]\tLoss: 0.018604\n",
            "Train Epoch: 34 [25600/51000 (50%)]\tLoss: 0.012045\n",
            "Val set: Epoch: 34, Avg. loss: 0.0693, Accuracy: 8830/9000 (98.11%)\n",
            "Train Epoch: 35 [0/51000 (0%)]\tLoss: 0.001709\n",
            "Train Epoch: 35 [25600/51000 (50%)]\tLoss: 0.011584\n",
            "Val set: Epoch: 35, Avg. loss: 0.1431, Accuracy: 8678/9000 (96.42%)\n",
            "Train Epoch: 36 [0/51000 (0%)]\tLoss: 0.015375\n",
            "Train Epoch: 36 [25600/51000 (50%)]\tLoss: 0.000944\n",
            "Val set: Epoch: 36, Avg. loss: 0.0640, Accuracy: 8855/9000 (98.39%)\n",
            "Train Epoch: 37 [0/51000 (0%)]\tLoss: 0.003646\n",
            "Train Epoch: 37 [25600/51000 (50%)]\tLoss: 0.022570\n",
            "Val set: Epoch: 37, Avg. loss: 0.0663, Accuracy: 8845/9000 (98.28%)\n",
            "Train Epoch: 38 [0/51000 (0%)]\tLoss: 0.002026\n",
            "Train Epoch: 38 [25600/51000 (50%)]\tLoss: 0.003112\n",
            "Val set: Epoch: 38, Avg. loss: 0.0672, Accuracy: 8840/9000 (98.22%)\n",
            "Train Epoch: 39 [0/51000 (0%)]\tLoss: 0.003584\n",
            "Train Epoch: 39 [25600/51000 (50%)]\tLoss: 0.004064\n",
            "Val set: Epoch: 39, Avg. loss: 0.1954, Accuracy: 8568/9000 (95.20%)\n",
            "Train Epoch: 40 [0/51000 (0%)]\tLoss: 0.015632\n",
            "Train Epoch: 40 [25600/51000 (50%)]\tLoss: 0.006592\n",
            "Val set: Epoch: 40, Avg. loss: 0.0664, Accuracy: 8846/9000 (98.29%)\n"
          ],
          "name": "stdout"
        }
      ]
    },
    {
      "cell_type": "code",
      "metadata": {
        "colab": {
          "base_uri": "https://localhost:8080/",
          "height": 279
        },
        "id": "M-2QSC1c1-2Z",
        "outputId": "9711cf6d-2e69-4662-a3fb-4aea879976d0"
      },
      "source": [
        "fig = plt.figure()\n",
        "plt.plot(epochs, val_accus, color='skyblue',marker='.')\n",
        "# plt.legend(['Validation Accuracy'], loc='lower right')\n",
        "plt.xlabel('epochs')\n",
        "plt.ylabel('Validation Accuracy')\n",
        "plt.grid(linestyle='-.')"
      ],
      "execution_count": 27,
      "outputs": [
        {
          "output_type": "display_data",
          "data": {
            "image/png": "[encoded data removed]",
            "text/plain": [
              "<Figure size 432x288 with 1 Axes>"
            ]
          },
          "metadata": {
            "tags": [],
            "needs_background": "light"
          }
        }
      ]
    },
    {
      "cell_type": "code",
      "metadata": {
        "id": "9ilES9qMqcOl"
      },
      "source": [
        "# convert val_accus (tensor) to list, for plotting\n",
        "accu_list = []\n",
        "for accu in val_accus:\n",
        "  accu_list.append(accu.item())\n",
        "\n",
        "df = pd.DataFrame(accu_list) \n",
        "df.to_csv('VAL_ACCU_RES18_ROTATE.csv')"
      ],
      "execution_count": 28,
      "outputs": []
    },
    {
      "cell_type": "code",
      "metadata": {
        "id": "QcRRKE7MzSEQ",
        "colab": {
          "base_uri": "https://localhost:8080/",
          "height": 279
        },
        "outputId": "35ce5c82-b75a-40fd-d469-84a08efb4daf"
      },
      "source": [
        "fig = plt.figure()\n",
        "plt.plot(train_counter, train_losses, color='skyblue',marker='.')\n",
        "plt.legend(['Train Loss'], loc='upper right')\n",
        "plt.xlabel('number of training examples seen')\n",
        "plt.ylabel('negative log likelihood loss')\n",
        "plt.grid(linestyle='-.')"
      ],
      "execution_count": 29,
      "outputs": [
        {
          "output_type": "display_data",
          "data": {
            "image/png": "[encoded data removed]",
            "text/plain": [
              "<Figure size 432x288 with 1 Axes>"
            ]
          },
          "metadata": {
            "tags": [],
            "needs_background": "light"
          }
        }
      ]
    },
    {
      "cell_type": "markdown",
      "metadata": {
        "id": "ZX0XLJDjkqX_"
      },
      "source": [
        "## Train on ALL data"
      ]
    },
    {
      "cell_type": "code",
      "metadata": {
        "id": "LZmnWuVmmUCU"
      },
      "source": [
        "full_model = models.resnet18(pretrained=False)\n",
        "full_model.conv1 = nn.Conv2d(1, 64, kernel_size=(7, 7), stride=(2, 2), padding=(3, 3), bias=False)\n",
        "full_model.fc = nn.Linear(in_features=512, out_features=10, bias=True)\n",
        "full_model = full_model.to(DEVICE)\n",
        "# optimizer = optim.RMSprop(full_model.parameters())\n",
        "# this is the best optimizer for resnet18\n",
        "optimizer = optim.Adam(full_model.parameters(), lr=0.0001)"
      ],
      "execution_count": 30,
      "outputs": []
    },
    {
      "cell_type": "code",
      "metadata": {
        "id": "56cCdP5Ektpl",
        "colab": {
          "base_uri": "https://localhost:8080/"
        },
        "outputId": "3d8563e5-e9cb-479b-bb47-e1cd0eb69df2"
      },
      "source": [
        "for epoch in range(1, 37):\n",
        "  train(epoch, full_model, data_loader)\n",
        "  val(full_model, val_loader)"
      ],
      "execution_count": 31,
      "outputs": [
        {
          "output_type": "stream",
          "text": [
            "Train Epoch: 1 [0/60000 (0%)]\tLoss: 2.343163\n",
            "Train Epoch: 1 [25600/60000 (43%)]\tLoss: 0.265499\n",
            "Train Epoch: 1 [51200/60000 (85%)]\tLoss: 0.115826\n"
          ],
          "name": "stdout"
        },
        {
          "output_type": "stream",
          "text": [
            "/usr/local/lib/python3.7/dist-packages/torch/nn/_reduction.py:42: UserWarning: size_average and reduce args will be deprecated, please use reduction='sum' instead.\n",
            "  warnings.warn(warning.format(ret))\n"
          ],
          "name": "stderr"
        },
        {
          "output_type": "stream",
          "text": [
            "Val set: Epoch: 1, Avg. loss: 0.4953, Accuracy: 7503/9000 (83.37%)\n",
            "Train Epoch: 2 [0/60000 (0%)]\tLoss: 0.127834\n",
            "Train Epoch: 2 [25600/60000 (43%)]\tLoss: 0.232722\n",
            "Train Epoch: 2 [51200/60000 (85%)]\tLoss: 0.063801\n",
            "Val set: Epoch: 2, Avg. loss: 0.1266, Accuracy: 8634/9000 (95.93%)\n",
            "Train Epoch: 3 [0/60000 (0%)]\tLoss: 0.092951\n",
            "Train Epoch: 3 [25600/60000 (43%)]\tLoss: 0.090416\n",
            "Train Epoch: 3 [51200/60000 (85%)]\tLoss: 0.160702\n",
            "Val set: Epoch: 3, Avg. loss: 0.0832, Accuracy: 8785/9000 (97.61%)\n",
            "Train Epoch: 4 [0/60000 (0%)]\tLoss: 0.060126\n",
            "Train Epoch: 4 [25600/60000 (43%)]\tLoss: 0.097453\n",
            "Train Epoch: 4 [51200/60000 (85%)]\tLoss: 0.125835\n",
            "Val set: Epoch: 4, Avg. loss: 0.0875, Accuracy: 8747/9000 (97.19%)\n",
            "Train Epoch: 5 [0/60000 (0%)]\tLoss: 0.015884\n",
            "Train Epoch: 5 [25600/60000 (43%)]\tLoss: 0.104296\n",
            "Train Epoch: 5 [51200/60000 (85%)]\tLoss: 0.076121\n",
            "Val set: Epoch: 5, Avg. loss: 0.1298, Accuracy: 8628/9000 (95.87%)\n",
            "Train Epoch: 6 [0/60000 (0%)]\tLoss: 0.052906\n",
            "Train Epoch: 6 [25600/60000 (43%)]\tLoss: 0.108786\n",
            "Train Epoch: 6 [51200/60000 (85%)]\tLoss: 0.089577\n",
            "Val set: Epoch: 6, Avg. loss: 0.1010, Accuracy: 8706/9000 (96.73%)\n",
            "Train Epoch: 7 [0/60000 (0%)]\tLoss: 0.066211\n",
            "Train Epoch: 7 [25600/60000 (43%)]\tLoss: 0.037819\n",
            "Train Epoch: 7 [51200/60000 (85%)]\tLoss: 0.053900\n",
            "Val set: Epoch: 7, Avg. loss: 0.0654, Accuracy: 8810/9000 (97.89%)\n",
            "Train Epoch: 8 [0/60000 (0%)]\tLoss: 0.044257\n",
            "Train Epoch: 8 [25600/60000 (43%)]\tLoss: 0.037438\n",
            "Train Epoch: 8 [51200/60000 (85%)]\tLoss: 0.112556\n",
            "Val set: Epoch: 8, Avg. loss: 0.0693, Accuracy: 8804/9000 (97.82%)\n",
            "Train Epoch: 9 [0/60000 (0%)]\tLoss: 0.049391\n",
            "Train Epoch: 9 [25600/60000 (43%)]\tLoss: 0.047552\n",
            "Train Epoch: 9 [51200/60000 (85%)]\tLoss: 0.035949\n",
            "Val set: Epoch: 9, Avg. loss: 0.0614, Accuracy: 8818/9000 (97.98%)\n",
            "Train Epoch: 10 [0/60000 (0%)]\tLoss: 0.024379\n",
            "Train Epoch: 10 [25600/60000 (43%)]\tLoss: 0.099431\n",
            "Train Epoch: 10 [51200/60000 (85%)]\tLoss: 0.008906\n",
            "Val set: Epoch: 10, Avg. loss: 0.0379, Accuracy: 8874/9000 (98.60%)\n",
            "Train Epoch: 11 [0/60000 (0%)]\tLoss: 0.008435\n",
            "Train Epoch: 11 [25600/60000 (43%)]\tLoss: 0.013491\n",
            "Train Epoch: 11 [51200/60000 (85%)]\tLoss: 0.095206\n",
            "Val set: Epoch: 11, Avg. loss: 0.0377, Accuracy: 8885/9000 (98.72%)\n",
            "Train Epoch: 12 [0/60000 (0%)]\tLoss: 0.005075\n",
            "Train Epoch: 12 [25600/60000 (43%)]\tLoss: 0.008284\n",
            "Train Epoch: 12 [51200/60000 (85%)]\tLoss: 0.013316\n",
            "Val set: Epoch: 12, Avg. loss: 0.0334, Accuracy: 8897/9000 (98.86%)\n",
            "Train Epoch: 13 [0/60000 (0%)]\tLoss: 0.020678\n",
            "Train Epoch: 13 [25600/60000 (43%)]\tLoss: 0.019905\n",
            "Train Epoch: 13 [51200/60000 (85%)]\tLoss: 0.011804\n",
            "Val set: Epoch: 13, Avg. loss: 0.0487, Accuracy: 8853/9000 (98.37%)\n",
            "Train Epoch: 14 [0/60000 (0%)]\tLoss: 0.027368\n",
            "Train Epoch: 14 [25600/60000 (43%)]\tLoss: 0.007945\n",
            "Train Epoch: 14 [51200/60000 (85%)]\tLoss: 0.008040\n",
            "Val set: Epoch: 14, Avg. loss: 0.0308, Accuracy: 8909/9000 (98.99%)\n",
            "Train Epoch: 15 [0/60000 (0%)]\tLoss: 0.006552\n",
            "Train Epoch: 15 [25600/60000 (43%)]\tLoss: 0.009378\n",
            "Train Epoch: 15 [51200/60000 (85%)]\tLoss: 0.017862\n",
            "Val set: Epoch: 15, Avg. loss: 0.1140, Accuracy: 8659/9000 (96.21%)\n",
            "Train Epoch: 16 [0/60000 (0%)]\tLoss: 0.016783\n",
            "Train Epoch: 16 [25600/60000 (43%)]\tLoss: 0.003361\n",
            "Train Epoch: 16 [51200/60000 (85%)]\tLoss: 0.011426\n",
            "Val set: Epoch: 16, Avg. loss: 0.0338, Accuracy: 8903/9000 (98.92%)\n",
            "Train Epoch: 17 [0/60000 (0%)]\tLoss: 0.009289\n",
            "Train Epoch: 17 [25600/60000 (43%)]\tLoss: 0.009346\n",
            "Train Epoch: 17 [51200/60000 (85%)]\tLoss: 0.002320\n",
            "Val set: Epoch: 17, Avg. loss: 0.0385, Accuracy: 8896/9000 (98.84%)\n",
            "Train Epoch: 18 [0/60000 (0%)]\tLoss: 0.006989\n",
            "Train Epoch: 18 [25600/60000 (43%)]\tLoss: 0.068406\n",
            "Train Epoch: 18 [51200/60000 (85%)]\tLoss: 0.004768\n",
            "Val set: Epoch: 18, Avg. loss: 0.0142, Accuracy: 8959/9000 (99.54%)\n",
            "Train Epoch: 19 [0/60000 (0%)]\tLoss: 0.008348\n",
            "Train Epoch: 19 [25600/60000 (43%)]\tLoss: 0.016521\n",
            "Train Epoch: 19 [51200/60000 (85%)]\tLoss: 0.004295\n",
            "Val set: Epoch: 19, Avg. loss: 0.0329, Accuracy: 8905/9000 (98.94%)\n",
            "Train Epoch: 20 [0/60000 (0%)]\tLoss: 0.005412\n",
            "Train Epoch: 20 [25600/60000 (43%)]\tLoss: 0.019869\n",
            "Train Epoch: 20 [51200/60000 (85%)]\tLoss: 0.025789\n",
            "Val set: Epoch: 20, Avg. loss: 0.0486, Accuracy: 8840/9000 (98.22%)\n",
            "Train Epoch: 21 [0/60000 (0%)]\tLoss: 0.021072\n",
            "Train Epoch: 21 [25600/60000 (43%)]\tLoss: 0.063021\n",
            "Train Epoch: 21 [51200/60000 (85%)]\tLoss: 0.015338\n",
            "Val set: Epoch: 21, Avg. loss: 0.0164, Accuracy: 8949/9000 (99.43%)\n",
            "Train Epoch: 22 [0/60000 (0%)]\tLoss: 0.005175\n",
            "Train Epoch: 22 [25600/60000 (43%)]\tLoss: 0.007014\n",
            "Train Epoch: 22 [51200/60000 (85%)]\tLoss: 0.014444\n",
            "Val set: Epoch: 22, Avg. loss: 0.0383, Accuracy: 8880/9000 (98.67%)\n",
            "Train Epoch: 23 [0/60000 (0%)]\tLoss: 0.028820\n",
            "Train Epoch: 23 [25600/60000 (43%)]\tLoss: 0.032717\n",
            "Train Epoch: 23 [51200/60000 (85%)]\tLoss: 0.035298\n",
            "Val set: Epoch: 23, Avg. loss: 0.2213, Accuracy: 8508/9000 (94.53%)\n",
            "Train Epoch: 24 [0/60000 (0%)]\tLoss: 0.049925\n",
            "Train Epoch: 24 [25600/60000 (43%)]\tLoss: 0.022101\n",
            "Train Epoch: 24 [51200/60000 (85%)]\tLoss: 0.006367\n",
            "Val set: Epoch: 24, Avg. loss: 0.0636, Accuracy: 8824/9000 (98.04%)\n",
            "Train Epoch: 25 [0/60000 (0%)]\tLoss: 0.003839\n",
            "Train Epoch: 25 [25600/60000 (43%)]\tLoss: 0.015093\n",
            "Train Epoch: 25 [51200/60000 (85%)]\tLoss: 0.003827\n",
            "Val set: Epoch: 25, Avg. loss: 0.0099, Accuracy: 8970/9000 (99.67%)\n",
            "Train Epoch: 26 [0/60000 (0%)]\tLoss: 0.009612\n",
            "Train Epoch: 26 [25600/60000 (43%)]\tLoss: 0.001278\n",
            "Train Epoch: 26 [51200/60000 (85%)]\tLoss: 0.030863\n",
            "Val set: Epoch: 26, Avg. loss: 0.0162, Accuracy: 8945/9000 (99.39%)\n",
            "Train Epoch: 27 [0/60000 (0%)]\tLoss: 0.001182\n",
            "Train Epoch: 27 [25600/60000 (43%)]\tLoss: 0.018507\n",
            "Train Epoch: 27 [51200/60000 (85%)]\tLoss: 0.006175\n",
            "Val set: Epoch: 27, Avg. loss: 0.0288, Accuracy: 8908/9000 (98.98%)\n",
            "Train Epoch: 28 [0/60000 (0%)]\tLoss: 0.003158\n",
            "Train Epoch: 28 [25600/60000 (43%)]\tLoss: 0.003050\n",
            "Train Epoch: 28 [51200/60000 (85%)]\tLoss: 0.014888\n",
            "Val set: Epoch: 28, Avg. loss: 0.0163, Accuracy: 8949/9000 (99.43%)\n",
            "Train Epoch: 29 [0/60000 (0%)]\tLoss: 0.007935\n",
            "Train Epoch: 29 [25600/60000 (43%)]\tLoss: 0.001339\n",
            "Train Epoch: 29 [51200/60000 (85%)]\tLoss: 0.013726\n",
            "Val set: Epoch: 29, Avg. loss: 0.0338, Accuracy: 8891/9000 (98.79%)\n",
            "Train Epoch: 30 [0/60000 (0%)]\tLoss: 0.005825\n",
            "Train Epoch: 30 [25600/60000 (43%)]\tLoss: 0.001483\n",
            "Train Epoch: 30 [51200/60000 (85%)]\tLoss: 0.004910\n",
            "Val set: Epoch: 30, Avg. loss: 0.0092, Accuracy: 8978/9000 (99.76%)\n",
            "Train Epoch: 31 [0/60000 (0%)]\tLoss: 0.018273\n",
            "Train Epoch: 31 [25600/60000 (43%)]\tLoss: 0.016518\n",
            "Train Epoch: 31 [51200/60000 (85%)]\tLoss: 0.016559\n",
            "Val set: Epoch: 31, Avg. loss: 0.0181, Accuracy: 8950/9000 (99.44%)\n",
            "Train Epoch: 32 [0/60000 (0%)]\tLoss: 0.002139\n",
            "Train Epoch: 32 [25600/60000 (43%)]\tLoss: 0.028289\n",
            "Train Epoch: 32 [51200/60000 (85%)]\tLoss: 0.001188\n",
            "Val set: Epoch: 32, Avg. loss: 0.0122, Accuracy: 8960/9000 (99.56%)\n",
            "Train Epoch: 33 [0/60000 (0%)]\tLoss: 0.007064\n",
            "Train Epoch: 33 [25600/60000 (43%)]\tLoss: 0.005241\n",
            "Train Epoch: 33 [51200/60000 (85%)]\tLoss: 0.035308\n",
            "Val set: Epoch: 33, Avg. loss: 0.0066, Accuracy: 8979/9000 (99.77%)\n",
            "Train Epoch: 34 [0/60000 (0%)]\tLoss: 0.001254\n",
            "Train Epoch: 34 [25600/60000 (43%)]\tLoss: 0.002115\n",
            "Train Epoch: 34 [51200/60000 (85%)]\tLoss: 0.001936\n",
            "Val set: Epoch: 34, Avg. loss: 0.0036, Accuracy: 8990/9000 (99.89%)\n",
            "Train Epoch: 35 [0/60000 (0%)]\tLoss: 0.000582\n",
            "Train Epoch: 35 [25600/60000 (43%)]\tLoss: 0.013272\n",
            "Train Epoch: 35 [51200/60000 (85%)]\tLoss: 0.105466\n",
            "Val set: Epoch: 35, Avg. loss: 0.0093, Accuracy: 8970/9000 (99.67%)\n",
            "Train Epoch: 36 [0/60000 (0%)]\tLoss: 0.006175\n",
            "Train Epoch: 36 [25600/60000 (43%)]\tLoss: 0.026256\n",
            "Train Epoch: 36 [51200/60000 (85%)]\tLoss: 0.002341\n",
            "Val set: Epoch: 36, Avg. loss: 0.0168, Accuracy: 8942/9000 (99.36%)\n"
          ],
          "name": "stdout"
        }
      ]
    },
    {
      "cell_type": "markdown",
      "metadata": {
        "id": "3yEtGFpwdYx1"
      },
      "source": [
        "## Make predictions on test data"
      ]
    },
    {
      "cell_type": "code",
      "metadata": {
        "id": "16kAGX5Hdcur"
      },
      "source": [
        "def predict(model):\n",
        "  pred_test = []\n",
        "  model.eval()\n",
        "  with torch.no_grad():\n",
        "    for data in test_loader:\n",
        "      data = data.to(DEVICE)\n",
        "      output = model(data)\n",
        "      pred = output.data.max(1, keepdim=True)[1]\n",
        "      for x in pred:\n",
        "        pred_test.append(x.item())\n",
        "  return pred_test"
      ],
      "execution_count": 32,
      "outputs": []
    },
    {
      "cell_type": "code",
      "metadata": {
        "id": "UWdnJKhigtM7",
        "colab": {
          "base_uri": "https://localhost:8080/"
        },
        "outputId": "3e2bbfda-e561-4ea5-9fa3-6c4d154d62b5"
      },
      "source": [
        "pred_test = predict(full_model)\n",
        "print(len(pred_test))\n",
        "df_pred_test = pd.DataFrame({'id': range(10000), 'class': pred_test})\n",
        "df_pred_test.to_csv(CSV_OUTPUT_PATH, index=False)"
      ],
      "execution_count": 33,
      "outputs": [
        {
          "output_type": "stream",
          "text": [
            "10000\n"
          ],
          "name": "stdout"
        }
      ]
    },
    {
      "cell_type": "markdown",
      "metadata": {
        "id": "K7VpSLb22POJ"
      },
      "source": [
        "## Manually check prediction results"
      ]
    },
    {
      "cell_type": "code",
      "metadata": {
        "id": "8Gp4fBi5iipd",
        "colab": {
          "base_uri": "https://localhost:8080/",
          "height": 318
        },
        "outputId": "49fae455-fc47-497a-d609-a8f186b1d22f"
      },
      "source": [
        "# Read many TEST data and display them, compare with our prediction in CSV\n",
        "test_loader = DataLoader(test_dataset, batch_size=BATCH_SIZE, shuffle=False)\n",
        "imgs = (next(iter(test_loader)))\n",
        "print(imgs.shape)\n",
        "# imgs: [256, 1, 28, 28]\n",
        "imgs = np.squeeze(imgs)\n",
        "# imgs: [256, 28, 28]\n",
        "print(imgs.shape)\n",
        "\n",
        "for i in range(20):\n",
        "  plt.subplot(4,5,i+1)\n",
        "  plt.tight_layout()\n",
        "  plt.imshow(imgs[i], cmap='gray', interpolation='bicubic')\n",
        "  plt.xticks([])\n",
        "  plt.yticks([])"
      ],
      "execution_count": null,
      "outputs": [
        {
          "output_type": "stream",
          "text": [
            "torch.Size([128, 1, 224, 224])\n",
            "torch.Size([128, 224, 224])\n"
          ],
          "name": "stdout"
        },
        {
          "output_type": "display_data",
          "data": {
            "image/png": "[encoded data removed]",
            "text/plain": [
              "<Figure size 432x288 with 20 Axes>"
            ]
          },
          "metadata": {
            "tags": []
          }
        }
      ]
    }
  ]
}