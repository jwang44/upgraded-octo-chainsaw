{
  "nbformat": 4,
  "nbformat_minor": 0,
  "metadata": {
    "colab": {
      "name": "Copy of LeNet5.ipynb",
      "provenance": [],
      "collapsed_sections": [
        "oo2KSbBVO-iF",
        "CFEyrp_mYmIO",
        "eQW5T5eHq8X0",
        "DIDJM1PnADIt"
      ],
      "include_colab_link": true
    },
    "kernelspec": {
      "name": "python3",
      "display_name": "Python 3"
    },
    "accelerator": "GPU"
  },
  "cells": [
    {
      "cell_type": "markdown",
      "metadata": {
        "id": "view-in-github",
        "colab_type": "text"
      },
      "source": [
        "<a href=\"https://colab.research.google.com/github/jwang44/upgraded-octo-chainsaw/blob/main/LeNet5.ipynb\" target=\"_parent\"><img src=\"https://colab.research.google.com/assets/colab-badge.svg\" alt=\"Open In Colab\"/></a>"
      ]
    },
    {
      "cell_type": "code",
      "metadata": {
        "colab": {
          "base_uri": "https://localhost:8080/"
        },
        "id": "0dOxAvsuIul3",
        "outputId": "72fe6f4f-4681-4068-9fed-bfac0fb5d142"
      },
      "source": [
        "from google.colab import drive\n",
        "drive.mount('/content/drive')"
      ],
      "execution_count": 1,
      "outputs": [
        {
          "output_type": "stream",
          "text": [
            "Drive already mounted at /content/drive; to attempt to forcibly remount, call drive.mount(\"/content/drive\", force_remount=True).\n"
          ],
          "name": "stdout"
        }
      ]
    },
    {
      "cell_type": "code",
      "metadata": {
        "colab": {
          "base_uri": "https://localhost:8080/"
        },
        "id": "0x13nsz659Ra",
        "outputId": "23f9de74-bf44-4d35-c487-4918b31e403d"
      },
      "source": [
        "%cd '/content/drive/MyDrive/imageunderstanding'\n",
        "!ls"
      ],
      "execution_count": 2,
      "outputs": [
        {
          "output_type": "stream",
          "text": [
            "[Errno 2] No such file or directory: '/content/drive/MyDrive/imageunderstanding'\n",
            "/content\n",
            "drive  sample_data\n"
          ],
          "name": "stdout"
        }
      ]
    },
    {
      "cell_type": "code",
      "metadata": {
        "id": "mqRELpG1DsZq",
        "colab": {
          "base_uri": "https://localhost:8080/"
        },
        "outputId": "e14eb4cb-1bf4-478b-d4b7-9d887cd323b8"
      },
      "source": [
        "%cd '/content/drive/MyDrive/551 A3'\n",
        "!ls"
      ],
      "execution_count": 3,
      "outputs": [
        {
          "output_type": "stream",
          "text": [
            "/content/drive/MyDrive/551 A3\n",
            " ExampleSubmissionRandom.csv   Test.pkl\t\t       Train_labels.csv\n",
            " LoadData.ipynb\t\t      'Train_labels (1).csv'   Train.pkl\n"
          ],
          "name": "stdout"
        }
      ]
    },
    {
      "cell_type": "code",
      "metadata": {
        "id": "T1-Hfwf3lrw4"
      },
      "source": [
        "TRAIN_DATA_PATH = \"Train.pkl\"\n",
        "TRAIN_LABEL_PATH = \"Train_labels.csv\"\n",
        "TEST_DATA_PATH = \"Test.pkl\"\n",
        "CSV_OUTPUT_PATH = \"PRED_RESULT.csv\""
      ],
      "execution_count": 4,
      "outputs": []
    },
    {
      "cell_type": "code",
      "metadata": {
        "id": "7XS2MS7nHzIN"
      },
      "source": [
        "import pickle\n",
        "import matplotlib.pyplot as plt\n",
        "import numpy as np\n",
        "from torchvision import transforms\n",
        "from torch.utils.data import Dataset\n",
        "from torch.utils.data import DataLoader, TensorDataset\n",
        "from PIL import Image\n",
        "import torch\n",
        "import pandas as pd"
      ],
      "execution_count": 5,
      "outputs": []
    },
    {
      "cell_type": "code",
      "metadata": {
        "colab": {
          "base_uri": "https://localhost:8080/"
        },
        "id": "FBXdYCpunCp2",
        "outputId": "526e538c-6619-4e33-9e64-c844aee8e438"
      },
      "source": [
        "DEVICE = torch.device('cuda' if torch.cuda.is_available() else 'cpu')\n",
        "DEVICE"
      ],
      "execution_count": 6,
      "outputs": [
        {
          "output_type": "execute_result",
          "data": {
            "text/plain": [
              "device(type='cuda')"
            ]
          },
          "metadata": {
            "tags": []
          },
          "execution_count": 6
        }
      ]
    },
    {
      "cell_type": "code",
      "metadata": {
        "id": "zppkOjQwVjy2"
      },
      "source": [
        "torch.manual_seed(0)\n",
        "torch.cuda.manual_seed(0)"
      ],
      "execution_count": 7,
      "outputs": []
    },
    {
      "cell_type": "markdown",
      "metadata": {
        "id": "Mj3Hw-EVC0S5"
      },
      "source": [
        ""
      ]
    },
    {
      "cell_type": "markdown",
      "metadata": {
        "id": "_2Vm3wY_K3DA"
      },
      "source": [
        "## Dataset Class / Data Loaders"
      ]
    },
    {
      "cell_type": "code",
      "metadata": {
        "id": "bydOoypc5SAM"
      },
      "source": [
        "IMG_SIZE = (32, 32)"
      ],
      "execution_count": 8,
      "outputs": []
    },
    {
      "cell_type": "code",
      "metadata": {
        "id": "j0MUpn2VnElU"
      },
      "source": [
        "# Transforms are common image transformations. They can be chained together using Compose.\n",
        "# Here we normalize images img=(img-0.5)/0.5\n",
        "img_transform = transforms.Compose([\n",
        "    transforms.ToTensor(),\n",
        "    transforms.Normalize([0.5], [0.5]),\n",
        "    transforms.Resize(IMG_SIZE)  \n",
        "    # transforms.RandomRotation(10, resample=PIL.Image.BILINEAR)\n",
        "    # transforms.ColorJitter(brightness=0, contrast=0, saturation=0, hue=0)\n",
        "    # transforms.RandomAffine(degrees, translate=None, scale=None, shear=None, interpolation=<InterpolationMode.NEAREST: 'nearest'>, fill=0, fillcolor=None, resample=None)\n",
        "])"
      ],
      "execution_count": 9,
      "outputs": []
    },
    {
      "cell_type": "code",
      "metadata": {
        "id": "CY0SndE2qcmb"
      },
      "source": [
        "# img_file: the pickle file containing the images\n",
        "# label_file: the .csv file containing the labels\n",
        "# transform: We use it for normalizing images (see above)\n",
        "# idx: This is a binary vector that is useful for creating training and validation set.\n",
        "# It return only samples where idx is True\n",
        "\n",
        "class MyDataset(Dataset):\n",
        "    def __init__(self, img_file, label_file, transform=None, idx = None):\n",
        "        self.data = pickle.load( open( img_file, 'rb' ), encoding='bytes')\n",
        "        self.targets = np.genfromtxt(label_file, delimiter=',', skip_header=1, usecols=1) #[:,1:]\n",
        "        if idx is not None:\n",
        "          self.targets = self.targets[idx]\n",
        "          self.data = self.data[idx]\n",
        "        self.transform = transform\n",
        "\n",
        "    def __len__(self):\n",
        "        return len(self.targets)\n",
        "\n",
        "    def __getitem__(self, index):\n",
        "        img, target = self.data[index].squeeze(), int(self.targets[index])\n",
        "        img = Image.fromarray((img*255).astype('uint8'), mode='L')\n",
        "        if self.transform is not None:\n",
        "           img = self.transform(img)\n",
        "        return img, target"
      ],
      "execution_count": 10,
      "outputs": []
    },
    {
      "cell_type": "markdown",
      "metadata": {
        "id": "q3b-QvEvqNE3"
      },
      "source": [
        "Get loader for all train data"
      ]
    },
    {
      "cell_type": "code",
      "metadata": {
        "id": "74kV_DwkqizL"
      },
      "source": [
        "BATCH_SIZE = 256\n",
        "dataset = MyDataset(TRAIN_DATA_PATH, TRAIN_LABEL_PATH,transform=img_transform, idx=None)\n",
        "# dataloader for all data\n",
        "data_loader = DataLoader(dataset, batch_size=BATCH_SIZE, shuffle=True)"
      ],
      "execution_count": 11,
      "outputs": []
    },
    {
      "cell_type": "markdown",
      "metadata": {
        "id": "1ZNiErb-pbPt"
      },
      "source": [
        "Get loaders for train/val data"
      ]
    },
    {
      "cell_type": "code",
      "metadata": {
        "id": "05SXSXBRW4DX"
      },
      "source": [
        "VAL_SPLIT = 0.15\n",
        "shuffle = True\n",
        "\n",
        "# Creating indices for train and val split:\n",
        "dataset_size = len(dataset)\n",
        "indices = list(range(dataset_size))\n",
        "split = int(np.floor(VAL_SPLIT * dataset_size))\n",
        "if shuffle:\n",
        "  # set random seed so that we get the same split everytime\n",
        "  np.random.seed(0)\n",
        "  np.random.shuffle(indices)\n",
        "train_indices, val_indices = indices[split:], indices[:split]\n",
        "\n",
        "train_dataset = MyDataset(TRAIN_DATA_PATH, TRAIN_LABEL_PATH,transform=img_transform, idx=train_indices)\n",
        "val_dataset = MyDataset(TRAIN_DATA_PATH, TRAIN_LABEL_PATH,transform=img_transform, idx=val_indices)\n",
        "\n",
        "# separate loaders for train and val data\n",
        "train_loader = DataLoader(train_dataset, batch_size=BATCH_SIZE, shuffle=False)\n",
        "val_loader = DataLoader(val_dataset, batch_size=BATCH_SIZE, shuffle=False)"
      ],
      "execution_count": 12,
      "outputs": []
    },
    {
      "cell_type": "markdown",
      "metadata": {
        "id": "CFEyrp_mYmIO"
      },
      "source": [
        "## Test Dataset / Loader"
      ]
    },
    {
      "cell_type": "code",
      "metadata": {
        "id": "x1d3LIGlYrDK"
      },
      "source": [
        "class MyTestSet(Dataset):\n",
        "  def __init__(self, img_file, transform=None):\n",
        "    self.data = pickle.load( open(img_file, 'rb' ), encoding='bytes')\n",
        "    self.transform = transform\n",
        "\n",
        "  def __len__(self):\n",
        "    # return self.data.shape[0]\n",
        "    return len(self.data)\n",
        "\n",
        "  def __getitem__(self, index):\n",
        "    img = self.data[index].squeeze()\n",
        "    img = Image.fromarray((img*255).astype('uint8'), mode='L')\n",
        "    if self.transform is not None:\n",
        "      img = self.transform(img)\n",
        "    return img"
      ],
      "execution_count": 13,
      "outputs": []
    },
    {
      "cell_type": "code",
      "metadata": {
        "id": "fk5z7LRha2Uc"
      },
      "source": [
        "test_dataset = MyTestSet(TEST_DATA_PATH,transform=img_transform)\n",
        "# dataloader for test data\n",
        "test_loader = DataLoader(test_dataset, batch_size=BATCH_SIZE, shuffle=False)"
      ],
      "execution_count": 14,
      "outputs": []
    },
    {
      "cell_type": "markdown",
      "metadata": {
        "id": "eQW5T5eHq8X0"
      },
      "source": [
        "## Visualize some data"
      ]
    },
    {
      "cell_type": "code",
      "metadata": {
        "colab": {
          "base_uri": "https://localhost:8080/",
          "height": 0
        },
        "id": "Ksdl4wXps7-8",
        "outputId": "e784a2c4-6728-41b7-941c-05cf91efe3f7"
      },
      "source": [
        "# Read a batch of data and their labels and display them\n",
        "[imgs, labels] = (next(iter(train_loader)))\n",
        "print(imgs.shape)\n",
        "# imgs: [256, 1, 28, 28]\n",
        "imgs = np.squeeze(imgs)\n",
        "# imgs: [256, 28, 28]\n",
        "print(imgs.shape)\n",
        "\n",
        "for i in range(6):\n",
        "  plt.subplot(2,3,i+1)\n",
        "  plt.tight_layout()\n",
        "  plt.imshow(imgs[50].cpu().numpy(),cmap='gray',interpolation=\"bicubic\") #.transpose()\n",
        "  plt.imshow(imgs[i], cmap='gray', interpolation='bicubic')\n",
        "  plt.title(\"Ground Truth: {}\".format(labels[i]))\n",
        "  plt.xticks([])\n",
        "  plt.yticks([])"
      ],
      "execution_count": 15,
      "outputs": [
        {
          "output_type": "stream",
          "text": [
            "torch.Size([256, 1, 32, 32])\n",
            "torch.Size([256, 32, 32])\n"
          ],
          "name": "stdout"
        },
        {
          "output_type": "display_data",
          "data": {
            "image/png": "[encoded data removed]",
            "text/plain": [
              "<Figure size 432x288 with 6 Axes>"
            ]
          },
          "metadata": {
            "tags": []
          }
        }
      ]
    },
    {
      "cell_type": "code",
      "metadata": {
        "colab": {
          "base_uri": "https://localhost:8080/",
          "height": 0
        },
        "id": "4Gm8xDLlb9_k",
        "outputId": "f904aad5-9762-4be5-fcef-dac1d08619e6"
      },
      "source": [
        "# Read a batch of TEST data and display them\n",
        "imgs = (next(iter(test_loader)))\n",
        "print(imgs.shape)\n",
        "# imgs: [256, 1, 28, 28]\n",
        "imgs = np.squeeze(imgs)\n",
        "# imgs: [256, 28, 28]\n",
        "print(imgs.shape)\n",
        "\n",
        "for i in range(6):\n",
        "  plt.subplot(2,3,i+1)\n",
        "  plt.tight_layout()\n",
        "  plt.imshow(imgs[50].cpu().numpy(),cmap='gray',interpolation=\"bicubic\") #.transpose()\n",
        "  plt.imshow(imgs[i], cmap='gray', interpolation='bicubic')\n",
        "  plt.xticks([])\n",
        "  plt.yticks([])"
      ],
      "execution_count": 16,
      "outputs": [
        {
          "output_type": "stream",
          "text": [
            "torch.Size([256, 1, 32, 32])\n",
            "torch.Size([256, 32, 32])\n"
          ],
          "name": "stdout"
        },
        {
          "output_type": "display_data",
          "data": {
            "image/png": "[encoded data removed]",
            "text/plain": [
              "<Figure size 432x288 with 6 Axes>"
            ]
          },
          "metadata": {
            "tags": []
          }
        }
      ]
    },
    {
      "cell_type": "code",
      "metadata": {
        "id": "PCW7x9u4DIWh"
      },
      "source": [
        "# Here is a piece of code that reads data in batch.\n",
        "# In each epoch all samples are read in batches using dataloader\n",
        "\n",
        "num_epochs=2 # Feel free to change it\n",
        "for epoch in range(num_epochs):\n",
        "    for data in data_loader:\n",
        "        [img,label] = data\n",
        "\n"
      ],
      "execution_count": 17,
      "outputs": []
    },
    {
      "cell_type": "markdown",
      "metadata": {
        "id": "wdvC0-OfRnQV"
      },
      "source": [
        "## LeNet5"
      ]
    },
    {
      "cell_type": "code",
      "metadata": {
        "id": "pFVSRS6gs8t7"
      },
      "source": [
        "import torch.nn as nn\n",
        "import torch.nn.functional as F\n",
        "import torch.optim as optim\n",
        "import torch"
      ],
      "execution_count": 18,
      "outputs": []
    },
    {
      "cell_type": "code",
      "metadata": {
        "id": "M2fQJEYTUELJ"
      },
      "source": [
        "ActFunc = {\n",
        "    'Relu': nn.ReLU(True), \n",
        "    'Sig': nn.Sigmoid(),  # may vanishing gradient problems \n",
        "    'Tanh': nn.Tanh(), # may  vanishing gradient problems \n",
        "    'LeakyRelu': nn.LeakyReLU(), \n",
        "    'ELU': nn.ELU()\n",
        "}"
      ],
      "execution_count": 19,
      "outputs": []
    },
    {
      "cell_type": "code",
      "metadata": {
        "id": "3714Y8uHiYbV"
      },
      "source": [
        "class LeNet5(nn.Module):\n",
        "    def __init__(self, kernel_size=5,ActFunc=['Tanh']):\n",
        "        super(LeNet5, self).__init__()\n",
        "        # input 1*28*28\n",
        "        self.conv1 = nn.Conv2d(1, 6, kernel_size)\n",
        "        self.conv2 = nn.Conv2d(6, 16, kernel_size)\n",
        "        self.conv3 = nn.Conv2d(16, 120, kernel_size)\n",
        "        self.fc1 = nn.Linear(120, 84)\n",
        "        self.fc2 = nn.Linear(84, 10)\n",
        "\n",
        "    def forward(self, x):\n",
        "        # x = F.avg_pool2d(F.tanh(self.conv1(x)), kernel_size = (2,2),stride = 2) # 6 filters + avgpooling => 6*14*14\n",
        "        # x = F.avg_pool2d(F.tanh(self.conv2(x)), kernel_size = (2,2),stride = 2) # 16 filters + avgpooling => 16*5*5\n",
        "        x = F.avg_pool2d(torch.tanh(self.conv1(x)), kernel_size = (2,2),stride = 2) # 6 filters + avgpooling => 6*14*14\n",
        "        x = F.avg_pool2d(torch.tanh(self.conv2(x)), kernel_size = (2,2),stride = 2) # 16 filters + avgpooling => 16*5*5\n",
        "        x = torch.tanh(self.conv3(x)) # 120 filters => 120*1*1\n",
        "        x = x.view(-1, 120) \n",
        "        x = torch.tanh(self.fc1(x))\n",
        "        x = self.fc2(x)\n",
        "        # x = (self.fc3(x) # output layer\n",
        "        return F.softmax(x)"
      ],
      "execution_count": 20,
      "outputs": []
    },
    {
      "cell_type": "markdown",
      "metadata": {
        "id": "BeVwuJHatdb7"
      },
      "source": [
        "Let's train these. But first, create the network, the optimizer and some lists for logging the training process"
      ]
    },
    {
      "cell_type": "code",
      "metadata": {
        "id": "EWuVNrsotfZD"
      },
      "source": [
        "model = LeNet5().to(DEVICE)\n",
        "# optimizer = optim.SGD(tutor_model.parameters(), lr=0.01, momentum=0.5)\n",
        "# optimizer = optim.SGD(tutor_model.parameters(), lr=1, momentum=0.5)\n",
        "optimizer = optim.Adam(model.parameters())\n",
        "# optimizer = optim.RMSprop(model.parameters())\n",
        "\n",
        "train_losses = []\n",
        "train_counter = []\n",
        "val_losses = []\n",
        "val_counter = [i*len(train_loader.dataset) for i in range(3)]"
      ],
      "execution_count": 21,
      "outputs": []
    },
    {
      "cell_type": "markdown",
      "metadata": {
        "id": "Ck4yNKs46Q1Y"
      },
      "source": [
        "### Train and test function, used many times"
      ]
    },
    {
      "cell_type": "code",
      "metadata": {
        "id": "0Ps3KWsvtlSS"
      },
      "source": [
        "def train(epoch, model, loader):\n",
        "  model.train()\n",
        "  for batch_idx, (data, target) in enumerate(loader):\n",
        "    optimizer.zero_grad()\n",
        "    data = data.to(DEVICE)\n",
        "    # print(data.shape)\n",
        "    target = target.to(DEVICE)\n",
        "    output = model(data)\n",
        "    # print(output.shape)\n",
        "    # target = torch.argmax(target, dim=1) # convert from 1-hot to 1D\n",
        "    loss = F.nll_loss(output, target) #negative log likelihood loss\n",
        "    loss.backward()\n",
        "    optimizer.step()\n",
        "    if batch_idx % 20 == 0:\n",
        "      # print('Train Epoch: {} [{}/{} ({:.0f}%)]\\tLoss: {:.6f}'.format(\n",
        "      #   epoch, batch_idx * len(data), len(loader.dataset),\n",
        "      #   100. * batch_idx / len(loader), loss.item()))\n",
        "      train_losses.append(loss.item())\n",
        "      train_counter.append(\n",
        "        (batch_idx*64) + ((epoch-1)*len(loader.dataset)))\n",
        "      torch.save(model.state_dict(), '/model.pth')\n",
        "      torch.save(optimizer.state_dict(), '/optimizer.pth')\n",
        "\n",
        "def val(model, loader):\n",
        "  model.eval()\n",
        "  val_loss = 0\n",
        "  correct = 0\n",
        "  with torch.no_grad():\n",
        "    for data, target in loader:\n",
        "      data = data.to(DEVICE)\n",
        "      target = target.to(DEVICE)\n",
        "      output = model(data)\n",
        "      val_loss += F.nll_loss(output, target, size_average=False).item()\n",
        "      pred = output.data.max(1, keepdim=True)[1]\n",
        "      correct += pred.eq(target.data.view_as(pred)).sum()\n",
        "  val_loss /= len(loader.dataset)\n",
        "  val_losses.append(val_loss)\n",
        "  print('Epoch: {}, Test set: Avg. loss: {:.4f}, Accuracy: {}/{} ({:.0f}%)'.format(\n",
        "    epoch, val_loss, correct, len(loader.dataset),\n",
        "    100. * correct / len(loader.dataset)))"
      ],
      "execution_count": 22,
      "outputs": []
    },
    {
      "cell_type": "code",
      "metadata": {
        "colab": {
          "base_uri": "https://localhost:8080/"
        },
        "id": "3gjkriuv8bVO",
        "outputId": "863d056c-3ac5-434a-d81d-876218978d72"
      },
      "source": [
        "len(data_loader.dataset)"
      ],
      "execution_count": 23,
      "outputs": [
        {
          "output_type": "execute_result",
          "data": {
            "text/plain": [
              "60000"
            ]
          },
          "metadata": {
            "tags": []
          },
          "execution_count": 23
        }
      ]
    },
    {
      "cell_type": "code",
      "metadata": {
        "colab": {
          "base_uri": "https://localhost:8080/"
        },
        "id": "1Gl0IR_n8l2X",
        "outputId": "0a92dbcf-7f43-4b74-9d8a-611fbd172e72"
      },
      "source": [
        "len(train_loader.dataset)"
      ],
      "execution_count": 24,
      "outputs": [
        {
          "output_type": "execute_result",
          "data": {
            "text/plain": [
              "51000"
            ]
          },
          "metadata": {
            "tags": []
          },
          "execution_count": 24
        }
      ]
    },
    {
      "cell_type": "markdown",
      "metadata": {
        "id": "BaaA04yUtj1T"
      },
      "source": [
        "Train the network"
      ]
    },
    {
      "cell_type": "code",
      "metadata": {
        "id": "CCgK_yOvtrjz",
        "colab": {
          "base_uri": "https://localhost:8080/"
        },
        "outputId": "78ad7add-7f58-4a6a-82ca-41ac9e65a489"
      },
      "source": [
        "for epoch in range(1, 50):\n",
        "  train(epoch, model, train_loader)\n",
        "  val(model, val_loader)"
      ],
      "execution_count": 25,
      "outputs": [
        {
          "output_type": "stream",
          "text": [
            "/usr/local/lib/python3.7/dist-packages/ipykernel_launcher.py:21: UserWarning: Implicit dimension choice for softmax has been deprecated. Change the call to include dim=X as an argument.\n",
            "/usr/local/lib/python3.7/dist-packages/torch/nn/_reduction.py:42: UserWarning: size_average and reduce args will be deprecated, please use reduction='sum' instead.\n",
            "  warnings.warn(warning.format(ret))\n"
          ],
          "name": "stderr"
        },
        {
          "output_type": "stream",
          "text": [
            "Epoch: 1, Test set: Avg. loss: -0.2897, Accuracy: 2692/9000 (30%)\n",
            "Epoch: 2, Test set: Avg. loss: -0.5084, Accuracy: 4722/9000 (52%)\n",
            "Epoch: 3, Test set: Avg. loss: -0.5700, Accuracy: 5281/9000 (59%)\n",
            "Epoch: 4, Test set: Avg. loss: -0.6445, Accuracy: 5946/9000 (66%)\n",
            "Epoch: 5, Test set: Avg. loss: -0.7036, Accuracy: 6483/9000 (72%)\n",
            "Epoch: 6, Test set: Avg. loss: -0.7350, Accuracy: 6745/9000 (75%)\n",
            "Epoch: 7, Test set: Avg. loss: -0.7484, Accuracy: 6838/9000 (76%)\n",
            "Epoch: 8, Test set: Avg. loss: -0.7670, Accuracy: 6999/9000 (78%)\n",
            "Epoch: 9, Test set: Avg. loss: -0.7809, Accuracy: 7107/9000 (79%)\n",
            "Epoch: 10, Test set: Avg. loss: -0.7803, Accuracy: 7113/9000 (79%)\n",
            "Epoch: 11, Test set: Avg. loss: -0.7952, Accuracy: 7239/9000 (80%)\n",
            "Epoch: 12, Test set: Avg. loss: -0.7998, Accuracy: 7269/9000 (81%)\n",
            "Epoch: 13, Test set: Avg. loss: -0.8054, Accuracy: 7303/9000 (81%)\n",
            "Epoch: 14, Test set: Avg. loss: -0.8079, Accuracy: 7332/9000 (81%)\n",
            "Epoch: 15, Test set: Avg. loss: -0.8113, Accuracy: 7356/9000 (82%)\n",
            "Epoch: 16, Test set: Avg. loss: -0.8066, Accuracy: 7328/9000 (81%)\n",
            "Epoch: 17, Test set: Avg. loss: -0.8213, Accuracy: 7435/9000 (83%)\n",
            "Epoch: 18, Test set: Avg. loss: -0.8206, Accuracy: 7445/9000 (83%)\n",
            "Epoch: 19, Test set: Avg. loss: -0.8270, Accuracy: 7492/9000 (83%)\n",
            "Epoch: 20, Test set: Avg. loss: -0.8218, Accuracy: 7451/9000 (83%)\n",
            "Epoch: 21, Test set: Avg. loss: -0.8340, Accuracy: 7550/9000 (84%)\n",
            "Epoch: 22, Test set: Avg. loss: -0.8400, Accuracy: 7591/9000 (84%)\n",
            "Epoch: 23, Test set: Avg. loss: -0.8405, Accuracy: 7623/9000 (85%)\n",
            "Epoch: 24, Test set: Avg. loss: -0.8403, Accuracy: 7593/9000 (84%)\n",
            "Epoch: 25, Test set: Avg. loss: -0.8411, Accuracy: 7622/9000 (85%)\n",
            "Epoch: 26, Test set: Avg. loss: -0.8424, Accuracy: 7623/9000 (85%)\n",
            "Epoch: 27, Test set: Avg. loss: -0.8415, Accuracy: 7605/9000 (84%)\n",
            "Epoch: 28, Test set: Avg. loss: -0.8441, Accuracy: 7642/9000 (85%)\n",
            "Epoch: 29, Test set: Avg. loss: -0.8483, Accuracy: 7665/9000 (85%)\n",
            "Epoch: 30, Test set: Avg. loss: -0.8452, Accuracy: 7649/9000 (85%)\n",
            "Epoch: 31, Test set: Avg. loss: -0.8491, Accuracy: 7673/9000 (85%)\n",
            "Epoch: 32, Test set: Avg. loss: -0.8501, Accuracy: 7682/9000 (85%)\n",
            "Epoch: 33, Test set: Avg. loss: -0.8373, Accuracy: 7551/9000 (84%)\n",
            "Epoch: 34, Test set: Avg. loss: -0.8468, Accuracy: 7643/9000 (85%)\n",
            "Epoch: 35, Test set: Avg. loss: -0.8441, Accuracy: 7628/9000 (85%)\n",
            "Epoch: 36, Test set: Avg. loss: -0.8575, Accuracy: 7763/9000 (86%)\n",
            "Epoch: 37, Test set: Avg. loss: -0.8483, Accuracy: 7662/9000 (85%)\n",
            "Epoch: 38, Test set: Avg. loss: -0.8408, Accuracy: 7599/9000 (84%)\n",
            "Epoch: 39, Test set: Avg. loss: -0.8517, Accuracy: 7692/9000 (85%)\n",
            "Epoch: 40, Test set: Avg. loss: -0.8604, Accuracy: 7763/9000 (86%)\n",
            "Epoch: 41, Test set: Avg. loss: -0.8589, Accuracy: 7770/9000 (86%)\n",
            "Epoch: 42, Test set: Avg. loss: -0.8563, Accuracy: 7732/9000 (86%)\n",
            "Epoch: 43, Test set: Avg. loss: -0.8560, Accuracy: 7731/9000 (86%)\n",
            "Epoch: 44, Test set: Avg. loss: -0.8576, Accuracy: 7736/9000 (86%)\n",
            "Epoch: 45, Test set: Avg. loss: -0.8619, Accuracy: 7780/9000 (86%)\n",
            "Epoch: 46, Test set: Avg. loss: -0.8647, Accuracy: 7817/9000 (87%)\n",
            "Epoch: 47, Test set: Avg. loss: -0.8629, Accuracy: 7795/9000 (87%)\n",
            "Epoch: 48, Test set: Avg. loss: -0.8609, Accuracy: 7789/9000 (87%)\n",
            "Epoch: 49, Test set: Avg. loss: -0.8611, Accuracy: 7775/9000 (86%)\n"
          ],
          "name": "stdout"
        }
      ]
    },
    {
      "cell_type": "code",
      "metadata": {
        "colab": {
          "base_uri": "https://localhost:8080/",
          "height": 279
        },
        "id": "QcRRKE7MzSEQ",
        "outputId": "5a419210-d31a-4935-e198-3be6a6d2ef4a"
      },
      "source": [
        "fig = plt.figure()\n",
        "plt.plot(train_counter, train_losses, color='skyblue')\n",
        "plt.legend(['Train Loss'], loc='upper right')\n",
        "plt.xlabel('number of training examples seen')\n",
        "plt.ylabel('negative log likelihood loss')\n",
        "plt.grid(linestyle='-.')"
      ],
      "execution_count": 26,
      "outputs": [
        {
          "output_type": "display_data",
          "data": {
            "image/png": "[encoded data removed]",
            "text/plain": [
              "<Figure size 432x288 with 1 Axes>"
            ]
          },
          "metadata": {
            "tags": [],
            "needs_background": "light"
          }
        }
      ]
    },
    {
      "cell_type": "markdown",
      "metadata": {
        "id": "ZX0XLJDjkqX_"
      },
      "source": [
        "## Train on ALL data"
      ]
    },
    {
      "cell_type": "code",
      "metadata": {
        "id": "LZmnWuVmmUCU"
      },
      "source": [
        "full_model = Tutor_model().to(DEVICE)\n",
        "optimizer = optim.Adam(full_model.parameters())"
      ],
      "execution_count": null,
      "outputs": []
    },
    {
      "cell_type": "code",
      "metadata": {
        "id": "56cCdP5Ektpl"
      },
      "source": [
        "for epoch in range(1, 40):\n",
        "  train(epoch, full_model, data_loader)\n",
        "  val(full_model, val_loader)"
      ],
      "execution_count": null,
      "outputs": []
    },
    {
      "cell_type": "markdown",
      "metadata": {
        "id": "3yEtGFpwdYx1"
      },
      "source": [
        "## Make predictions on test data"
      ]
    },
    {
      "cell_type": "code",
      "metadata": {
        "id": "16kAGX5Hdcur"
      },
      "source": [
        "def predict(model):\n",
        "  pred_test = []\n",
        "  model.eval()\n",
        "  with torch.no_grad():\n",
        "    for data in test_loader:\n",
        "      data = data.to(DEVICE)\n",
        "      output = model(data)\n",
        "      pred = output.data.max(1, keepdim=True)[1]\n",
        "      for x in pred:\n",
        "        pred_test.append(x.item())\n",
        "  return pred_test"
      ],
      "execution_count": null,
      "outputs": []
    },
    {
      "cell_type": "code",
      "metadata": {
        "colab": {
          "base_uri": "https://localhost:8080/"
        },
        "id": "UWdnJKhigtM7",
        "outputId": "7e51513d-16ad-4e25-f62a-c5aa34d3cbde"
      },
      "source": [
        "pred_test = predict(full_model)\n",
        "print(len(pred_test))\n",
        "df_pred_test = pd.DataFrame({'id': range(10000), 'class': pred_test})\n",
        "df_pred_test.to_csv(CSV_OUTPUT_PATH, index=False)"
      ],
      "execution_count": null,
      "outputs": [
        {
          "output_type": "stream",
          "text": [
            "/usr/local/lib/python3.7/dist-packages/ipykernel_launcher.py:20: UserWarning: Implicit dimension choice for log_softmax has been deprecated. Change the call to include dim=X as an argument.\n"
          ],
          "name": "stderr"
        },
        {
          "output_type": "stream",
          "text": [
            "Length 10000\n"
          ],
          "name": "stdout"
        }
      ]
    },
    {
      "cell_type": "markdown",
      "metadata": {
        "id": "K7VpSLb22POJ"
      },
      "source": [
        "## Manually check prediction results"
      ]
    },
    {
      "cell_type": "code",
      "metadata": {
        "colab": {
          "base_uri": "https://localhost:8080/",
          "height": 318
        },
        "id": "8Gp4fBi5iipd",
        "outputId": "21579e5a-345a-4df6-aa72-c614ebff638a"
      },
      "source": [
        "# Read many TEST data and display them, compare with our prediction in CSV\n",
        "test_loader = DataLoader(test_dataset, batch_size=BATCH_SIZE, shuffle=False)\n",
        "imgs = (next(iter(test_loader)))\n",
        "print(imgs.shape)\n",
        "# imgs: [256, 1, 28, 28]\n",
        "imgs = np.squeeze(imgs)\n",
        "# imgs: [256, 28, 28]\n",
        "print(imgs.shape)\n",
        "\n",
        "for i in range(20):\n",
        "  plt.subplot(4,5,i+1)\n",
        "  plt.tight_layout()\n",
        "  plt.imshow(imgs[i], cmap='gray', interpolation='bicubic')\n",
        "  plt.xticks([])\n",
        "  plt.yticks([])"
      ],
      "execution_count": null,
      "outputs": [
        {
          "output_type": "stream",
          "text": [
            "torch.Size([256, 1, 28, 28])\n",
            "torch.Size([256, 28, 28])\n"
          ],
          "name": "stdout"
        },
        {
          "output_type": "display_data",
          "data": {
            "image/png": "[encoded data removed]",
            "text/plain": [
              "<Figure size 432x288 with 20 Axes>"
            ]
          },
          "metadata": {
            "tags": []
          }
        }
      ]
    },
    {
      "cell_type": "markdown",
      "metadata": {
        "id": "DIDJM1PnADIt"
      },
      "source": [
        "## Deeper（doesn't work）"
      ]
    },
    {
      "cell_type": "code",
      "metadata": {
        "id": "Vcqne0XZLcYf"
      },
      "source": [
        "import torch.nn as nn\n",
        "import torch.nn.functional as F\n",
        "import torch.optim as optim"
      ],
      "execution_count": null,
      "outputs": []
    },
    {
      "cell_type": "code",
      "metadata": {
        "id": "tdDmYca6CmXP"
      },
      "source": [
        "device = torch.device('cuda' if torch.cuda.is_available() else 'cpu')"
      ],
      "execution_count": null,
      "outputs": []
    },
    {
      "cell_type": "code",
      "metadata": {
        "id": "8MWRg9T5AFNR"
      },
      "source": [
        "class MyModel(nn.Module):\n",
        "  def __init__(self):\n",
        "    super(MyModel, self).__init__()\n",
        "    \n",
        "    self.model = nn.Sequential(\n",
        "      nn.Conv2d(1, 16, kernel_size=3), nn.ReLU(), # 26*26\n",
        "      nn.Conv2d(16, 16, kernel_size=3), nn.ReLU(), # 24*24\n",
        "      # nn.MaxPool2d(2,2), # 13*13\n",
        "\n",
        "      nn.Conv2d(16, 32, kernel_size=3), nn.ReLU(),  # 22*22\n",
        "      nn.Conv2d(32, 32, kernel_size=3), nn.ReLU(),  # 20*20\n",
        "      # nn.MaxPool2d(2,2),  # 6*6\n",
        "\n",
        "      nn.Conv2d(32, 64, kernel_size=3), nn.ReLU(),  # 18*18\n",
        "      nn.Conv2d(64, 64, kernel_size=3), nn.ReLU(),  # 16*16\n",
        "      # nn.MaxPool2d(2,2),  # 2*2\n",
        "\n",
        "      nn.Conv2d(64, 128, kernel_size=3), nn.ReLU(), # 14*14\n",
        "      nn.Conv2d(128, 128, kernel_size=3), nn.ReLU(),  # 12*12\n",
        "      # nn.MaxPool2d(2,2),\n",
        "\n",
        "      nn.Conv2d(128, 256, kernel_size=3), nn.ReLU(),  # 10*10\n",
        "      nn.Conv2d(256, 256, kernel_size=3), nn.ReLU(),  # 8*8\n",
        "      nn.MaxPool2d(2,2),  # 4*4\n",
        "\n",
        "    )\n",
        "    \n",
        "    self.classifier = nn.Sequential(\n",
        "      nn.Flatten(),\n",
        "      nn.Dropout(0.25),\n",
        "      # nn.Linear(4096, 256),\n",
        "      nn.Linear(4096, 256),\n",
        "      nn.ReLU(),\n",
        "\n",
        "      nn.Dropout(0.5),\n",
        "      nn.Linear(256, 10),\n",
        "      nn.Softmax(dim=1)\n",
        "    )\n",
        "    \n",
        "  def forward(self, x):\n",
        "    f = self.model(x)\n",
        "    y_pred = self.classifier(f)\n",
        "    return y_pred\n",
        "\n",
        "network = MyModel()\n",
        "# summary(model, (3,256,256))"
      ],
      "execution_count": null,
      "outputs": []
    },
    {
      "cell_type": "code",
      "metadata": {
        "id": "7daPmiD_EJ53"
      },
      "source": [
        "optimizer = optim.Adam(network.parameters())\n",
        "\n",
        "train_losses = []\n",
        "train_counter = []\n",
        "test_losses = []\n",
        "test_counter = [i*len(train_loader.dataset) for i in range(3)]"
      ],
      "execution_count": null,
      "outputs": []
    },
    {
      "cell_type": "code",
      "metadata": {
        "id": "tv66liBRDHL9"
      },
      "source": [
        "def train(epoch):\n",
        "  network.train()\n",
        "  for batch_idx, (data, target) in enumerate(train_loader):\n",
        "    optimizer.zero_grad()\n",
        "    output = network(data)\n",
        "\n",
        "    loss = F.nll_loss(output, target) #negative log likelihood loss\n",
        "    loss.backward()\n",
        "    optimizer.step()\n",
        "    if batch_idx % 20 == 0:\n",
        "      print('Train Epoch: {} [{}/{} ({:.0f}%)]\\tLoss: {:.6f}'.format(\n",
        "        epoch, batch_idx * len(data), len(train_loader.dataset),\n",
        "        100. * batch_idx / len(train_loader), loss.item()))\n",
        "      train_losses.append(loss.item())\n",
        "      train_counter.append(\n",
        "        (batch_idx*64) + ((epoch-1)*len(train_loader.dataset)))\n",
        "\n",
        "def test():\n",
        "  network.eval()\n",
        "  test_loss = 0\n",
        "  correct = 0\n",
        "  with torch.no_grad():\n",
        "    for data, target in val_loader:\n",
        "      output = network(data)\n",
        "      # this line is added to convert labels to LongTensor\n",
        "      # target = target.type(torch.LongTensor)\n",
        "      # target = torch.argmax(target, dim=1) # convert from 1-hot to 1D\n",
        "\n",
        "      test_loss += F.nll_loss(output, target, size_average=False).item()\n",
        "      pred = output.data.max(1, keepdim=True)[1]\n",
        "      correct += pred.eq(target.data.view_as(pred)).sum()\n",
        "  test_loss /= len(val_loader.dataset)\n",
        "  test_losses.append(test_loss)\n",
        "  print('\\nTest set: Avg. loss: {:.4f}, Accuracy: {}/{} ({:.0f}%)\\n'.format(\n",
        "    test_loss, correct, len(val_loader.dataset),\n",
        "    100. * correct / len(val_loader.dataset)))"
      ],
      "execution_count": null,
      "outputs": []
    },
    {
      "cell_type": "code",
      "metadata": {
        "colab": {
          "base_uri": "https://localhost:8080/",
          "height": 443
        },
        "id": "30Rz0VM-FKN5",
        "outputId": "1efc1fa5-369e-4747-f0d6-d3bddc46479b"
      },
      "source": [
        "for epoch in range(1, 4):\n",
        "  train(epoch)\n",
        "  test()"
      ],
      "execution_count": null,
      "outputs": [
        {
          "output_type": "stream",
          "text": [
            "Train Epoch: 1 [0/60000 (0%)]\tLoss: -0.099955\n",
            "Train Epoch: 1 [5120/60000 (11%)]\tLoss: -0.097481\n",
            "Train Epoch: 1 [10240/60000 (21%)]\tLoss: -0.074219\n",
            "Train Epoch: 1 [15360/60000 (32%)]\tLoss: -0.109375\n",
            "Train Epoch: 1 [20480/60000 (43%)]\tLoss: -0.101562\n"
          ],
          "name": "stdout"
        },
        {
          "output_type": "error",
          "ename": "KeyboardInterrupt",
          "evalue": "ignored",
          "traceback": [
            "\u001b[0;31m---------------------------------------------------------------------------\u001b[0m",
            "\u001b[0;31mKeyboardInterrupt\u001b[0m                         Traceback (most recent call last)",
            "\u001b[0;32m<ipython-input-39-02379a7662ab>\u001b[0m in \u001b[0;36m<module>\u001b[0;34m()\u001b[0m\n\u001b[1;32m      1\u001b[0m \u001b[0;32mfor\u001b[0m \u001b[0mepoch\u001b[0m \u001b[0;32min\u001b[0m \u001b[0mrange\u001b[0m\u001b[0;34m(\u001b[0m\u001b[0;36m1\u001b[0m\u001b[0;34m,\u001b[0m \u001b[0;36m4\u001b[0m\u001b[0;34m)\u001b[0m\u001b[0;34m:\u001b[0m\u001b[0;34m\u001b[0m\u001b[0;34m\u001b[0m\u001b[0m\n\u001b[0;32m----> 2\u001b[0;31m   \u001b[0mtrain\u001b[0m\u001b[0;34m(\u001b[0m\u001b[0mepoch\u001b[0m\u001b[0;34m)\u001b[0m\u001b[0;34m\u001b[0m\u001b[0;34m\u001b[0m\u001b[0m\n\u001b[0m\u001b[1;32m      3\u001b[0m   \u001b[0mtest\u001b[0m\u001b[0;34m(\u001b[0m\u001b[0;34m)\u001b[0m\u001b[0;34m\u001b[0m\u001b[0;34m\u001b[0m\u001b[0m\n",
            "\u001b[0;32m<ipython-input-38-e15993a0a7ef>\u001b[0m in \u001b[0;36mtrain\u001b[0;34m(epoch)\u001b[0m\n\u001b[1;32m      6\u001b[0m \u001b[0;34m\u001b[0m\u001b[0m\n\u001b[1;32m      7\u001b[0m     \u001b[0mloss\u001b[0m \u001b[0;34m=\u001b[0m \u001b[0mF\u001b[0m\u001b[0;34m.\u001b[0m\u001b[0mnll_loss\u001b[0m\u001b[0;34m(\u001b[0m\u001b[0moutput\u001b[0m\u001b[0;34m,\u001b[0m \u001b[0mtarget\u001b[0m\u001b[0;34m)\u001b[0m \u001b[0;31m#negative log likelihood loss\u001b[0m\u001b[0;34m\u001b[0m\u001b[0;34m\u001b[0m\u001b[0m\n\u001b[0;32m----> 8\u001b[0;31m     \u001b[0mloss\u001b[0m\u001b[0;34m.\u001b[0m\u001b[0mbackward\u001b[0m\u001b[0;34m(\u001b[0m\u001b[0;34m)\u001b[0m\u001b[0;34m\u001b[0m\u001b[0;34m\u001b[0m\u001b[0m\n\u001b[0m\u001b[1;32m      9\u001b[0m     \u001b[0moptimizer\u001b[0m\u001b[0;34m.\u001b[0m\u001b[0mstep\u001b[0m\u001b[0;34m(\u001b[0m\u001b[0;34m)\u001b[0m\u001b[0;34m\u001b[0m\u001b[0;34m\u001b[0m\u001b[0m\n\u001b[1;32m     10\u001b[0m     \u001b[0;32mif\u001b[0m \u001b[0mbatch_idx\u001b[0m \u001b[0;34m%\u001b[0m \u001b[0;36m20\u001b[0m \u001b[0;34m==\u001b[0m \u001b[0;36m0\u001b[0m\u001b[0;34m:\u001b[0m\u001b[0;34m\u001b[0m\u001b[0;34m\u001b[0m\u001b[0m\n",
            "\u001b[0;32m/usr/local/lib/python3.7/dist-packages/torch/tensor.py\u001b[0m in \u001b[0;36mbackward\u001b[0;34m(self, gradient, retain_graph, create_graph, inputs)\u001b[0m\n\u001b[1;32m    243\u001b[0m                 \u001b[0mcreate_graph\u001b[0m\u001b[0;34m=\u001b[0m\u001b[0mcreate_graph\u001b[0m\u001b[0;34m,\u001b[0m\u001b[0;34m\u001b[0m\u001b[0;34m\u001b[0m\u001b[0m\n\u001b[1;32m    244\u001b[0m                 inputs=inputs)\n\u001b[0;32m--> 245\u001b[0;31m         \u001b[0mtorch\u001b[0m\u001b[0;34m.\u001b[0m\u001b[0mautograd\u001b[0m\u001b[0;34m.\u001b[0m\u001b[0mbackward\u001b[0m\u001b[0;34m(\u001b[0m\u001b[0mself\u001b[0m\u001b[0;34m,\u001b[0m \u001b[0mgradient\u001b[0m\u001b[0;34m,\u001b[0m \u001b[0mretain_graph\u001b[0m\u001b[0;34m,\u001b[0m \u001b[0mcreate_graph\u001b[0m\u001b[0;34m,\u001b[0m \u001b[0minputs\u001b[0m\u001b[0;34m=\u001b[0m\u001b[0minputs\u001b[0m\u001b[0;34m)\u001b[0m\u001b[0;34m\u001b[0m\u001b[0;34m\u001b[0m\u001b[0m\n\u001b[0m\u001b[1;32m    246\u001b[0m \u001b[0;34m\u001b[0m\u001b[0m\n\u001b[1;32m    247\u001b[0m     \u001b[0;32mdef\u001b[0m \u001b[0mregister_hook\u001b[0m\u001b[0;34m(\u001b[0m\u001b[0mself\u001b[0m\u001b[0;34m,\u001b[0m \u001b[0mhook\u001b[0m\u001b[0;34m)\u001b[0m\u001b[0;34m:\u001b[0m\u001b[0;34m\u001b[0m\u001b[0;34m\u001b[0m\u001b[0m\n",
            "\u001b[0;32m/usr/local/lib/python3.7/dist-packages/torch/autograd/__init__.py\u001b[0m in \u001b[0;36mbackward\u001b[0;34m(tensors, grad_tensors, retain_graph, create_graph, grad_variables, inputs)\u001b[0m\n\u001b[1;32m    145\u001b[0m     Variable._execution_engine.run_backward(\n\u001b[1;32m    146\u001b[0m         \u001b[0mtensors\u001b[0m\u001b[0;34m,\u001b[0m \u001b[0mgrad_tensors_\u001b[0m\u001b[0;34m,\u001b[0m \u001b[0mretain_graph\u001b[0m\u001b[0;34m,\u001b[0m \u001b[0mcreate_graph\u001b[0m\u001b[0;34m,\u001b[0m \u001b[0minputs\u001b[0m\u001b[0;34m,\u001b[0m\u001b[0;34m\u001b[0m\u001b[0;34m\u001b[0m\u001b[0m\n\u001b[0;32m--> 147\u001b[0;31m         allow_unreachable=True, accumulate_grad=True)  # allow_unreachable flag\n\u001b[0m\u001b[1;32m    148\u001b[0m \u001b[0;34m\u001b[0m\u001b[0m\n\u001b[1;32m    149\u001b[0m \u001b[0;34m\u001b[0m\u001b[0m\n",
            "\u001b[0;31mKeyboardInterrupt\u001b[0m: "
          ]
        }
      ]
    },
    {
      "cell_type": "code",
      "metadata": {
        "colab": {
          "base_uri": "https://localhost:8080/"
        },
        "id": "fJ1U0lhpHojX",
        "outputId": "395e6940-9c14-4507-e62b-0b3a20fa9d83"
      },
      "source": [
        "print(torch.cuda.is_available())"
      ],
      "execution_count": null,
      "outputs": [
        {
          "output_type": "stream",
          "text": [
            "True\n"
          ],
          "name": "stdout"
        }
      ]
    }
  ]
}