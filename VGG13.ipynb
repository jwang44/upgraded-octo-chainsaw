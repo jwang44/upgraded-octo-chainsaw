{
  "nbformat": 4,
  "nbformat_minor": 0,
  "metadata": {
    "colab": {
      "name": "VGG13.ipynb",
      "provenance": [],
      "collapsed_sections": [
        "oo2KSbBVO-iF",
        "CFEyrp_mYmIO",
        "eQW5T5eHq8X0",
        "DIDJM1PnADIt"
      ],
      "include_colab_link": true
    },
    "kernelspec": {
      "name": "python3",
      "display_name": "Python 3"
    },
    "accelerator": "GPU"
  },
  "cells": [
    {
      "cell_type": "markdown",
      "metadata": {
        "id": "view-in-github",
        "colab_type": "text"
      },
      "source": [
        "<a href=\"https://colab.research.google.com/github/jwang44/upgraded-octo-chainsaw/blob/main/VGG13.ipynb\" target=\"_parent\"><img src=\"https://colab.research.google.com/assets/colab-badge.svg\" alt=\"Open In Colab\"/></a>"
      ]
    },
    {
      "cell_type": "code",
      "metadata": {
        "colab": {
          "base_uri": "https://localhost:8080/"
        },
        "id": "0dOxAvsuIul3",
        "outputId": "e5cc2a11-5861-4709-8b97-14488baa6445"
      },
      "source": [
        "from google.colab import drive\n",
        "drive.mount('/content/drive')"
      ],
      "execution_count": 1,
      "outputs": [
        {
          "output_type": "stream",
          "text": [
            "Mounted at /content/drive\n"
          ],
          "name": "stdout"
        }
      ]
    },
    {
      "cell_type": "code",
      "metadata": {
        "id": "mqRELpG1DsZq",
        "colab": {
          "base_uri": "https://localhost:8080/"
        },
        "outputId": "dfa2bade-caf8-4ea8-8899-86c35b9fffe5"
      },
      "source": [
        "%cd '/content/drive/MyDrive/551 A3'\n",
        "!ls"
      ],
      "execution_count": null,
      "outputs": [
        {
          "output_type": "stream",
          "text": [
            "/content/drive/MyDrive/551 A3\n",
            " ExampleSubmissionRandom.csv   Test.pkl\t\t       Train_labels.csv\n",
            " LoadData.ipynb\t\t      'Train_labels (1).csv'   Train.pkl\n"
          ],
          "name": "stdout"
        }
      ]
    },
    {
      "cell_type": "code",
      "metadata": {
        "id": "hgry_nK5mW0a",
        "colab": {
          "base_uri": "https://localhost:8080/"
        },
        "outputId": "d5609dab-052b-400a-98ec-66804953dc58"
      },
      "source": [
        "%cd '/content/drive/MyDrive/imageunderstanding'\n",
        "!ls"
      ],
      "execution_count": 2,
      "outputs": [
        {
          "output_type": "stream",
          "text": [
            "/content/drive/MyDrive/imageunderstanding\n",
            "ExampleSubmissionRandom.csv  PRED_RESULT.csv  Train_labels.csv\n",
            "Load_data.ipynb\t\t     Test.pkl\t      Train.pkl\n"
          ],
          "name": "stdout"
        }
      ]
    },
    {
      "cell_type": "code",
      "metadata": {
        "id": "T1-Hfwf3lrw4"
      },
      "source": [
        "TRAIN_DATA_PATH = \"Train.pkl\"\n",
        "TRAIN_LABEL_PATH = \"Train_labels.csv\"\n",
        "TEST_DATA_PATH = \"Test.pkl\"\n",
        "CSV_OUTPUT_PATH = \"PRED_RESULT.csv\""
      ],
      "execution_count": 3,
      "outputs": []
    },
    {
      "cell_type": "code",
      "metadata": {
        "id": "7XS2MS7nHzIN"
      },
      "source": [
        "import pickle\n",
        "import matplotlib.pyplot as plt\n",
        "import numpy as np\n",
        "from torchvision import transforms\n",
        "from torch.utils.data import Dataset\n",
        "from torch.utils.data import DataLoader, TensorDataset\n",
        "from PIL import Image\n",
        "import torch\n",
        "import pandas as pd"
      ],
      "execution_count": 4,
      "outputs": []
    },
    {
      "cell_type": "code",
      "metadata": {
        "colab": {
          "base_uri": "https://localhost:8080/"
        },
        "id": "FBXdYCpunCp2",
        "outputId": "0f8f1620-68e8-4cf6-941b-337ead3efa38"
      },
      "source": [
        "DEVICE = torch.device('cuda' if torch.cuda.is_available() else 'cpu')\n",
        "DEVICE"
      ],
      "execution_count": 5,
      "outputs": [
        {
          "output_type": "execute_result",
          "data": {
            "text/plain": [
              "device(type='cuda')"
            ]
          },
          "metadata": {
            "tags": []
          },
          "execution_count": 5
        }
      ]
    },
    {
      "cell_type": "code",
      "metadata": {
        "id": "zppkOjQwVjy2"
      },
      "source": [
        "torch.manual_seed(0)\n",
        "torch.cuda.manual_seed(0)"
      ],
      "execution_count": 6,
      "outputs": []
    },
    {
      "cell_type": "markdown",
      "metadata": {
        "id": "_2Vm3wY_K3DA"
      },
      "source": [
        "## Dataset Class / Data Loaders"
      ]
    },
    {
      "cell_type": "code",
      "metadata": {
        "id": "bydOoypc5SAM"
      },
      "source": [
        "IMG_SIZE = (224, 224)"
      ],
      "execution_count": 7,
      "outputs": []
    },
    {
      "cell_type": "code",
      "metadata": {
        "id": "RMnXBwXMCqd5"
      },
      "source": [
        "# Transforms are common image transformations. They can be chained together using Compose.\n",
        "# Here we normalize images img=(img-0.5)/0.5\n",
        "img_transform = transforms.Compose([\n",
        "    transforms.ToTensor(),\n",
        "    transforms.Normalize([0.5], [0.5]),\n",
        "    transforms.Resize(IMG_SIZE)  \n",
        "    # transforms.RandomRotation(10, resample=PIL.Image.BILINEAR)\n",
        "    # transforms.ColorJitter(brightness=0, contrast=0, saturation=0, hue=0)\n",
        "    # transforms.RandomAffine(degrees, translate=None, scale=None, shear=None, interpolation=<InterpolationMode.NEAREST: 'nearest'>, fill=0, fillcolor=None, resample=None)\n",
        "])"
      ],
      "execution_count": 8,
      "outputs": []
    },
    {
      "cell_type": "code",
      "metadata": {
        "id": "CY0SndE2qcmb"
      },
      "source": [
        "# img_file: the pickle file containing the images\n",
        "# label_file: the .csv file containing the labels\n",
        "# transform: We use it for normalizing images (see above)\n",
        "# idx: This is a binary vector that is useful for creating training and validation set.\n",
        "# It return only samples where idx is True\n",
        "\n",
        "class MyDataset(Dataset):\n",
        "    def __init__(self, img_file, label_file, transform=None, idx = None):\n",
        "        self.data = pickle.load( open( img_file, 'rb' ), encoding='bytes')\n",
        "        self.targets = np.genfromtxt(label_file, delimiter=',', skip_header=1, usecols=1) #[:,1:]\n",
        "        if idx is not None:\n",
        "          self.targets = self.targets[idx]\n",
        "          self.data = self.data[idx]\n",
        "        self.transform = transform\n",
        "\n",
        "    def __len__(self):\n",
        "        return len(self.targets)\n",
        "\n",
        "    def __getitem__(self, index):\n",
        "        img, target = self.data[index].squeeze(), int(self.targets[index])\n",
        "        img = Image.fromarray((img*255).astype('uint8'), mode='L')\n",
        "        if self.transform is not None:\n",
        "           img = self.transform(img)\n",
        "        return img, target"
      ],
      "execution_count": 9,
      "outputs": []
    },
    {
      "cell_type": "markdown",
      "metadata": {
        "id": "q3b-QvEvqNE3"
      },
      "source": [
        "Get loader for all train data"
      ]
    },
    {
      "cell_type": "code",
      "metadata": {
        "id": "74kV_DwkqizL"
      },
      "source": [
        "BATCH_SIZE = 32\n",
        "dataset = MyDataset(TRAIN_DATA_PATH, TRAIN_LABEL_PATH,transform=img_transform, idx=None)\n",
        "# dataloader for all data\n",
        "data_loader = DataLoader(dataset, batch_size=BATCH_SIZE, shuffle=True)"
      ],
      "execution_count": 10,
      "outputs": []
    },
    {
      "cell_type": "markdown",
      "metadata": {
        "id": "1ZNiErb-pbPt"
      },
      "source": [
        "Get loaders for train/val data"
      ]
    },
    {
      "cell_type": "code",
      "metadata": {
        "id": "05SXSXBRW4DX"
      },
      "source": [
        "VAL_SPLIT = 0.15\n",
        "shuffle = True\n",
        "\n",
        "# Creating indices for train and val split:\n",
        "dataset_size = len(dataset)\n",
        "indices = list(range(dataset_size))\n",
        "split = int(np.floor(VAL_SPLIT * dataset_size))\n",
        "if shuffle:\n",
        "  # set random seed so that we get the same split everytime\n",
        "  np.random.seed(0)\n",
        "  np.random.shuffle(indices)\n",
        "train_indices, val_indices = indices[split:], indices[:split]\n",
        "\n",
        "train_dataset = MyDataset(TRAIN_DATA_PATH, TRAIN_LABEL_PATH,transform=img_transform, idx=train_indices)\n",
        "val_dataset = MyDataset(TRAIN_DATA_PATH, TRAIN_LABEL_PATH,transform=img_transform, idx=val_indices)\n",
        "\n",
        "# separate loaders for train and val data\n",
        "train_loader = DataLoader(train_dataset, batch_size=BATCH_SIZE, shuffle=False)\n",
        "val_loader = DataLoader(val_dataset, batch_size=BATCH_SIZE, shuffle=False)"
      ],
      "execution_count": 11,
      "outputs": []
    },
    {
      "cell_type": "markdown",
      "metadata": {
        "id": "CFEyrp_mYmIO"
      },
      "source": [
        "## Test Dataset / Loader"
      ]
    },
    {
      "cell_type": "code",
      "metadata": {
        "id": "x1d3LIGlYrDK"
      },
      "source": [
        "class MyTestSet(Dataset):\n",
        "  def __init__(self, img_file, transform=None):\n",
        "    self.data = pickle.load( open(img_file, 'rb' ), encoding='bytes')\n",
        "    self.transform = transform\n",
        "\n",
        "  def __len__(self):\n",
        "    # return self.data.shape[0]\n",
        "    return len(self.data)\n",
        "\n",
        "  def __getitem__(self, index):\n",
        "    img = self.data[index].squeeze()\n",
        "    img = Image.fromarray((img*255).astype('uint8'), mode='L')\n",
        "    if self.transform is not None:\n",
        "      img = self.transform(img)\n",
        "    return img"
      ],
      "execution_count": null,
      "outputs": []
    },
    {
      "cell_type": "code",
      "metadata": {
        "id": "fk5z7LRha2Uc"
      },
      "source": [
        "test_dataset = MyTestSet(TEST_DATA_PATH,transform=img_transform)\n",
        "# dataloader for test data\n",
        "test_loader = DataLoader(test_dataset, batch_size=BATCH_SIZE, shuffle=False)"
      ],
      "execution_count": null,
      "outputs": []
    },
    {
      "cell_type": "markdown",
      "metadata": {
        "id": "wdvC0-OfRnQV"
      },
      "source": [
        "## VGG13 model"
      ]
    },
    {
      "cell_type": "code",
      "metadata": {
        "id": "pFVSRS6gs8t7"
      },
      "source": [
        "import torch.nn as nn\n",
        "import torch.nn.functional as F\n",
        "import torch.optim as optim"
      ],
      "execution_count": 12,
      "outputs": []
    },
    {
      "cell_type": "code",
      "metadata": {
        "id": "3714Y8uHiYbV"
      },
      "source": [
        "class VGG13(nn.Module):\n",
        "    def __init__(self, kernel_size=3):\n",
        "        super(VGG13, self).__init__()\n",
        "        # input 1*28*28\n",
        "        self.conv1 = nn.Conv2d(1, 64, kernel_size,padding=1)\n",
        "        # 64*(28-kernel_size+1)*(28-kernel_size+1)\n",
        "        self.conv2 = nn.Conv2d(64, 64, kernel_size,padding=1)\n",
        "        self.conv3 = nn.Conv2d(64, 128, kernel_size,padding=1)\n",
        "        self.conv4 = nn.Conv2d(128, 128, kernel_size,padding=1)\n",
        "        self.conv5 = nn.Conv2d(128, 256, kernel_size,padding=1)\n",
        "        self.conv6 = nn.Conv2d(256, 256, kernel_size,padding=1)\n",
        "        self.conv7 = nn.Conv2d(256, 512, kernel_size,padding=1)\n",
        "        self.conv8 = nn.Conv2d(512, 512, kernel_size,padding=1)\n",
        "        self.fc1 = nn.Linear(512*7*7, 4096)\n",
        "        self.fc2 = nn.Linear(4096, 4096)\n",
        "        self.fc3 = nn.Linear(4096, 1000)\n",
        "        self.fc4 = nn.Linear(1000, 10)\n",
        "\n",
        "    def forward(self, x):\n",
        "        x = F.relu(self.conv1(x))                  # 64 filters => 64*224*224\n",
        "        x = F.max_pool2d(F.relu(self.conv2(x)), 2) # 64 filters + maxpooling => 64*112*112\n",
        "        x = F.relu(self.conv3(x))                  # 128 filters + maxpooling => 128*112*112\n",
        "        x = F.max_pool2d(F.relu(self.conv4(x)), 2) # 128 filters + maxpooling => 128*56*56\n",
        "        x = F.relu(self.conv5(x))                  # 256 filters => 256*56*56 \n",
        "        x = F.max_pool2d(F.relu(self.conv6(x)), 2) # 256 filters + maxpooling => 256*28*28\n",
        "        x = F.relu(self.conv7(x))                  # 512 filters => 512*28*28\n",
        "        x = F.max_pool2d(F.relu(self.conv8(x)), 2) # 512 filters + maxpooling => 512*14*14\n",
        "        x = F.relu(self.conv8(x))                  # 512 filters => 512*14*14\n",
        "        x = F.max_pool2d(F.relu(self.conv8(x)), 2) # 512 filters + maxpooling => 512*7*7\n",
        "        x = x.view(-1, 512*7*7) # 512*7*7\n",
        "        x = F.relu(self.fc1(x)) # FC with 4096 nodes\n",
        "        x = F.relu(self.fc2(x)) # FC with 4096 nodes\n",
        "        x = F.relu(self.fc3(x)) # FC with 1000 nodes\n",
        "        x = self.fc4(x) # output layer\n",
        "        return F.log_softmax(x)"
      ],
      "execution_count": 13,
      "outputs": []
    },
    {
      "cell_type": "markdown",
      "metadata": {
        "id": "BeVwuJHatdb7"
      },
      "source": [
        "Let's train these. But first, create the network, the optimizer and some lists for logging the training process"
      ]
    },
    {
      "cell_type": "code",
      "metadata": {
        "id": "EWuVNrsotfZD"
      },
      "source": [
        "model = VGG13().to(DEVICE)\n",
        "# optimizer = optim.SGD(tutor_model.parameters(), lr=0.01, momentum=0.5)\n",
        "# optimizer = optim.SGD(tutor_model.parameters(), lr=1, momentum=0.5)\n",
        "optimizer = optim.Adam(model.parameters())\n",
        "# optimizer = optim.RMSprop(model.parameters())\n",
        "\n",
        "train_losses = []\n",
        "train_counter = []\n",
        "val_losses = []\n",
        "val_counter = [i*len(train_loader.dataset) for i in range(3)]"
      ],
      "execution_count": 20,
      "outputs": []
    },
    {
      "cell_type": "markdown",
      "metadata": {
        "id": "Ck4yNKs46Q1Y"
      },
      "source": [
        "Train and val function, used many times"
      ]
    },
    {
      "cell_type": "code",
      "metadata": {
        "id": "0Ps3KWsvtlSS"
      },
      "source": [
        "def train(epoch, model, loader):\n",
        "  model.train()\n",
        "  for batch_idx, (data, target) in enumerate(loader):\n",
        "    optimizer.zero_grad()\n",
        "    data = data.to(DEVICE)\n",
        "    # print(data.shape)\n",
        "    target = target.to(DEVICE)\n",
        "    output = model(data)\n",
        "    # print(output.shape)\n",
        "    # target = torch.argmax(target, dim=1) # convert from 1-hot to 1D\n",
        "    loss = F.nll_loss(output, target) #negative log likelihood loss\n",
        "    loss.backward()\n",
        "    optimizer.step()\n",
        "    if batch_idx % 20 == 0:\n",
        "      print('Train Epoch: {} [{}/{} ({:.0f}%)]\\tLoss: {:.6f}'.format(\n",
        "        epoch, batch_idx * len(data), len(loader.dataset),\n",
        "        100. * batch_idx / len(loader), loss.item()))\n",
        "      train_losses.append(loss.item())\n",
        "      train_counter.append(\n",
        "        (batch_idx*64) + ((epoch-1)*len(loader.dataset)))\n",
        "      torch.save(model.state_dict(), '/model.pth')\n",
        "      torch.save(optimizer.state_dict(), '/optimizer.pth')\n",
        "\n",
        "def val(model, loader):\n",
        "  model.eval()\n",
        "  val_loss = 0\n",
        "  correct = 0\n",
        "  with torch.no_grad():\n",
        "    for data, target in loader:\n",
        "      data = data.to(DEVICE)\n",
        "      target = target.to(DEVICE)\n",
        "      output = model(data)\n",
        "      val_loss += F.nll_loss(output, target, size_average=False).item()\n",
        "      pred = output.data.max(1, keepdim=True)[1]\n",
        "      correct += pred.eq(target.data.view_as(pred)).sum()\n",
        "  val_loss /= len(loader.dataset)\n",
        "  val_losses.append(val_loss)\n",
        "  print('Epoch: {}, Test set: Avg. loss: {:.4f}, Accuracy: {}/{} ({:.0f}%)'.format(\n",
        "    epoch, val_loss, correct, len(loader.dataset),\n",
        "    100. * correct / len(loader.dataset)))"
      ],
      "execution_count": 19,
      "outputs": []
    },
    {
      "cell_type": "code",
      "metadata": {
        "colab": {
          "base_uri": "https://localhost:8080/"
        },
        "id": "3gjkriuv8bVO",
        "outputId": "1559b2fc-1982-4bf4-ca85-9ad36192cc29"
      },
      "source": [
        "len(data_loader.dataset)"
      ],
      "execution_count": 16,
      "outputs": [
        {
          "output_type": "execute_result",
          "data": {
            "text/plain": [
              "60000"
            ]
          },
          "metadata": {
            "tags": []
          },
          "execution_count": 16
        }
      ]
    },
    {
      "cell_type": "code",
      "metadata": {
        "colab": {
          "base_uri": "https://localhost:8080/"
        },
        "id": "1Gl0IR_n8l2X",
        "outputId": "9d65a5dd-3c93-47bd-c14c-084473594c71"
      },
      "source": [
        "len(train_loader.dataset)"
      ],
      "execution_count": 17,
      "outputs": [
        {
          "output_type": "execute_result",
          "data": {
            "text/plain": [
              "51000"
            ]
          },
          "metadata": {
            "tags": []
          },
          "execution_count": 17
        }
      ]
    },
    {
      "cell_type": "markdown",
      "metadata": {
        "id": "BaaA04yUtj1T"
      },
      "source": [
        "Train the network"
      ]
    },
    {
      "cell_type": "code",
      "metadata": {
        "id": "CCgK_yOvtrjz",
        "colab": {
          "base_uri": "https://localhost:8080/"
        },
        "outputId": "8f201f9f-e9c3-46d3-f14d-5a3208246113"
      },
      "source": [
        "for epoch in range(1, 40):\n",
        "  train(epoch, model, train_loader)\n",
        "  val(model, val_loader)"
      ],
      "execution_count": null,
      "outputs": [
        {
          "output_type": "stream",
          "text": [
            "/usr/local/lib/python3.7/dist-packages/ipykernel_launcher.py:35: UserWarning: Implicit dimension choice for log_softmax has been deprecated. Change the call to include dim=X as an argument.\n"
          ],
          "name": "stderr"
        },
        {
          "output_type": "stream",
          "text": [
            "Train Epoch: 1 [0/51000 (0%)]\tLoss: 2.303739\n",
            "Train Epoch: 1 [640/51000 (1%)]\tLoss: 2.296583\n",
            "Train Epoch: 1 [1280/51000 (3%)]\tLoss: 2.297874\n",
            "Train Epoch: 1 [1920/51000 (4%)]\tLoss: 2.302984\n",
            "Train Epoch: 1 [2560/51000 (5%)]\tLoss: 2.296549\n",
            "Train Epoch: 1 [3200/51000 (6%)]\tLoss: 2.297976\n",
            "Train Epoch: 1 [3840/51000 (8%)]\tLoss: 2.296164\n",
            "Train Epoch: 1 [4480/51000 (9%)]\tLoss: 2.295192\n",
            "Train Epoch: 1 [5120/51000 (10%)]\tLoss: 2.303831\n",
            "Train Epoch: 1 [5760/51000 (11%)]\tLoss: 2.304415\n",
            "Train Epoch: 1 [6400/51000 (13%)]\tLoss: 2.292214\n",
            "Train Epoch: 1 [7040/51000 (14%)]\tLoss: 2.304301\n",
            "Train Epoch: 1 [7680/51000 (15%)]\tLoss: 2.323794\n",
            "Train Epoch: 1 [8320/51000 (16%)]\tLoss: 2.291035\n",
            "Train Epoch: 1 [8960/51000 (18%)]\tLoss: 2.310126\n",
            "Train Epoch: 1 [9600/51000 (19%)]\tLoss: 2.298447\n",
            "Train Epoch: 1 [10240/51000 (20%)]\tLoss: 2.293802\n",
            "Train Epoch: 1 [10880/51000 (21%)]\tLoss: 2.315390\n",
            "Train Epoch: 1 [11520/51000 (23%)]\tLoss: 2.304392\n",
            "Train Epoch: 1 [12160/51000 (24%)]\tLoss: 2.303341\n",
            "Train Epoch: 1 [12800/51000 (25%)]\tLoss: 2.300092\n",
            "Train Epoch: 1 [13440/51000 (26%)]\tLoss: 2.305498\n",
            "Train Epoch: 1 [14080/51000 (28%)]\tLoss: 2.307072\n",
            "Train Epoch: 1 [14720/51000 (29%)]\tLoss: 2.298957\n",
            "Train Epoch: 1 [15360/51000 (30%)]\tLoss: 2.291571\n",
            "Train Epoch: 1 [16000/51000 (31%)]\tLoss: 2.303800\n",
            "Train Epoch: 1 [16640/51000 (33%)]\tLoss: 2.303419\n",
            "Train Epoch: 1 [17280/51000 (34%)]\tLoss: 2.305392\n",
            "Train Epoch: 1 [17920/51000 (35%)]\tLoss: 2.311800\n",
            "Train Epoch: 1 [18560/51000 (36%)]\tLoss: 2.307692\n",
            "Train Epoch: 1 [19200/51000 (38%)]\tLoss: 2.302241\n",
            "Train Epoch: 1 [19840/51000 (39%)]\tLoss: 2.292247\n",
            "Train Epoch: 1 [20480/51000 (40%)]\tLoss: 2.302025\n",
            "Train Epoch: 1 [21120/51000 (41%)]\tLoss: 2.291865\n",
            "Train Epoch: 1 [21760/51000 (43%)]\tLoss: 2.308060\n",
            "Train Epoch: 1 [22400/51000 (44%)]\tLoss: 2.294324\n",
            "Train Epoch: 1 [23040/51000 (45%)]\tLoss: 2.299932\n",
            "Train Epoch: 1 [23680/51000 (46%)]\tLoss: 2.304160\n",
            "Train Epoch: 1 [24320/51000 (48%)]\tLoss: 2.285943\n",
            "Train Epoch: 1 [24960/51000 (49%)]\tLoss: 2.302858\n",
            "Train Epoch: 1 [25600/51000 (50%)]\tLoss: 2.290729\n",
            "Train Epoch: 1 [26240/51000 (51%)]\tLoss: 2.311400\n",
            "Train Epoch: 1 [26880/51000 (53%)]\tLoss: 2.305819\n",
            "Train Epoch: 1 [27520/51000 (54%)]\tLoss: 2.304051\n",
            "Train Epoch: 1 [28160/51000 (55%)]\tLoss: 2.294272\n",
            "Train Epoch: 1 [28800/51000 (56%)]\tLoss: 2.297673\n",
            "Train Epoch: 1 [29440/51000 (58%)]\tLoss: 2.318414\n",
            "Train Epoch: 1 [30080/51000 (59%)]\tLoss: 2.308645\n",
            "Train Epoch: 1 [30720/51000 (60%)]\tLoss: 2.305400\n",
            "Train Epoch: 1 [31360/51000 (61%)]\tLoss: 2.306407\n",
            "Train Epoch: 1 [32000/51000 (63%)]\tLoss: 2.295545\n",
            "Train Epoch: 1 [32640/51000 (64%)]\tLoss: 2.306234\n",
            "Train Epoch: 1 [33280/51000 (65%)]\tLoss: 2.297342\n",
            "Train Epoch: 1 [33920/51000 (66%)]\tLoss: 2.304782\n",
            "Train Epoch: 1 [34560/51000 (68%)]\tLoss: 2.308830\n",
            "Train Epoch: 1 [35200/51000 (69%)]\tLoss: 2.298681\n",
            "Train Epoch: 1 [35840/51000 (70%)]\tLoss: 2.302536\n",
            "Train Epoch: 1 [36480/51000 (72%)]\tLoss: 2.307082\n",
            "Train Epoch: 1 [37120/51000 (73%)]\tLoss: 2.296590\n",
            "Train Epoch: 1 [37760/51000 (74%)]\tLoss: 2.301471\n",
            "Train Epoch: 1 [38400/51000 (75%)]\tLoss: 2.300910\n",
            "Train Epoch: 1 [39040/51000 (77%)]\tLoss: 2.279720\n",
            "Train Epoch: 1 [39680/51000 (78%)]\tLoss: 2.302345\n",
            "Train Epoch: 1 [40320/51000 (79%)]\tLoss: 2.287886\n",
            "Train Epoch: 1 [40960/51000 (80%)]\tLoss: 2.293373\n",
            "Train Epoch: 1 [41600/51000 (82%)]\tLoss: 2.319107\n",
            "Train Epoch: 1 [42240/51000 (83%)]\tLoss: 2.292758\n",
            "Train Epoch: 1 [42880/51000 (84%)]\tLoss: 2.307762\n",
            "Train Epoch: 1 [43520/51000 (85%)]\tLoss: 2.302075\n",
            "Train Epoch: 1 [44160/51000 (87%)]\tLoss: 2.293377\n",
            "Train Epoch: 1 [44800/51000 (88%)]\tLoss: 2.299030\n",
            "Train Epoch: 1 [45440/51000 (89%)]\tLoss: 2.293711\n",
            "Train Epoch: 1 [46080/51000 (90%)]\tLoss: 2.307868\n",
            "Train Epoch: 1 [46720/51000 (92%)]\tLoss: 2.305499\n",
            "Train Epoch: 1 [47360/51000 (93%)]\tLoss: 2.303589\n",
            "Train Epoch: 1 [48000/51000 (94%)]\tLoss: 2.290010\n",
            "Train Epoch: 1 [48640/51000 (95%)]\tLoss: 2.295457\n",
            "Train Epoch: 1 [49280/51000 (97%)]\tLoss: 2.310940\n",
            "Train Epoch: 1 [49920/51000 (98%)]\tLoss: 2.301477\n",
            "Train Epoch: 1 [50560/51000 (99%)]\tLoss: 2.309223\n"
          ],
          "name": "stdout"
        },
        {
          "output_type": "stream",
          "text": [
            "/usr/local/lib/python3.7/dist-packages/torch/nn/_reduction.py:42: UserWarning: size_average and reduce args will be deprecated, please use reduction='sum' instead.\n",
            "  warnings.warn(warning.format(ret))\n"
          ],
          "name": "stderr"
        },
        {
          "output_type": "stream",
          "text": [
            "Epoch: 1, Test set: Avg. loss: 2.3008, Accuracy: 1030/9000 (11%)\n",
            "Train Epoch: 2 [0/51000 (0%)]\tLoss: 2.294785\n",
            "Train Epoch: 2 [640/51000 (1%)]\tLoss: 2.286528\n",
            "Train Epoch: 2 [1280/51000 (3%)]\tLoss: 2.301166\n",
            "Train Epoch: 2 [1920/51000 (4%)]\tLoss: 2.299683\n"
          ],
          "name": "stdout"
        }
      ]
    },
    {
      "cell_type": "code",
      "metadata": {
        "colab": {
          "base_uri": "https://localhost:8080/",
          "height": 296
        },
        "id": "QcRRKE7MzSEQ",
        "outputId": "4f0e8169-92fa-4143-8f61-0106d91a1df6"
      },
      "source": [
        "fig = plt.figure()\n",
        "plt.plot(train_counter, train_losses, color='blue')\n",
        "plt.legend(['Train Loss'], loc='upper right')\n",
        "plt.xlabel('number of training examples seen')\n",
        "plt.ylabel('negative log likelihood loss')"
      ],
      "execution_count": null,
      "outputs": [
        {
          "output_type": "execute_result",
          "data": {
            "text/plain": [
              "Text(0, 0.5, 'negative log likelihood loss')"
            ]
          },
          "metadata": {
            "tags": []
          },
          "execution_count": 21
        },
        {
          "output_type": "display_data",
          "data": {
            "image/png": "[encoded data removed]",
            "text/plain": [
              "<Figure size 432x288 with 1 Axes>"
            ]
          },
          "metadata": {
            "tags": [],
            "needs_background": "light"
          }
        }
      ]
    },
    {
      "cell_type": "markdown",
      "metadata": {
        "id": "ZX0XLJDjkqX_"
      },
      "source": [
        "## Train on ALL data"
      ]
    },
    {
      "cell_type": "code",
      "metadata": {
        "id": "LZmnWuVmmUCU"
      },
      "source": [
        "full_model = Tutor_model().to(DEVICE)\n",
        "optimizer = optim.Adam(full_model.parameters())"
      ],
      "execution_count": null,
      "outputs": []
    },
    {
      "cell_type": "code",
      "metadata": {
        "colab": {
          "base_uri": "https://localhost:8080/"
        },
        "id": "56cCdP5Ektpl",
        "outputId": "d2fdbf99-1d6f-4a69-ab8e-598c3e9f083a"
      },
      "source": [
        "for epoch in range(1, 40):\n",
        "  train(epoch, full_model, data_loader)\n",
        "  val(full_model, val_loader)"
      ],
      "execution_count": null,
      "outputs": [
        {
          "output_type": "stream",
          "text": [
            "/usr/local/lib/python3.7/dist-packages/ipykernel_launcher.py:20: UserWarning: Implicit dimension choice for log_softmax has been deprecated. Change the call to include dim=X as an argument.\n"
          ],
          "name": "stderr"
        },
        {
          "output_type": "stream",
          "text": [
            "Train Epoch: 1 [0/60000 (0%)]\tLoss: 2.311443\n",
            "Train Epoch: 1 [5120/60000 (9%)]\tLoss: 2.299133\n",
            "Train Epoch: 1 [10240/60000 (17%)]\tLoss: 2.281989\n",
            "Train Epoch: 1 [15360/60000 (26%)]\tLoss: 2.224159\n",
            "Train Epoch: 1 [20480/60000 (34%)]\tLoss: 2.059722\n",
            "Train Epoch: 1 [25600/60000 (43%)]\tLoss: 1.826422\n",
            "Train Epoch: 1 [30720/60000 (51%)]\tLoss: 1.719962\n",
            "Train Epoch: 1 [35840/60000 (60%)]\tLoss: 1.636105\n",
            "Train Epoch: 1 [40960/60000 (68%)]\tLoss: 1.576773\n",
            "Train Epoch: 1 [46080/60000 (77%)]\tLoss: 1.376584\n",
            "Train Epoch: 1 [51200/60000 (85%)]\tLoss: 1.332887\n",
            "Train Epoch: 1 [56320/60000 (94%)]\tLoss: 1.265155\n"
          ],
          "name": "stdout"
        },
        {
          "output_type": "stream",
          "text": [
            "/usr/local/lib/python3.7/dist-packages/torch/nn/_reduction.py:42: UserWarning: size_average and reduce args will be deprecated, please use reduction='sum' instead.\n",
            "  warnings.warn(warning.format(ret))\n"
          ],
          "name": "stderr"
        },
        {
          "output_type": "stream",
          "text": [
            "\n",
            "Test set: Avg. loss: 1.1772, Accuracy: 1797/3000 (60%)\n",
            "\n",
            "Train Epoch: 2 [0/60000 (0%)]\tLoss: 1.222930\n",
            "Train Epoch: 2 [5120/60000 (9%)]\tLoss: 1.127363\n",
            "Train Epoch: 2 [10240/60000 (17%)]\tLoss: 0.986886\n",
            "Train Epoch: 2 [15360/60000 (26%)]\tLoss: 1.072385\n",
            "Train Epoch: 2 [20480/60000 (34%)]\tLoss: 0.960514\n",
            "Train Epoch: 2 [25600/60000 (43%)]\tLoss: 0.985473\n",
            "Train Epoch: 2 [30720/60000 (51%)]\tLoss: 0.897065\n",
            "Train Epoch: 2 [35840/60000 (60%)]\tLoss: 0.811162\n",
            "Train Epoch: 2 [40960/60000 (68%)]\tLoss: 0.822579\n",
            "Train Epoch: 2 [46080/60000 (77%)]\tLoss: 0.834495\n",
            "Train Epoch: 2 [51200/60000 (85%)]\tLoss: 0.769518\n",
            "Train Epoch: 2 [56320/60000 (94%)]\tLoss: 0.883740\n",
            "\n",
            "Test set: Avg. loss: 0.7097, Accuracy: 2293/3000 (76%)\n",
            "\n",
            "Train Epoch: 3 [0/60000 (0%)]\tLoss: 0.604974\n",
            "Train Epoch: 3 [5120/60000 (9%)]\tLoss: 0.699479\n",
            "Train Epoch: 3 [10240/60000 (17%)]\tLoss: 0.856460\n",
            "Train Epoch: 3 [15360/60000 (26%)]\tLoss: 0.850473\n",
            "Train Epoch: 3 [20480/60000 (34%)]\tLoss: 0.751885\n",
            "Train Epoch: 3 [25600/60000 (43%)]\tLoss: 0.622764\n",
            "Train Epoch: 3 [30720/60000 (51%)]\tLoss: 0.680790\n",
            "Train Epoch: 3 [35840/60000 (60%)]\tLoss: 0.712027\n",
            "Train Epoch: 3 [40960/60000 (68%)]\tLoss: 0.734387\n",
            "Train Epoch: 3 [46080/60000 (77%)]\tLoss: 0.623719\n",
            "Train Epoch: 3 [51200/60000 (85%)]\tLoss: 0.635488\n",
            "Train Epoch: 3 [56320/60000 (94%)]\tLoss: 0.570976\n",
            "\n",
            "Test set: Avg. loss: 0.5901, Accuracy: 2409/3000 (80%)\n",
            "\n",
            "Train Epoch: 4 [0/60000 (0%)]\tLoss: 0.568666\n",
            "Train Epoch: 4 [5120/60000 (9%)]\tLoss: 0.551705\n",
            "Train Epoch: 4 [10240/60000 (17%)]\tLoss: 0.567189\n",
            "Train Epoch: 4 [15360/60000 (26%)]\tLoss: 0.689612\n",
            "Train Epoch: 4 [20480/60000 (34%)]\tLoss: 0.505680\n",
            "Train Epoch: 4 [25600/60000 (43%)]\tLoss: 0.465733\n",
            "Train Epoch: 4 [30720/60000 (51%)]\tLoss: 0.574213\n",
            "Train Epoch: 4 [35840/60000 (60%)]\tLoss: 0.467904\n",
            "Train Epoch: 4 [40960/60000 (68%)]\tLoss: 0.479050\n",
            "Train Epoch: 4 [46080/60000 (77%)]\tLoss: 0.604740\n",
            "Train Epoch: 4 [51200/60000 (85%)]\tLoss: 0.670689\n",
            "Train Epoch: 4 [56320/60000 (94%)]\tLoss: 0.475668\n",
            "\n",
            "Test set: Avg. loss: 0.5177, Accuracy: 2500/3000 (83%)\n",
            "\n",
            "Train Epoch: 5 [0/60000 (0%)]\tLoss: 0.553411\n",
            "Train Epoch: 5 [5120/60000 (9%)]\tLoss: 0.537885\n",
            "Train Epoch: 5 [10240/60000 (17%)]\tLoss: 0.520245\n",
            "Train Epoch: 5 [15360/60000 (26%)]\tLoss: 0.546935\n",
            "Train Epoch: 5 [20480/60000 (34%)]\tLoss: 0.477200\n",
            "Train Epoch: 5 [25600/60000 (43%)]\tLoss: 0.481974\n",
            "Train Epoch: 5 [30720/60000 (51%)]\tLoss: 0.340734\n",
            "Train Epoch: 5 [35840/60000 (60%)]\tLoss: 0.572131\n",
            "Train Epoch: 5 [40960/60000 (68%)]\tLoss: 0.472971\n",
            "Train Epoch: 5 [46080/60000 (77%)]\tLoss: 0.558899\n",
            "Train Epoch: 5 [51200/60000 (85%)]\tLoss: 0.455929\n",
            "Train Epoch: 5 [56320/60000 (94%)]\tLoss: 0.507965\n",
            "\n",
            "Test set: Avg. loss: 0.4703, Accuracy: 2533/3000 (84%)\n",
            "\n",
            "Train Epoch: 6 [0/60000 (0%)]\tLoss: 0.501321\n",
            "Train Epoch: 6 [5120/60000 (9%)]\tLoss: 0.494695\n",
            "Train Epoch: 6 [10240/60000 (17%)]\tLoss: 0.458736\n",
            "Train Epoch: 6 [15360/60000 (26%)]\tLoss: 0.510968\n",
            "Train Epoch: 6 [20480/60000 (34%)]\tLoss: 0.349535\n",
            "Train Epoch: 6 [25600/60000 (43%)]\tLoss: 0.593424\n",
            "Train Epoch: 6 [30720/60000 (51%)]\tLoss: 0.634822\n",
            "Train Epoch: 6 [35840/60000 (60%)]\tLoss: 0.432154\n",
            "Train Epoch: 6 [40960/60000 (68%)]\tLoss: 0.510824\n",
            "Train Epoch: 6 [46080/60000 (77%)]\tLoss: 0.430526\n",
            "Train Epoch: 6 [51200/60000 (85%)]\tLoss: 0.534406\n",
            "Train Epoch: 6 [56320/60000 (94%)]\tLoss: 0.548287\n",
            "\n",
            "Test set: Avg. loss: 0.4356, Accuracy: 2577/3000 (86%)\n",
            "\n",
            "Train Epoch: 7 [0/60000 (0%)]\tLoss: 0.394283\n",
            "Train Epoch: 7 [5120/60000 (9%)]\tLoss: 0.527518\n",
            "Train Epoch: 7 [10240/60000 (17%)]\tLoss: 0.560449\n",
            "Train Epoch: 7 [15360/60000 (26%)]\tLoss: 0.378131\n",
            "Train Epoch: 7 [20480/60000 (34%)]\tLoss: 0.478895\n",
            "Train Epoch: 7 [25600/60000 (43%)]\tLoss: 0.314100\n",
            "Train Epoch: 7 [30720/60000 (51%)]\tLoss: 0.399067\n",
            "Train Epoch: 7 [35840/60000 (60%)]\tLoss: 0.571807\n",
            "Train Epoch: 7 [40960/60000 (68%)]\tLoss: 0.459568\n",
            "Train Epoch: 7 [46080/60000 (77%)]\tLoss: 0.495343\n",
            "Train Epoch: 7 [51200/60000 (85%)]\tLoss: 0.378178\n",
            "Train Epoch: 7 [56320/60000 (94%)]\tLoss: 0.418407\n",
            "\n",
            "Test set: Avg. loss: 0.3816, Accuracy: 2612/3000 (87%)\n",
            "\n",
            "Train Epoch: 8 [0/60000 (0%)]\tLoss: 0.429627\n",
            "Train Epoch: 8 [5120/60000 (9%)]\tLoss: 0.345467\n",
            "Train Epoch: 8 [10240/60000 (17%)]\tLoss: 0.318123\n",
            "Train Epoch: 8 [15360/60000 (26%)]\tLoss: 0.459372\n",
            "Train Epoch: 8 [20480/60000 (34%)]\tLoss: 0.321169\n",
            "Train Epoch: 8 [25600/60000 (43%)]\tLoss: 0.351520\n",
            "Train Epoch: 8 [30720/60000 (51%)]\tLoss: 0.402400\n",
            "Train Epoch: 8 [35840/60000 (60%)]\tLoss: 0.475853\n",
            "Train Epoch: 8 [40960/60000 (68%)]\tLoss: 0.407643\n",
            "Train Epoch: 8 [46080/60000 (77%)]\tLoss: 0.442544\n",
            "Train Epoch: 8 [51200/60000 (85%)]\tLoss: 0.443421\n",
            "Train Epoch: 8 [56320/60000 (94%)]\tLoss: 0.511222\n",
            "\n",
            "Test set: Avg. loss: 0.3743, Accuracy: 2601/3000 (87%)\n",
            "\n",
            "Train Epoch: 9 [0/60000 (0%)]\tLoss: 0.351219\n",
            "Train Epoch: 9 [5120/60000 (9%)]\tLoss: 0.378024\n",
            "Train Epoch: 9 [10240/60000 (17%)]\tLoss: 0.400025\n",
            "Train Epoch: 9 [15360/60000 (26%)]\tLoss: 0.363838\n",
            "Train Epoch: 9 [20480/60000 (34%)]\tLoss: 0.377167\n",
            "Train Epoch: 9 [25600/60000 (43%)]\tLoss: 0.350168\n",
            "Train Epoch: 9 [30720/60000 (51%)]\tLoss: 0.387960\n",
            "Train Epoch: 9 [35840/60000 (60%)]\tLoss: 0.336045\n",
            "Train Epoch: 9 [40960/60000 (68%)]\tLoss: 0.404237\n",
            "Train Epoch: 9 [46080/60000 (77%)]\tLoss: 0.388604\n",
            "Train Epoch: 9 [51200/60000 (85%)]\tLoss: 0.419798\n",
            "Train Epoch: 9 [56320/60000 (94%)]\tLoss: 0.329877\n",
            "\n",
            "Test set: Avg. loss: 0.3576, Accuracy: 2633/3000 (88%)\n",
            "\n",
            "Train Epoch: 10 [0/60000 (0%)]\tLoss: 0.410112\n",
            "Train Epoch: 10 [5120/60000 (9%)]\tLoss: 0.291633\n",
            "Train Epoch: 10 [10240/60000 (17%)]\tLoss: 0.389434\n",
            "Train Epoch: 10 [15360/60000 (26%)]\tLoss: 0.321550\n",
            "Train Epoch: 10 [20480/60000 (34%)]\tLoss: 0.389758\n",
            "Train Epoch: 10 [25600/60000 (43%)]\tLoss: 0.338281\n",
            "Train Epoch: 10 [30720/60000 (51%)]\tLoss: 0.340570\n",
            "Train Epoch: 10 [35840/60000 (60%)]\tLoss: 0.374998\n",
            "Train Epoch: 10 [40960/60000 (68%)]\tLoss: 0.389679\n",
            "Train Epoch: 10 [46080/60000 (77%)]\tLoss: 0.311373\n",
            "Train Epoch: 10 [51200/60000 (85%)]\tLoss: 0.419791\n",
            "Train Epoch: 10 [56320/60000 (94%)]\tLoss: 0.308878\n",
            "\n",
            "Test set: Avg. loss: 0.3418, Accuracy: 2655/3000 (88%)\n",
            "\n",
            "Train Epoch: 11 [0/60000 (0%)]\tLoss: 0.337512\n",
            "Train Epoch: 11 [5120/60000 (9%)]\tLoss: 0.360010\n",
            "Train Epoch: 11 [10240/60000 (17%)]\tLoss: 0.336057\n",
            "Train Epoch: 11 [15360/60000 (26%)]\tLoss: 0.323846\n",
            "Train Epoch: 11 [20480/60000 (34%)]\tLoss: 0.397183\n",
            "Train Epoch: 11 [25600/60000 (43%)]\tLoss: 0.345130\n",
            "Train Epoch: 11 [30720/60000 (51%)]\tLoss: 0.365127\n",
            "Train Epoch: 11 [35840/60000 (60%)]\tLoss: 0.387628\n",
            "Train Epoch: 11 [40960/60000 (68%)]\tLoss: 0.401552\n",
            "Train Epoch: 11 [46080/60000 (77%)]\tLoss: 0.304585\n",
            "Train Epoch: 11 [51200/60000 (85%)]\tLoss: 0.417345\n",
            "Train Epoch: 11 [56320/60000 (94%)]\tLoss: 0.296968\n",
            "\n",
            "Test set: Avg. loss: 0.3189, Accuracy: 2665/3000 (89%)\n",
            "\n",
            "Train Epoch: 12 [0/60000 (0%)]\tLoss: 0.312611\n",
            "Train Epoch: 12 [5120/60000 (9%)]\tLoss: 0.284611\n",
            "Train Epoch: 12 [10240/60000 (17%)]\tLoss: 0.336353\n",
            "Train Epoch: 12 [15360/60000 (26%)]\tLoss: 0.455650\n",
            "Train Epoch: 12 [20480/60000 (34%)]\tLoss: 0.335205\n",
            "Train Epoch: 12 [25600/60000 (43%)]\tLoss: 0.327518\n",
            "Train Epoch: 12 [30720/60000 (51%)]\tLoss: 0.355423\n",
            "Train Epoch: 12 [35840/60000 (60%)]\tLoss: 0.262456\n",
            "Train Epoch: 12 [40960/60000 (68%)]\tLoss: 0.342867\n",
            "Train Epoch: 12 [46080/60000 (77%)]\tLoss: 0.264419\n",
            "Train Epoch: 12 [51200/60000 (85%)]\tLoss: 0.343191\n",
            "Train Epoch: 12 [56320/60000 (94%)]\tLoss: 0.333454\n",
            "\n",
            "Test set: Avg. loss: 0.3234, Accuracy: 2678/3000 (89%)\n",
            "\n",
            "Train Epoch: 13 [0/60000 (0%)]\tLoss: 0.442483\n",
            "Train Epoch: 13 [5120/60000 (9%)]\tLoss: 0.370622\n",
            "Train Epoch: 13 [10240/60000 (17%)]\tLoss: 0.334472\n",
            "Train Epoch: 13 [15360/60000 (26%)]\tLoss: 0.287980\n",
            "Train Epoch: 13 [20480/60000 (34%)]\tLoss: 0.261295\n",
            "Train Epoch: 13 [25600/60000 (43%)]\tLoss: 0.379222\n",
            "Train Epoch: 13 [30720/60000 (51%)]\tLoss: 0.340730\n",
            "Train Epoch: 13 [35840/60000 (60%)]\tLoss: 0.346328\n",
            "Train Epoch: 13 [40960/60000 (68%)]\tLoss: 0.250339\n",
            "Train Epoch: 13 [46080/60000 (77%)]\tLoss: 0.357365\n",
            "Train Epoch: 13 [51200/60000 (85%)]\tLoss: 0.354282\n",
            "Train Epoch: 13 [56320/60000 (94%)]\tLoss: 0.313386\n",
            "\n",
            "Test set: Avg. loss: 0.2959, Accuracy: 2676/3000 (89%)\n",
            "\n",
            "Train Epoch: 14 [0/60000 (0%)]\tLoss: 0.418938\n",
            "Train Epoch: 14 [5120/60000 (9%)]\tLoss: 0.333338\n",
            "Train Epoch: 14 [10240/60000 (17%)]\tLoss: 0.263742\n",
            "Train Epoch: 14 [15360/60000 (26%)]\tLoss: 0.370548\n",
            "Train Epoch: 14 [20480/60000 (34%)]\tLoss: 0.222724\n",
            "Train Epoch: 14 [25600/60000 (43%)]\tLoss: 0.370805\n",
            "Train Epoch: 14 [30720/60000 (51%)]\tLoss: 0.347502\n",
            "Train Epoch: 14 [35840/60000 (60%)]\tLoss: 0.382212\n",
            "Train Epoch: 14 [40960/60000 (68%)]\tLoss: 0.322930\n",
            "Train Epoch: 14 [46080/60000 (77%)]\tLoss: 0.287820\n",
            "Train Epoch: 14 [51200/60000 (85%)]\tLoss: 0.257900\n",
            "Train Epoch: 14 [56320/60000 (94%)]\tLoss: 0.374821\n",
            "\n",
            "Test set: Avg. loss: 0.2900, Accuracy: 2691/3000 (90%)\n",
            "\n",
            "Train Epoch: 15 [0/60000 (0%)]\tLoss: 0.282675\n",
            "Train Epoch: 15 [5120/60000 (9%)]\tLoss: 0.293293\n",
            "Train Epoch: 15 [10240/60000 (17%)]\tLoss: 0.290601\n",
            "Train Epoch: 15 [15360/60000 (26%)]\tLoss: 0.280553\n",
            "Train Epoch: 15 [20480/60000 (34%)]\tLoss: 0.300483\n",
            "Train Epoch: 15 [25600/60000 (43%)]\tLoss: 0.328292\n",
            "Train Epoch: 15 [30720/60000 (51%)]\tLoss: 0.381855\n",
            "Train Epoch: 15 [35840/60000 (60%)]\tLoss: 0.297982\n",
            "Train Epoch: 15 [40960/60000 (68%)]\tLoss: 0.336810\n",
            "Train Epoch: 15 [46080/60000 (77%)]\tLoss: 0.302957\n",
            "Train Epoch: 15 [51200/60000 (85%)]\tLoss: 0.319948\n",
            "Train Epoch: 15 [56320/60000 (94%)]\tLoss: 0.285365\n",
            "\n",
            "Test set: Avg. loss: 0.2572, Accuracy: 2726/3000 (91%)\n",
            "\n",
            "Train Epoch: 16 [0/60000 (0%)]\tLoss: 0.221234\n",
            "Train Epoch: 16 [5120/60000 (9%)]\tLoss: 0.352140\n",
            "Train Epoch: 16 [10240/60000 (17%)]\tLoss: 0.346821\n",
            "Train Epoch: 16 [15360/60000 (26%)]\tLoss: 0.255114\n",
            "Train Epoch: 16 [20480/60000 (34%)]\tLoss: 0.275870\n",
            "Train Epoch: 16 [25600/60000 (43%)]\tLoss: 0.303296\n",
            "Train Epoch: 16 [30720/60000 (51%)]\tLoss: 0.335656\n",
            "Train Epoch: 16 [35840/60000 (60%)]\tLoss: 0.348652\n",
            "Train Epoch: 16 [40960/60000 (68%)]\tLoss: 0.279108\n",
            "Train Epoch: 16 [46080/60000 (77%)]\tLoss: 0.258931\n",
            "Train Epoch: 16 [51200/60000 (85%)]\tLoss: 0.346428\n",
            "Train Epoch: 16 [56320/60000 (94%)]\tLoss: 0.274926\n",
            "\n",
            "Test set: Avg. loss: 0.2656, Accuracy: 2726/3000 (91%)\n",
            "\n",
            "Train Epoch: 17 [0/60000 (0%)]\tLoss: 0.297683\n",
            "Train Epoch: 17 [5120/60000 (9%)]\tLoss: 0.224884\n",
            "Train Epoch: 17 [10240/60000 (17%)]\tLoss: 0.339504\n",
            "Train Epoch: 17 [15360/60000 (26%)]\tLoss: 0.238838\n",
            "Train Epoch: 17 [20480/60000 (34%)]\tLoss: 0.347619\n",
            "Train Epoch: 17 [25600/60000 (43%)]\tLoss: 0.342322\n",
            "Train Epoch: 17 [30720/60000 (51%)]\tLoss: 0.284989\n",
            "Train Epoch: 17 [35840/60000 (60%)]\tLoss: 0.315001\n",
            "Train Epoch: 17 [40960/60000 (68%)]\tLoss: 0.283083\n",
            "Train Epoch: 17 [46080/60000 (77%)]\tLoss: 0.261860\n",
            "Train Epoch: 17 [51200/60000 (85%)]\tLoss: 0.306869\n",
            "Train Epoch: 17 [56320/60000 (94%)]\tLoss: 0.216642\n",
            "\n",
            "Test set: Avg. loss: 0.2432, Accuracy: 2757/3000 (92%)\n",
            "\n",
            "Train Epoch: 18 [0/60000 (0%)]\tLoss: 0.203500\n",
            "Train Epoch: 18 [5120/60000 (9%)]\tLoss: 0.272419\n",
            "Train Epoch: 18 [10240/60000 (17%)]\tLoss: 0.224299\n",
            "Train Epoch: 18 [15360/60000 (26%)]\tLoss: 0.349867\n",
            "Train Epoch: 18 [20480/60000 (34%)]\tLoss: 0.223112\n",
            "Train Epoch: 18 [25600/60000 (43%)]\tLoss: 0.289500\n",
            "Train Epoch: 18 [30720/60000 (51%)]\tLoss: 0.300511\n",
            "Train Epoch: 18 [35840/60000 (60%)]\tLoss: 0.270747\n",
            "Train Epoch: 18 [40960/60000 (68%)]\tLoss: 0.313530\n",
            "Train Epoch: 18 [46080/60000 (77%)]\tLoss: 0.248767\n",
            "Train Epoch: 18 [51200/60000 (85%)]\tLoss: 0.280642\n",
            "Train Epoch: 18 [56320/60000 (94%)]\tLoss: 0.308118\n",
            "\n",
            "Test set: Avg. loss: 0.2312, Accuracy: 2772/3000 (92%)\n",
            "\n",
            "Train Epoch: 19 [0/60000 (0%)]\tLoss: 0.199011\n",
            "Train Epoch: 19 [5120/60000 (9%)]\tLoss: 0.272639\n",
            "Train Epoch: 19 [10240/60000 (17%)]\tLoss: 0.243313\n",
            "Train Epoch: 19 [15360/60000 (26%)]\tLoss: 0.161422\n",
            "Train Epoch: 19 [20480/60000 (34%)]\tLoss: 0.257263\n",
            "Train Epoch: 19 [25600/60000 (43%)]\tLoss: 0.213404\n",
            "Train Epoch: 19 [30720/60000 (51%)]\tLoss: 0.270709\n",
            "Train Epoch: 19 [35840/60000 (60%)]\tLoss: 0.275674\n",
            "Train Epoch: 19 [40960/60000 (68%)]\tLoss: 0.256040\n",
            "Train Epoch: 19 [46080/60000 (77%)]\tLoss: 0.234991\n",
            "Train Epoch: 19 [51200/60000 (85%)]\tLoss: 0.307122\n",
            "Train Epoch: 19 [56320/60000 (94%)]\tLoss: 0.220067\n",
            "\n",
            "Test set: Avg. loss: 0.2365, Accuracy: 2759/3000 (92%)\n",
            "\n",
            "Train Epoch: 20 [0/60000 (0%)]\tLoss: 0.270124\n",
            "Train Epoch: 20 [5120/60000 (9%)]\tLoss: 0.272677\n",
            "Train Epoch: 20 [10240/60000 (17%)]\tLoss: 0.286821\n",
            "Train Epoch: 20 [15360/60000 (26%)]\tLoss: 0.306838\n",
            "Train Epoch: 20 [20480/60000 (34%)]\tLoss: 0.249550\n",
            "Train Epoch: 20 [25600/60000 (43%)]\tLoss: 0.187765\n",
            "Train Epoch: 20 [30720/60000 (51%)]\tLoss: 0.234394\n",
            "Train Epoch: 20 [35840/60000 (60%)]\tLoss: 0.287504\n",
            "Train Epoch: 20 [40960/60000 (68%)]\tLoss: 0.185977\n",
            "Train Epoch: 20 [46080/60000 (77%)]\tLoss: 0.200614\n",
            "Train Epoch: 20 [51200/60000 (85%)]\tLoss: 0.275812\n",
            "Train Epoch: 20 [56320/60000 (94%)]\tLoss: 0.302900\n",
            "\n",
            "Test set: Avg. loss: 0.2230, Accuracy: 2773/3000 (92%)\n",
            "\n",
            "Train Epoch: 21 [0/60000 (0%)]\tLoss: 0.208678\n",
            "Train Epoch: 21 [5120/60000 (9%)]\tLoss: 0.231616\n",
            "Train Epoch: 21 [10240/60000 (17%)]\tLoss: 0.297210\n",
            "Train Epoch: 21 [15360/60000 (26%)]\tLoss: 0.225861\n",
            "Train Epoch: 21 [20480/60000 (34%)]\tLoss: 0.279847\n",
            "Train Epoch: 21 [25600/60000 (43%)]\tLoss: 0.252348\n",
            "Train Epoch: 21 [30720/60000 (51%)]\tLoss: 0.201866\n",
            "Train Epoch: 21 [35840/60000 (60%)]\tLoss: 0.226368\n",
            "Train Epoch: 21 [40960/60000 (68%)]\tLoss: 0.197443\n",
            "Train Epoch: 21 [46080/60000 (77%)]\tLoss: 0.224845\n",
            "Train Epoch: 21 [51200/60000 (85%)]\tLoss: 0.238995\n",
            "Train Epoch: 21 [56320/60000 (94%)]\tLoss: 0.209049\n",
            "\n",
            "Test set: Avg. loss: 0.1979, Accuracy: 2797/3000 (93%)\n",
            "\n",
            "Train Epoch: 22 [0/60000 (0%)]\tLoss: 0.306896\n",
            "Train Epoch: 22 [5120/60000 (9%)]\tLoss: 0.245313\n",
            "Train Epoch: 22 [10240/60000 (17%)]\tLoss: 0.230158\n",
            "Train Epoch: 22 [15360/60000 (26%)]\tLoss: 0.272841\n",
            "Train Epoch: 22 [20480/60000 (34%)]\tLoss: 0.250549\n",
            "Train Epoch: 22 [25600/60000 (43%)]\tLoss: 0.230222\n",
            "Train Epoch: 22 [30720/60000 (51%)]\tLoss: 0.207405\n",
            "Train Epoch: 22 [35840/60000 (60%)]\tLoss: 0.258576\n",
            "Train Epoch: 22 [40960/60000 (68%)]\tLoss: 0.207396\n",
            "Train Epoch: 22 [46080/60000 (77%)]\tLoss: 0.296767\n",
            "Train Epoch: 22 [51200/60000 (85%)]\tLoss: 0.262946\n",
            "Train Epoch: 22 [56320/60000 (94%)]\tLoss: 0.303896\n",
            "\n",
            "Test set: Avg. loss: 0.2027, Accuracy: 2789/3000 (93%)\n",
            "\n",
            "Train Epoch: 23 [0/60000 (0%)]\tLoss: 0.206293\n",
            "Train Epoch: 23 [5120/60000 (9%)]\tLoss: 0.199795\n",
            "Train Epoch: 23 [10240/60000 (17%)]\tLoss: 0.233949\n",
            "Train Epoch: 23 [15360/60000 (26%)]\tLoss: 0.232169\n",
            "Train Epoch: 23 [20480/60000 (34%)]\tLoss: 0.233302\n",
            "Train Epoch: 23 [25600/60000 (43%)]\tLoss: 0.247619\n",
            "Train Epoch: 23 [30720/60000 (51%)]\tLoss: 0.318965\n",
            "Train Epoch: 23 [35840/60000 (60%)]\tLoss: 0.185170\n",
            "Train Epoch: 23 [40960/60000 (68%)]\tLoss: 0.265175\n",
            "Train Epoch: 23 [46080/60000 (77%)]\tLoss: 0.228534\n",
            "Train Epoch: 23 [51200/60000 (85%)]\tLoss: 0.326970\n",
            "Train Epoch: 23 [56320/60000 (94%)]\tLoss: 0.178365\n",
            "\n",
            "Test set: Avg. loss: 0.1815, Accuracy: 2809/3000 (94%)\n",
            "\n",
            "Train Epoch: 24 [0/60000 (0%)]\tLoss: 0.165300\n",
            "Train Epoch: 24 [5120/60000 (9%)]\tLoss: 0.240446\n",
            "Train Epoch: 24 [10240/60000 (17%)]\tLoss: 0.289694\n",
            "Train Epoch: 24 [15360/60000 (26%)]\tLoss: 0.241668\n",
            "Train Epoch: 24 [20480/60000 (34%)]\tLoss: 0.246906\n",
            "Train Epoch: 24 [25600/60000 (43%)]\tLoss: 0.298697\n",
            "Train Epoch: 24 [30720/60000 (51%)]\tLoss: 0.258566\n",
            "Train Epoch: 24 [35840/60000 (60%)]\tLoss: 0.152791\n",
            "Train Epoch: 24 [40960/60000 (68%)]\tLoss: 0.192006\n",
            "Train Epoch: 24 [46080/60000 (77%)]\tLoss: 0.264633\n",
            "Train Epoch: 24 [51200/60000 (85%)]\tLoss: 0.255725\n",
            "Train Epoch: 24 [56320/60000 (94%)]\tLoss: 0.159034\n",
            "\n",
            "Test set: Avg. loss: 0.1818, Accuracy: 2804/3000 (93%)\n",
            "\n",
            "Train Epoch: 25 [0/60000 (0%)]\tLoss: 0.128758\n",
            "Train Epoch: 25 [5120/60000 (9%)]\tLoss: 0.205043\n",
            "Train Epoch: 25 [10240/60000 (17%)]\tLoss: 0.212084\n",
            "Train Epoch: 25 [15360/60000 (26%)]\tLoss: 0.190244\n",
            "Train Epoch: 25 [20480/60000 (34%)]\tLoss: 0.266111\n",
            "Train Epoch: 25 [25600/60000 (43%)]\tLoss: 0.235679\n",
            "Train Epoch: 25 [30720/60000 (51%)]\tLoss: 0.287862\n",
            "Train Epoch: 25 [35840/60000 (60%)]\tLoss: 0.197907\n",
            "Train Epoch: 25 [40960/60000 (68%)]\tLoss: 0.229576\n",
            "Train Epoch: 25 [46080/60000 (77%)]\tLoss: 0.211487\n",
            "Train Epoch: 25 [51200/60000 (85%)]\tLoss: 0.267723\n",
            "Train Epoch: 25 [56320/60000 (94%)]\tLoss: 0.192301\n",
            "\n",
            "Test set: Avg. loss: 0.1862, Accuracy: 2808/3000 (94%)\n",
            "\n",
            "Train Epoch: 26 [0/60000 (0%)]\tLoss: 0.184929\n",
            "Train Epoch: 26 [5120/60000 (9%)]\tLoss: 0.184540\n",
            "Train Epoch: 26 [10240/60000 (17%)]\tLoss: 0.185048\n",
            "Train Epoch: 26 [15360/60000 (26%)]\tLoss: 0.322104\n",
            "Train Epoch: 26 [20480/60000 (34%)]\tLoss: 0.202456\n",
            "Train Epoch: 26 [25600/60000 (43%)]\tLoss: 0.203236\n",
            "Train Epoch: 26 [30720/60000 (51%)]\tLoss: 0.195725\n",
            "Train Epoch: 26 [35840/60000 (60%)]\tLoss: 0.195749\n",
            "Train Epoch: 26 [40960/60000 (68%)]\tLoss: 0.198020\n",
            "Train Epoch: 26 [46080/60000 (77%)]\tLoss: 0.233271\n",
            "Train Epoch: 26 [51200/60000 (85%)]\tLoss: 0.263341\n",
            "Train Epoch: 26 [56320/60000 (94%)]\tLoss: 0.209360\n",
            "\n",
            "Test set: Avg. loss: 0.1695, Accuracy: 2817/3000 (94%)\n",
            "\n",
            "Train Epoch: 27 [0/60000 (0%)]\tLoss: 0.154603\n",
            "Train Epoch: 27 [5120/60000 (9%)]\tLoss: 0.141781\n",
            "Train Epoch: 27 [10240/60000 (17%)]\tLoss: 0.134218\n",
            "Train Epoch: 27 [15360/60000 (26%)]\tLoss: 0.262199\n",
            "Train Epoch: 27 [20480/60000 (34%)]\tLoss: 0.202833\n",
            "Train Epoch: 27 [25600/60000 (43%)]\tLoss: 0.256696\n",
            "Train Epoch: 27 [30720/60000 (51%)]\tLoss: 0.219403\n",
            "Train Epoch: 27 [35840/60000 (60%)]\tLoss: 0.261972\n",
            "Train Epoch: 27 [40960/60000 (68%)]\tLoss: 0.240454\n",
            "Train Epoch: 27 [46080/60000 (77%)]\tLoss: 0.224397\n",
            "Train Epoch: 27 [51200/60000 (85%)]\tLoss: 0.198147\n",
            "Train Epoch: 27 [56320/60000 (94%)]\tLoss: 0.197846\n",
            "\n",
            "Test set: Avg. loss: 0.1683, Accuracy: 2823/3000 (94%)\n",
            "\n",
            "Train Epoch: 28 [0/60000 (0%)]\tLoss: 0.134372\n",
            "Train Epoch: 28 [5120/60000 (9%)]\tLoss: 0.154245\n",
            "Train Epoch: 28 [10240/60000 (17%)]\tLoss: 0.196841\n",
            "Train Epoch: 28 [15360/60000 (26%)]\tLoss: 0.176307\n",
            "Train Epoch: 28 [20480/60000 (34%)]\tLoss: 0.196475\n",
            "Train Epoch: 28 [25600/60000 (43%)]\tLoss: 0.203929\n",
            "Train Epoch: 28 [30720/60000 (51%)]\tLoss: 0.148084\n",
            "Train Epoch: 28 [35840/60000 (60%)]\tLoss: 0.214732\n",
            "Train Epoch: 28 [40960/60000 (68%)]\tLoss: 0.253848\n",
            "Train Epoch: 28 [46080/60000 (77%)]\tLoss: 0.264892\n",
            "Train Epoch: 28 [51200/60000 (85%)]\tLoss: 0.261997\n",
            "Train Epoch: 28 [56320/60000 (94%)]\tLoss: 0.162993\n",
            "\n",
            "Test set: Avg. loss: 0.1484, Accuracy: 2845/3000 (95%)\n",
            "\n",
            "Train Epoch: 29 [0/60000 (0%)]\tLoss: 0.103733\n",
            "Train Epoch: 29 [5120/60000 (9%)]\tLoss: 0.173542\n",
            "Train Epoch: 29 [10240/60000 (17%)]\tLoss: 0.171845\n",
            "Train Epoch: 29 [15360/60000 (26%)]\tLoss: 0.166908\n",
            "Train Epoch: 29 [20480/60000 (34%)]\tLoss: 0.182798\n",
            "Train Epoch: 29 [25600/60000 (43%)]\tLoss: 0.117052\n",
            "Train Epoch: 29 [30720/60000 (51%)]\tLoss: 0.114272\n",
            "Train Epoch: 29 [35840/60000 (60%)]\tLoss: 0.115215\n",
            "Train Epoch: 29 [40960/60000 (68%)]\tLoss: 0.135145\n",
            "Train Epoch: 29 [46080/60000 (77%)]\tLoss: 0.229229\n",
            "Train Epoch: 29 [51200/60000 (85%)]\tLoss: 0.197686\n",
            "Train Epoch: 29 [56320/60000 (94%)]\tLoss: 0.258622\n",
            "\n",
            "Test set: Avg. loss: 0.1635, Accuracy: 2822/3000 (94%)\n",
            "\n",
            "Train Epoch: 30 [0/60000 (0%)]\tLoss: 0.184564\n",
            "Train Epoch: 30 [5120/60000 (9%)]\tLoss: 0.118742\n",
            "Train Epoch: 30 [10240/60000 (17%)]\tLoss: 0.166681\n",
            "Train Epoch: 30 [15360/60000 (26%)]\tLoss: 0.187050\n",
            "Train Epoch: 30 [20480/60000 (34%)]\tLoss: 0.262238\n",
            "Train Epoch: 30 [25600/60000 (43%)]\tLoss: 0.252808\n",
            "Train Epoch: 30 [30720/60000 (51%)]\tLoss: 0.210923\n",
            "Train Epoch: 30 [35840/60000 (60%)]\tLoss: 0.201762\n",
            "Train Epoch: 30 [40960/60000 (68%)]\tLoss: 0.113888\n",
            "Train Epoch: 30 [46080/60000 (77%)]\tLoss: 0.155243\n",
            "Train Epoch: 30 [51200/60000 (85%)]\tLoss: 0.281312\n",
            "Train Epoch: 30 [56320/60000 (94%)]\tLoss: 0.176922\n",
            "\n",
            "Test set: Avg. loss: 0.1527, Accuracy: 2849/3000 (95%)\n",
            "\n",
            "Train Epoch: 31 [0/60000 (0%)]\tLoss: 0.202772\n",
            "Train Epoch: 31 [5120/60000 (9%)]\tLoss: 0.154441\n",
            "Train Epoch: 31 [10240/60000 (17%)]\tLoss: 0.166050\n",
            "Train Epoch: 31 [15360/60000 (26%)]\tLoss: 0.155529\n",
            "Train Epoch: 31 [20480/60000 (34%)]\tLoss: 0.211180\n",
            "Train Epoch: 31 [25600/60000 (43%)]\tLoss: 0.252869\n",
            "Train Epoch: 31 [30720/60000 (51%)]\tLoss: 0.256576\n",
            "Train Epoch: 31 [35840/60000 (60%)]\tLoss: 0.214880\n",
            "Train Epoch: 31 [40960/60000 (68%)]\tLoss: 0.181693\n",
            "Train Epoch: 31 [46080/60000 (77%)]\tLoss: 0.138781\n",
            "Train Epoch: 31 [51200/60000 (85%)]\tLoss: 0.150640\n",
            "Train Epoch: 31 [56320/60000 (94%)]\tLoss: 0.133449\n",
            "\n",
            "Test set: Avg. loss: 0.1488, Accuracy: 2842/3000 (95%)\n",
            "\n",
            "Train Epoch: 32 [0/60000 (0%)]\tLoss: 0.185617\n",
            "Train Epoch: 32 [5120/60000 (9%)]\tLoss: 0.157859\n",
            "Train Epoch: 32 [10240/60000 (17%)]\tLoss: 0.188040\n",
            "Train Epoch: 32 [15360/60000 (26%)]\tLoss: 0.196442\n",
            "Train Epoch: 32 [20480/60000 (34%)]\tLoss: 0.158909\n",
            "Train Epoch: 32 [25600/60000 (43%)]\tLoss: 0.175616\n",
            "Train Epoch: 32 [30720/60000 (51%)]\tLoss: 0.122217\n",
            "Train Epoch: 32 [35840/60000 (60%)]\tLoss: 0.150937\n",
            "Train Epoch: 32 [40960/60000 (68%)]\tLoss: 0.226904\n",
            "Train Epoch: 32 [46080/60000 (77%)]\tLoss: 0.187672\n",
            "Train Epoch: 32 [51200/60000 (85%)]\tLoss: 0.221895\n",
            "Train Epoch: 32 [56320/60000 (94%)]\tLoss: 0.193002\n",
            "\n",
            "Test set: Avg. loss: 0.1328, Accuracy: 2863/3000 (95%)\n",
            "\n",
            "Train Epoch: 33 [0/60000 (0%)]\tLoss: 0.160848\n",
            "Train Epoch: 33 [5120/60000 (9%)]\tLoss: 0.156893\n",
            "Train Epoch: 33 [10240/60000 (17%)]\tLoss: 0.166260\n",
            "Train Epoch: 33 [15360/60000 (26%)]\tLoss: 0.213307\n",
            "Train Epoch: 33 [20480/60000 (34%)]\tLoss: 0.182553\n",
            "Train Epoch: 33 [25600/60000 (43%)]\tLoss: 0.129662\n",
            "Train Epoch: 33 [30720/60000 (51%)]\tLoss: 0.144976\n",
            "Train Epoch: 33 [35840/60000 (60%)]\tLoss: 0.220935\n",
            "Train Epoch: 33 [40960/60000 (68%)]\tLoss: 0.110399\n",
            "Train Epoch: 33 [46080/60000 (77%)]\tLoss: 0.142010\n",
            "Train Epoch: 33 [51200/60000 (85%)]\tLoss: 0.186132\n",
            "Train Epoch: 33 [56320/60000 (94%)]\tLoss: 0.147022\n",
            "\n",
            "Test set: Avg. loss: 0.1256, Accuracy: 2862/3000 (95%)\n",
            "\n",
            "Train Epoch: 34 [0/60000 (0%)]\tLoss: 0.132436\n",
            "Train Epoch: 34 [5120/60000 (9%)]\tLoss: 0.074448\n",
            "Train Epoch: 34 [10240/60000 (17%)]\tLoss: 0.098596\n",
            "Train Epoch: 34 [15360/60000 (26%)]\tLoss: 0.171790\n",
            "Train Epoch: 34 [20480/60000 (34%)]\tLoss: 0.144267\n",
            "Train Epoch: 34 [25600/60000 (43%)]\tLoss: 0.105261\n",
            "Train Epoch: 34 [30720/60000 (51%)]\tLoss: 0.175455\n",
            "Train Epoch: 34 [35840/60000 (60%)]\tLoss: 0.090381\n",
            "Train Epoch: 34 [40960/60000 (68%)]\tLoss: 0.193544\n",
            "Train Epoch: 34 [46080/60000 (77%)]\tLoss: 0.116807\n",
            "Train Epoch: 34 [51200/60000 (85%)]\tLoss: 0.194913\n",
            "Train Epoch: 34 [56320/60000 (94%)]\tLoss: 0.163291\n",
            "\n",
            "Test set: Avg. loss: 0.1161, Accuracy: 2871/3000 (96%)\n",
            "\n",
            "Train Epoch: 35 [0/60000 (0%)]\tLoss: 0.119949\n",
            "Train Epoch: 35 [5120/60000 (9%)]\tLoss: 0.135365\n",
            "Train Epoch: 35 [10240/60000 (17%)]\tLoss: 0.147539\n",
            "Train Epoch: 35 [15360/60000 (26%)]\tLoss: 0.122470\n",
            "Train Epoch: 35 [20480/60000 (34%)]\tLoss: 0.145290\n",
            "Train Epoch: 35 [25600/60000 (43%)]\tLoss: 0.140756\n",
            "Train Epoch: 35 [30720/60000 (51%)]\tLoss: 0.266946\n",
            "Train Epoch: 35 [35840/60000 (60%)]\tLoss: 0.178663\n",
            "Train Epoch: 35 [40960/60000 (68%)]\tLoss: 0.134027\n",
            "Train Epoch: 35 [46080/60000 (77%)]\tLoss: 0.146251\n",
            "Train Epoch: 35 [51200/60000 (85%)]\tLoss: 0.158995\n",
            "Train Epoch: 35 [56320/60000 (94%)]\tLoss: 0.156933\n",
            "\n",
            "Test set: Avg. loss: 0.1392, Accuracy: 2840/3000 (95%)\n",
            "\n",
            "Train Epoch: 36 [0/60000 (0%)]\tLoss: 0.139418\n",
            "Train Epoch: 36 [5120/60000 (9%)]\tLoss: 0.148976\n",
            "Train Epoch: 36 [10240/60000 (17%)]\tLoss: 0.140391\n",
            "Train Epoch: 36 [15360/60000 (26%)]\tLoss: 0.110917\n",
            "Train Epoch: 36 [20480/60000 (34%)]\tLoss: 0.172243\n",
            "Train Epoch: 36 [25600/60000 (43%)]\tLoss: 0.119732\n",
            "Train Epoch: 36 [30720/60000 (51%)]\tLoss: 0.146649\n",
            "Train Epoch: 36 [35840/60000 (60%)]\tLoss: 0.195078\n",
            "Train Epoch: 36 [40960/60000 (68%)]\tLoss: 0.159870\n",
            "Train Epoch: 36 [46080/60000 (77%)]\tLoss: 0.105698\n",
            "Train Epoch: 36 [51200/60000 (85%)]\tLoss: 0.113616\n",
            "Train Epoch: 36 [56320/60000 (94%)]\tLoss: 0.221070\n",
            "\n",
            "Test set: Avg. loss: 0.1144, Accuracy: 2888/3000 (96%)\n",
            "\n",
            "Train Epoch: 37 [0/60000 (0%)]\tLoss: 0.136992\n",
            "Train Epoch: 37 [5120/60000 (9%)]\tLoss: 0.124293\n",
            "Train Epoch: 37 [10240/60000 (17%)]\tLoss: 0.167978\n",
            "Train Epoch: 37 [15360/60000 (26%)]\tLoss: 0.136451\n",
            "Train Epoch: 37 [20480/60000 (34%)]\tLoss: 0.145433\n",
            "Train Epoch: 37 [25600/60000 (43%)]\tLoss: 0.193178\n",
            "Train Epoch: 37 [30720/60000 (51%)]\tLoss: 0.142789\n",
            "Train Epoch: 37 [35840/60000 (60%)]\tLoss: 0.137922\n",
            "Train Epoch: 37 [40960/60000 (68%)]\tLoss: 0.094619\n",
            "Train Epoch: 37 [46080/60000 (77%)]\tLoss: 0.163261\n",
            "Train Epoch: 37 [51200/60000 (85%)]\tLoss: 0.174356\n",
            "Train Epoch: 37 [56320/60000 (94%)]\tLoss: 0.184906\n",
            "\n",
            "Test set: Avg. loss: 0.1159, Accuracy: 2873/3000 (96%)\n",
            "\n",
            "Train Epoch: 38 [0/60000 (0%)]\tLoss: 0.148626\n",
            "Train Epoch: 38 [5120/60000 (9%)]\tLoss: 0.122753\n",
            "Train Epoch: 38 [10240/60000 (17%)]\tLoss: 0.140557\n",
            "Train Epoch: 38 [15360/60000 (26%)]\tLoss: 0.093492\n",
            "Train Epoch: 38 [20480/60000 (34%)]\tLoss: 0.145932\n",
            "Train Epoch: 38 [25600/60000 (43%)]\tLoss: 0.124200\n",
            "Train Epoch: 38 [30720/60000 (51%)]\tLoss: 0.103882\n",
            "Train Epoch: 38 [35840/60000 (60%)]\tLoss: 0.113882\n",
            "Train Epoch: 38 [40960/60000 (68%)]\tLoss: 0.132788\n",
            "Train Epoch: 38 [46080/60000 (77%)]\tLoss: 0.114091\n",
            "Train Epoch: 38 [51200/60000 (85%)]\tLoss: 0.141024\n",
            "Train Epoch: 38 [56320/60000 (94%)]\tLoss: 0.145151\n",
            "\n",
            "Test set: Avg. loss: 0.1242, Accuracy: 2866/3000 (96%)\n",
            "\n",
            "Train Epoch: 39 [0/60000 (0%)]\tLoss: 0.121405\n",
            "Train Epoch: 39 [5120/60000 (9%)]\tLoss: 0.142861\n",
            "Train Epoch: 39 [10240/60000 (17%)]\tLoss: 0.102207\n",
            "Train Epoch: 39 [15360/60000 (26%)]\tLoss: 0.177539\n",
            "Train Epoch: 39 [20480/60000 (34%)]\tLoss: 0.132140\n",
            "Train Epoch: 39 [25600/60000 (43%)]\tLoss: 0.071076\n",
            "Train Epoch: 39 [30720/60000 (51%)]\tLoss: 0.172539\n",
            "Train Epoch: 39 [35840/60000 (60%)]\tLoss: 0.110332\n",
            "Train Epoch: 39 [40960/60000 (68%)]\tLoss: 0.086299\n",
            "Train Epoch: 39 [46080/60000 (77%)]\tLoss: 0.154683\n",
            "Train Epoch: 39 [51200/60000 (85%)]\tLoss: 0.105400\n",
            "Train Epoch: 39 [56320/60000 (94%)]\tLoss: 0.147912\n",
            "\n",
            "Test set: Avg. loss: 0.1011, Accuracy: 2888/3000 (96%)\n",
            "\n"
          ],
          "name": "stdout"
        }
      ]
    },
    {
      "cell_type": "markdown",
      "metadata": {
        "id": "3yEtGFpwdYx1"
      },
      "source": [
        "## Make predictions on test data"
      ]
    },
    {
      "cell_type": "code",
      "metadata": {
        "id": "16kAGX5Hdcur"
      },
      "source": [
        "def predict(model):\n",
        "  pred_test = []\n",
        "  model.eval()\n",
        "  with torch.no_grad():\n",
        "    for data in test_loader:\n",
        "      data = data.to(DEVICE)\n",
        "      output = model(data)\n",
        "      pred = output.data.max(1, keepdim=True)[1]\n",
        "      for x in pred:\n",
        "        pred_test.append(x.item())\n",
        "  return pred_test"
      ],
      "execution_count": null,
      "outputs": []
    },
    {
      "cell_type": "code",
      "metadata": {
        "colab": {
          "base_uri": "https://localhost:8080/"
        },
        "id": "UWdnJKhigtM7",
        "outputId": "7e51513d-16ad-4e25-f62a-c5aa34d3cbde"
      },
      "source": [
        "pred_test = predict(full_model)\n",
        "print(len(pred_test))\n",
        "df_pred_test = pd.DataFrame({'id': range(10000), 'class': pred_test})\n",
        "df_pred_test.to_csv(CSV_OUTPUT_PATH, index=False)"
      ],
      "execution_count": null,
      "outputs": [
        {
          "output_type": "stream",
          "text": [
            "/usr/local/lib/python3.7/dist-packages/ipykernel_launcher.py:20: UserWarning: Implicit dimension choice for log_softmax has been deprecated. Change the call to include dim=X as an argument.\n"
          ],
          "name": "stderr"
        },
        {
          "output_type": "stream",
          "text": [
            "Length 10000\n"
          ],
          "name": "stdout"
        }
      ]
    },
    {
      "cell_type": "markdown",
      "metadata": {
        "id": "K7VpSLb22POJ"
      },
      "source": [
        "## Manually check prediction results"
      ]
    },
    {
      "cell_type": "code",
      "metadata": {
        "colab": {
          "base_uri": "https://localhost:8080/",
          "height": 318
        },
        "id": "8Gp4fBi5iipd",
        "outputId": "21579e5a-345a-4df6-aa72-c614ebff638a"
      },
      "source": [
        "# Read many TEST data and display them, compare with our prediction in CSV\n",
        "test_loader = DataLoader(test_dataset, batch_size=BATCH_SIZE, shuffle=False)\n",
        "imgs = (next(iter(test_loader)))\n",
        "print(imgs.shape)\n",
        "# imgs: [256, 1, 28, 28]\n",
        "imgs = np.squeeze(imgs)\n",
        "# imgs: [256, 28, 28]\n",
        "print(imgs.shape)\n",
        "\n",
        "for i in range(20):\n",
        "  plt.subplot(4,5,i+1)\n",
        "  plt.tight_layout()\n",
        "  plt.imshow(imgs[i], cmap='gray', interpolation='bicubic')\n",
        "  plt.xticks([])\n",
        "  plt.yticks([])"
      ],
      "execution_count": null,
      "outputs": [
        {
          "output_type": "stream",
          "text": [
            "torch.Size([256, 1, 28, 28])\n",
            "torch.Size([256, 28, 28])\n"
          ],
          "name": "stdout"
        },
        {
          "output_type": "display_data",
          "data": {
            "image/png": "[encoded data removed]",
            "text/plain": [
              "<Figure size 432x288 with 20 Axes>"
            ]
          },
          "metadata": {
            "tags": []
          }
        }
      ]
    },
    {
      "cell_type": "markdown",
      "metadata": {
        "id": "DIDJM1PnADIt"
      },
      "source": [
        "## Deeper（doesn't work）"
      ]
    },
    {
      "cell_type": "code",
      "metadata": {
        "id": "Vcqne0XZLcYf"
      },
      "source": [
        "import torch.nn as nn\n",
        "import torch.nn.functional as F\n",
        "import torch.optim as optim"
      ],
      "execution_count": null,
      "outputs": []
    },
    {
      "cell_type": "code",
      "metadata": {
        "id": "tdDmYca6CmXP"
      },
      "source": [
        "device = torch.device('cuda' if torch.cuda.is_available() else 'cpu')"
      ],
      "execution_count": null,
      "outputs": []
    },
    {
      "cell_type": "code",
      "metadata": {
        "id": "8MWRg9T5AFNR"
      },
      "source": [
        "class MyModel(nn.Module):\n",
        "  def __init__(self):\n",
        "    super(MyModel, self).__init__()\n",
        "    \n",
        "    self.model = nn.Sequential(\n",
        "      nn.Conv2d(1, 16, kernel_size=3), nn.ReLU(), # 26*26\n",
        "      nn.Conv2d(16, 16, kernel_size=3), nn.ReLU(), # 24*24\n",
        "      # nn.MaxPool2d(2,2), # 13*13\n",
        "\n",
        "      nn.Conv2d(16, 32, kernel_size=3), nn.ReLU(),  # 22*22\n",
        "      nn.Conv2d(32, 32, kernel_size=3), nn.ReLU(),  # 20*20\n",
        "      # nn.MaxPool2d(2,2),  # 6*6\n",
        "\n",
        "      nn.Conv2d(32, 64, kernel_size=3), nn.ReLU(),  # 18*18\n",
        "      nn.Conv2d(64, 64, kernel_size=3), nn.ReLU(),  # 16*16\n",
        "      # nn.MaxPool2d(2,2),  # 2*2\n",
        "\n",
        "      nn.Conv2d(64, 128, kernel_size=3), nn.ReLU(), # 14*14\n",
        "      nn.Conv2d(128, 128, kernel_size=3), nn.ReLU(),  # 12*12\n",
        "      # nn.MaxPool2d(2,2),\n",
        "\n",
        "      nn.Conv2d(128, 256, kernel_size=3), nn.ReLU(),  # 10*10\n",
        "      nn.Conv2d(256, 256, kernel_size=3), nn.ReLU(),  # 8*8\n",
        "      nn.MaxPool2d(2,2),  # 4*4\n",
        "\n",
        "    )\n",
        "    \n",
        "    self.classifier = nn.Sequential(\n",
        "      nn.Flatten(),\n",
        "      nn.Dropout(0.25),\n",
        "      # nn.Linear(4096, 256),\n",
        "      nn.Linear(4096, 256),\n",
        "      nn.ReLU(),\n",
        "\n",
        "      nn.Dropout(0.5),\n",
        "      nn.Linear(256, 10),\n",
        "      nn.Softmax(dim=1)\n",
        "    )\n",
        "    \n",
        "  def forward(self, x):\n",
        "    f = self.model(x)\n",
        "    y_pred = self.classifier(f)\n",
        "    return y_pred\n",
        "\n",
        "network = MyModel()\n",
        "# summary(model, (3,256,256))"
      ],
      "execution_count": null,
      "outputs": []
    },
    {
      "cell_type": "code",
      "metadata": {
        "id": "7daPmiD_EJ53"
      },
      "source": [
        "optimizer = optim.Adam(network.parameters())\n",
        "\n",
        "train_losses = []\n",
        "train_counter = []\n",
        "test_losses = []\n",
        "test_counter = [i*len(train_loader.dataset) for i in range(3)]"
      ],
      "execution_count": null,
      "outputs": []
    },
    {
      "cell_type": "code",
      "metadata": {
        "id": "tv66liBRDHL9"
      },
      "source": [
        "def train(epoch):\n",
        "  network.train()\n",
        "  for batch_idx, (data, target) in enumerate(train_loader):\n",
        "    optimizer.zero_grad()\n",
        "    output = network(data)\n",
        "\n",
        "    loss = F.nll_loss(output, target) #negative log likelihood loss\n",
        "    loss.backward()\n",
        "    optimizer.step()\n",
        "    if batch_idx % 20 == 0:\n",
        "      print('Train Epoch: {} [{}/{} ({:.0f}%)]\\tLoss: {:.6f}'.format(\n",
        "        epoch, batch_idx * len(data), len(train_loader.dataset),\n",
        "        100. * batch_idx / len(train_loader), loss.item()))\n",
        "      train_losses.append(loss.item())\n",
        "      train_counter.append(\n",
        "        (batch_idx*64) + ((epoch-1)*len(train_loader.dataset)))\n",
        "\n",
        "def test():\n",
        "  network.eval()\n",
        "  test_loss = 0\n",
        "  correct = 0\n",
        "  with torch.no_grad():\n",
        "    for data, target in val_loader:\n",
        "      output = network(data)\n",
        "      # this line is added to convert labels to LongTensor\n",
        "      # target = target.type(torch.LongTensor)\n",
        "      # target = torch.argmax(target, dim=1) # convert from 1-hot to 1D\n",
        "\n",
        "      test_loss += F.nll_loss(output, target, size_average=False).item()\n",
        "      pred = output.data.max(1, keepdim=True)[1]\n",
        "      correct += pred.eq(target.data.view_as(pred)).sum()\n",
        "  test_loss /= len(val_loader.dataset)\n",
        "  test_losses.append(test_loss)\n",
        "  print('\\nTest set: Avg. loss: {:.4f}, Accuracy: {}/{} ({:.0f}%)\\n'.format(\n",
        "    test_loss, correct, len(val_loader.dataset),\n",
        "    100. * correct / len(val_loader.dataset)))"
      ],
      "execution_count": null,
      "outputs": []
    },
    {
      "cell_type": "code",
      "metadata": {
        "colab": {
          "base_uri": "https://localhost:8080/",
          "height": 443
        },
        "id": "30Rz0VM-FKN5",
        "outputId": "1efc1fa5-369e-4747-f0d6-d3bddc46479b"
      },
      "source": [
        "for epoch in range(1, 4):\n",
        "  train(epoch)\n",
        "  test()"
      ],
      "execution_count": null,
      "outputs": [
        {
          "output_type": "stream",
          "text": [
            "Train Epoch: 1 [0/60000 (0%)]\tLoss: -0.099955\n",
            "Train Epoch: 1 [5120/60000 (11%)]\tLoss: -0.097481\n",
            "Train Epoch: 1 [10240/60000 (21%)]\tLoss: -0.074219\n",
            "Train Epoch: 1 [15360/60000 (32%)]\tLoss: -0.109375\n",
            "Train Epoch: 1 [20480/60000 (43%)]\tLoss: -0.101562\n"
          ],
          "name": "stdout"
        },
        {
          "output_type": "error",
          "ename": "KeyboardInterrupt",
          "evalue": "ignored",
          "traceback": [
            "\u001b[0;31m---------------------------------------------------------------------------\u001b[0m",
            "\u001b[0;31mKeyboardInterrupt\u001b[0m                         Traceback (most recent call last)",
            "\u001b[0;32m<ipython-input-39-02379a7662ab>\u001b[0m in \u001b[0;36m<module>\u001b[0;34m()\u001b[0m\n\u001b[1;32m      1\u001b[0m \u001b[0;32mfor\u001b[0m \u001b[0mepoch\u001b[0m \u001b[0;32min\u001b[0m \u001b[0mrange\u001b[0m\u001b[0;34m(\u001b[0m\u001b[0;36m1\u001b[0m\u001b[0;34m,\u001b[0m \u001b[0;36m4\u001b[0m\u001b[0;34m)\u001b[0m\u001b[0;34m:\u001b[0m\u001b[0;34m\u001b[0m\u001b[0;34m\u001b[0m\u001b[0m\n\u001b[0;32m----> 2\u001b[0;31m   \u001b[0mtrain\u001b[0m\u001b[0;34m(\u001b[0m\u001b[0mepoch\u001b[0m\u001b[0;34m)\u001b[0m\u001b[0;34m\u001b[0m\u001b[0;34m\u001b[0m\u001b[0m\n\u001b[0m\u001b[1;32m      3\u001b[0m   \u001b[0mtest\u001b[0m\u001b[0;34m(\u001b[0m\u001b[0;34m)\u001b[0m\u001b[0;34m\u001b[0m\u001b[0;34m\u001b[0m\u001b[0m\n",
            "\u001b[0;32m<ipython-input-38-e15993a0a7ef>\u001b[0m in \u001b[0;36mtrain\u001b[0;34m(epoch)\u001b[0m\n\u001b[1;32m      6\u001b[0m \u001b[0;34m\u001b[0m\u001b[0m\n\u001b[1;32m      7\u001b[0m     \u001b[0mloss\u001b[0m \u001b[0;34m=\u001b[0m \u001b[0mF\u001b[0m\u001b[0;34m.\u001b[0m\u001b[0mnll_loss\u001b[0m\u001b[0;34m(\u001b[0m\u001b[0moutput\u001b[0m\u001b[0;34m,\u001b[0m \u001b[0mtarget\u001b[0m\u001b[0;34m)\u001b[0m \u001b[0;31m#negative log likelihood loss\u001b[0m\u001b[0;34m\u001b[0m\u001b[0;34m\u001b[0m\u001b[0m\n\u001b[0;32m----> 8\u001b[0;31m     \u001b[0mloss\u001b[0m\u001b[0;34m.\u001b[0m\u001b[0mbackward\u001b[0m\u001b[0;34m(\u001b[0m\u001b[0;34m)\u001b[0m\u001b[0;34m\u001b[0m\u001b[0;34m\u001b[0m\u001b[0m\n\u001b[0m\u001b[1;32m      9\u001b[0m     \u001b[0moptimizer\u001b[0m\u001b[0;34m.\u001b[0m\u001b[0mstep\u001b[0m\u001b[0;34m(\u001b[0m\u001b[0;34m)\u001b[0m\u001b[0;34m\u001b[0m\u001b[0;34m\u001b[0m\u001b[0m\n\u001b[1;32m     10\u001b[0m     \u001b[0;32mif\u001b[0m \u001b[0mbatch_idx\u001b[0m \u001b[0;34m%\u001b[0m \u001b[0;36m20\u001b[0m \u001b[0;34m==\u001b[0m \u001b[0;36m0\u001b[0m\u001b[0;34m:\u001b[0m\u001b[0;34m\u001b[0m\u001b[0;34m\u001b[0m\u001b[0m\n",
            "\u001b[0;32m/usr/local/lib/python3.7/dist-packages/torch/tensor.py\u001b[0m in \u001b[0;36mbackward\u001b[0;34m(self, gradient, retain_graph, create_graph, inputs)\u001b[0m\n\u001b[1;32m    243\u001b[0m                 \u001b[0mcreate_graph\u001b[0m\u001b[0;34m=\u001b[0m\u001b[0mcreate_graph\u001b[0m\u001b[0;34m,\u001b[0m\u001b[0;34m\u001b[0m\u001b[0;34m\u001b[0m\u001b[0m\n\u001b[1;32m    244\u001b[0m                 inputs=inputs)\n\u001b[0;32m--> 245\u001b[0;31m         \u001b[0mtorch\u001b[0m\u001b[0;34m.\u001b[0m\u001b[0mautograd\u001b[0m\u001b[0;34m.\u001b[0m\u001b[0mbackward\u001b[0m\u001b[0;34m(\u001b[0m\u001b[0mself\u001b[0m\u001b[0;34m,\u001b[0m \u001b[0mgradient\u001b[0m\u001b[0;34m,\u001b[0m \u001b[0mretain_graph\u001b[0m\u001b[0;34m,\u001b[0m \u001b[0mcreate_graph\u001b[0m\u001b[0;34m,\u001b[0m \u001b[0minputs\u001b[0m\u001b[0;34m=\u001b[0m\u001b[0minputs\u001b[0m\u001b[0;34m)\u001b[0m\u001b[0;34m\u001b[0m\u001b[0;34m\u001b[0m\u001b[0m\n\u001b[0m\u001b[1;32m    246\u001b[0m \u001b[0;34m\u001b[0m\u001b[0m\n\u001b[1;32m    247\u001b[0m     \u001b[0;32mdef\u001b[0m \u001b[0mregister_hook\u001b[0m\u001b[0;34m(\u001b[0m\u001b[0mself\u001b[0m\u001b[0;34m,\u001b[0m \u001b[0mhook\u001b[0m\u001b[0;34m)\u001b[0m\u001b[0;34m:\u001b[0m\u001b[0;34m\u001b[0m\u001b[0;34m\u001b[0m\u001b[0m\n",
            "\u001b[0;32m/usr/local/lib/python3.7/dist-packages/torch/autograd/__init__.py\u001b[0m in \u001b[0;36mbackward\u001b[0;34m(tensors, grad_tensors, retain_graph, create_graph, grad_variables, inputs)\u001b[0m\n\u001b[1;32m    145\u001b[0m     Variable._execution_engine.run_backward(\n\u001b[1;32m    146\u001b[0m         \u001b[0mtensors\u001b[0m\u001b[0;34m,\u001b[0m \u001b[0mgrad_tensors_\u001b[0m\u001b[0;34m,\u001b[0m \u001b[0mretain_graph\u001b[0m\u001b[0;34m,\u001b[0m \u001b[0mcreate_graph\u001b[0m\u001b[0;34m,\u001b[0m \u001b[0minputs\u001b[0m\u001b[0;34m,\u001b[0m\u001b[0;34m\u001b[0m\u001b[0;34m\u001b[0m\u001b[0m\n\u001b[0;32m--> 147\u001b[0;31m         allow_unreachable=True, accumulate_grad=True)  # allow_unreachable flag\n\u001b[0m\u001b[1;32m    148\u001b[0m \u001b[0;34m\u001b[0m\u001b[0m\n\u001b[1;32m    149\u001b[0m \u001b[0;34m\u001b[0m\u001b[0m\n",
            "\u001b[0;31mKeyboardInterrupt\u001b[0m: "
          ]
        }
      ]
    },
    {
      "cell_type": "code",
      "metadata": {
        "colab": {
          "base_uri": "https://localhost:8080/"
        },
        "id": "fJ1U0lhpHojX",
        "outputId": "395e6940-9c14-4507-e62b-0b3a20fa9d83"
      },
      "source": [
        "print(torch.cuda.is_available())"
      ],
      "execution_count": null,
      "outputs": [
        {
          "output_type": "stream",
          "text": [
            "True\n"
          ],
          "name": "stdout"
        }
      ]
    }
  ]
}