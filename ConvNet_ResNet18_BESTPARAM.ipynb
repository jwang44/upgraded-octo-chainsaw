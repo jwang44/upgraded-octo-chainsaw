{
  "nbformat": 4,
  "nbformat_minor": 0,
  "metadata": {
    "accelerator": "GPU",
    "colab": {
      "name": "ConvNet.ipynb",
      "provenance": [],
      "collapsed_sections": [
        "CFEyrp_mYmIO",
        "ZX0XLJDjkqX_",
        "3yEtGFpwdYx1",
        "K7VpSLb22POJ"
      ],
      "toc_visible": true,
      "include_colab_link": true
    },
    "kernelspec": {
      "display_name": "Python 3",
      "name": "python3"
    }
  },
  "cells": [
    {
      "cell_type": "markdown",
      "metadata": {
        "id": "view-in-github",
        "colab_type": "text"
      },
      "source": [
        "<a href=\"https://colab.research.google.com/github/jwang44/upgraded-octo-chainsaw/blob/main/ConvNet_ResNet18_BESTPARAM.ipynb\" target=\"_parent\"><img src=\"https://colab.research.google.com/assets/colab-badge.svg\" alt=\"Open In Colab\"/></a>"
      ]
    },
    {
      "cell_type": "code",
      "metadata": {
        "colab": {
          "base_uri": "https://localhost:8080/"
        },
        "id": "0dOxAvsuIul3",
        "outputId": "29b4ce16-f205-4216-bf9d-0b015dfd035d"
      },
      "source": [
        "from google.colab import drive\n",
        "drive.mount('/content/drive')"
      ],
      "execution_count": 1,
      "outputs": [
        {
          "output_type": "stream",
          "text": [
            "Mounted at /content/drive\n"
          ],
          "name": "stdout"
        }
      ]
    },
    {
      "cell_type": "code",
      "metadata": {
        "colab": {
          "base_uri": "https://localhost:8080/"
        },
        "id": "mqRELpG1DsZq",
        "outputId": "50d5756d-0163-497a-ef46-0673b538bf5a"
      },
      "source": [
        "%cd '/content/drive/MyDrive/551 A3'\n",
        "!ls"
      ],
      "execution_count": null,
      "outputs": [
        {
          "output_type": "stream",
          "text": [
            "/content/drive/MyDrive/551 A3\n",
            " ExampleSubmissionRandom.csv   Test.pkl\t\t       Train_labels.csv\n",
            " LoadData.ipynb\t\t      'Train_labels (1).csv'   Train.pkl\n"
          ],
          "name": "stdout"
        }
      ]
    },
    {
      "cell_type": "code",
      "metadata": {
        "colab": {
          "base_uri": "https://localhost:8080/"
        },
        "id": "k4WoprD5s5kd",
        "outputId": "bbe8fb57-2c07-4284-9fe5-c9147263ccc1"
      },
      "source": [
        "%cd '/content/drive/MyDrive/imageunderstanding'\n",
        "!ls"
      ],
      "execution_count": 2,
      "outputs": [
        {
          "output_type": "stream",
          "text": [
            "/content/drive/MyDrive/imageunderstanding\n",
            "ExampleSubmissionRandom.csv  Test.pkl\t       VAL_ACCU_RES34_ROTATE.csv\n",
            "Load_data.ipynb\t\t     Train_labels.csv\n",
            "PRED_RESULT.csv\t\t     Train.pkl\n"
          ],
          "name": "stdout"
        }
      ]
    },
    {
      "cell_type": "code",
      "metadata": {
        "id": "T1-Hfwf3lrw4"
      },
      "source": [
        "TRAIN_DATA_PATH = \"Train.pkl\"\n",
        "TRAIN_LABEL_PATH = \"Train_labels.csv\"\n",
        "TEST_DATA_PATH = \"Test.pkl\"\n",
        "CSV_OUTPUT_PATH = \"PRED_RESULT.csv\""
      ],
      "execution_count": 3,
      "outputs": []
    },
    {
      "cell_type": "code",
      "metadata": {
        "id": "7XS2MS7nHzIN"
      },
      "source": [
        "import pickle\n",
        "import matplotlib.pyplot as plt\n",
        "import numpy as np\n",
        "from torchvision import transforms\n",
        "from torch.utils.data import Dataset\n",
        "from torch.utils.data import DataLoader, TensorDataset\n",
        "from PIL import Image\n",
        "import torch\n",
        "import pandas as pd"
      ],
      "execution_count": 4,
      "outputs": []
    },
    {
      "cell_type": "code",
      "metadata": {
        "colab": {
          "base_uri": "https://localhost:8080/"
        },
        "id": "FBXdYCpunCp2",
        "outputId": "f8d7ba9b-cf1c-4274-8e0d-8ae286448dd7"
      },
      "source": [
        "DEVICE = torch.device('cuda' if torch.cuda.is_available() else 'cpu')\n",
        "DEVICE"
      ],
      "execution_count": 5,
      "outputs": [
        {
          "output_type": "execute_result",
          "data": {
            "text/plain": [
              "device(type='cuda')"
            ]
          },
          "metadata": {
            "tags": []
          },
          "execution_count": 5
        }
      ]
    },
    {
      "cell_type": "code",
      "metadata": {
        "id": "zppkOjQwVjy2"
      },
      "source": [
        "torch.manual_seed(0)\n",
        "torch.cuda.manual_seed(0)"
      ],
      "execution_count": 6,
      "outputs": []
    },
    {
      "cell_type": "markdown",
      "metadata": {
        "id": "_2Vm3wY_K3DA"
      },
      "source": [
        "## Dataset Class / Data Loaders"
      ]
    },
    {
      "cell_type": "code",
      "metadata": {
        "id": "bydOoypc5SAM"
      },
      "source": [
        "IMG_SIZE = (224, 224)"
      ],
      "execution_count": 7,
      "outputs": []
    },
    {
      "cell_type": "code",
      "metadata": {
        "id": "RMnXBwXMCqd5"
      },
      "source": [
        "# Transforms are common image transformations. They can be chained together using Compose.\n",
        "# Here we normalize images img=(img-0.5)/0.5\n",
        "img_transform = transforms.Compose([\n",
        "    transforms.ToTensor(),\n",
        "    # transforms.Normalize([0.5], [0.5]),\n",
        "    transforms.Resize(IMG_SIZE),\n",
        "    # transforms.RandomRotation(10)\n",
        "    # transforms.ColorJitter(brightness=0, contrast=0, saturation=0, hue=0)\n",
        "    # transforms.RandomAffine(degrees, translate=None, scale=None, shear=None, interpolation=<InterpolationMode.NEAREST: 'nearest'>, fill=0, fillcolor=None, resample=None)\n",
        "])"
      ],
      "execution_count": 8,
      "outputs": []
    },
    {
      "cell_type": "code",
      "metadata": {
        "id": "CY0SndE2qcmb"
      },
      "source": [
        "# img_file: the pickle file containing the images\n",
        "# label_file: the .csv file containing the labels\n",
        "# idx: This is a binary vector that is useful for creating training and validation set.\n",
        "# It return only samples where idx is True\n",
        "\n",
        "class MyDataset(Dataset):\n",
        "    def __init__(self, img_file, label_file, transform=None, idx = None):\n",
        "        self.data = pickle.load( open( img_file, 'rb' ), encoding='bytes')\n",
        "        self.targets = np.genfromtxt(label_file, delimiter=',', skip_header=1, usecols=1) #[:,1:]\n",
        "        if idx is not None:\n",
        "          self.targets = self.targets[idx]\n",
        "          self.data = self.data[idx]\n",
        "        self.transform = transform\n",
        "\n",
        "    def __len__(self):\n",
        "        return len(self.targets)\n",
        "\n",
        "    def __getitem__(self, index):\n",
        "        img, target = self.data[index].squeeze(), int(self.targets[index])\n",
        "        img = Image.fromarray((img*255).astype('uint8'), mode='L')\n",
        "        if self.transform is not None:\n",
        "           img = self.transform(img)\n",
        "        return img, target"
      ],
      "execution_count": 9,
      "outputs": []
    },
    {
      "cell_type": "markdown",
      "metadata": {
        "id": "q3b-QvEvqNE3"
      },
      "source": [
        "Get loader for all train data"
      ]
    },
    {
      "cell_type": "code",
      "metadata": {
        "id": "74kV_DwkqizL"
      },
      "source": [
        "BATCH_SIZE = 128\n",
        "dataset = MyDataset(TRAIN_DATA_PATH, TRAIN_LABEL_PATH,transform=img_transform, idx=None)\n",
        "# dataloader for all data\n",
        "data_loader = DataLoader(dataset, batch_size=BATCH_SIZE, shuffle=True)"
      ],
      "execution_count": 10,
      "outputs": []
    },
    {
      "cell_type": "markdown",
      "metadata": {
        "id": "1ZNiErb-pbPt"
      },
      "source": [
        "Get loaders for train/val data"
      ]
    },
    {
      "cell_type": "code",
      "metadata": {
        "id": "05SXSXBRW4DX"
      },
      "source": [
        "VAL_SPLIT = 0.15\n",
        "shuffle = True\n",
        "\n",
        "# Creating indices for train and val split:\n",
        "dataset_size = len(dataset)\n",
        "indices = list(range(dataset_size))\n",
        "split = int(np.floor(VAL_SPLIT * dataset_size))\n",
        "if shuffle:\n",
        "  # set random seed so that we get the same split everytime\n",
        "  np.random.seed(0)\n",
        "  np.random.shuffle(indices)\n",
        "train_indices, val_indices = indices[split:], indices[:split]\n",
        "\n",
        "train_dataset = MyDataset(TRAIN_DATA_PATH, TRAIN_LABEL_PATH,transform=img_transform, idx=train_indices)\n",
        "val_dataset = MyDataset(TRAIN_DATA_PATH, TRAIN_LABEL_PATH,transform=img_transform, idx=val_indices)\n",
        "\n",
        "# separate loaders for train and val data\n",
        "train_loader = DataLoader(train_dataset, batch_size=BATCH_SIZE, shuffle=False)\n",
        "val_loader = DataLoader(val_dataset, batch_size=BATCH_SIZE, shuffle=False)"
      ],
      "execution_count": 11,
      "outputs": []
    },
    {
      "cell_type": "markdown",
      "metadata": {
        "id": "CFEyrp_mYmIO"
      },
      "source": [
        "## Test Dataset / Loader"
      ]
    },
    {
      "cell_type": "code",
      "metadata": {
        "id": "x1d3LIGlYrDK"
      },
      "source": [
        "class MyTestSet(Dataset):\n",
        "  def __init__(self, img_file, transform=None):\n",
        "    self.data = pickle.load( open(img_file, 'rb' ), encoding='bytes')\n",
        "    self.transform = transform\n",
        "\n",
        "  def __len__(self):\n",
        "    # return self.data.shape[0]\n",
        "    return len(self.data)\n",
        "\n",
        "  def __getitem__(self, index):\n",
        "    img = self.data[index].squeeze()\n",
        "    img = Image.fromarray((img*255).astype('uint8'), mode='L')\n",
        "    if self.transform is not None:\n",
        "      img = self.transform(img)\n",
        "    return img"
      ],
      "execution_count": 12,
      "outputs": []
    },
    {
      "cell_type": "code",
      "metadata": {
        "id": "fk5z7LRha2Uc"
      },
      "source": [
        "test_dataset = MyTestSet(TEST_DATA_PATH,transform=img_transform)\n",
        "# dataloader for test data\n",
        "test_loader = DataLoader(test_dataset, batch_size=BATCH_SIZE, shuffle=False)"
      ],
      "execution_count": 13,
      "outputs": []
    },
    {
      "cell_type": "markdown",
      "metadata": {
        "id": "wdvC0-OfRnQV"
      },
      "source": [
        "## ResNet18"
      ]
    },
    {
      "cell_type": "code",
      "metadata": {
        "id": "pFVSRS6gs8t7"
      },
      "source": [
        "import torch.nn as nn\n",
        "import torch.nn.functional as F\n",
        "import torch.optim as optim\n",
        "import torch\n",
        "import torchvision.models as models"
      ],
      "execution_count": 14,
      "outputs": []
    },
    {
      "cell_type": "markdown",
      "metadata": {
        "id": "BeVwuJHatdb7"
      },
      "source": [
        "Let's train these. But first, create the network, the optimizer and some lists for logging the training process"
      ]
    },
    {
      "cell_type": "markdown",
      "metadata": {
        "id": "MGj4HgAEMsxA"
      },
      "source": [
        "### alexnet"
      ]
    },
    {
      "cell_type": "code",
      "metadata": {
        "id": "Vx68ZfoSGgZy"
      },
      "source": [
        "# model = models.alexnet(pretrained=False)\n",
        "# model.features[0] = nn.Conv2d(1, 64, kernel_size=(11, 11), stride=(4, 4), padding=(2, 2))\n",
        "# model.classifier[6] = nn.Linear(4096, 10)\n",
        "# model = model.to(DEVICE)"
      ],
      "execution_count": null,
      "outputs": []
    },
    {
      "cell_type": "markdown",
      "metadata": {
        "id": "ci11eU_mKnkX"
      },
      "source": [
        "### resnet18"
      ]
    },
    {
      "cell_type": "code",
      "metadata": {
        "id": "VfN0avQP398k"
      },
      "source": [
        "model = models.resnet18(pretrained=False)\n",
        "model.conv1 = nn.Conv2d(1, 64, kernel_size=(7, 7), stride=(2, 2), padding=(3, 3), bias=False)\n",
        "model.fc = nn.Linear(in_features=512, out_features=10, bias=True)\n",
        "model = model.to(DEVICE)"
      ],
      "execution_count": 23,
      "outputs": []
    },
    {
      "cell_type": "markdown",
      "metadata": {
        "id": "8Kcb2ohYKrRk"
      },
      "source": [
        "### resnet34"
      ]
    },
    {
      "cell_type": "code",
      "metadata": {
        "id": "Q-Lb5h6MJmXv"
      },
      "source": [
        "model = models.resnet34(pretrained=False)\n",
        "model.conv1 = nn.Conv2d(1, 64, kernel_size=(7, 7), stride=(2, 2), padding=(3, 3), bias=False)\n",
        "model.fc = nn.Linear(in_features=512, out_features=10, bias=True)\n",
        "model = model.to(DEVICE)"
      ],
      "execution_count": 22,
      "outputs": []
    },
    {
      "cell_type": "markdown",
      "metadata": {
        "id": "ZFDcK-NeKvm4"
      },
      "source": [
        "### optimizer & initialization"
      ]
    },
    {
      "cell_type": "code",
      "metadata": {
        "id": "fJqfMWSFIztX"
      },
      "source": [
        "# optimizer = optim.SGD(tutor_model.parameters(), lr=0.01, momentum=0.5)\n",
        "# optimizer = optim.SGD(tutor_model.parameters(), lr=1, momentum=0.5)\n",
        "optimizer = optim.Adam(model.parameters(), lr=0.0001)\n",
        "# optimizer = optim.RMSprop(model.parameters())\n",
        "\n",
        "train_losses = []\n",
        "train_counter = []\n",
        "val_accus = []\n",
        "epochs = []\n",
        "val_losses = []\n",
        "val_counter = [i*len(train_loader.dataset) for i in range(3)]"
      ],
      "execution_count": 24,
      "outputs": []
    },
    {
      "cell_type": "markdown",
      "metadata": {
        "id": "Ck4yNKs46Q1Y"
      },
      "source": [
        "### Train and test function, used many times"
      ]
    },
    {
      "cell_type": "code",
      "metadata": {
        "id": "0Ps3KWsvtlSS"
      },
      "source": [
        "def train(epoch, model, loader):\n",
        "  model.train()\n",
        "  for batch_idx, (data, target) in enumerate(loader):\n",
        "    optimizer.zero_grad()\n",
        "    data = data.to(DEVICE)\n",
        "    # print(data.shape)\n",
        "    target = target.to(DEVICE)\n",
        "    output = model(data)\n",
        "    # print(output.shape)\n",
        "    # target = torch.argmax(target, dim=1) # convert from 1-hot to 1D\n",
        "    loss = F.cross_entropy(output, target) #negative log likelihood loss\n",
        "    loss.backward()\n",
        "    optimizer.step()\n",
        "    if batch_idx % 200 == 0:\n",
        "      print('Train Epoch: {} [{}/{} ({:.0f}%)]\\tLoss: {:.6f}'.format(\n",
        "        epoch, batch_idx * len(data), len(loader.dataset),\n",
        "        100. * batch_idx / len(loader), loss.item()))\n",
        "      train_losses.append(loss.item())\n",
        "      train_counter.append(\n",
        "        (batch_idx*64) + ((epoch-1)*len(loader.dataset)))\n",
        "      torch.save(model.state_dict(), '/model.pth')\n",
        "      torch.save(optimizer.state_dict(), '/optimizer.pth')\n",
        "\n",
        "def val(model, loader):\n",
        "  model.eval()\n",
        "  val_loss = 0\n",
        "  correct = 0\n",
        "  with torch.no_grad():\n",
        "    for data, target in loader:\n",
        "      data = data.to(DEVICE)\n",
        "      target = target.to(DEVICE)\n",
        "      output = model(data)\n",
        "      val_loss += F.cross_entropy(output, target, size_average=False).item()\n",
        "      pred = output.data.max(1, keepdim=True)[1]\n",
        "      correct += pred.eq(target.data.view_as(pred)).sum()\n",
        "  val_loss /= len(loader.dataset)\n",
        "  val_losses.append(val_loss)\n",
        "\n",
        "  val_accu = 100. * correct / len(loader.dataset)\n",
        "  val_accus.append(val_accu)\n",
        "  epochs.append(epoch)\n",
        "\n",
        "  print('Val set: Epoch: {}, Avg. loss: {:.4f}, Accuracy: {}/{} ({:.2f}%)'.format(\n",
        "    epoch, val_loss, correct, len(loader.dataset),\n",
        "    100. * correct / len(loader.dataset)))"
      ],
      "execution_count": 25,
      "outputs": []
    },
    {
      "cell_type": "markdown",
      "metadata": {
        "id": "BaaA04yUtj1T"
      },
      "source": [
        "Train the network"
      ]
    },
    {
      "cell_type": "code",
      "metadata": {
        "id": "CCgK_yOvtrjz",
        "colab": {
          "base_uri": "https://localhost:8080/"
        },
        "outputId": "6190bc33-8b7d-46da-9fc0-1ffb1e6317ee"
      },
      "source": [
        "for epoch in range(1, 41):\n",
        "  train(epoch, model, train_loader)\n",
        "  val(model, val_loader)"
      ],
      "execution_count": 26,
      "outputs": [
        {
          "output_type": "stream",
          "text": [
            "Train Epoch: 1 [0/51000 (0%)]\tLoss: 2.314001\n",
            "Train Epoch: 1 [25600/51000 (50%)]\tLoss: 0.282228\n"
          ],
          "name": "stdout"
        },
        {
          "output_type": "stream",
          "text": [
            "/usr/local/lib/python3.7/dist-packages/torch/nn/_reduction.py:42: UserWarning: size_average and reduce args will be deprecated, please use reduction='sum' instead.\n",
            "  warnings.warn(warning.format(ret))\n"
          ],
          "name": "stderr"
        },
        {
          "output_type": "stream",
          "text": [
            "Val set: Epoch: 1, Avg. loss: 0.2528, Accuracy: 8269/9000 (91.88%)\n",
            "Train Epoch: 2 [0/51000 (0%)]\tLoss: 0.163115\n",
            "Train Epoch: 2 [25600/51000 (50%)]\tLoss: 0.101653\n",
            "Val set: Epoch: 2, Avg. loss: 0.2248, Accuracy: 8349/9000 (92.77%)\n",
            "Train Epoch: 3 [0/51000 (0%)]\tLoss: 0.073130\n",
            "Train Epoch: 3 [25600/51000 (50%)]\tLoss: 0.089627\n",
            "Val set: Epoch: 3, Avg. loss: 0.4656, Accuracy: 7761/9000 (86.23%)\n",
            "Train Epoch: 4 [0/51000 (0%)]\tLoss: 0.032773\n",
            "Train Epoch: 4 [25600/51000 (50%)]\tLoss: 0.024779\n",
            "Val set: Epoch: 4, Avg. loss: 0.1500, Accuracy: 8604/9000 (95.60%)\n",
            "Train Epoch: 5 [0/51000 (0%)]\tLoss: 0.007777\n",
            "Train Epoch: 5 [25600/51000 (50%)]\tLoss: 0.023209\n",
            "Val set: Epoch: 5, Avg. loss: 0.1454, Accuracy: 8606/9000 (95.62%)\n",
            "Train Epoch: 6 [0/51000 (0%)]\tLoss: 0.028757\n",
            "Train Epoch: 6 [25600/51000 (50%)]\tLoss: 0.022861\n",
            "Val set: Epoch: 6, Avg. loss: 0.1995, Accuracy: 8489/9000 (94.32%)\n",
            "Train Epoch: 7 [0/51000 (0%)]\tLoss: 0.023866\n",
            "Train Epoch: 7 [25600/51000 (50%)]\tLoss: 0.017611\n",
            "Val set: Epoch: 7, Avg. loss: 0.2340, Accuracy: 8418/9000 (93.53%)\n",
            "Train Epoch: 8 [0/51000 (0%)]\tLoss: 0.004843\n",
            "Train Epoch: 8 [25600/51000 (50%)]\tLoss: 0.014222\n",
            "Val set: Epoch: 8, Avg. loss: 0.4054, Accuracy: 8167/9000 (90.74%)\n",
            "Train Epoch: 9 [0/51000 (0%)]\tLoss: 0.040137\n",
            "Train Epoch: 9 [25600/51000 (50%)]\tLoss: 0.017732\n",
            "Val set: Epoch: 9, Avg. loss: 0.1977, Accuracy: 8554/9000 (95.04%)\n",
            "Train Epoch: 10 [0/51000 (0%)]\tLoss: 0.023671\n",
            "Train Epoch: 10 [25600/51000 (50%)]\tLoss: 0.006058\n",
            "Val set: Epoch: 10, Avg. loss: 0.3158, Accuracy: 8357/9000 (92.86%)\n",
            "Train Epoch: 11 [0/51000 (0%)]\tLoss: 0.015835\n",
            "Train Epoch: 11 [25600/51000 (50%)]\tLoss: 0.040186\n",
            "Val set: Epoch: 11, Avg. loss: 0.1536, Accuracy: 8659/9000 (96.21%)\n",
            "Train Epoch: 12 [0/51000 (0%)]\tLoss: 0.009048\n",
            "Train Epoch: 12 [25600/51000 (50%)]\tLoss: 0.008270\n",
            "Val set: Epoch: 12, Avg. loss: 0.1000, Accuracy: 8747/9000 (97.19%)\n",
            "Train Epoch: 13 [0/51000 (0%)]\tLoss: 0.003602\n",
            "Train Epoch: 13 [25600/51000 (50%)]\tLoss: 0.025165\n",
            "Val set: Epoch: 13, Avg. loss: 0.1360, Accuracy: 8698/9000 (96.64%)\n",
            "Train Epoch: 14 [0/51000 (0%)]\tLoss: 0.008378\n",
            "Train Epoch: 14 [25600/51000 (50%)]\tLoss: 0.001289\n",
            "Val set: Epoch: 14, Avg. loss: 0.1377, Accuracy: 8664/9000 (96.27%)\n",
            "Train Epoch: 15 [0/51000 (0%)]\tLoss: 0.004584\n",
            "Train Epoch: 15 [25600/51000 (50%)]\tLoss: 0.007638\n",
            "Val set: Epoch: 15, Avg. loss: 0.2204, Accuracy: 8521/9000 (94.68%)\n",
            "Train Epoch: 16 [0/51000 (0%)]\tLoss: 0.003622\n",
            "Train Epoch: 16 [25600/51000 (50%)]\tLoss: 0.002888\n",
            "Val set: Epoch: 16, Avg. loss: 0.2193, Accuracy: 8564/9000 (95.16%)\n",
            "Train Epoch: 17 [0/51000 (0%)]\tLoss: 0.003975\n",
            "Train Epoch: 17 [25600/51000 (50%)]\tLoss: 0.005603\n",
            "Val set: Epoch: 17, Avg. loss: 0.1098, Accuracy: 8743/9000 (97.14%)\n",
            "Train Epoch: 18 [0/51000 (0%)]\tLoss: 0.004107\n",
            "Train Epoch: 18 [25600/51000 (50%)]\tLoss: 0.006548\n",
            "Val set: Epoch: 18, Avg. loss: 0.1127, Accuracy: 8762/9000 (97.36%)\n",
            "Train Epoch: 19 [0/51000 (0%)]\tLoss: 0.001277\n",
            "Train Epoch: 19 [25600/51000 (50%)]\tLoss: 0.013472\n",
            "Val set: Epoch: 19, Avg. loss: 0.0800, Accuracy: 8815/9000 (97.94%)\n",
            "Train Epoch: 20 [0/51000 (0%)]\tLoss: 0.029900\n",
            "Train Epoch: 20 [25600/51000 (50%)]\tLoss: 0.000664\n",
            "Val set: Epoch: 20, Avg. loss: 0.0958, Accuracy: 8794/9000 (97.71%)\n",
            "Train Epoch: 21 [0/51000 (0%)]\tLoss: 0.000666\n",
            "Train Epoch: 21 [25600/51000 (50%)]\tLoss: 0.007704\n",
            "Val set: Epoch: 21, Avg. loss: 0.0805, Accuracy: 8817/9000 (97.97%)\n",
            "Train Epoch: 22 [0/51000 (0%)]\tLoss: 0.001197\n",
            "Train Epoch: 22 [25600/51000 (50%)]\tLoss: 0.001981\n",
            "Val set: Epoch: 22, Avg. loss: 0.2293, Accuracy: 8509/9000 (94.54%)\n",
            "Train Epoch: 23 [0/51000 (0%)]\tLoss: 0.012325\n",
            "Train Epoch: 23 [25600/51000 (50%)]\tLoss: 0.000386\n",
            "Val set: Epoch: 23, Avg. loss: 0.1040, Accuracy: 8761/9000 (97.34%)\n",
            "Train Epoch: 24 [0/51000 (0%)]\tLoss: 0.005858\n",
            "Train Epoch: 24 [25600/51000 (50%)]\tLoss: 0.000215\n",
            "Val set: Epoch: 24, Avg. loss: 0.1250, Accuracy: 8738/9000 (97.09%)\n",
            "Train Epoch: 25 [0/51000 (0%)]\tLoss: 0.007422\n",
            "Train Epoch: 25 [25600/51000 (50%)]\tLoss: 0.002874\n",
            "Val set: Epoch: 25, Avg. loss: 0.2847, Accuracy: 8448/9000 (93.87%)\n",
            "Train Epoch: 26 [0/51000 (0%)]\tLoss: 0.003939\n",
            "Train Epoch: 26 [25600/51000 (50%)]\tLoss: 0.000802\n",
            "Val set: Epoch: 26, Avg. loss: 0.0979, Accuracy: 8799/9000 (97.77%)\n",
            "Train Epoch: 27 [0/51000 (0%)]\tLoss: 0.001637\n",
            "Train Epoch: 27 [25600/51000 (50%)]\tLoss: 0.000707\n",
            "Val set: Epoch: 27, Avg. loss: 0.0880, Accuracy: 8800/9000 (97.78%)\n",
            "Train Epoch: 28 [0/51000 (0%)]\tLoss: 0.001378\n",
            "Train Epoch: 28 [25600/51000 (50%)]\tLoss: 0.015320\n",
            "Val set: Epoch: 28, Avg. loss: 0.1356, Accuracy: 8725/9000 (96.94%)\n",
            "Train Epoch: 29 [0/51000 (0%)]\tLoss: 0.000282\n",
            "Train Epoch: 29 [25600/51000 (50%)]\tLoss: 0.001405\n",
            "Val set: Epoch: 29, Avg. loss: 0.2399, Accuracy: 8587/9000 (95.41%)\n",
            "Train Epoch: 30 [0/51000 (0%)]\tLoss: 0.000716\n",
            "Train Epoch: 30 [25600/51000 (50%)]\tLoss: 0.003281\n",
            "Val set: Epoch: 30, Avg. loss: 0.0924, Accuracy: 8795/9000 (97.72%)\n",
            "Train Epoch: 31 [0/51000 (0%)]\tLoss: 0.000210\n",
            "Train Epoch: 31 [25600/51000 (50%)]\tLoss: 0.002767\n",
            "Val set: Epoch: 31, Avg. loss: 0.2587, Accuracy: 8542/9000 (94.91%)\n",
            "Train Epoch: 32 [0/51000 (0%)]\tLoss: 0.000577\n",
            "Train Epoch: 32 [25600/51000 (50%)]\tLoss: 0.001672\n",
            "Val set: Epoch: 32, Avg. loss: 0.1026, Accuracy: 8768/9000 (97.42%)\n",
            "Train Epoch: 33 [0/51000 (0%)]\tLoss: 0.001668\n",
            "Train Epoch: 33 [25600/51000 (50%)]\tLoss: 0.004094\n",
            "Val set: Epoch: 33, Avg. loss: 0.0901, Accuracy: 8804/9000 (97.82%)\n",
            "Train Epoch: 34 [0/51000 (0%)]\tLoss: 0.002583\n",
            "Train Epoch: 34 [25600/51000 (50%)]\tLoss: 0.000730\n",
            "Val set: Epoch: 34, Avg. loss: 0.0773, Accuracy: 8833/9000 (98.14%)\n",
            "Train Epoch: 35 [0/51000 (0%)]\tLoss: 0.000645\n",
            "Train Epoch: 35 [25600/51000 (50%)]\tLoss: 0.000319\n",
            "Val set: Epoch: 35, Avg. loss: 0.0673, Accuracy: 8861/9000 (98.46%)\n",
            "Train Epoch: 36 [0/51000 (0%)]\tLoss: 0.000416\n",
            "Train Epoch: 36 [25600/51000 (50%)]\tLoss: 0.000151\n",
            "Val set: Epoch: 36, Avg. loss: 0.0661, Accuracy: 8864/9000 (98.49%)\n",
            "Train Epoch: 37 [0/51000 (0%)]\tLoss: 0.000153\n",
            "Train Epoch: 37 [25600/51000 (50%)]\tLoss: 0.000100\n",
            "Val set: Epoch: 37, Avg. loss: 0.0662, Accuracy: 8862/9000 (98.47%)\n",
            "Train Epoch: 38 [0/51000 (0%)]\tLoss: 0.000106\n",
            "Train Epoch: 38 [25600/51000 (50%)]\tLoss: 0.000077\n",
            "Val set: Epoch: 38, Avg. loss: 0.0663, Accuracy: 8865/9000 (98.50%)\n",
            "Train Epoch: 39 [0/51000 (0%)]\tLoss: 0.000082\n",
            "Train Epoch: 39 [25600/51000 (50%)]\tLoss: 0.000062\n",
            "Val set: Epoch: 39, Avg. loss: 0.0665, Accuracy: 8866/9000 (98.51%)\n",
            "Train Epoch: 40 [0/51000 (0%)]\tLoss: 0.000066\n",
            "Train Epoch: 40 [25600/51000 (50%)]\tLoss: 0.000051\n",
            "Val set: Epoch: 40, Avg. loss: 0.0667, Accuracy: 8865/9000 (98.50%)\n"
          ],
          "name": "stdout"
        }
      ]
    },
    {
      "cell_type": "code",
      "metadata": {
        "colab": {
          "base_uri": "https://localhost:8080/",
          "height": 279
        },
        "id": "M-2QSC1c1-2Z",
        "outputId": "7cda5eb1-e4ad-4716-84ee-c78ef4328fe1"
      },
      "source": [
        "fig = plt.figure()\n",
        "plt.plot(epochs, val_accus, color='skyblue',marker='.')\n",
        "# plt.legend(['Validation Accuracy'], loc='lower right')\n",
        "plt.xlabel('epochs')\n",
        "plt.ylabel('Validation Accuracy')\n",
        "plt.grid(linestyle='-.')"
      ],
      "execution_count": 27,
      "outputs": [
        {
          "output_type": "display_data",
          "data": {
            "image/png": "[encoded data removed]",
            "text/plain": [
              "<Figure size 432x288 with 1 Axes>"
            ]
          },
          "metadata": {
            "tags": [],
            "needs_background": "light"
          }
        }
      ]
    },
    {
      "cell_type": "code",
      "metadata": {
        "id": "9ilES9qMqcOl"
      },
      "source": [
        "# convert val_accus (tensor) to list, for plotting\n",
        "accu_list = []\n",
        "for accu in val_accus:\n",
        "  accu_list.append(accu.item())\n",
        "\n",
        "df = pd.DataFrame(accu_list) \n",
        "df.to_csv('VAL_ACCU_RES18.csv')"
      ],
      "execution_count": 28,
      "outputs": []
    },
    {
      "cell_type": "code",
      "metadata": {
        "id": "QcRRKE7MzSEQ",
        "colab": {
          "base_uri": "https://localhost:8080/",
          "height": 279
        },
        "outputId": "9d7e6f89-aae1-483b-a29a-1720fd13f51f"
      },
      "source": [
        "fig = plt.figure()\n",
        "plt.plot(train_counter, train_losses, color='skyblue',marker='.')\n",
        "plt.legend(['Train Loss'], loc='upper right')\n",
        "plt.xlabel('number of training examples seen')\n",
        "plt.ylabel('negative log likelihood loss')\n",
        "plt.grid(linestyle='-.')"
      ],
      "execution_count": 29,
      "outputs": [
        {
          "output_type": "display_data",
          "data": {
            "image/png": "[encoded data removed]",
            "text/plain": [
              "<Figure size 432x288 with 1 Axes>"
            ]
          },
          "metadata": {
            "tags": [],
            "needs_background": "light"
          }
        }
      ]
    },
    {
      "cell_type": "markdown",
      "metadata": {
        "id": "ZX0XLJDjkqX_"
      },
      "source": [
        "## Train on ALL data"
      ]
    },
    {
      "cell_type": "code",
      "metadata": {
        "id": "LZmnWuVmmUCU"
      },
      "source": [
        "full_model = models.resnet18(pretrained=False)\n",
        "full_model.conv1 = nn.Conv2d(1, 64, kernel_size=(7, 7), stride=(2, 2), padding=(3, 3), bias=False)\n",
        "full_model.fc = nn.Linear(in_features=512, out_features=10, bias=True)\n",
        "full_model = full_model.to(DEVICE)\n",
        "# optimizer = optim.RMSprop(full_model.parameters())\n",
        "# this is the best optimizer for resnet18\n",
        "optimizer = optim.Adam(model.parameters(), lr=0.0001)"
      ],
      "execution_count": 31,
      "outputs": []
    },
    {
      "cell_type": "code",
      "metadata": {
        "id": "56cCdP5Ektpl",
        "colab": {
          "base_uri": "https://localhost:8080/"
        },
        "outputId": "1c3dc8ed-e908-4d4e-a710-803c48fede45"
      },
      "source": [
        "for epoch in range(1, 40):\n",
        "  train(epoch, full_model, data_loader)\n",
        "  val(full_model, val_loader)"
      ],
      "execution_count": null,
      "outputs": [
        {
          "output_type": "stream",
          "text": [
            "Train Epoch: 1 [0/60000 (0%)]\tLoss: 2.387110\n",
            "Train Epoch: 1 [25600/60000 (43%)]\tLoss: 2.370544\n"
          ],
          "name": "stdout"
        }
      ]
    },
    {
      "cell_type": "markdown",
      "metadata": {
        "id": "3yEtGFpwdYx1"
      },
      "source": [
        "## Make predictions on test data"
      ]
    },
    {
      "cell_type": "code",
      "metadata": {
        "id": "16kAGX5Hdcur"
      },
      "source": [
        "def predict(model):\n",
        "  pred_test = []\n",
        "  model.eval()\n",
        "  with torch.no_grad():\n",
        "    for data in test_loader:\n",
        "      data = data.to(DEVICE)\n",
        "      output = model(data)\n",
        "      pred = output.data.max(1, keepdim=True)[1]\n",
        "      for x in pred:\n",
        "        pred_test.append(x.item())\n",
        "  return pred_test"
      ],
      "execution_count": null,
      "outputs": []
    },
    {
      "cell_type": "code",
      "metadata": {
        "id": "UWdnJKhigtM7"
      },
      "source": [
        "pred_test = predict(full_model)\n",
        "print(len(pred_test))\n",
        "df_pred_test = pd.DataFrame({'id': range(10000), 'class': pred_test})\n",
        "df_pred_test.to_csv(CSV_OUTPUT_PATH, index=False)"
      ],
      "execution_count": null,
      "outputs": []
    },
    {
      "cell_type": "markdown",
      "metadata": {
        "id": "K7VpSLb22POJ"
      },
      "source": [
        "## Manually check prediction results"
      ]
    },
    {
      "cell_type": "code",
      "metadata": {
        "id": "8Gp4fBi5iipd"
      },
      "source": [
        "# Read many TEST data and display them, compare with our prediction in CSV\n",
        "test_loader = DataLoader(test_dataset, batch_size=BATCH_SIZE, shuffle=False)\n",
        "imgs = (next(iter(test_loader)))\n",
        "print(imgs.shape)\n",
        "# imgs: [256, 1, 28, 28]\n",
        "imgs = np.squeeze(imgs)\n",
        "# imgs: [256, 28, 28]\n",
        "print(imgs.shape)\n",
        "\n",
        "for i in range(20):\n",
        "  plt.subplot(4,5,i+1)\n",
        "  plt.tight_layout()\n",
        "  plt.imshow(imgs[i], cmap='gray', interpolation='bicubic')\n",
        "  plt.xticks([])\n",
        "  plt.yticks([])"
      ],
      "execution_count": null,
      "outputs": []
    },
    {
      "cell_type": "markdown",
      "metadata": {
        "id": "DIDJM1PnADIt"
      },
      "source": [
        "## Deeper（doesn't work）"
      ]
    },
    {
      "cell_type": "code",
      "metadata": {
        "id": "Vcqne0XZLcYf"
      },
      "source": [
        "import torch.nn as nn\n",
        "import torch.nn.functional as F\n",
        "import torch.optim as optim"
      ],
      "execution_count": null,
      "outputs": []
    },
    {
      "cell_type": "code",
      "metadata": {
        "id": "tdDmYca6CmXP"
      },
      "source": [
        "device = torch.device('cuda' if torch.cuda.is_available() else 'cpu')"
      ],
      "execution_count": null,
      "outputs": []
    },
    {
      "cell_type": "code",
      "metadata": {
        "id": "8MWRg9T5AFNR"
      },
      "source": [
        "class MyModel(nn.Module):\n",
        "  def __init__(self):\n",
        "    super(MyModel, self).__init__()\n",
        "    \n",
        "    self.model = nn.Sequential(\n",
        "      nn.Conv2d(1, 16, kernel_size=3), nn.ReLU(), # 26*26\n",
        "      nn.Conv2d(16, 16, kernel_size=3), nn.ReLU(), # 24*24\n",
        "      # nn.MaxPool2d(2,2), # 13*13\n",
        "\n",
        "      nn.Conv2d(16, 32, kernel_size=3), nn.ReLU(),  # 22*22\n",
        "      nn.Conv2d(32, 32, kernel_size=3), nn.ReLU(),  # 20*20\n",
        "      # nn.MaxPool2d(2,2),  # 6*6\n",
        "\n",
        "      nn.Conv2d(32, 64, kernel_size=3), nn.ReLU(),  # 18*18\n",
        "      nn.Conv2d(64, 64, kernel_size=3), nn.ReLU(),  # 16*16\n",
        "      # nn.MaxPool2d(2,2),  # 2*2\n",
        "\n",
        "      nn.Conv2d(64, 128, kernel_size=3), nn.ReLU(), # 14*14\n",
        "      nn.Conv2d(128, 128, kernel_size=3), nn.ReLU(),  # 12*12\n",
        "      # nn.MaxPool2d(2,2),\n",
        "\n",
        "      nn.Conv2d(128, 256, kernel_size=3), nn.ReLU(),  # 10*10\n",
        "      nn.Conv2d(256, 256, kernel_size=3), nn.ReLU(),  # 8*8\n",
        "      nn.MaxPool2d(2,2),  # 4*4\n",
        "\n",
        "    )\n",
        "    \n",
        "    self.classifier = nn.Sequential(\n",
        "      nn.Flatten(),\n",
        "      nn.Dropout(0.25),\n",
        "      # nn.Linear(4096, 256),\n",
        "      nn.Linear(4096, 256),\n",
        "      nn.ReLU(),\n",
        "\n",
        "      nn.Dropout(0.5),\n",
        "      nn.Linear(256, 10),\n",
        "      nn.Softmax(dim=1)\n",
        "    )\n",
        "    \n",
        "  def forward(self, x):\n",
        "    f = self.model(x)\n",
        "    y_pred = self.classifier(f)\n",
        "    return y_pred\n",
        "\n",
        "network = MyModel()\n",
        "# summary(model, (3,256,256))"
      ],
      "execution_count": null,
      "outputs": []
    },
    {
      "cell_type": "code",
      "metadata": {
        "id": "7daPmiD_EJ53"
      },
      "source": [
        "optimizer = optim.Adam(network.parameters())\n",
        "\n",
        "train_losses = []\n",
        "train_counter = []\n",
        "test_losses = []\n",
        "test_counter = [i*len(train_loader.dataset) for i in range(3)]"
      ],
      "execution_count": null,
      "outputs": []
    },
    {
      "cell_type": "code",
      "metadata": {
        "id": "tv66liBRDHL9"
      },
      "source": [
        "def train(epoch):\n",
        "  network.train()\n",
        "  for batch_idx, (data, target) in enumerate(train_loader):\n",
        "    optimizer.zero_grad()\n",
        "    output = network(data)\n",
        "\n",
        "    loss = F.nll_loss(output, target) #negative log likelihood loss\n",
        "    loss.backward()\n",
        "    optimizer.step()\n",
        "    if batch_idx % 20 == 0:\n",
        "      print('Train Epoch: {} [{}/{} ({:.0f}%)]\\tLoss: {:.6f}'.format(\n",
        "        epoch, batch_idx * len(data), len(train_loader.dataset),\n",
        "        100. * batch_idx / len(train_loader), loss.item()))\n",
        "      train_losses.append(loss.item())\n",
        "      train_counter.append(\n",
        "        (batch_idx*64) + ((epoch-1)*len(train_loader.dataset)))\n",
        "\n",
        "def test():\n",
        "  network.eval()\n",
        "  test_loss = 0\n",
        "  correct = 0\n",
        "  with torch.no_grad():\n",
        "    for data, target in val_loader:\n",
        "      output = network(data)\n",
        "      # this line is added to convert labels to LongTensor\n",
        "      # target = target.type(torch.LongTensor)\n",
        "      # target = torch.argmax(target, dim=1) # convert from 1-hot to 1D\n",
        "\n",
        "      test_loss += F.nll_loss(output, target, size_average=False).item()\n",
        "      pred = output.data.max(1, keepdim=True)[1]\n",
        "      correct += pred.eq(target.data.view_as(pred)).sum()\n",
        "  test_loss /= len(val_loader.dataset)\n",
        "  test_losses.append(test_loss)\n",
        "  print('\\nTest set: Avg. loss: {:.4f}, Accuracy: {}/{} ({:.0f}%)\\n'.format(\n",
        "    test_loss, correct, len(val_loader.dataset),\n",
        "    100. * correct / len(val_loader.dataset)))"
      ],
      "execution_count": null,
      "outputs": []
    },
    {
      "cell_type": "code",
      "metadata": {
        "id": "30Rz0VM-FKN5"
      },
      "source": [
        "for epoch in range(1, 4):\n",
        "  train(epoch)\n",
        "  test()"
      ],
      "execution_count": null,
      "outputs": []
    },
    {
      "cell_type": "code",
      "metadata": {
        "id": "fJ1U0lhpHojX"
      },
      "source": [
        "print(torch.cuda.is_available())"
      ],
      "execution_count": null,
      "outputs": []
    },
    {
      "cell_type": "code",
      "metadata": {
        "id": "q3I5ztq6EYnV"
      },
      "source": [
        "class ConvNet(nn.Module):\n",
        "    def __init__(self):\n",
        "        super(ConvNet, self).__init__()\n",
        "        self.layer1 = nn.Sequential(\n",
        "            nn.Conv2d(1, 32, kernel_size=5, stride=1, padding=2),\n",
        "            nn.ReLU(),\n",
        "            nn.MaxPool2d(kernel_size=2, stride=2))\n",
        "        self.layer2 = nn.Sequential(\n",
        "            nn.Conv2d(32, 64, kernel_size=5, stride=1, padding=2),\n",
        "            nn.ReLU(),\n",
        "            nn.MaxPool2d(kernel_size=2, stride=2))\n",
        "\n",
        "        self.fc1 = nn.Linear(3136, 1000)\n",
        "        self.fc2 = nn.Linear(1000, 10)\n",
        "\n",
        "    def forward(self, x):\n",
        "        out = self.layer1(x)\n",
        "        out = self.layer2(out)\n",
        "        out = out.reshape(out.size(0), -1)\n",
        "        # print(out.shape)\n",
        "        out = self.fc1(out)\n",
        "        out = self.fc2(out)\n",
        "        return out\n"
      ],
      "execution_count": null,
      "outputs": []
    },
    {
      "cell_type": "code",
      "metadata": {
        "id": "3714Y8uHiYbV"
      },
      "source": [
        "class AlexNet(nn.Module):\n",
        "    def __init__(self):\n",
        "        super(AlexNet, self).__init__()\n",
        "        # input 1*28*28\n",
        "        self.conv1 = nn.Conv2d(1, 96, kernel_size=11, stride=4)\n",
        "        self.conv2 = nn.Conv2d(96, 256, kernel_size=5, padding=2)\n",
        "        self.conv3 = nn.Conv2d(256, 384, kernel_size=3,padding=1)\n",
        "        self.conv4 = nn.Conv2d(384, 384, kernel_size=3,padding=1)\n",
        "        self.conv5 = nn.Conv2d(384, 256, kernel_size=3,padding=1)\n",
        "        self.fc1 = nn.Linear(256*6*6, 4096)\n",
        "        self.fc2 = nn.Linear(4096, 4096)\n",
        "        self.fc3 = nn.Linear(4096, 10)\n",
        "        self.dropout = nn.Dropout(0.5)\n",
        "\n",
        "    def forward(self, x):\n",
        "        x = F.max_pool2d(torch.relu(self.conv1(x)), kernel_size=3, stride=2) # 96 filters + maxpooling => 96*27*27\n",
        "        x = F.max_pool2d(torch.relu(self.conv2(x)), kernel_size=3, stride=2) # 256 filters + maxpooling => 256*13*13\n",
        "        x = torch.relu(self.conv3(x)) # 384 filters => 384*13*13\n",
        "        x = torch.relu(self.conv4(x)) # 384 filters => 384*13*13\n",
        "        x = F.max_pool2d(torch.relu(self.conv5(x)), kernel_size=3, stride=2) # 256 filters => 256*6*6\n",
        "        x = self.dropout(x) \n",
        "        x = x.view(-1, 256*6*6) \n",
        "        x = torch.relu(self.fc1(x))\n",
        "        x = self.dropout(x)\n",
        "        x = torch.relu(self.fc2(x))\n",
        "        x = self.fc3(x)\n",
        "        return F.softmax(x)"
      ],
      "execution_count": null,
      "outputs": []
    }
  ]
}