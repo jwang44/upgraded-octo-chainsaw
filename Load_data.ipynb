{
  "nbformat": 4,
  "nbformat_minor": 0,
  "metadata": {
    "colab": {
      "name": "Load_data.ipynb",
      "provenance": [],
      "collapsed_sections": [
        "bRD5b061O7v2",
        "wdvC0-OfRnQV"
      ],
      "toc_visible": true,
      "include_colab_link": true
    },
    "kernelspec": {
      "name": "python3",
      "display_name": "Python 3"
    }
  },
  "cells": [
    {
      "cell_type": "markdown",
      "metadata": {
        "id": "view-in-github",
        "colab_type": "text"
      },
      "source": [
        "<a href=\"https://colab.research.google.com/github/jwang44/upgraded-octo-chainsaw/blob/main/Load_data.ipynb\" target=\"_parent\"><img src=\"https://colab.research.google.com/assets/colab-badge.svg\" alt=\"Open In Colab\"/></a>"
      ]
    },
    {
      "cell_type": "code",
      "metadata": {
        "colab": {
          "base_uri": "https://localhost:8080/"
        },
        "id": "0dOxAvsuIul3",
        "outputId": "2e6ad02d-483e-404e-ecf3-67062c63b8a9"
      },
      "source": [
        "from google.colab import drive\n",
        "drive.mount('/content/drive')"
      ],
      "execution_count": 1,
      "outputs": [
        {
          "output_type": "stream",
          "text": [
            "Mounted at /content/drive\n"
          ],
          "name": "stdout"
        }
      ]
    },
    {
      "cell_type": "code",
      "metadata": {
        "colab": {
          "base_uri": "https://localhost:8080/"
        },
        "id": "0Z8Fr4N8JKcm",
        "outputId": "5005bddb-7c50-4259-853d-a90a2746afb0"
      },
      "source": [
        "%cd '/content/drive/MyDrive/imageunderstanding'"
      ],
      "execution_count": 2,
      "outputs": [
        {
          "output_type": "stream",
          "text": [
            "/content/drive/MyDrive/imageunderstanding\n"
          ],
          "name": "stdout"
        }
      ]
    },
    {
      "cell_type": "code",
      "metadata": {
        "colab": {
          "base_uri": "https://localhost:8080/"
        },
        "id": "fXplc7BwJOM9",
        "outputId": "e01e98ea-90ca-467a-8272-9cdcddcde00a"
      },
      "source": [
        "!ls"
      ],
      "execution_count": 3,
      "outputs": [
        {
          "output_type": "stream",
          "text": [
            "ExampleSubmissionRandom.csv  Test.pkl\t       Train.pkl\n",
            "Load_data.ipynb\t\t     Train_labels.csv\n"
          ],
          "name": "stdout"
        }
      ]
    },
    {
      "cell_type": "code",
      "metadata": {
        "id": "7XS2MS7nHzIN"
      },
      "source": [
        "import pickle\n",
        "import matplotlib.pyplot as plt\n",
        "import numpy as np\n",
        "from torchvision import transforms\n",
        "from torch.utils.data import Dataset\n",
        "from torch.utils.data import DataLoader, TensorDataset\n",
        "from PIL import Image\n",
        "import torch"
      ],
      "execution_count": 4,
      "outputs": []
    },
    {
      "cell_type": "code",
      "metadata": {
        "id": "zppkOjQwVjy2"
      },
      "source": [
        "torch.manual_seed(0)\n",
        "torch.cuda.manual_seed(0)"
      ],
      "execution_count": null,
      "outputs": []
    },
    {
      "cell_type": "markdown",
      "metadata": {
        "id": "oo2KSbBVO-iF"
      },
      "source": [
        "## Load data (alternative to Dataset Class)"
      ]
    },
    {
      "cell_type": "code",
      "metadata": {
        "id": "-LNAz6GbXoY2"
      },
      "source": [
        "# Read image data and their label into a Dataset \n",
        "data = pickle.load( open( 'Train.pkl', 'rb' ))\n",
        "# this line is changed to \n",
        "# 1. make sure data and targets are of the same dimension\n",
        "# 2. drop the index column\n",
        "targets = np.genfromtxt('Train_labels.csv', delimiter=',', skip_header=1, usecols=1)"
      ],
      "execution_count": null,
      "outputs": []
    },
    {
      "cell_type": "code",
      "metadata": {
        "colab": {
          "base_uri": "https://localhost:8080/"
        },
        "id": "morX3bucqlDD",
        "outputId": "53778750-7db7-4ad2-9689-3af92d1e5447"
      },
      "source": [
        "# convert targets to one-hot OPTIONAL\n",
        "from sklearn.preprocessing import OneHotEncoder\n",
        "\n",
        "print(\"targets shape: \", targets.shape)\n",
        "one_hot = OneHotEncoder(sparse=False)\n",
        "targets = one_hot.fit_transform(targets.reshape(-1,1))\n",
        "print(\"targets shape: \", targets.shape)"
      ],
      "execution_count": null,
      "outputs": [
        {
          "output_type": "stream",
          "text": [
            "targets shape:  (60000,)\n",
            "targets shape:  (60000, 10)\n"
          ],
          "name": "stdout"
        }
      ]
    },
    {
      "cell_type": "code",
      "metadata": {
        "id": "06TVorE6q0cK"
      },
      "source": [
        "data = torch.from_numpy(data)\n",
        "targets = torch.from_numpy(targets)\n",
        "targets = targets.type(torch.LongTensor)\n",
        "dataset = TensorDataset(data,targets)"
      ],
      "execution_count": null,
      "outputs": []
    },
    {
      "cell_type": "code",
      "metadata": {
        "colab": {
          "base_uri": "https://localhost:8080/"
        },
        "id": "rnl3DArcKvrZ",
        "outputId": "988aecca-ebba-4e09-b6e7-95b2b63f37f3"
      },
      "source": [
        "print(\"data_shape: \", data.shape)\n",
        "print(\"target_shape: \", targets.shape)\n",
        "print(\"dataset_size: \", len(dataset))"
      ],
      "execution_count": null,
      "outputs": [
        {
          "output_type": "stream",
          "text": [
            "data_shape:  torch.Size([60000, 1, 28, 28])\n",
            "target_shape:  torch.Size([60000])\n",
            "dataset_size:  60000\n"
          ],
          "name": "stdout"
        }
      ]
    },
    {
      "cell_type": "markdown",
      "metadata": {
        "id": "_2Vm3wY_K3DA"
      },
      "source": [
        "## Dataset Class"
      ]
    },
    {
      "cell_type": "code",
      "metadata": {
        "id": "j0MUpn2VnElU"
      },
      "source": [
        "# Transforms are common image transformations. They can be chained together using Compose.\n",
        "# Here we normalize images img=(img-0.5)/0.5\n",
        "img_transform = transforms.Compose([\n",
        "    transforms.ToTensor(),\n",
        "    transforms.Normalize([0.5], [0.5])\n",
        "])"
      ],
      "execution_count": 5,
      "outputs": []
    },
    {
      "cell_type": "code",
      "metadata": {
        "id": "CY0SndE2qcmb"
      },
      "source": [
        "# img_file: the pickle file containing the images\n",
        "# label_file: the .csv file containing the labels\n",
        "# transform: We use it for normalizing images (see above)\n",
        "# idx: This is a binary vector that is useful for creating training and validation set.\n",
        "# It return only samples where idx is True\n",
        "\n",
        "class MyDataset(Dataset):\n",
        "    def __init__(self, img_file, label_file, transform=None, idx = None):\n",
        "        self.data = pickle.load( open( img_file, 'rb' ), encoding='bytes')\n",
        "        self.targets = np.genfromtxt(label_file, delimiter=',', skip_header=1, usecols=1) #[:,1:]\n",
        "        if idx is not None:\n",
        "          self.targets = self.targets[idx]\n",
        "          self.data = self.data[idx]\n",
        "        self.transform = transform\n",
        "\n",
        "    def __len__(self):\n",
        "        return len(self.targets)\n",
        "\n",
        "    def __getitem__(self, index):\n",
        "        img, target = self.data[index].squeeze(), int(self.targets[index])\n",
        "        img = Image.fromarray((img*255).astype('uint8'), mode='L')\n",
        "\n",
        "        if self.transform is not None:\n",
        "           img = self.transform(img)\n",
        "\n",
        "        return img, target"
      ],
      "execution_count": 17,
      "outputs": []
    },
    {
      "cell_type": "code",
      "metadata": {
        "id": "74kV_DwkqizL"
      },
      "source": [
        "dataset = MyDataset('Train.pkl', 'Train_labels.csv',transform=img_transform, idx=None)\n",
        "batch_size = 256\n",
        "# dataloader for all data\n",
        "dataloader = DataLoader(dataset, batch_size=batch_size, shuffle=True)"
      ],
      "execution_count": 18,
      "outputs": []
    },
    {
      "cell_type": "code",
      "metadata": {
        "id": "05SXSXBRW4DX"
      },
      "source": [
        "from torch.utils.data.sampler import SubsetRandomSampler\n",
        "batch_size = 256\n",
        "val_split = 0.2\n",
        "shuffle = True\n",
        "\n",
        "# Creating indices for train and val split:\n",
        "dataset_size = len(dataset)\n",
        "indices = list(range(dataset_size))\n",
        "split = int(np.floor(val_split * dataset_size))\n",
        "if shuffle:\n",
        "  # set random seed so that we get the same split everytime\n",
        "  np.random.seed(0)\n",
        "  np.random.shuffle(indices)\n",
        "train_indices, val_indices = indices[split:], indices[:split]\n",
        "\n",
        "train_sampler = SubsetRandomSampler(train_indices)\n",
        "val_sampler = SubsetRandomSampler(val_indices)\n",
        "\n",
        "# separate loaders for train and val data\n",
        "train_loader = DataLoader(dataset, batch_size=batch_size, sampler=train_sampler)\n",
        "val_loader = DataLoader(dataset, batch_size=batch_size, sampler=val_sampler)"
      ],
      "execution_count": 23,
      "outputs": []
    },
    {
      "cell_type": "code",
      "metadata": {
        "id": "-VUoRoGnv8cN",
        "colab": {
          "base_uri": "https://localhost:8080/",
          "height": 316
        },
        "outputId": "f522c4c1-8448-4f86-e426-0a88ba2a70af"
      },
      "source": [
        "# Read a batch of data and their labels and display them\n",
        "[imgs, labels] = (next(iter(val_loader)))\n",
        "print(imgs.shape)\n",
        "# imgs: [256, 1, 28, 28]\n",
        "imgs = np.squeeze(imgs)\n",
        "# imgs: [256, 28, 28]\n",
        "print(imgs.shape)\n",
        "plt.imshow(imgs[50].cpu().numpy(),cmap='gray',interpolation=\"bicubic\") #.transpose()"
      ],
      "execution_count": 26,
      "outputs": [
        {
          "output_type": "stream",
          "text": [
            "torch.Size([256, 1, 28, 28])\n",
            "torch.Size([256, 28, 28])\n"
          ],
          "name": "stdout"
        },
        {
          "output_type": "execute_result",
          "data": {
            "text/plain": [
              "<matplotlib.image.AxesImage at 0x7f9868844d10>"
            ]
          },
          "metadata": {
            "tags": []
          },
          "execution_count": 26
        },
        {
          "output_type": "display_data",
          "data": {
            "image/png": "[encoded data removed]",
            "text/plain": [
              "<Figure size 432x288 with 1 Axes>"
            ]
          },
          "metadata": {
            "tags": [],
            "needs_background": "light"
          }
        }
      ]
    },
    {
      "cell_type": "code",
      "metadata": {
        "colab": {
          "base_uri": "https://localhost:8080/",
          "height": 149
        },
        "id": "n1UHtujDf1Xq",
        "outputId": "b3426628-c6d0-428b-f1cd-05dfa8341c25"
      },
      "source": [
        "examples = enumerate(val_loader)\n",
        "batch_idx, (example_data, example_targets) = next(examples)\n",
        "\n",
        "fig = plt.figure()\n",
        "for i in range(3):\n",
        "  plt.subplot(1,3,i+1)\n",
        "  # plt.tight_layout()\n",
        "  plt.imshow(example_data[i][0], cmap='gray', interpolation='bicubic')\n",
        "  plt.title(\"Ground Truth: {}\".format(example_targets[i]))\n",
        "  plt.xticks([])\n",
        "  plt.yticks([])\n",
        "# fig"
      ],
      "execution_count": 33,
      "outputs": [
        {
          "output_type": "display_data",
          "data": {
            "image/png": "[encoded data removed]",
            "text/plain": [
              "<Figure size 432x288 with 3 Axes>"
            ]
          },
          "metadata": {
            "tags": []
          }
        }
      ]
    },
    {
      "cell_type": "code",
      "metadata": {
        "id": "PCW7x9u4DIWh"
      },
      "source": [
        "# Here is a piece of code that reads data in batch.\n",
        "# In each epoch all samples are read in batches using dataloader\n",
        "\n",
        "num_epochs=2 # Feel free to change it\n",
        "for epoch in range(num_epochs):\n",
        "    for data in dataloader:\n",
        "        [img,label] = data\n",
        "\n"
      ],
      "execution_count": null,
      "outputs": []
    },
    {
      "cell_type": "markdown",
      "metadata": {
        "id": "wdvC0-OfRnQV"
      },
      "source": [
        "## Tutorial CNN model"
      ]
    },
    {
      "cell_type": "code",
      "metadata": {
        "id": "pFVSRS6gs8t7"
      },
      "source": [
        "import torch.nn as nn\n",
        "import torch.nn.functional as F\n",
        "import torch.optim as optim"
      ],
      "execution_count": 40,
      "outputs": []
    },
    {
      "cell_type": "markdown",
      "metadata": {
        "id": "OlttwvYRtSwV"
      },
      "source": [
        "Now, we have to create our network. This part is important in many aspects"
      ]
    },
    {
      "cell_type": "code",
      "metadata": {
        "id": "ninyvAXRtU5z"
      },
      "source": [
        "class Net(nn.Module):\n",
        "    # This part defines the layers\n",
        "    def __init__(self):\n",
        "        super(Net, self).__init__()\n",
        "        # At first there is only 1 channel (greyscale). The next channel size will be 10. \n",
        "        self.conv1 = nn.Conv2d(1, 10, kernel_size=5)\n",
        "        # Then, going from channel size (or feature size) 10 to 20. \n",
        "        self.conv2 = nn.Conv2d(10, 20, kernel_size=5)\n",
        "        # Now let us create some feed foreward layers in the end. Remember the sizes (from 320 to 50)\n",
        "        self.fc1 = nn.Linear(320, 50)\n",
        "        # The last layer should have an output with the same dimension as the number of classes\n",
        "        self.fc2 = nn.Linear(50, 10)\n",
        "\n",
        "    # And this part defines the way they are connected to each other\n",
        "    # (In reality, it is our foreward pass)\n",
        "    def forward(self, x):\n",
        "        \n",
        "        # F.relu is ReLU activation. F.max_pool2d is a max pooling layer with n=2\n",
        "        # Max pooling simply selects the maximum value of each square of size n. Effectively dividing the image size by n\n",
        "        # At first, x is out input, so it is 1x28x28\n",
        "        # After the first convolution, it is 10x24x24 (24=28-5+1, 10 comes from feature size)\n",
        "        # After max pooling, it is 10x12x12\n",
        "        # ReLU doesn't change the size\n",
        "        x = F.relu(F.max_pool2d(self.conv1(x), 2))\n",
        "\n",
        "        # Again, after convolution layer, size is 20x8x8 (8=12-5+1, 20 comes from feature size)\n",
        "        # After max pooling it becomes 20x4x4\n",
        "        x = F.relu(F.max_pool2d(self.conv2(x), 2))\n",
        "\n",
        "        # This layer is an imaginary one. It simply states that we should see each member of x\n",
        "        # as a vector of 320 elements, instead of a tensor of 20x4x4 (Notice that 20*4*4=320)\n",
        "        x = x.view(-1, 320)\n",
        "\n",
        "        # Feedforeward layers. Remember that fc1 is a layer that goes from 320 to 50 neurons\n",
        "        x = F.relu(self.fc1(x))\n",
        "\n",
        "        # Output layer\n",
        "        x = self.fc2(x)\n",
        "\n",
        "        # We should put an appropriate activation for the output layer.\n",
        "        return F.log_softmax(x)"
      ],
      "execution_count": 41,
      "outputs": []
    },
    {
      "cell_type": "markdown",
      "metadata": {
        "id": "BeVwuJHatdb7"
      },
      "source": [
        "Let's train these. But first, create the network, the optimizer and some lists for logging the training process"
      ]
    },
    {
      "cell_type": "code",
      "metadata": {
        "id": "EWuVNrsotfZD"
      },
      "source": [
        "network = Net()\n",
        "# optimizer = optim.SGD(network.parameters(), lr=0.01, momentum=0.5)\n",
        "# optimizer = optim.SGD(network.parameters(), lr=1, momentum=0.5)\n",
        "optimizer = optim.Adam(network.parameters())\n",
        "\n",
        "train_losses = []\n",
        "train_counter = []\n",
        "test_losses = []\n",
        "test_counter = [i*len(train_loader.dataset) for i in range(3)]"
      ],
      "execution_count": 42,
      "outputs": []
    },
    {
      "cell_type": "code",
      "metadata": {
        "id": "0Ps3KWsvtlSS"
      },
      "source": [
        "def train(epoch):\n",
        "  network.train()\n",
        "  for batch_idx, (data, target) in enumerate(train_loader):\n",
        "    optimizer.zero_grad()\n",
        "    output = network(data)\n",
        "    # target = torch.argmax(target, dim=1) # convert from 1-hot to 1D\n",
        "\n",
        "    loss = F.nll_loss(output, target) #negative log likelihood loss\n",
        "    loss.backward()\n",
        "    optimizer.step()\n",
        "    if batch_idx % 20 == 0:\n",
        "      print('Train Epoch: {} [{}/{} ({:.0f}%)]\\tLoss: {:.6f}'.format(\n",
        "        epoch, batch_idx * len(data), len(train_loader.dataset),\n",
        "        100. * batch_idx / len(train_loader), loss.item()))\n",
        "      train_losses.append(loss.item())\n",
        "      train_counter.append(\n",
        "        (batch_idx*64) + ((epoch-1)*len(train_loader.dataset)))\n",
        "      torch.save(network.state_dict(), '/model.pth')\n",
        "      torch.save(optimizer.state_dict(), '/optimizer.pth')\n",
        "\n",
        "def test():\n",
        "  network.eval()\n",
        "  test_loss = 0\n",
        "  correct = 0\n",
        "  with torch.no_grad():\n",
        "    for data, target in val_loader:\n",
        "      output = network(data)\n",
        "      # this line is added to convert labels to LongTensor\n",
        "      # target = target.type(torch.LongTensor)\n",
        "      # target = torch.argmax(target, dim=1) # convert from 1-hot to 1D\n",
        "\n",
        "      test_loss += F.nll_loss(output, target, size_average=False).item()\n",
        "      pred = output.data.max(1, keepdim=True)[1]\n",
        "      correct += pred.eq(target.data.view_as(pred)).sum()\n",
        "  test_loss /= len(val_loader.dataset)\n",
        "  test_losses.append(test_loss)\n",
        "  print('\\nTest set: Avg. loss: {:.4f}, Accuracy: {}/{} ({:.0f}%)\\n'.format(\n",
        "    test_loss, correct, len(val_loader.dataset),\n",
        "    100. * correct / len(val_loader.dataset)))"
      ],
      "execution_count": 43,
      "outputs": []
    },
    {
      "cell_type": "markdown",
      "metadata": {
        "id": "BaaA04yUtj1T"
      },
      "source": [
        "And let us train the network"
      ]
    },
    {
      "cell_type": "code",
      "metadata": {
        "id": "CCgK_yOvtrjz",
        "colab": {
          "base_uri": "https://localhost:8080/"
        },
        "outputId": "7c5a5b29-f1c8-460b-fc3c-0efab85109ef"
      },
      "source": [
        "for epoch in range(1, 40):\n",
        "  train(epoch)\n",
        "  test()"
      ],
      "execution_count": 44,
      "outputs": [
        {
          "output_type": "stream",
          "text": [
            "/usr/local/lib/python3.7/dist-packages/ipykernel_launcher.py:41: UserWarning: Implicit dimension choice for log_softmax has been deprecated. Change the call to include dim=X as an argument.\n"
          ],
          "name": "stderr"
        },
        {
          "output_type": "stream",
          "text": [
            "Train Epoch: 1 [0/60000 (0%)]\tLoss: 2.300268\n",
            "Train Epoch: 1 [5120/60000 (11%)]\tLoss: 2.296551\n",
            "Train Epoch: 1 [10240/60000 (21%)]\tLoss: 2.290210\n",
            "Train Epoch: 1 [15360/60000 (32%)]\tLoss: 2.270661\n",
            "Train Epoch: 1 [20480/60000 (43%)]\tLoss: 2.198659\n",
            "Train Epoch: 1 [25600/60000 (53%)]\tLoss: 2.027244\n",
            "Train Epoch: 1 [30720/60000 (64%)]\tLoss: 1.862476\n",
            "Train Epoch: 1 [35840/60000 (74%)]\tLoss: 1.651968\n",
            "Train Epoch: 1 [40960/60000 (85%)]\tLoss: 1.616850\n",
            "Train Epoch: 1 [46080/60000 (96%)]\tLoss: 1.545434\n"
          ],
          "name": "stdout"
        },
        {
          "output_type": "stream",
          "text": [
            "/usr/local/lib/python3.7/dist-packages/torch/nn/_reduction.py:42: UserWarning: size_average and reduce args will be deprecated, please use reduction='sum' instead.\n",
            "  warnings.warn(warning.format(ret))\n"
          ],
          "name": "stderr"
        },
        {
          "output_type": "stream",
          "text": [
            "\n",
            "Test set: Avg. loss: 0.2842, Accuracy: 6282/60000 (10%)\n",
            "\n",
            "Train Epoch: 2 [0/60000 (0%)]\tLoss: 1.382218\n",
            "Train Epoch: 2 [5120/60000 (11%)]\tLoss: 1.380808\n",
            "Train Epoch: 2 [10240/60000 (21%)]\tLoss: 1.288876\n",
            "Train Epoch: 2 [15360/60000 (32%)]\tLoss: 1.134138\n",
            "Train Epoch: 2 [20480/60000 (43%)]\tLoss: 1.155522\n",
            "Train Epoch: 2 [25600/60000 (53%)]\tLoss: 0.985689\n",
            "Train Epoch: 2 [30720/60000 (64%)]\tLoss: 1.041584\n",
            "Train Epoch: 2 [35840/60000 (74%)]\tLoss: 0.986873\n",
            "Train Epoch: 2 [40960/60000 (85%)]\tLoss: 0.956341\n",
            "Train Epoch: 2 [46080/60000 (96%)]\tLoss: 0.955998\n",
            "\n",
            "Test set: Avg. loss: 0.1789, Accuracy: 8380/60000 (14%)\n",
            "\n",
            "Train Epoch: 3 [0/60000 (0%)]\tLoss: 0.884682\n",
            "Train Epoch: 3 [5120/60000 (11%)]\tLoss: 0.950038\n",
            "Train Epoch: 3 [10240/60000 (21%)]\tLoss: 0.907211\n",
            "Train Epoch: 3 [15360/60000 (32%)]\tLoss: 0.815570\n",
            "Train Epoch: 3 [20480/60000 (43%)]\tLoss: 0.719003\n",
            "Train Epoch: 3 [25600/60000 (53%)]\tLoss: 0.828393\n",
            "Train Epoch: 3 [30720/60000 (64%)]\tLoss: 0.787665\n",
            "Train Epoch: 3 [35840/60000 (74%)]\tLoss: 0.655056\n",
            "Train Epoch: 3 [40960/60000 (85%)]\tLoss: 0.851825\n",
            "Train Epoch: 3 [46080/60000 (96%)]\tLoss: 0.637820\n",
            "\n",
            "Test set: Avg. loss: 0.1446, Accuracy: 9137/60000 (15%)\n",
            "\n",
            "Train Epoch: 4 [0/60000 (0%)]\tLoss: 0.633893\n",
            "Train Epoch: 4 [5120/60000 (11%)]\tLoss: 0.681383\n",
            "Train Epoch: 4 [10240/60000 (21%)]\tLoss: 0.710506\n",
            "Train Epoch: 4 [15360/60000 (32%)]\tLoss: 0.663516\n",
            "Train Epoch: 4 [20480/60000 (43%)]\tLoss: 0.741730\n",
            "Train Epoch: 4 [25600/60000 (53%)]\tLoss: 0.659800\n",
            "Train Epoch: 4 [30720/60000 (64%)]\tLoss: 0.735481\n",
            "Train Epoch: 4 [35840/60000 (74%)]\tLoss: 0.649414\n",
            "Train Epoch: 4 [40960/60000 (85%)]\tLoss: 0.605530\n",
            "Train Epoch: 4 [46080/60000 (96%)]\tLoss: 0.697511\n",
            "\n",
            "Test set: Avg. loss: 0.1253, Accuracy: 9553/60000 (16%)\n",
            "\n",
            "Train Epoch: 5 [0/60000 (0%)]\tLoss: 0.662534\n",
            "Train Epoch: 5 [5120/60000 (11%)]\tLoss: 0.557952\n",
            "Train Epoch: 5 [10240/60000 (21%)]\tLoss: 0.540139\n",
            "Train Epoch: 5 [15360/60000 (32%)]\tLoss: 0.679846\n",
            "Train Epoch: 5 [20480/60000 (43%)]\tLoss: 0.607794\n",
            "Train Epoch: 5 [25600/60000 (53%)]\tLoss: 0.497754\n",
            "Train Epoch: 5 [30720/60000 (64%)]\tLoss: 0.591205\n",
            "Train Epoch: 5 [35840/60000 (74%)]\tLoss: 0.695843\n",
            "Train Epoch: 5 [40960/60000 (85%)]\tLoss: 0.552003\n",
            "Train Epoch: 5 [46080/60000 (96%)]\tLoss: 0.588656\n",
            "\n",
            "Test set: Avg. loss: 0.1082, Accuracy: 9882/60000 (16%)\n",
            "\n",
            "Train Epoch: 6 [0/60000 (0%)]\tLoss: 0.512592\n",
            "Train Epoch: 6 [5120/60000 (11%)]\tLoss: 0.513344\n",
            "Train Epoch: 6 [10240/60000 (21%)]\tLoss: 0.512688\n",
            "Train Epoch: 6 [15360/60000 (32%)]\tLoss: 0.602680\n",
            "Train Epoch: 6 [20480/60000 (43%)]\tLoss: 0.497577\n",
            "Train Epoch: 6 [25600/60000 (53%)]\tLoss: 0.523313\n",
            "Train Epoch: 6 [30720/60000 (64%)]\tLoss: 0.520409\n",
            "Train Epoch: 6 [35840/60000 (74%)]\tLoss: 0.528629\n",
            "Train Epoch: 6 [40960/60000 (85%)]\tLoss: 0.545614\n",
            "Train Epoch: 6 [46080/60000 (96%)]\tLoss: 0.437675\n",
            "\n",
            "Test set: Avg. loss: 0.0997, Accuracy: 10038/60000 (17%)\n",
            "\n",
            "Train Epoch: 7 [0/60000 (0%)]\tLoss: 0.457705\n",
            "Train Epoch: 7 [5120/60000 (11%)]\tLoss: 0.442507\n",
            "Train Epoch: 7 [10240/60000 (21%)]\tLoss: 0.575144\n",
            "Train Epoch: 7 [15360/60000 (32%)]\tLoss: 0.567040\n",
            "Train Epoch: 7 [20480/60000 (43%)]\tLoss: 0.457350\n",
            "Train Epoch: 7 [25600/60000 (53%)]\tLoss: 0.411296\n",
            "Train Epoch: 7 [30720/60000 (64%)]\tLoss: 0.473179\n",
            "Train Epoch: 7 [35840/60000 (74%)]\tLoss: 0.464468\n",
            "Train Epoch: 7 [40960/60000 (85%)]\tLoss: 0.397550\n",
            "Train Epoch: 7 [46080/60000 (96%)]\tLoss: 0.399523\n",
            "\n",
            "Test set: Avg. loss: 0.0940, Accuracy: 10168/60000 (17%)\n",
            "\n",
            "Train Epoch: 8 [0/60000 (0%)]\tLoss: 0.458533\n",
            "Train Epoch: 8 [5120/60000 (11%)]\tLoss: 0.452814\n",
            "Train Epoch: 8 [10240/60000 (21%)]\tLoss: 0.429467\n",
            "Train Epoch: 8 [15360/60000 (32%)]\tLoss: 0.500369\n",
            "Train Epoch: 8 [20480/60000 (43%)]\tLoss: 0.508364\n",
            "Train Epoch: 8 [25600/60000 (53%)]\tLoss: 0.640728\n",
            "Train Epoch: 8 [30720/60000 (64%)]\tLoss: 0.445479\n",
            "Train Epoch: 8 [35840/60000 (74%)]\tLoss: 0.418192\n",
            "Train Epoch: 8 [40960/60000 (85%)]\tLoss: 0.423126\n",
            "Train Epoch: 8 [46080/60000 (96%)]\tLoss: 0.511295\n",
            "\n",
            "Test set: Avg. loss: 0.0870, Accuracy: 10278/60000 (17%)\n",
            "\n",
            "Train Epoch: 9 [0/60000 (0%)]\tLoss: 0.409555\n",
            "Train Epoch: 9 [5120/60000 (11%)]\tLoss: 0.468224\n",
            "Train Epoch: 9 [10240/60000 (21%)]\tLoss: 0.347320\n",
            "Train Epoch: 9 [15360/60000 (32%)]\tLoss: 0.495871\n",
            "Train Epoch: 9 [20480/60000 (43%)]\tLoss: 0.361188\n",
            "Train Epoch: 9 [25600/60000 (53%)]\tLoss: 0.414237\n",
            "Train Epoch: 9 [30720/60000 (64%)]\tLoss: 0.464848\n",
            "Train Epoch: 9 [35840/60000 (74%)]\tLoss: 0.460986\n",
            "Train Epoch: 9 [40960/60000 (85%)]\tLoss: 0.446258\n",
            "Train Epoch: 9 [46080/60000 (96%)]\tLoss: 0.450917\n",
            "\n",
            "Test set: Avg. loss: 0.0850, Accuracy: 10339/60000 (17%)\n",
            "\n",
            "Train Epoch: 10 [0/60000 (0%)]\tLoss: 0.336016\n",
            "Train Epoch: 10 [5120/60000 (11%)]\tLoss: 0.361782\n",
            "Train Epoch: 10 [10240/60000 (21%)]\tLoss: 0.282069\n",
            "Train Epoch: 10 [15360/60000 (32%)]\tLoss: 0.359384\n",
            "Train Epoch: 10 [20480/60000 (43%)]\tLoss: 0.420014\n",
            "Train Epoch: 10 [25600/60000 (53%)]\tLoss: 0.369882\n",
            "Train Epoch: 10 [30720/60000 (64%)]\tLoss: 0.420817\n",
            "Train Epoch: 10 [35840/60000 (74%)]\tLoss: 0.461957\n",
            "Train Epoch: 10 [40960/60000 (85%)]\tLoss: 0.370811\n",
            "Train Epoch: 10 [46080/60000 (96%)]\tLoss: 0.400816\n",
            "\n",
            "Test set: Avg. loss: 0.0810, Accuracy: 10426/60000 (17%)\n",
            "\n",
            "Train Epoch: 11 [0/60000 (0%)]\tLoss: 0.397654\n",
            "Train Epoch: 11 [5120/60000 (11%)]\tLoss: 0.336718\n",
            "Train Epoch: 11 [10240/60000 (21%)]\tLoss: 0.402152\n",
            "Train Epoch: 11 [15360/60000 (32%)]\tLoss: 0.318034\n",
            "Train Epoch: 11 [20480/60000 (43%)]\tLoss: 0.479644\n",
            "Train Epoch: 11 [25600/60000 (53%)]\tLoss: 0.305072\n",
            "Train Epoch: 11 [30720/60000 (64%)]\tLoss: 0.316134\n",
            "Train Epoch: 11 [35840/60000 (74%)]\tLoss: 0.323312\n",
            "Train Epoch: 11 [40960/60000 (85%)]\tLoss: 0.375518\n",
            "Train Epoch: 11 [46080/60000 (96%)]\tLoss: 0.371324\n",
            "\n",
            "Test set: Avg. loss: 0.0789, Accuracy: 10476/60000 (17%)\n",
            "\n",
            "Train Epoch: 12 [0/60000 (0%)]\tLoss: 0.373775\n",
            "Train Epoch: 12 [5120/60000 (11%)]\tLoss: 0.446638\n",
            "Train Epoch: 12 [10240/60000 (21%)]\tLoss: 0.322103\n",
            "Train Epoch: 12 [15360/60000 (32%)]\tLoss: 0.325637\n",
            "Train Epoch: 12 [20480/60000 (43%)]\tLoss: 0.286312\n",
            "Train Epoch: 12 [25600/60000 (53%)]\tLoss: 0.311732\n",
            "Train Epoch: 12 [30720/60000 (64%)]\tLoss: 0.297455\n",
            "Train Epoch: 12 [35840/60000 (74%)]\tLoss: 0.319153\n",
            "Train Epoch: 12 [40960/60000 (85%)]\tLoss: 0.388400\n",
            "Train Epoch: 12 [46080/60000 (96%)]\tLoss: 0.316513\n",
            "\n",
            "Test set: Avg. loss: 0.0777, Accuracy: 10497/60000 (17%)\n",
            "\n",
            "Train Epoch: 13 [0/60000 (0%)]\tLoss: 0.403757\n",
            "Train Epoch: 13 [5120/60000 (11%)]\tLoss: 0.282154\n",
            "Train Epoch: 13 [10240/60000 (21%)]\tLoss: 0.318716\n",
            "Train Epoch: 13 [15360/60000 (32%)]\tLoss: 0.329469\n",
            "Train Epoch: 13 [20480/60000 (43%)]\tLoss: 0.383629\n",
            "Train Epoch: 13 [25600/60000 (53%)]\tLoss: 0.312718\n",
            "Train Epoch: 13 [30720/60000 (64%)]\tLoss: 0.319334\n",
            "Train Epoch: 13 [35840/60000 (74%)]\tLoss: 0.370084\n",
            "Train Epoch: 13 [40960/60000 (85%)]\tLoss: 0.351272\n",
            "Train Epoch: 13 [46080/60000 (96%)]\tLoss: 0.352526\n",
            "\n",
            "Test set: Avg. loss: 0.0780, Accuracy: 10465/60000 (17%)\n",
            "\n",
            "Train Epoch: 14 [0/60000 (0%)]\tLoss: 0.289302\n",
            "Train Epoch: 14 [5120/60000 (11%)]\tLoss: 0.343095\n",
            "Train Epoch: 14 [10240/60000 (21%)]\tLoss: 0.311375\n",
            "Train Epoch: 14 [15360/60000 (32%)]\tLoss: 0.387141\n",
            "Train Epoch: 14 [20480/60000 (43%)]\tLoss: 0.251434\n",
            "Train Epoch: 14 [25600/60000 (53%)]\tLoss: 0.351328\n",
            "Train Epoch: 14 [30720/60000 (64%)]\tLoss: 0.271787\n",
            "Train Epoch: 14 [35840/60000 (74%)]\tLoss: 0.415790\n",
            "Train Epoch: 14 [40960/60000 (85%)]\tLoss: 0.391129\n",
            "Train Epoch: 14 [46080/60000 (96%)]\tLoss: 0.398912\n",
            "\n",
            "Test set: Avg. loss: 0.0742, Accuracy: 10553/60000 (18%)\n",
            "\n",
            "Train Epoch: 15 [0/60000 (0%)]\tLoss: 0.269565\n",
            "Train Epoch: 15 [5120/60000 (11%)]\tLoss: 0.400022\n",
            "Train Epoch: 15 [10240/60000 (21%)]\tLoss: 0.284780\n",
            "Train Epoch: 15 [15360/60000 (32%)]\tLoss: 0.326925\n",
            "Train Epoch: 15 [20480/60000 (43%)]\tLoss: 0.320521\n",
            "Train Epoch: 15 [25600/60000 (53%)]\tLoss: 0.313526\n",
            "Train Epoch: 15 [30720/60000 (64%)]\tLoss: 0.426764\n",
            "Train Epoch: 15 [35840/60000 (74%)]\tLoss: 0.344650\n",
            "Train Epoch: 15 [40960/60000 (85%)]\tLoss: 0.335554\n",
            "Train Epoch: 15 [46080/60000 (96%)]\tLoss: 0.434367\n",
            "\n",
            "Test set: Avg. loss: 0.0704, Accuracy: 10642/60000 (18%)\n",
            "\n",
            "Train Epoch: 16 [0/60000 (0%)]\tLoss: 0.194908\n",
            "Train Epoch: 16 [5120/60000 (11%)]\tLoss: 0.276304\n",
            "Train Epoch: 16 [10240/60000 (21%)]\tLoss: 0.267706\n",
            "Train Epoch: 16 [15360/60000 (32%)]\tLoss: 0.305615\n",
            "Train Epoch: 16 [20480/60000 (43%)]\tLoss: 0.266469\n",
            "Train Epoch: 16 [25600/60000 (53%)]\tLoss: 0.313529\n",
            "Train Epoch: 16 [30720/60000 (64%)]\tLoss: 0.414164\n",
            "Train Epoch: 16 [35840/60000 (74%)]\tLoss: 0.378493\n",
            "Train Epoch: 16 [40960/60000 (85%)]\tLoss: 0.347891\n",
            "Train Epoch: 16 [46080/60000 (96%)]\tLoss: 0.349235\n",
            "\n",
            "Test set: Avg. loss: 0.0698, Accuracy: 10659/60000 (18%)\n",
            "\n",
            "Train Epoch: 17 [0/60000 (0%)]\tLoss: 0.358923\n",
            "Train Epoch: 17 [5120/60000 (11%)]\tLoss: 0.281112\n",
            "Train Epoch: 17 [10240/60000 (21%)]\tLoss: 0.332302\n",
            "Train Epoch: 17 [15360/60000 (32%)]\tLoss: 0.352661\n",
            "Train Epoch: 17 [20480/60000 (43%)]\tLoss: 0.206334\n",
            "Train Epoch: 17 [25600/60000 (53%)]\tLoss: 0.319818\n",
            "Train Epoch: 17 [30720/60000 (64%)]\tLoss: 0.251177\n",
            "Train Epoch: 17 [35840/60000 (74%)]\tLoss: 0.346940\n",
            "Train Epoch: 17 [40960/60000 (85%)]\tLoss: 0.348550\n",
            "Train Epoch: 17 [46080/60000 (96%)]\tLoss: 0.360055\n",
            "\n",
            "Test set: Avg. loss: 0.0697, Accuracy: 10641/60000 (18%)\n",
            "\n",
            "Train Epoch: 18 [0/60000 (0%)]\tLoss: 0.268180\n",
            "Train Epoch: 18 [5120/60000 (11%)]\tLoss: 0.307497\n",
            "Train Epoch: 18 [10240/60000 (21%)]\tLoss: 0.379553\n",
            "Train Epoch: 18 [15360/60000 (32%)]\tLoss: 0.257280\n",
            "Train Epoch: 18 [20480/60000 (43%)]\tLoss: 0.332744\n",
            "Train Epoch: 18 [25600/60000 (53%)]\tLoss: 0.230540\n",
            "Train Epoch: 18 [30720/60000 (64%)]\tLoss: 0.319648\n",
            "Train Epoch: 18 [35840/60000 (74%)]\tLoss: 0.360929\n",
            "Train Epoch: 18 [40960/60000 (85%)]\tLoss: 0.316149\n",
            "Train Epoch: 18 [46080/60000 (96%)]\tLoss: 0.343110\n",
            "\n",
            "Test set: Avg. loss: 0.0696, Accuracy: 10653/60000 (18%)\n",
            "\n",
            "Train Epoch: 19 [0/60000 (0%)]\tLoss: 0.230697\n",
            "Train Epoch: 19 [5120/60000 (11%)]\tLoss: 0.253972\n",
            "Train Epoch: 19 [10240/60000 (21%)]\tLoss: 0.312234\n",
            "Train Epoch: 19 [15360/60000 (32%)]\tLoss: 0.272557\n",
            "Train Epoch: 19 [20480/60000 (43%)]\tLoss: 0.301016\n",
            "Train Epoch: 19 [25600/60000 (53%)]\tLoss: 0.308151\n",
            "Train Epoch: 19 [30720/60000 (64%)]\tLoss: 0.271498\n",
            "Train Epoch: 19 [35840/60000 (74%)]\tLoss: 0.343890\n",
            "Train Epoch: 19 [40960/60000 (85%)]\tLoss: 0.262975\n",
            "Train Epoch: 19 [46080/60000 (96%)]\tLoss: 0.293684\n",
            "\n",
            "Test set: Avg. loss: 0.0681, Accuracy: 10704/60000 (18%)\n",
            "\n",
            "Train Epoch: 20 [0/60000 (0%)]\tLoss: 0.234657\n",
            "Train Epoch: 20 [5120/60000 (11%)]\tLoss: 0.327400\n",
            "Train Epoch: 20 [10240/60000 (21%)]\tLoss: 0.300492\n",
            "Train Epoch: 20 [15360/60000 (32%)]\tLoss: 0.306461\n",
            "Train Epoch: 20 [20480/60000 (43%)]\tLoss: 0.283111\n",
            "Train Epoch: 20 [25600/60000 (53%)]\tLoss: 0.311381\n",
            "Train Epoch: 20 [30720/60000 (64%)]\tLoss: 0.270733\n",
            "Train Epoch: 20 [35840/60000 (74%)]\tLoss: 0.387704\n",
            "Train Epoch: 20 [40960/60000 (85%)]\tLoss: 0.215738\n",
            "Train Epoch: 20 [46080/60000 (96%)]\tLoss: 0.330178\n",
            "\n",
            "Test set: Avg. loss: 0.0690, Accuracy: 10655/60000 (18%)\n",
            "\n",
            "Train Epoch: 21 [0/60000 (0%)]\tLoss: 0.279875\n",
            "Train Epoch: 21 [5120/60000 (11%)]\tLoss: 0.253650\n",
            "Train Epoch: 21 [10240/60000 (21%)]\tLoss: 0.209236\n",
            "Train Epoch: 21 [15360/60000 (32%)]\tLoss: 0.264660\n",
            "Train Epoch: 21 [20480/60000 (43%)]\tLoss: 0.250512\n",
            "Train Epoch: 21 [25600/60000 (53%)]\tLoss: 0.288912\n",
            "Train Epoch: 21 [30720/60000 (64%)]\tLoss: 0.256126\n",
            "Train Epoch: 21 [35840/60000 (74%)]\tLoss: 0.313183\n",
            "Train Epoch: 21 [40960/60000 (85%)]\tLoss: 0.340448\n",
            "Train Epoch: 21 [46080/60000 (96%)]\tLoss: 0.257796\n",
            "\n",
            "Test set: Avg. loss: 0.0632, Accuracy: 10791/60000 (18%)\n",
            "\n",
            "Train Epoch: 22 [0/60000 (0%)]\tLoss: 0.220131\n",
            "Train Epoch: 22 [5120/60000 (11%)]\tLoss: 0.288144\n",
            "Train Epoch: 22 [10240/60000 (21%)]\tLoss: 0.237386\n",
            "Train Epoch: 22 [15360/60000 (32%)]\tLoss: 0.243199\n",
            "Train Epoch: 22 [20480/60000 (43%)]\tLoss: 0.369662\n",
            "Train Epoch: 22 [25600/60000 (53%)]\tLoss: 0.292972\n",
            "Train Epoch: 22 [30720/60000 (64%)]\tLoss: 0.328279\n",
            "Train Epoch: 22 [35840/60000 (74%)]\tLoss: 0.235793\n",
            "Train Epoch: 22 [40960/60000 (85%)]\tLoss: 0.305874\n",
            "Train Epoch: 22 [46080/60000 (96%)]\tLoss: 0.296328\n",
            "\n",
            "Test set: Avg. loss: 0.0668, Accuracy: 10719/60000 (18%)\n",
            "\n",
            "Train Epoch: 23 [0/60000 (0%)]\tLoss: 0.236756\n",
            "Train Epoch: 23 [5120/60000 (11%)]\tLoss: 0.276429\n",
            "Train Epoch: 23 [10240/60000 (21%)]\tLoss: 0.277565\n",
            "Train Epoch: 23 [15360/60000 (32%)]\tLoss: 0.314755\n",
            "Train Epoch: 23 [20480/60000 (43%)]\tLoss: 0.273293\n",
            "Train Epoch: 23 [25600/60000 (53%)]\tLoss: 0.222081\n",
            "Train Epoch: 23 [30720/60000 (64%)]\tLoss: 0.247594\n",
            "Train Epoch: 23 [35840/60000 (74%)]\tLoss: 0.227201\n",
            "Train Epoch: 23 [40960/60000 (85%)]\tLoss: 0.321490\n",
            "Train Epoch: 23 [46080/60000 (96%)]\tLoss: 0.260193\n",
            "\n",
            "Test set: Avg. loss: 0.0632, Accuracy: 10797/60000 (18%)\n",
            "\n",
            "Train Epoch: 24 [0/60000 (0%)]\tLoss: 0.255665\n",
            "Train Epoch: 24 [5120/60000 (11%)]\tLoss: 0.218076\n",
            "Train Epoch: 24 [10240/60000 (21%)]\tLoss: 0.286468\n",
            "Train Epoch: 24 [15360/60000 (32%)]\tLoss: 0.339039\n",
            "Train Epoch: 24 [20480/60000 (43%)]\tLoss: 0.225698\n",
            "Train Epoch: 24 [25600/60000 (53%)]\tLoss: 0.377375\n",
            "Train Epoch: 24 [30720/60000 (64%)]\tLoss: 0.198418\n",
            "Train Epoch: 24 [35840/60000 (74%)]\tLoss: 0.285179\n",
            "Train Epoch: 24 [40960/60000 (85%)]\tLoss: 0.262589\n",
            "Train Epoch: 24 [46080/60000 (96%)]\tLoss: 0.228777\n",
            "\n",
            "Test set: Avg. loss: 0.0642, Accuracy: 10765/60000 (18%)\n",
            "\n",
            "Train Epoch: 25 [0/60000 (0%)]\tLoss: 0.253494\n",
            "Train Epoch: 25 [5120/60000 (11%)]\tLoss: 0.290271\n",
            "Train Epoch: 25 [10240/60000 (21%)]\tLoss: 0.170035\n",
            "Train Epoch: 25 [15360/60000 (32%)]\tLoss: 0.242658\n",
            "Train Epoch: 25 [20480/60000 (43%)]\tLoss: 0.225797\n",
            "Train Epoch: 25 [25600/60000 (53%)]\tLoss: 0.222212\n",
            "Train Epoch: 25 [30720/60000 (64%)]\tLoss: 0.253920\n",
            "Train Epoch: 25 [35840/60000 (74%)]\tLoss: 0.273320\n",
            "Train Epoch: 25 [40960/60000 (85%)]\tLoss: 0.284889\n",
            "Train Epoch: 25 [46080/60000 (96%)]\tLoss: 0.201909\n",
            "\n",
            "Test set: Avg. loss: 0.0638, Accuracy: 10785/60000 (18%)\n",
            "\n",
            "Train Epoch: 26 [0/60000 (0%)]\tLoss: 0.219082\n",
            "Train Epoch: 26 [5120/60000 (11%)]\tLoss: 0.254537\n",
            "Train Epoch: 26 [10240/60000 (21%)]\tLoss: 0.148233\n",
            "Train Epoch: 26 [15360/60000 (32%)]\tLoss: 0.190298\n",
            "Train Epoch: 26 [20480/60000 (43%)]\tLoss: 0.249230\n",
            "Train Epoch: 26 [25600/60000 (53%)]\tLoss: 0.261373\n",
            "Train Epoch: 26 [30720/60000 (64%)]\tLoss: 0.289804\n",
            "Train Epoch: 26 [35840/60000 (74%)]\tLoss: 0.226881\n",
            "Train Epoch: 26 [40960/60000 (85%)]\tLoss: 0.373850\n",
            "Train Epoch: 26 [46080/60000 (96%)]\tLoss: 0.213542\n",
            "\n",
            "Test set: Avg. loss: 0.0600, Accuracy: 10854/60000 (18%)\n",
            "\n",
            "Train Epoch: 27 [0/60000 (0%)]\tLoss: 0.251481\n",
            "Train Epoch: 27 [5120/60000 (11%)]\tLoss: 0.195594\n",
            "Train Epoch: 27 [10240/60000 (21%)]\tLoss: 0.232847\n",
            "Train Epoch: 27 [15360/60000 (32%)]\tLoss: 0.196255\n",
            "Train Epoch: 27 [20480/60000 (43%)]\tLoss: 0.263685\n",
            "Train Epoch: 27 [25600/60000 (53%)]\tLoss: 0.174511\n",
            "Train Epoch: 27 [30720/60000 (64%)]\tLoss: 0.239935\n",
            "Train Epoch: 27 [35840/60000 (74%)]\tLoss: 0.179801\n",
            "Train Epoch: 27 [40960/60000 (85%)]\tLoss: 0.200245\n",
            "Train Epoch: 27 [46080/60000 (96%)]\tLoss: 0.234456\n",
            "\n",
            "Test set: Avg. loss: 0.0607, Accuracy: 10846/60000 (18%)\n",
            "\n",
            "Train Epoch: 28 [0/60000 (0%)]\tLoss: 0.240599\n",
            "Train Epoch: 28 [5120/60000 (11%)]\tLoss: 0.264135\n",
            "Train Epoch: 28 [10240/60000 (21%)]\tLoss: 0.268929\n",
            "Train Epoch: 28 [15360/60000 (32%)]\tLoss: 0.272706\n",
            "Train Epoch: 28 [20480/60000 (43%)]\tLoss: 0.246382\n",
            "Train Epoch: 28 [25600/60000 (53%)]\tLoss: 0.264074\n",
            "Train Epoch: 28 [30720/60000 (64%)]\tLoss: 0.241330\n",
            "Train Epoch: 28 [35840/60000 (74%)]\tLoss: 0.279901\n",
            "Train Epoch: 28 [40960/60000 (85%)]\tLoss: 0.240538\n",
            "Train Epoch: 28 [46080/60000 (96%)]\tLoss: 0.232427\n",
            "\n",
            "Test set: Avg. loss: 0.0598, Accuracy: 10867/60000 (18%)\n",
            "\n",
            "Train Epoch: 29 [0/60000 (0%)]\tLoss: 0.173282\n",
            "Train Epoch: 29 [5120/60000 (11%)]\tLoss: 0.198042\n",
            "Train Epoch: 29 [10240/60000 (21%)]\tLoss: 0.244587\n",
            "Train Epoch: 29 [15360/60000 (32%)]\tLoss: 0.182915\n",
            "Train Epoch: 29 [20480/60000 (43%)]\tLoss: 0.270819\n",
            "Train Epoch: 29 [25600/60000 (53%)]\tLoss: 0.269419\n",
            "Train Epoch: 29 [30720/60000 (64%)]\tLoss: 0.329769\n",
            "Train Epoch: 29 [35840/60000 (74%)]\tLoss: 0.195020\n",
            "Train Epoch: 29 [40960/60000 (85%)]\tLoss: 0.200403\n",
            "Train Epoch: 29 [46080/60000 (96%)]\tLoss: 0.232095\n",
            "\n",
            "Test set: Avg. loss: 0.0603, Accuracy: 10823/60000 (18%)\n",
            "\n",
            "Train Epoch: 30 [0/60000 (0%)]\tLoss: 0.242822\n",
            "Train Epoch: 30 [5120/60000 (11%)]\tLoss: 0.246822\n",
            "Train Epoch: 30 [10240/60000 (21%)]\tLoss: 0.181260\n",
            "Train Epoch: 30 [15360/60000 (32%)]\tLoss: 0.174699\n",
            "Train Epoch: 30 [20480/60000 (43%)]\tLoss: 0.209933\n",
            "Train Epoch: 30 [25600/60000 (53%)]\tLoss: 0.209700\n",
            "Train Epoch: 30 [30720/60000 (64%)]\tLoss: 0.283482\n",
            "Train Epoch: 30 [35840/60000 (74%)]\tLoss: 0.214563\n",
            "Train Epoch: 30 [40960/60000 (85%)]\tLoss: 0.269150\n",
            "Train Epoch: 30 [46080/60000 (96%)]\tLoss: 0.261620\n",
            "\n",
            "Test set: Avg. loss: 0.0607, Accuracy: 10845/60000 (18%)\n",
            "\n",
            "Train Epoch: 31 [0/60000 (0%)]\tLoss: 0.201608\n",
            "Train Epoch: 31 [5120/60000 (11%)]\tLoss: 0.263427\n",
            "Train Epoch: 31 [10240/60000 (21%)]\tLoss: 0.271132\n",
            "Train Epoch: 31 [15360/60000 (32%)]\tLoss: 0.233977\n",
            "Train Epoch: 31 [20480/60000 (43%)]\tLoss: 0.214957\n",
            "Train Epoch: 31 [25600/60000 (53%)]\tLoss: 0.292197\n",
            "Train Epoch: 31 [30720/60000 (64%)]\tLoss: 0.183142\n",
            "Train Epoch: 31 [35840/60000 (74%)]\tLoss: 0.225519\n",
            "Train Epoch: 31 [40960/60000 (85%)]\tLoss: 0.330319\n",
            "Train Epoch: 31 [46080/60000 (96%)]\tLoss: 0.161919\n",
            "\n",
            "Test set: Avg. loss: 0.0606, Accuracy: 10839/60000 (18%)\n",
            "\n",
            "Train Epoch: 32 [0/60000 (0%)]\tLoss: 0.165565\n",
            "Train Epoch: 32 [5120/60000 (11%)]\tLoss: 0.194023\n",
            "Train Epoch: 32 [10240/60000 (21%)]\tLoss: 0.254388\n",
            "Train Epoch: 32 [15360/60000 (32%)]\tLoss: 0.191280\n",
            "Train Epoch: 32 [20480/60000 (43%)]\tLoss: 0.261896\n",
            "Train Epoch: 32 [25600/60000 (53%)]\tLoss: 0.161883\n",
            "Train Epoch: 32 [30720/60000 (64%)]\tLoss: 0.244389\n",
            "Train Epoch: 32 [35840/60000 (74%)]\tLoss: 0.232798\n",
            "Train Epoch: 32 [40960/60000 (85%)]\tLoss: 0.208670\n",
            "Train Epoch: 32 [46080/60000 (96%)]\tLoss: 0.291174\n",
            "\n",
            "Test set: Avg. loss: 0.0609, Accuracy: 10846/60000 (18%)\n",
            "\n",
            "Train Epoch: 33 [0/60000 (0%)]\tLoss: 0.207929\n",
            "Train Epoch: 33 [5120/60000 (11%)]\tLoss: 0.292326\n",
            "Train Epoch: 33 [10240/60000 (21%)]\tLoss: 0.172012\n",
            "Train Epoch: 33 [15360/60000 (32%)]\tLoss: 0.282825\n",
            "Train Epoch: 33 [20480/60000 (43%)]\tLoss: 0.231167\n",
            "Train Epoch: 33 [25600/60000 (53%)]\tLoss: 0.256715\n",
            "Train Epoch: 33 [30720/60000 (64%)]\tLoss: 0.194457\n",
            "Train Epoch: 33 [35840/60000 (74%)]\tLoss: 0.239825\n",
            "Train Epoch: 33 [40960/60000 (85%)]\tLoss: 0.282024\n",
            "Train Epoch: 33 [46080/60000 (96%)]\tLoss: 0.309719\n",
            "\n",
            "Test set: Avg. loss: 0.0595, Accuracy: 10877/60000 (18%)\n",
            "\n",
            "Train Epoch: 34 [0/60000 (0%)]\tLoss: 0.177881\n",
            "Train Epoch: 34 [5120/60000 (11%)]\tLoss: 0.176642\n",
            "Train Epoch: 34 [10240/60000 (21%)]\tLoss: 0.217934\n",
            "Train Epoch: 34 [15360/60000 (32%)]\tLoss: 0.269145\n",
            "Train Epoch: 34 [20480/60000 (43%)]\tLoss: 0.224721\n",
            "Train Epoch: 34 [25600/60000 (53%)]\tLoss: 0.294289\n",
            "Train Epoch: 34 [30720/60000 (64%)]\tLoss: 0.162413\n",
            "Train Epoch: 34 [35840/60000 (74%)]\tLoss: 0.257760\n",
            "Train Epoch: 34 [40960/60000 (85%)]\tLoss: 0.286441\n",
            "Train Epoch: 34 [46080/60000 (96%)]\tLoss: 0.207507\n",
            "\n",
            "Test set: Avg. loss: 0.0578, Accuracy: 10913/60000 (18%)\n",
            "\n",
            "Train Epoch: 35 [0/60000 (0%)]\tLoss: 0.178376\n",
            "Train Epoch: 35 [5120/60000 (11%)]\tLoss: 0.178046\n",
            "Train Epoch: 35 [10240/60000 (21%)]\tLoss: 0.161278\n",
            "Train Epoch: 35 [15360/60000 (32%)]\tLoss: 0.218888\n",
            "Train Epoch: 35 [20480/60000 (43%)]\tLoss: 0.218590\n",
            "Train Epoch: 35 [25600/60000 (53%)]\tLoss: 0.183192\n",
            "Train Epoch: 35 [30720/60000 (64%)]\tLoss: 0.204015\n",
            "Train Epoch: 35 [35840/60000 (74%)]\tLoss: 0.189498\n",
            "Train Epoch: 35 [40960/60000 (85%)]\tLoss: 0.149184\n",
            "Train Epoch: 35 [46080/60000 (96%)]\tLoss: 0.175708\n",
            "\n",
            "Test set: Avg. loss: 0.0584, Accuracy: 10908/60000 (18%)\n",
            "\n",
            "Train Epoch: 36 [0/60000 (0%)]\tLoss: 0.255060\n",
            "Train Epoch: 36 [5120/60000 (11%)]\tLoss: 0.174586\n",
            "Train Epoch: 36 [10240/60000 (21%)]\tLoss: 0.162963\n",
            "Train Epoch: 36 [15360/60000 (32%)]\tLoss: 0.230223\n",
            "Train Epoch: 36 [20480/60000 (43%)]\tLoss: 0.323218\n",
            "Train Epoch: 36 [25600/60000 (53%)]\tLoss: 0.142810\n",
            "Train Epoch: 36 [30720/60000 (64%)]\tLoss: 0.170382\n",
            "Train Epoch: 36 [35840/60000 (74%)]\tLoss: 0.159030\n",
            "Train Epoch: 36 [40960/60000 (85%)]\tLoss: 0.185259\n",
            "Train Epoch: 36 [46080/60000 (96%)]\tLoss: 0.185683\n",
            "\n",
            "Test set: Avg. loss: 0.0643, Accuracy: 10806/60000 (18%)\n",
            "\n",
            "Train Epoch: 37 [0/60000 (0%)]\tLoss: 0.167687\n",
            "Train Epoch: 37 [5120/60000 (11%)]\tLoss: 0.217279\n",
            "Train Epoch: 37 [10240/60000 (21%)]\tLoss: 0.170913\n",
            "Train Epoch: 37 [15360/60000 (32%)]\tLoss: 0.246025\n",
            "Train Epoch: 37 [20480/60000 (43%)]\tLoss: 0.215507\n",
            "Train Epoch: 37 [25600/60000 (53%)]\tLoss: 0.209881\n",
            "Train Epoch: 37 [30720/60000 (64%)]\tLoss: 0.190590\n",
            "Train Epoch: 37 [35840/60000 (74%)]\tLoss: 0.215362\n",
            "Train Epoch: 37 [40960/60000 (85%)]\tLoss: 0.197290\n",
            "Train Epoch: 37 [46080/60000 (96%)]\tLoss: 0.214876\n",
            "\n",
            "Test set: Avg. loss: 0.0591, Accuracy: 10885/60000 (18%)\n",
            "\n",
            "Train Epoch: 38 [0/60000 (0%)]\tLoss: 0.155656\n",
            "Train Epoch: 38 [5120/60000 (11%)]\tLoss: 0.151393\n",
            "Train Epoch: 38 [10240/60000 (21%)]\tLoss: 0.138365\n",
            "Train Epoch: 38 [15360/60000 (32%)]\tLoss: 0.209815\n",
            "Train Epoch: 38 [20480/60000 (43%)]\tLoss: 0.234405\n",
            "Train Epoch: 38 [25600/60000 (53%)]\tLoss: 0.144564\n",
            "Train Epoch: 38 [30720/60000 (64%)]\tLoss: 0.205885\n",
            "Train Epoch: 38 [35840/60000 (74%)]\tLoss: 0.187069\n",
            "Train Epoch: 38 [40960/60000 (85%)]\tLoss: 0.276712\n",
            "Train Epoch: 38 [46080/60000 (96%)]\tLoss: 0.172912\n",
            "\n",
            "Test set: Avg. loss: 0.0602, Accuracy: 10893/60000 (18%)\n",
            "\n",
            "Train Epoch: 39 [0/60000 (0%)]\tLoss: 0.198425\n",
            "Train Epoch: 39 [5120/60000 (11%)]\tLoss: 0.173104\n",
            "Train Epoch: 39 [10240/60000 (21%)]\tLoss: 0.149786\n",
            "Train Epoch: 39 [15360/60000 (32%)]\tLoss: 0.205270\n",
            "Train Epoch: 39 [20480/60000 (43%)]\tLoss: 0.191161\n",
            "Train Epoch: 39 [25600/60000 (53%)]\tLoss: 0.199103\n",
            "Train Epoch: 39 [30720/60000 (64%)]\tLoss: 0.255489\n",
            "Train Epoch: 39 [35840/60000 (74%)]\tLoss: 0.225196\n",
            "Train Epoch: 39 [40960/60000 (85%)]\tLoss: 0.168146\n",
            "Train Epoch: 39 [46080/60000 (96%)]\tLoss: 0.245231\n",
            "\n",
            "Test set: Avg. loss: 0.0584, Accuracy: 10885/60000 (18%)\n",
            "\n"
          ],
          "name": "stdout"
        }
      ]
    },
    {
      "cell_type": "code",
      "metadata": {
        "colab": {
          "base_uri": "https://localhost:8080/",
          "height": 296
        },
        "id": "QcRRKE7MzSEQ",
        "outputId": "3e37f870-16ce-4932-b5a2-d6e60681f816"
      },
      "source": [
        "fig = plt.figure()\n",
        "plt.plot(train_counter, train_losses, color='blue')\n",
        "plt.legend(['Train Loss'], loc='upper right')\n",
        "plt.xlabel('number of training examples seen')\n",
        "plt.ylabel('negative log likelihood loss')"
      ],
      "execution_count": 45,
      "outputs": [
        {
          "output_type": "execute_result",
          "data": {
            "text/plain": [
              "Text(0, 0.5, 'negative log likelihood loss')"
            ]
          },
          "metadata": {
            "tags": []
          },
          "execution_count": 45
        },
        {
          "output_type": "display_data",
          "data": {
            "image/png": "[encoded data removed]",
            "text/plain": [
              "<Figure size 432x288 with 1 Axes>"
            ]
          },
          "metadata": {
            "tags": [],
            "needs_background": "light"
          }
        }
      ]
    },
    {
      "cell_type": "markdown",
      "metadata": {
        "id": "DIDJM1PnADIt"
      },
      "source": [
        "## Deeper"
      ]
    },
    {
      "cell_type": "code",
      "metadata": {
        "id": "Vcqne0XZLcYf"
      },
      "source": [
        "import torch.nn as nn\n",
        "import torch.nn.functional as F\n",
        "import torch.optim as optim"
      ],
      "execution_count": 35,
      "outputs": []
    },
    {
      "cell_type": "code",
      "metadata": {
        "id": "tdDmYca6CmXP"
      },
      "source": [
        "device = torch.device('cuda' if torch.cuda.is_available() else 'cpu')"
      ],
      "execution_count": null,
      "outputs": []
    },
    {
      "cell_type": "code",
      "metadata": {
        "id": "8MWRg9T5AFNR"
      },
      "source": [
        "class MyModel(nn.Module):\n",
        "  def __init__(self):\n",
        "    super(MyModel, self).__init__()\n",
        "    \n",
        "    self.model = nn.Sequential(\n",
        "      nn.Conv2d(1, 16, kernel_size=3), nn.ReLU(), # 26*26\n",
        "      nn.Conv2d(16, 16, kernel_size=3), nn.ReLU(), # 24*24\n",
        "      # nn.MaxPool2d(2,2), # 13*13\n",
        "\n",
        "      nn.Conv2d(16, 32, kernel_size=3), nn.ReLU(),  # 22*22\n",
        "      nn.Conv2d(32, 32, kernel_size=3), nn.ReLU(),  # 20*20\n",
        "      # nn.MaxPool2d(2,2),  # 6*6\n",
        "\n",
        "      nn.Conv2d(32, 64, kernel_size=3), nn.ReLU(),  # 18*18\n",
        "      nn.Conv2d(64, 64, kernel_size=3), nn.ReLU(),  # 16*16\n",
        "      # nn.MaxPool2d(2,2),  # 2*2\n",
        "\n",
        "      nn.Conv2d(64, 128, kernel_size=3), nn.ReLU(), # 14*14\n",
        "      nn.Conv2d(128, 128, kernel_size=3), nn.ReLU(),  # 12*12\n",
        "      # nn.MaxPool2d(2,2),\n",
        "\n",
        "      nn.Conv2d(128, 256, kernel_size=3), nn.ReLU(),  # 10*10\n",
        "      nn.Conv2d(256, 256, kernel_size=3), nn.ReLU(),  # 8*8\n",
        "      nn.MaxPool2d(2,2),  # 4*4\n",
        "\n",
        "    )\n",
        "    \n",
        "    self.classifier = nn.Sequential(\n",
        "      nn.Flatten(),\n",
        "      nn.Dropout(0.25),\n",
        "      # nn.Linear(4096, 256),\n",
        "      nn.Linear(4096, 256),\n",
        "      nn.ReLU(),\n",
        "\n",
        "      nn.Dropout(0.5),\n",
        "      nn.Linear(256, 10),\n",
        "      nn.Softmax(dim=1)\n",
        "    )\n",
        "    \n",
        "  def forward(self, x):\n",
        "    f = self.model(x)\n",
        "    y_pred = self.classifier(f)\n",
        "    return y_pred\n",
        "\n",
        "network = MyModel()\n",
        "# summary(model, (3,256,256))"
      ],
      "execution_count": 36,
      "outputs": []
    },
    {
      "cell_type": "code",
      "metadata": {
        "id": "7daPmiD_EJ53"
      },
      "source": [
        "optimizer = optim.Adam(network.parameters())\n",
        "\n",
        "train_losses = []\n",
        "train_counter = []\n",
        "test_losses = []\n",
        "test_counter = [i*len(train_loader.dataset) for i in range(3)]"
      ],
      "execution_count": 37,
      "outputs": []
    },
    {
      "cell_type": "code",
      "metadata": {
        "id": "tv66liBRDHL9"
      },
      "source": [
        "def train(epoch):\n",
        "  network.train()\n",
        "  for batch_idx, (data, target) in enumerate(train_loader):\n",
        "    optimizer.zero_grad()\n",
        "    output = network(data)\n",
        "\n",
        "    loss = F.nll_loss(output, target) #negative log likelihood loss\n",
        "    loss.backward()\n",
        "    optimizer.step()\n",
        "    if batch_idx % 20 == 0:\n",
        "      print('Train Epoch: {} [{}/{} ({:.0f}%)]\\tLoss: {:.6f}'.format(\n",
        "        epoch, batch_idx * len(data), len(train_loader.dataset),\n",
        "        100. * batch_idx / len(train_loader), loss.item()))\n",
        "      train_losses.append(loss.item())\n",
        "      train_counter.append(\n",
        "        (batch_idx*64) + ((epoch-1)*len(train_loader.dataset)))\n",
        "\n",
        "def test():\n",
        "  network.eval()\n",
        "  test_loss = 0\n",
        "  correct = 0\n",
        "  with torch.no_grad():\n",
        "    for data, target in val_loader:\n",
        "      output = network(data)\n",
        "      # this line is added to convert labels to LongTensor\n",
        "      # target = target.type(torch.LongTensor)\n",
        "      # target = torch.argmax(target, dim=1) # convert from 1-hot to 1D\n",
        "\n",
        "      test_loss += F.nll_loss(output, target, size_average=False).item()\n",
        "      pred = output.data.max(1, keepdim=True)[1]\n",
        "      correct += pred.eq(target.data.view_as(pred)).sum()\n",
        "  test_loss /= len(val_loader.dataset)\n",
        "  test_losses.append(test_loss)\n",
        "  print('\\nTest set: Avg. loss: {:.4f}, Accuracy: {}/{} ({:.0f}%)\\n'.format(\n",
        "    test_loss, correct, len(val_loader.dataset),\n",
        "    100. * correct / len(val_loader.dataset)))"
      ],
      "execution_count": 38,
      "outputs": []
    },
    {
      "cell_type": "code",
      "metadata": {
        "colab": {
          "base_uri": "https://localhost:8080/",
          "height": 443
        },
        "id": "30Rz0VM-FKN5",
        "outputId": "1efc1fa5-369e-4747-f0d6-d3bddc46479b"
      },
      "source": [
        "for epoch in range(1, 4):\n",
        "  train(epoch)\n",
        "  test()"
      ],
      "execution_count": 39,
      "outputs": [
        {
          "output_type": "stream",
          "text": [
            "Train Epoch: 1 [0/60000 (0%)]\tLoss: -0.099955\n",
            "Train Epoch: 1 [5120/60000 (11%)]\tLoss: -0.097481\n",
            "Train Epoch: 1 [10240/60000 (21%)]\tLoss: -0.074219\n",
            "Train Epoch: 1 [15360/60000 (32%)]\tLoss: -0.109375\n",
            "Train Epoch: 1 [20480/60000 (43%)]\tLoss: -0.101562\n"
          ],
          "name": "stdout"
        },
        {
          "output_type": "error",
          "ename": "KeyboardInterrupt",
          "evalue": "ignored",
          "traceback": [
            "\u001b[0;31m---------------------------------------------------------------------------\u001b[0m",
            "\u001b[0;31mKeyboardInterrupt\u001b[0m                         Traceback (most recent call last)",
            "\u001b[0;32m<ipython-input-39-02379a7662ab>\u001b[0m in \u001b[0;36m<module>\u001b[0;34m()\u001b[0m\n\u001b[1;32m      1\u001b[0m \u001b[0;32mfor\u001b[0m \u001b[0mepoch\u001b[0m \u001b[0;32min\u001b[0m \u001b[0mrange\u001b[0m\u001b[0;34m(\u001b[0m\u001b[0;36m1\u001b[0m\u001b[0;34m,\u001b[0m \u001b[0;36m4\u001b[0m\u001b[0;34m)\u001b[0m\u001b[0;34m:\u001b[0m\u001b[0;34m\u001b[0m\u001b[0;34m\u001b[0m\u001b[0m\n\u001b[0;32m----> 2\u001b[0;31m   \u001b[0mtrain\u001b[0m\u001b[0;34m(\u001b[0m\u001b[0mepoch\u001b[0m\u001b[0;34m)\u001b[0m\u001b[0;34m\u001b[0m\u001b[0;34m\u001b[0m\u001b[0m\n\u001b[0m\u001b[1;32m      3\u001b[0m   \u001b[0mtest\u001b[0m\u001b[0;34m(\u001b[0m\u001b[0;34m)\u001b[0m\u001b[0;34m\u001b[0m\u001b[0;34m\u001b[0m\u001b[0m\n",
            "\u001b[0;32m<ipython-input-38-e15993a0a7ef>\u001b[0m in \u001b[0;36mtrain\u001b[0;34m(epoch)\u001b[0m\n\u001b[1;32m      6\u001b[0m \u001b[0;34m\u001b[0m\u001b[0m\n\u001b[1;32m      7\u001b[0m     \u001b[0mloss\u001b[0m \u001b[0;34m=\u001b[0m \u001b[0mF\u001b[0m\u001b[0;34m.\u001b[0m\u001b[0mnll_loss\u001b[0m\u001b[0;34m(\u001b[0m\u001b[0moutput\u001b[0m\u001b[0;34m,\u001b[0m \u001b[0mtarget\u001b[0m\u001b[0;34m)\u001b[0m \u001b[0;31m#negative log likelihood loss\u001b[0m\u001b[0;34m\u001b[0m\u001b[0;34m\u001b[0m\u001b[0m\n\u001b[0;32m----> 8\u001b[0;31m     \u001b[0mloss\u001b[0m\u001b[0;34m.\u001b[0m\u001b[0mbackward\u001b[0m\u001b[0;34m(\u001b[0m\u001b[0;34m)\u001b[0m\u001b[0;34m\u001b[0m\u001b[0;34m\u001b[0m\u001b[0m\n\u001b[0m\u001b[1;32m      9\u001b[0m     \u001b[0moptimizer\u001b[0m\u001b[0;34m.\u001b[0m\u001b[0mstep\u001b[0m\u001b[0;34m(\u001b[0m\u001b[0;34m)\u001b[0m\u001b[0;34m\u001b[0m\u001b[0;34m\u001b[0m\u001b[0m\n\u001b[1;32m     10\u001b[0m     \u001b[0;32mif\u001b[0m \u001b[0mbatch_idx\u001b[0m \u001b[0;34m%\u001b[0m \u001b[0;36m20\u001b[0m \u001b[0;34m==\u001b[0m \u001b[0;36m0\u001b[0m\u001b[0;34m:\u001b[0m\u001b[0;34m\u001b[0m\u001b[0;34m\u001b[0m\u001b[0m\n",
            "\u001b[0;32m/usr/local/lib/python3.7/dist-packages/torch/tensor.py\u001b[0m in \u001b[0;36mbackward\u001b[0;34m(self, gradient, retain_graph, create_graph, inputs)\u001b[0m\n\u001b[1;32m    243\u001b[0m                 \u001b[0mcreate_graph\u001b[0m\u001b[0;34m=\u001b[0m\u001b[0mcreate_graph\u001b[0m\u001b[0;34m,\u001b[0m\u001b[0;34m\u001b[0m\u001b[0;34m\u001b[0m\u001b[0m\n\u001b[1;32m    244\u001b[0m                 inputs=inputs)\n\u001b[0;32m--> 245\u001b[0;31m         \u001b[0mtorch\u001b[0m\u001b[0;34m.\u001b[0m\u001b[0mautograd\u001b[0m\u001b[0;34m.\u001b[0m\u001b[0mbackward\u001b[0m\u001b[0;34m(\u001b[0m\u001b[0mself\u001b[0m\u001b[0;34m,\u001b[0m \u001b[0mgradient\u001b[0m\u001b[0;34m,\u001b[0m \u001b[0mretain_graph\u001b[0m\u001b[0;34m,\u001b[0m \u001b[0mcreate_graph\u001b[0m\u001b[0;34m,\u001b[0m \u001b[0minputs\u001b[0m\u001b[0;34m=\u001b[0m\u001b[0minputs\u001b[0m\u001b[0;34m)\u001b[0m\u001b[0;34m\u001b[0m\u001b[0;34m\u001b[0m\u001b[0m\n\u001b[0m\u001b[1;32m    246\u001b[0m \u001b[0;34m\u001b[0m\u001b[0m\n\u001b[1;32m    247\u001b[0m     \u001b[0;32mdef\u001b[0m \u001b[0mregister_hook\u001b[0m\u001b[0;34m(\u001b[0m\u001b[0mself\u001b[0m\u001b[0;34m,\u001b[0m \u001b[0mhook\u001b[0m\u001b[0;34m)\u001b[0m\u001b[0;34m:\u001b[0m\u001b[0;34m\u001b[0m\u001b[0;34m\u001b[0m\u001b[0m\n",
            "\u001b[0;32m/usr/local/lib/python3.7/dist-packages/torch/autograd/__init__.py\u001b[0m in \u001b[0;36mbackward\u001b[0;34m(tensors, grad_tensors, retain_graph, create_graph, grad_variables, inputs)\u001b[0m\n\u001b[1;32m    145\u001b[0m     Variable._execution_engine.run_backward(\n\u001b[1;32m    146\u001b[0m         \u001b[0mtensors\u001b[0m\u001b[0;34m,\u001b[0m \u001b[0mgrad_tensors_\u001b[0m\u001b[0;34m,\u001b[0m \u001b[0mretain_graph\u001b[0m\u001b[0;34m,\u001b[0m \u001b[0mcreate_graph\u001b[0m\u001b[0;34m,\u001b[0m \u001b[0minputs\u001b[0m\u001b[0;34m,\u001b[0m\u001b[0;34m\u001b[0m\u001b[0;34m\u001b[0m\u001b[0m\n\u001b[0;32m--> 147\u001b[0;31m         allow_unreachable=True, accumulate_grad=True)  # allow_unreachable flag\n\u001b[0m\u001b[1;32m    148\u001b[0m \u001b[0;34m\u001b[0m\u001b[0m\n\u001b[1;32m    149\u001b[0m \u001b[0;34m\u001b[0m\u001b[0m\n",
            "\u001b[0;31mKeyboardInterrupt\u001b[0m: "
          ]
        }
      ]
    },
    {
      "cell_type": "code",
      "metadata": {
        "colab": {
          "base_uri": "https://localhost:8080/"
        },
        "id": "fJ1U0lhpHojX",
        "outputId": "395e6940-9c14-4507-e62b-0b3a20fa9d83"
      },
      "source": [
        "print(torch.cuda.is_available())"
      ],
      "execution_count": null,
      "outputs": [
        {
          "output_type": "stream",
          "text": [
            "True\n"
          ],
          "name": "stdout"
        }
      ]
    }
  ]
}