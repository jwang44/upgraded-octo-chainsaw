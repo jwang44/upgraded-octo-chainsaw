{
  "nbformat": 4,
  "nbformat_minor": 0,
  "metadata": {
    "colab": {
      "name": "Load_data.ipynb",
      "provenance": [],
      "collapsed_sections": [
        "bRD5b061O7v2",
        "wdvC0-OfRnQV"
      ],
      "include_colab_link": true
    },
    "kernelspec": {
      "name": "python3",
      "display_name": "Python 3"
    }
  },
  "cells": [
    {
      "cell_type": "markdown",
      "metadata": {
        "id": "view-in-github",
        "colab_type": "text"
      },
      "source": [
        "<a href=\"https://colab.research.google.com/github/jwang44/upgraded-octo-chainsaw/blob/main/Load_data.ipynb\" target=\"_parent\"><img src=\"https://colab.research.google.com/assets/colab-badge.svg\" alt=\"Open In Colab\"/></a>"
      ]
    },
    {
      "cell_type": "code",
      "metadata": {
        "colab": {
          "base_uri": "https://localhost:8080/"
        },
        "id": "0dOxAvsuIul3",
        "outputId": "7c9dd8d6-7cdd-4672-fc37-aa5a79891afe"
      },
      "source": [
        "from google.colab import drive\n",
        "drive.mount('/content/drive')"
      ],
      "execution_count": 46,
      "outputs": [
        {
          "output_type": "stream",
          "text": [
            "Drive already mounted at /content/drive; to attempt to forcibly remount, call drive.mount(\"/content/drive\", force_remount=True).\n"
          ],
          "name": "stdout"
        }
      ]
    },
    {
      "cell_type": "code",
      "metadata": {
        "colab": {
          "base_uri": "https://localhost:8080/"
        },
        "id": "hgry_nK5mW0a",
        "outputId": "d03bb0a6-ab72-465d-d91a-fbd26a8d7403"
      },
      "source": [
        "%cd '/content/drive/MyDrive/imageunderstanding'\n",
        "!ls"
      ],
      "execution_count": 1,
      "outputs": [
        {
          "output_type": "stream",
          "text": [
            "/content/drive/MyDrive/imageunderstanding\n",
            "ExampleSubmissionRandom.csv  Test.pkl\t       Train.pkl\n",
            "Load_data.ipynb\t\t     Train_labels.csv\n"
          ],
          "name": "stdout"
        }
      ]
    },
    {
      "cell_type": "code",
      "metadata": {
        "id": "T1-Hfwf3lrw4"
      },
      "source": [
        "TRAIN_DATA_PATH = \"Train.pkl\"\n",
        "TRAIN_LABEL_PATH = \"Train_labels.csv\"\n",
        "TEST_DATA_PATH = \"Test.pkl\""
      ],
      "execution_count": 8,
      "outputs": []
    },
    {
      "cell_type": "code",
      "metadata": {
        "id": "7XS2MS7nHzIN"
      },
      "source": [
        "import pickle\n",
        "import matplotlib.pyplot as plt\n",
        "import numpy as np\n",
        "from torchvision import transforms\n",
        "from torch.utils.data import Dataset\n",
        "from torch.utils.data import DataLoader, TensorDataset\n",
        "from PIL import Image\n",
        "import torch"
      ],
      "execution_count": 3,
      "outputs": []
    },
    {
      "cell_type": "code",
      "metadata": {
        "colab": {
          "base_uri": "https://localhost:8080/"
        },
        "id": "FBXdYCpunCp2",
        "outputId": "d2c08ccd-c107-422d-a50d-fff31f4cdaf3"
      },
      "source": [
        "DEVICE = torch.device('cuda' if torch.cuda.is_available() else 'cpu')\n",
        "DEVICE"
      ],
      "execution_count": 4,
      "outputs": [
        {
          "output_type": "execute_result",
          "data": {
            "text/plain": [
              "device(type='cpu')"
            ]
          },
          "metadata": {
            "tags": []
          },
          "execution_count": 4
        }
      ]
    },
    {
      "cell_type": "code",
      "metadata": {
        "id": "zppkOjQwVjy2"
      },
      "source": [
        "torch.manual_seed(0)\n",
        "torch.cuda.manual_seed(0)"
      ],
      "execution_count": null,
      "outputs": []
    },
    {
      "cell_type": "markdown",
      "metadata": {
        "id": "oo2KSbBVO-iF"
      },
      "source": [
        "## Load data (Obsolete)"
      ]
    },
    {
      "cell_type": "code",
      "metadata": {
        "id": "-LNAz6GbXoY2"
      },
      "source": [
        "# Read image data and their label into a Dataset \n",
        "data = pickle.load( open( 'Train.pkl', 'rb' ))\n",
        "# this line is changed to \n",
        "# 1. make sure data and targets are of the same dimension\n",
        "# 2. drop the index column\n",
        "targets = np.genfromtxt('Train_labels.csv', delimiter=',', skip_header=1, usecols=1)"
      ],
      "execution_count": null,
      "outputs": []
    },
    {
      "cell_type": "code",
      "metadata": {
        "colab": {
          "base_uri": "https://localhost:8080/"
        },
        "id": "morX3bucqlDD",
        "outputId": "53778750-7db7-4ad2-9689-3af92d1e5447"
      },
      "source": [
        "# convert targets to one-hot OPTIONAL\n",
        "from sklearn.preprocessing import OneHotEncoder\n",
        "\n",
        "print(\"targets shape: \", targets.shape)\n",
        "one_hot = OneHotEncoder(sparse=False)\n",
        "targets = one_hot.fit_transform(targets.reshape(-1,1))\n",
        "print(\"targets shape: \", targets.shape)"
      ],
      "execution_count": null,
      "outputs": [
        {
          "output_type": "stream",
          "text": [
            "targets shape:  (60000,)\n",
            "targets shape:  (60000, 10)\n"
          ],
          "name": "stdout"
        }
      ]
    },
    {
      "cell_type": "code",
      "metadata": {
        "id": "06TVorE6q0cK"
      },
      "source": [
        "data = torch.from_numpy(data)\n",
        "targets = torch.from_numpy(targets)\n",
        "targets = targets.type(torch.LongTensor)\n",
        "dataset = TensorDataset(data,targets)"
      ],
      "execution_count": null,
      "outputs": []
    },
    {
      "cell_type": "code",
      "metadata": {
        "colab": {
          "base_uri": "https://localhost:8080/"
        },
        "id": "rnl3DArcKvrZ",
        "outputId": "988aecca-ebba-4e09-b6e7-95b2b63f37f3"
      },
      "source": [
        "print(\"data_shape: \", data.shape)\n",
        "print(\"target_shape: \", targets.shape)\n",
        "print(\"dataset_size: \", len(dataset))"
      ],
      "execution_count": null,
      "outputs": [
        {
          "output_type": "stream",
          "text": [
            "data_shape:  torch.Size([60000, 1, 28, 28])\n",
            "target_shape:  torch.Size([60000])\n",
            "dataset_size:  60000\n"
          ],
          "name": "stdout"
        }
      ]
    },
    {
      "cell_type": "markdown",
      "metadata": {
        "id": "_2Vm3wY_K3DA"
      },
      "source": [
        "## Dataset Class / Data Loaders"
      ]
    },
    {
      "cell_type": "code",
      "metadata": {
        "id": "j0MUpn2VnElU"
      },
      "source": [
        "# Transforms are common image transformations. They can be chained together using Compose.\n",
        "# Here we normalize images img=(img-0.5)/0.5\n",
        "img_transform = transforms.Compose([\n",
        "    transforms.ToTensor(),\n",
        "    transforms.Normalize([0.5], [0.5])\n",
        "    # transforms.RandomRotation(10, resample=PIL.Image.BILINEAR)\n",
        "])"
      ],
      "execution_count": 5,
      "outputs": []
    },
    {
      "cell_type": "code",
      "metadata": {
        "id": "CY0SndE2qcmb"
      },
      "source": [
        "# img_file: the pickle file containing the images\n",
        "# label_file: the .csv file containing the labels\n",
        "# transform: We use it for normalizing images (see above)\n",
        "# idx: This is a binary vector that is useful for creating training and validation set.\n",
        "# It return only samples where idx is True\n",
        "\n",
        "class MyDataset(Dataset):\n",
        "    def __init__(self, img_file, label_file, transform=None, idx = None):\n",
        "        self.data = pickle.load( open( img_file, 'rb' ), encoding='bytes')\n",
        "        self.targets = np.genfromtxt(label_file, delimiter=',', skip_header=1, usecols=1) #[:,1:]\n",
        "        if idx is not None:\n",
        "          self.targets = self.targets[idx]\n",
        "          self.data = self.data[idx]\n",
        "        self.transform = transform\n",
        "\n",
        "    def __len__(self):\n",
        "        return len(self.targets)\n",
        "\n",
        "    def __getitem__(self, index):\n",
        "        img, target = self.data[index].squeeze(), int(self.targets[index])\n",
        "        img = Image.fromarray((img*255).astype('uint8'), mode='L')\n",
        "        if self.transform is not None:\n",
        "           img = self.transform(img)\n",
        "        return img, target"
      ],
      "execution_count": 6,
      "outputs": []
    },
    {
      "cell_type": "markdown",
      "metadata": {
        "id": "q3b-QvEvqNE3"
      },
      "source": [
        "Get loader for all train data"
      ]
    },
    {
      "cell_type": "code",
      "metadata": {
        "id": "74kV_DwkqizL"
      },
      "source": [
        "dataset = MyDataset(TRAIN_DATA_PATH, TRAIN_LABEL_PATH,transform=img_transform, idx=None)\n",
        "BATCH_SIZE = 256\n",
        "# dataloader for all data\n",
        "dataloader = DataLoader(dataset, batch_size=BATCH_SIZE, shuffle=True)"
      ],
      "execution_count": 19,
      "outputs": []
    },
    {
      "cell_type": "markdown",
      "metadata": {
        "id": "1ZNiErb-pbPt"
      },
      "source": [
        "Get loaders for train/val data"
      ]
    },
    {
      "cell_type": "code",
      "metadata": {
        "id": "05SXSXBRW4DX"
      },
      "source": [
        "VAL_SPLIT = 0.05\n",
        "shuffle = True\n",
        "\n",
        "# Creating indices for train and val split:\n",
        "dataset_size = len(dataset)\n",
        "indices = list(range(dataset_size))\n",
        "split = int(np.floor(VAL_SPLIT * dataset_size))\n",
        "if shuffle:\n",
        "  # set random seed so that we get the same split everytime\n",
        "  np.random.seed(0)\n",
        "  np.random.shuffle(indices)\n",
        "train_indices, val_indices = indices[split:], indices[:split]\n",
        "\n",
        "train_dataset = MyDataset(TRAIN_DATA_PATH, TRAIN_LABEL_PATH,transform=img_transform, idx=train_indices)\n",
        "val_dataset = MyDataset(TRAIN_DATA_PATH, TRAIN_LABEL_PATH,transform=img_transform, idx=val_indices)\n",
        "\n",
        "# separate loaders for train and val data\n",
        "train_loader = DataLoader(train_dataset, batch_size=BATCH_SIZE, shuffle=False)\n",
        "val_loader = DataLoader(val_dataset, batch_size=BATCH_SIZE, shuffle=False)"
      ],
      "execution_count": 45,
      "outputs": []
    },
    {
      "cell_type": "markdown",
      "metadata": {
        "id": "eQW5T5eHq8X0"
      },
      "source": [
        "## Visualize some data"
      ]
    },
    {
      "cell_type": "code",
      "metadata": {
        "colab": {
          "base_uri": "https://localhost:8080/",
          "height": 318
        },
        "id": "Ksdl4wXps7-8",
        "outputId": "0d998b06-a765-4423-c907-ea307233fb69"
      },
      "source": [
        "# Read a batch of data and their labels and display them\n",
        "[imgs, labels] = (next(iter(train_loader)))\n",
        "print(imgs.shape)\n",
        "# imgs: [256, 1, 28, 28]\n",
        "imgs = np.squeeze(imgs)\n",
        "# imgs: [256, 28, 28]\n",
        "print(imgs.shape)\n",
        "\n",
        "for i in range(6):\n",
        "  plt.subplot(2,3,i+1)\n",
        "  plt.tight_layout()\n",
        "  plt.imshow(imgs[50].cpu().numpy(),cmap='gray',interpolation=\"bicubic\") #.transpose()\n",
        "  plt.imshow(imgs[i], cmap='gray', interpolation='bicubic')\n",
        "  plt.title(\"Ground Truth: {}\".format(labels[i]))\n",
        "  plt.xticks([])\n",
        "  plt.yticks([])"
      ],
      "execution_count": 46,
      "outputs": [
        {
          "output_type": "stream",
          "text": [
            "torch.Size([256, 1, 28, 28])\n",
            "torch.Size([256, 28, 28])\n"
          ],
          "name": "stdout"
        },
        {
          "output_type": "display_data",
          "data": {
            "image/png": "[encoded data removed]",
            "text/plain": [
              "<Figure size 432x288 with 6 Axes>"
            ]
          },
          "metadata": {
            "tags": []
          }
        }
      ]
    },
    {
      "cell_type": "code",
      "metadata": {
        "id": "PCW7x9u4DIWh"
      },
      "source": [
        "# Here is a piece of code that reads data in batch.\n",
        "# In each epoch all samples are read in batches using dataloader\n",
        "\n",
        "num_epochs=2 # Feel free to change it\n",
        "for epoch in range(num_epochs):\n",
        "    for data in dataloader:\n",
        "        [img,label] = data\n",
        "\n"
      ],
      "execution_count": null,
      "outputs": []
    },
    {
      "cell_type": "markdown",
      "metadata": {
        "id": "wdvC0-OfRnQV"
      },
      "source": [
        "## Tutorial CNN model"
      ]
    },
    {
      "cell_type": "code",
      "metadata": {
        "id": "pFVSRS6gs8t7"
      },
      "source": [
        "import torch.nn as nn\n",
        "import torch.nn.functional as F\n",
        "import torch.optim as optim"
      ],
      "execution_count": 22,
      "outputs": []
    },
    {
      "cell_type": "code",
      "metadata": {
        "id": "euCTEzBAzIeD"
      },
      "source": [
        "class Net(nn.Module):\n",
        "    def __init__(self, kernel_size=3):\n",
        "        super(Net, self).__init__()\n",
        "        # input 1*28*28\n",
        "        self.conv1 = nn.Conv2d(1, 10, kernel_size)\n",
        "        # 10*(28-kernel_size+1)*(28-kernel_size+1)\n",
        "        self.conv2 = nn.Conv2d(10, 20, kernel_size)\n",
        "        self.fc1 = nn.Linear(500, 200)\n",
        "        self.fc2 = nn.Linear(200, 50)\n",
        "        self.fc3 = nn.Linear(50, 10)\n",
        "\n",
        "    def forward(self, x):\n",
        "        x = F.relu(F.max_pool2d(self.conv1(x), 2))\n",
        "        x = F.relu(F.max_pool2d(self.conv2(x), 2))\n",
        "        x = x.view(-1, 500) # 20*5*5\n",
        "        x = F.relu(self.fc1(x))\n",
        "        # x = self.fc2(x)\n",
        "        x = F.relu(self.fc2(x))\n",
        "        x = self.fc3(x)\n",
        "        return F.log_softmax(x)"
      ],
      "execution_count": 47,
      "outputs": []
    },
    {
      "cell_type": "code",
      "metadata": {
        "id": "ninyvAXRtU5z"
      },
      "source": [
        "class Net(nn.Module):\n",
        "    # This part defines the layers\n",
        "    def __init__(self):\n",
        "        super(Net, self).__init__()\n",
        "        # At first there is only 1 channel (greyscale). The next channel size will be 10. \n",
        "        self.conv1 = nn.Conv2d(1, 10, kernel_size=5)\n",
        "        # Then, going from channel size (or feature size) 10 to 20. \n",
        "        self.conv2 = nn.Conv2d(10, 20, kernel_size=5)\n",
        "        # Now let us create some feed foreward layers in the end. Remember the sizes (from 320 to 50)\n",
        "        self.fc1 = nn.Linear(320, 50)\n",
        "        # The last layer should have an output with the same dimension as the number of classes\n",
        "        self.fc2 = nn.Linear(50, 10)\n",
        "\n",
        "    # And this part defines the way they are connected to each other\n",
        "    # (In reality, it is our foreward pass)\n",
        "    def forward(self, x):\n",
        "        \n",
        "        # F.relu is ReLU activation. F.max_pool2d is a max pooling layer with n=2\n",
        "        # Max pooling the maximum value of each square of size n. Effectively dividing the image size by n\n",
        "        # At first, x is out input, so it is 1x28x28\n",
        "        # After the first convolution, it is 10x24x24 (24=28-5+1, 10 comes from feature size)\n",
        "        # After max pooling, it is 10x12x12\n",
        "        # ReLU doesn't change the size\n",
        "        x = F.relu(F.max_pool2d(self.conv1(x), 2))\n",
        "\n",
        "        # Again, after convolution layer, size is 20x8x8 (8=12-5+1, 20 comes from feature size)\n",
        "        # After max pooling it becomes 20x4x4\n",
        "        x = F.relu(F.max_pool2d(self.conv2(x), 2))\n",
        "\n",
        "        # This layer is an imaginary one. It simply states that we should see each member of x\n",
        "        # as a vector of 320 elements, instead of a tensor of 20x4x4 (Notice that 20*4*4=320)\n",
        "        x = x.view(-1, 320)\n",
        "\n",
        "        # Feedforeward layers. Remember that fc1 is a layer that goes from 320 to 50 neurons\n",
        "        x = F.relu(self.fc1(x))\n",
        "\n",
        "        # Output layer\n",
        "        x = self.fc2(x)\n",
        "\n",
        "        # We should put an appropriate activation for the output layer.\n",
        "        return F.log_softmax(x)"
      ],
      "execution_count": null,
      "outputs": []
    },
    {
      "cell_type": "markdown",
      "metadata": {
        "id": "BeVwuJHatdb7"
      },
      "source": [
        "Let's train these. But first, create the network, the optimizer and some lists for logging the training process"
      ]
    },
    {
      "cell_type": "code",
      "metadata": {
        "id": "EWuVNrsotfZD"
      },
      "source": [
        "network = Net()\n",
        "# optimizer = optim.SGD(network.parameters(), lr=0.01, momentum=0.5)\n",
        "# optimizer = optim.SGD(network.parameters(), lr=1, momentum=0.5)\n",
        "optimizer = optim.Adam(network.parameters())\n",
        "\n",
        "train_losses = []\n",
        "train_counter = []\n",
        "test_losses = []\n",
        "test_counter = [i*len(train_loader.dataset) for i in range(3)]"
      ],
      "execution_count": 48,
      "outputs": []
    },
    {
      "cell_type": "code",
      "metadata": {
        "id": "0Ps3KWsvtlSS"
      },
      "source": [
        "def train(epoch):\n",
        "  network.train()\n",
        "  for batch_idx, (data, target) in enumerate(train_loader):\n",
        "    optimizer.zero_grad()\n",
        "    output = network(data)\n",
        "    # target = torch.argmax(target, dim=1) # convert from 1-hot to 1D\n",
        "    # print(data.shape)\n",
        "    # print(output.shape)\n",
        "    loss = F.nll_loss(output, target) #negative log likelihood loss\n",
        "    loss.backward()\n",
        "    optimizer.step()\n",
        "    if batch_idx % 20 == 0:\n",
        "      print('Train Epoch: {} [{}/{} ({:.0f}%)]\\tLoss: {:.6f}'.format(\n",
        "        epoch, batch_idx * len(data), len(train_loader.dataset),\n",
        "        100. * batch_idx / len(train_loader), loss.item()))\n",
        "      train_losses.append(loss.item())\n",
        "      train_counter.append(\n",
        "        (batch_idx*64) + ((epoch-1)*len(train_loader.dataset)))\n",
        "      torch.save(network.state_dict(), '/model.pth')\n",
        "      torch.save(optimizer.state_dict(), '/optimizer.pth')\n",
        "\n",
        "def test():\n",
        "  network.eval()\n",
        "  test_loss = 0\n",
        "  correct = 0\n",
        "  with torch.no_grad():\n",
        "    for data, target in val_loader:\n",
        "      output = network(data)\n",
        "      test_loss += F.nll_loss(output, target, size_average=False).item()\n",
        "      pred = output.data.max(1, keepdim=True)[1]\n",
        "      correct += pred.eq(target.data.view_as(pred)).sum()\n",
        "  test_loss /= len(val_loader.dataset)\n",
        "  test_losses.append(test_loss)\n",
        "  print('\\nTest set: Avg. loss: {:.4f}, Accuracy: {}/{} ({:.0f}%)\\n'.format(\n",
        "    test_loss, correct, len(val_loader.dataset),\n",
        "    100. * correct / len(val_loader.dataset)))"
      ],
      "execution_count": 49,
      "outputs": []
    },
    {
      "cell_type": "code",
      "metadata": {
        "colab": {
          "base_uri": "https://localhost:8080/"
        },
        "id": "3gjkriuv8bVO",
        "outputId": "552ac95e-22a7-4c6d-f297-976fc6e7ff7d"
      },
      "source": [
        "len(dataloader.dataset)"
      ],
      "execution_count": 50,
      "outputs": [
        {
          "output_type": "execute_result",
          "data": {
            "text/plain": [
              "60000"
            ]
          },
          "metadata": {
            "tags": []
          },
          "execution_count": 50
        }
      ]
    },
    {
      "cell_type": "code",
      "metadata": {
        "colab": {
          "base_uri": "https://localhost:8080/"
        },
        "id": "1Gl0IR_n8l2X",
        "outputId": "7b69c384-5838-4026-8373-edee1f638b3a"
      },
      "source": [
        "len(train_loader.dataset)"
      ],
      "execution_count": 51,
      "outputs": [
        {
          "output_type": "execute_result",
          "data": {
            "text/plain": [
              "57000"
            ]
          },
          "metadata": {
            "tags": []
          },
          "execution_count": 51
        }
      ]
    },
    {
      "cell_type": "markdown",
      "metadata": {
        "id": "BaaA04yUtj1T"
      },
      "source": [
        "And let us train the network"
      ]
    },
    {
      "cell_type": "code",
      "metadata": {
        "id": "CCgK_yOvtrjz",
        "colab": {
          "base_uri": "https://localhost:8080/"
        },
        "outputId": "604cbb1c-b516-46c8-bbe4-8d5209df2f04"
      },
      "source": [
        "for epoch in range(1, 40):\n",
        "  train(epoch)\n",
        "  test()"
      ],
      "execution_count": 52,
      "outputs": [
        {
          "output_type": "stream",
          "text": [
            "/usr/local/lib/python3.7/dist-packages/ipykernel_launcher.py:20: UserWarning: Implicit dimension choice for log_softmax has been deprecated. Change the call to include dim=X as an argument.\n"
          ],
          "name": "stderr"
        },
        {
          "output_type": "stream",
          "text": [
            "Train Epoch: 1 [0/57000 (0%)]\tLoss: 2.309828\n",
            "Train Epoch: 1 [5120/57000 (9%)]\tLoss: 2.296310\n",
            "Train Epoch: 1 [10240/57000 (18%)]\tLoss: 2.277995\n",
            "Train Epoch: 1 [15360/57000 (27%)]\tLoss: 2.240257\n",
            "Train Epoch: 1 [20480/57000 (36%)]\tLoss: 2.012301\n",
            "Train Epoch: 1 [25600/57000 (45%)]\tLoss: 1.917606\n",
            "Train Epoch: 1 [30720/57000 (54%)]\tLoss: 1.740340\n",
            "Train Epoch: 1 [35840/57000 (63%)]\tLoss: 1.458383\n",
            "Train Epoch: 1 [40960/57000 (72%)]\tLoss: 1.406324\n",
            "Train Epoch: 1 [46080/57000 (81%)]\tLoss: 1.262548\n",
            "Train Epoch: 1 [51200/57000 (90%)]\tLoss: 1.033250\n",
            "Train Epoch: 1 [56320/57000 (99%)]\tLoss: 1.087401\n"
          ],
          "name": "stdout"
        },
        {
          "output_type": "stream",
          "text": [
            "/usr/local/lib/python3.7/dist-packages/torch/nn/_reduction.py:42: UserWarning: size_average and reduce args will be deprecated, please use reduction='sum' instead.\n",
            "  warnings.warn(warning.format(ret))\n"
          ],
          "name": "stderr"
        },
        {
          "output_type": "stream",
          "text": [
            "\n",
            "Test set: Avg. loss: 1.0080, Accuracy: 1963/3000 (65%)\n",
            "\n",
            "Train Epoch: 2 [0/57000 (0%)]\tLoss: 0.931956\n",
            "Train Epoch: 2 [5120/57000 (9%)]\tLoss: 1.039439\n",
            "Train Epoch: 2 [10240/57000 (18%)]\tLoss: 0.931715\n",
            "Train Epoch: 2 [15360/57000 (27%)]\tLoss: 0.985556\n",
            "Train Epoch: 2 [20480/57000 (36%)]\tLoss: 0.888162\n",
            "Train Epoch: 2 [25600/57000 (45%)]\tLoss: 0.843904\n",
            "Train Epoch: 2 [30720/57000 (54%)]\tLoss: 0.956145\n",
            "Train Epoch: 2 [35840/57000 (63%)]\tLoss: 0.727274\n",
            "Train Epoch: 2 [40960/57000 (72%)]\tLoss: 0.719328\n",
            "Train Epoch: 2 [46080/57000 (81%)]\tLoss: 0.779904\n",
            "Train Epoch: 2 [51200/57000 (90%)]\tLoss: 0.661313\n",
            "Train Epoch: 2 [56320/57000 (99%)]\tLoss: 0.762601\n",
            "\n",
            "Test set: Avg. loss: 0.6770, Accuracy: 2313/3000 (77%)\n",
            "\n",
            "Train Epoch: 3 [0/57000 (0%)]\tLoss: 0.598167\n",
            "Train Epoch: 3 [5120/57000 (9%)]\tLoss: 0.715590\n",
            "Train Epoch: 3 [10240/57000 (18%)]\tLoss: 0.711808\n",
            "Train Epoch: 3 [15360/57000 (27%)]\tLoss: 0.806965\n",
            "Train Epoch: 3 [20480/57000 (36%)]\tLoss: 0.664095\n",
            "Train Epoch: 3 [25600/57000 (45%)]\tLoss: 0.678284\n",
            "Train Epoch: 3 [30720/57000 (54%)]\tLoss: 0.751451\n",
            "Train Epoch: 3 [35840/57000 (63%)]\tLoss: 0.577134\n",
            "Train Epoch: 3 [40960/57000 (72%)]\tLoss: 0.593153\n",
            "Train Epoch: 3 [46080/57000 (81%)]\tLoss: 0.654283\n",
            "Train Epoch: 3 [51200/57000 (90%)]\tLoss: 0.566570\n",
            "Train Epoch: 3 [56320/57000 (99%)]\tLoss: 0.638121\n",
            "\n",
            "Test set: Avg. loss: 0.5676, Accuracy: 2441/3000 (81%)\n",
            "\n",
            "Train Epoch: 4 [0/57000 (0%)]\tLoss: 0.485558\n",
            "Train Epoch: 4 [5120/57000 (9%)]\tLoss: 0.620556\n",
            "Train Epoch: 4 [10240/57000 (18%)]\tLoss: 0.619715\n",
            "Train Epoch: 4 [15360/57000 (27%)]\tLoss: 0.723763\n",
            "Train Epoch: 4 [20480/57000 (36%)]\tLoss: 0.595565\n",
            "Train Epoch: 4 [25600/57000 (45%)]\tLoss: 0.565316\n",
            "Train Epoch: 4 [30720/57000 (54%)]\tLoss: 0.666646\n",
            "Train Epoch: 4 [35840/57000 (63%)]\tLoss: 0.483471\n",
            "Train Epoch: 4 [40960/57000 (72%)]\tLoss: 0.543545\n",
            "Train Epoch: 4 [46080/57000 (81%)]\tLoss: 0.589888\n",
            "Train Epoch: 4 [51200/57000 (90%)]\tLoss: 0.474863\n",
            "Train Epoch: 4 [56320/57000 (99%)]\tLoss: 0.569545\n",
            "\n",
            "Test set: Avg. loss: 0.5062, Accuracy: 2515/3000 (84%)\n",
            "\n",
            "Train Epoch: 5 [0/57000 (0%)]\tLoss: 0.436784\n",
            "Train Epoch: 5 [5120/57000 (9%)]\tLoss: 0.554203\n",
            "Train Epoch: 5 [10240/57000 (18%)]\tLoss: 0.526250\n",
            "Train Epoch: 5 [15360/57000 (27%)]\tLoss: 0.679945\n",
            "Train Epoch: 5 [20480/57000 (36%)]\tLoss: 0.559841\n",
            "Train Epoch: 5 [25600/57000 (45%)]\tLoss: 0.483570\n",
            "Train Epoch: 5 [30720/57000 (54%)]\tLoss: 0.614062\n",
            "Train Epoch: 5 [35840/57000 (63%)]\tLoss: 0.436822\n",
            "Train Epoch: 5 [40960/57000 (72%)]\tLoss: 0.497118\n",
            "Train Epoch: 5 [46080/57000 (81%)]\tLoss: 0.535037\n",
            "Train Epoch: 5 [51200/57000 (90%)]\tLoss: 0.422517\n",
            "Train Epoch: 5 [56320/57000 (99%)]\tLoss: 0.536337\n",
            "\n",
            "Test set: Avg. loss: 0.4739, Accuracy: 2541/3000 (85%)\n",
            "\n",
            "Train Epoch: 6 [0/57000 (0%)]\tLoss: 0.413032\n",
            "Train Epoch: 6 [5120/57000 (9%)]\tLoss: 0.507057\n",
            "Train Epoch: 6 [10240/57000 (18%)]\tLoss: 0.479144\n",
            "Train Epoch: 6 [15360/57000 (27%)]\tLoss: 0.627439\n",
            "Train Epoch: 6 [20480/57000 (36%)]\tLoss: 0.528867\n",
            "Train Epoch: 6 [25600/57000 (45%)]\tLoss: 0.443854\n",
            "Train Epoch: 6 [30720/57000 (54%)]\tLoss: 0.576720\n",
            "Train Epoch: 6 [35840/57000 (63%)]\tLoss: 0.401599\n",
            "Train Epoch: 6 [40960/57000 (72%)]\tLoss: 0.442856\n",
            "Train Epoch: 6 [46080/57000 (81%)]\tLoss: 0.498117\n",
            "Train Epoch: 6 [51200/57000 (90%)]\tLoss: 0.384564\n",
            "Train Epoch: 6 [56320/57000 (99%)]\tLoss: 0.512364\n",
            "\n",
            "Test set: Avg. loss: 0.4404, Accuracy: 2575/3000 (86%)\n",
            "\n",
            "Train Epoch: 7 [0/57000 (0%)]\tLoss: 0.394434\n",
            "Train Epoch: 7 [5120/57000 (9%)]\tLoss: 0.474824\n",
            "Train Epoch: 7 [10240/57000 (18%)]\tLoss: 0.460486\n",
            "Train Epoch: 7 [15360/57000 (27%)]\tLoss: 0.585732\n",
            "Train Epoch: 7 [20480/57000 (36%)]\tLoss: 0.496991\n",
            "Train Epoch: 7 [25600/57000 (45%)]\tLoss: 0.410451\n",
            "Train Epoch: 7 [30720/57000 (54%)]\tLoss: 0.543902\n",
            "Train Epoch: 7 [35840/57000 (63%)]\tLoss: 0.378242\n",
            "Train Epoch: 7 [40960/57000 (72%)]\tLoss: 0.398261\n",
            "Train Epoch: 7 [46080/57000 (81%)]\tLoss: 0.465890\n",
            "Train Epoch: 7 [51200/57000 (90%)]\tLoss: 0.350881\n",
            "Train Epoch: 7 [56320/57000 (99%)]\tLoss: 0.485832\n",
            "\n",
            "Test set: Avg. loss: 0.4136, Accuracy: 2598/3000 (87%)\n",
            "\n",
            "Train Epoch: 8 [0/57000 (0%)]\tLoss: 0.376350\n",
            "Train Epoch: 8 [5120/57000 (9%)]\tLoss: 0.456393\n",
            "Train Epoch: 8 [10240/57000 (18%)]\tLoss: 0.444874\n",
            "Train Epoch: 8 [15360/57000 (27%)]\tLoss: 0.550814\n",
            "Train Epoch: 8 [20480/57000 (36%)]\tLoss: 0.459412\n",
            "Train Epoch: 8 [25600/57000 (45%)]\tLoss: 0.383347\n",
            "Train Epoch: 8 [30720/57000 (54%)]\tLoss: 0.519065\n",
            "Train Epoch: 8 [35840/57000 (63%)]\tLoss: 0.363517\n",
            "Train Epoch: 8 [40960/57000 (72%)]\tLoss: 0.368492\n",
            "Train Epoch: 8 [46080/57000 (81%)]\tLoss: 0.439049\n",
            "Train Epoch: 8 [51200/57000 (90%)]\tLoss: 0.325124\n",
            "Train Epoch: 8 [56320/57000 (99%)]\tLoss: 0.458974\n",
            "\n",
            "Test set: Avg. loss: 0.3924, Accuracy: 2614/3000 (87%)\n",
            "\n",
            "Train Epoch: 9 [0/57000 (0%)]\tLoss: 0.359863\n",
            "Train Epoch: 9 [5120/57000 (9%)]\tLoss: 0.441000\n",
            "Train Epoch: 9 [10240/57000 (18%)]\tLoss: 0.432765\n",
            "Train Epoch: 9 [15360/57000 (27%)]\tLoss: 0.523429\n",
            "Train Epoch: 9 [20480/57000 (36%)]\tLoss: 0.435603\n",
            "Train Epoch: 9 [25600/57000 (45%)]\tLoss: 0.362115\n",
            "Train Epoch: 9 [30720/57000 (54%)]\tLoss: 0.502515\n",
            "Train Epoch: 9 [35840/57000 (63%)]\tLoss: 0.348364\n",
            "Train Epoch: 9 [40960/57000 (72%)]\tLoss: 0.346811\n",
            "Train Epoch: 9 [46080/57000 (81%)]\tLoss: 0.413500\n",
            "Train Epoch: 9 [51200/57000 (90%)]\tLoss: 0.301457\n",
            "Train Epoch: 9 [56320/57000 (99%)]\tLoss: 0.431083\n",
            "\n",
            "Test set: Avg. loss: 0.3774, Accuracy: 2625/3000 (88%)\n",
            "\n",
            "Train Epoch: 10 [0/57000 (0%)]\tLoss: 0.344159\n",
            "Train Epoch: 10 [5120/57000 (9%)]\tLoss: 0.420688\n",
            "Train Epoch: 10 [10240/57000 (18%)]\tLoss: 0.418433\n",
            "Train Epoch: 10 [15360/57000 (27%)]\tLoss: 0.497632\n",
            "Train Epoch: 10 [20480/57000 (36%)]\tLoss: 0.408469\n",
            "Train Epoch: 10 [25600/57000 (45%)]\tLoss: 0.338864\n",
            "Train Epoch: 10 [30720/57000 (54%)]\tLoss: 0.483549\n",
            "Train Epoch: 10 [35840/57000 (63%)]\tLoss: 0.336675\n",
            "Train Epoch: 10 [40960/57000 (72%)]\tLoss: 0.324376\n",
            "Train Epoch: 10 [46080/57000 (81%)]\tLoss: 0.387813\n",
            "Train Epoch: 10 [51200/57000 (90%)]\tLoss: 0.281114\n",
            "Train Epoch: 10 [56320/57000 (99%)]\tLoss: 0.400305\n",
            "\n",
            "Test set: Avg. loss: 0.3646, Accuracy: 2642/3000 (88%)\n",
            "\n",
            "Train Epoch: 11 [0/57000 (0%)]\tLoss: 0.334164\n",
            "Train Epoch: 11 [5120/57000 (9%)]\tLoss: 0.409677\n",
            "Train Epoch: 11 [10240/57000 (18%)]\tLoss: 0.404938\n",
            "Train Epoch: 11 [15360/57000 (27%)]\tLoss: 0.483853\n",
            "Train Epoch: 11 [20480/57000 (36%)]\tLoss: 0.393674\n",
            "Train Epoch: 11 [25600/57000 (45%)]\tLoss: 0.322855\n",
            "Train Epoch: 11 [30720/57000 (54%)]\tLoss: 0.459884\n",
            "Train Epoch: 11 [35840/57000 (63%)]\tLoss: 0.331333\n",
            "Train Epoch: 11 [40960/57000 (72%)]\tLoss: 0.307958\n",
            "Train Epoch: 11 [46080/57000 (81%)]\tLoss: 0.370676\n",
            "Train Epoch: 11 [51200/57000 (90%)]\tLoss: 0.263283\n",
            "Train Epoch: 11 [56320/57000 (99%)]\tLoss: 0.378343\n",
            "\n",
            "Test set: Avg. loss: 0.3545, Accuracy: 2644/3000 (88%)\n",
            "\n",
            "Train Epoch: 12 [0/57000 (0%)]\tLoss: 0.320825\n",
            "Train Epoch: 12 [5120/57000 (9%)]\tLoss: 0.392843\n",
            "Train Epoch: 12 [10240/57000 (18%)]\tLoss: 0.396163\n",
            "Train Epoch: 12 [15360/57000 (27%)]\tLoss: 0.480369\n",
            "Train Epoch: 12 [20480/57000 (36%)]\tLoss: 0.391760\n",
            "Train Epoch: 12 [25600/57000 (45%)]\tLoss: 0.318381\n",
            "Train Epoch: 12 [30720/57000 (54%)]\tLoss: 0.451762\n",
            "Train Epoch: 12 [35840/57000 (63%)]\tLoss: 0.320515\n",
            "Train Epoch: 12 [40960/57000 (72%)]\tLoss: 0.294057\n",
            "Train Epoch: 12 [46080/57000 (81%)]\tLoss: 0.358974\n",
            "Train Epoch: 12 [51200/57000 (90%)]\tLoss: 0.254713\n",
            "Train Epoch: 12 [56320/57000 (99%)]\tLoss: 0.357151\n",
            "\n",
            "Test set: Avg. loss: 0.3492, Accuracy: 2659/3000 (89%)\n",
            "\n",
            "Train Epoch: 13 [0/57000 (0%)]\tLoss: 0.317033\n",
            "Train Epoch: 13 [5120/57000 (9%)]\tLoss: 0.374555\n",
            "Train Epoch: 13 [10240/57000 (18%)]\tLoss: 0.371296\n",
            "Train Epoch: 13 [15360/57000 (27%)]\tLoss: 0.482219\n",
            "Train Epoch: 13 [20480/57000 (36%)]\tLoss: 0.398696\n",
            "Train Epoch: 13 [25600/57000 (45%)]\tLoss: 0.318947\n",
            "Train Epoch: 13 [30720/57000 (54%)]\tLoss: 0.424828\n",
            "Train Epoch: 13 [35840/57000 (63%)]\tLoss: 0.312632\n",
            "Train Epoch: 13 [40960/57000 (72%)]\tLoss: 0.288139\n",
            "Train Epoch: 13 [46080/57000 (81%)]\tLoss: 0.352204\n",
            "Train Epoch: 13 [51200/57000 (90%)]\tLoss: 0.262026\n",
            "Train Epoch: 13 [56320/57000 (99%)]\tLoss: 0.348534\n",
            "\n",
            "Test set: Avg. loss: 0.3433, Accuracy: 2657/3000 (89%)\n",
            "\n",
            "Train Epoch: 14 [0/57000 (0%)]\tLoss: 0.306042\n",
            "Train Epoch: 14 [5120/57000 (9%)]\tLoss: 0.356301\n",
            "Train Epoch: 14 [10240/57000 (18%)]\tLoss: 0.351812\n",
            "Train Epoch: 14 [15360/57000 (27%)]\tLoss: 0.442648\n",
            "Train Epoch: 14 [20480/57000 (36%)]\tLoss: 0.395470\n",
            "Train Epoch: 14 [25600/57000 (45%)]\tLoss: 0.300258\n",
            "Train Epoch: 14 [30720/57000 (54%)]\tLoss: 0.401543\n",
            "Train Epoch: 14 [35840/57000 (63%)]\tLoss: 0.297771\n",
            "Train Epoch: 14 [40960/57000 (72%)]\tLoss: 0.294598\n",
            "Train Epoch: 14 [46080/57000 (81%)]\tLoss: 0.338594\n",
            "Train Epoch: 14 [51200/57000 (90%)]\tLoss: 0.251181\n",
            "Train Epoch: 14 [56320/57000 (99%)]\tLoss: 0.331305\n",
            "\n",
            "Test set: Avg. loss: 0.3385, Accuracy: 2674/3000 (89%)\n",
            "\n",
            "Train Epoch: 15 [0/57000 (0%)]\tLoss: 0.298082\n",
            "Train Epoch: 15 [5120/57000 (9%)]\tLoss: 0.348141\n",
            "Train Epoch: 15 [10240/57000 (18%)]\tLoss: 0.331248\n",
            "Train Epoch: 15 [15360/57000 (27%)]\tLoss: 0.413610\n",
            "Train Epoch: 15 [20480/57000 (36%)]\tLoss: 0.364339\n",
            "Train Epoch: 15 [25600/57000 (45%)]\tLoss: 0.281804\n",
            "Train Epoch: 15 [30720/57000 (54%)]\tLoss: 0.388910\n",
            "Train Epoch: 15 [35840/57000 (63%)]\tLoss: 0.283440\n",
            "Train Epoch: 15 [40960/57000 (72%)]\tLoss: 0.293323\n",
            "Train Epoch: 15 [46080/57000 (81%)]\tLoss: 0.332836\n",
            "Train Epoch: 15 [51200/57000 (90%)]\tLoss: 0.254976\n",
            "Train Epoch: 15 [56320/57000 (99%)]\tLoss: 0.317476\n",
            "\n",
            "Test set: Avg. loss: 0.3379, Accuracy: 2678/3000 (89%)\n",
            "\n",
            "Train Epoch: 16 [0/57000 (0%)]\tLoss: 0.287328\n",
            "Train Epoch: 16 [5120/57000 (9%)]\tLoss: 0.330059\n",
            "Train Epoch: 16 [10240/57000 (18%)]\tLoss: 0.327056\n",
            "Train Epoch: 16 [15360/57000 (27%)]\tLoss: 0.388347\n",
            "Train Epoch: 16 [20480/57000 (36%)]\tLoss: 0.336250\n",
            "Train Epoch: 16 [25600/57000 (45%)]\tLoss: 0.274959\n",
            "Train Epoch: 16 [30720/57000 (54%)]\tLoss: 0.376734\n",
            "Train Epoch: 16 [35840/57000 (63%)]\tLoss: 0.274543\n",
            "Train Epoch: 16 [40960/57000 (72%)]\tLoss: 0.294823\n",
            "Train Epoch: 16 [46080/57000 (81%)]\tLoss: 0.316820\n",
            "Train Epoch: 16 [51200/57000 (90%)]\tLoss: 0.240354\n",
            "Train Epoch: 16 [56320/57000 (99%)]\tLoss: 0.305876\n",
            "\n",
            "Test set: Avg. loss: 0.3350, Accuracy: 2684/3000 (89%)\n",
            "\n",
            "Train Epoch: 17 [0/57000 (0%)]\tLoss: 0.277113\n",
            "Train Epoch: 17 [5120/57000 (9%)]\tLoss: 0.311724\n",
            "Train Epoch: 17 [10240/57000 (18%)]\tLoss: 0.310784\n",
            "Train Epoch: 17 [15360/57000 (27%)]\tLoss: 0.368826\n",
            "Train Epoch: 17 [20480/57000 (36%)]\tLoss: 0.319472\n",
            "Train Epoch: 17 [25600/57000 (45%)]\tLoss: 0.262476\n",
            "Train Epoch: 17 [30720/57000 (54%)]\tLoss: 0.357016\n",
            "Train Epoch: 17 [35840/57000 (63%)]\tLoss: 0.274995\n",
            "Train Epoch: 17 [40960/57000 (72%)]\tLoss: 0.284945\n",
            "Train Epoch: 17 [46080/57000 (81%)]\tLoss: 0.308816\n",
            "Train Epoch: 17 [51200/57000 (90%)]\tLoss: 0.229026\n",
            "Train Epoch: 17 [56320/57000 (99%)]\tLoss: 0.297514\n",
            "\n",
            "Test set: Avg. loss: 0.3331, Accuracy: 2684/3000 (89%)\n",
            "\n",
            "Train Epoch: 18 [0/57000 (0%)]\tLoss: 0.269269\n",
            "Train Epoch: 18 [5120/57000 (9%)]\tLoss: 0.290325\n",
            "Train Epoch: 18 [10240/57000 (18%)]\tLoss: 0.302532\n",
            "Train Epoch: 18 [15360/57000 (27%)]\tLoss: 0.358018\n",
            "Train Epoch: 18 [20480/57000 (36%)]\tLoss: 0.305316\n",
            "Train Epoch: 18 [25600/57000 (45%)]\tLoss: 0.259678\n",
            "Train Epoch: 18 [30720/57000 (54%)]\tLoss: 0.342783\n",
            "Train Epoch: 18 [35840/57000 (63%)]\tLoss: 0.269972\n",
            "Train Epoch: 18 [40960/57000 (72%)]\tLoss: 0.284391\n",
            "Train Epoch: 18 [46080/57000 (81%)]\tLoss: 0.300060\n",
            "Train Epoch: 18 [51200/57000 (90%)]\tLoss: 0.215085\n",
            "Train Epoch: 18 [56320/57000 (99%)]\tLoss: 0.290763\n",
            "\n",
            "Test set: Avg. loss: 0.3296, Accuracy: 2690/3000 (90%)\n",
            "\n",
            "Train Epoch: 19 [0/57000 (0%)]\tLoss: 0.263735\n",
            "Train Epoch: 19 [5120/57000 (9%)]\tLoss: 0.279936\n",
            "Train Epoch: 19 [10240/57000 (18%)]\tLoss: 0.295728\n",
            "Train Epoch: 19 [15360/57000 (27%)]\tLoss: 0.344234\n",
            "Train Epoch: 19 [20480/57000 (36%)]\tLoss: 0.291250\n",
            "Train Epoch: 19 [25600/57000 (45%)]\tLoss: 0.260485\n",
            "Train Epoch: 19 [30720/57000 (54%)]\tLoss: 0.334915\n",
            "Train Epoch: 19 [35840/57000 (63%)]\tLoss: 0.266843\n",
            "Train Epoch: 19 [40960/57000 (72%)]\tLoss: 0.280141\n",
            "Train Epoch: 19 [46080/57000 (81%)]\tLoss: 0.292711\n",
            "Train Epoch: 19 [51200/57000 (90%)]\tLoss: 0.202826\n",
            "Train Epoch: 19 [56320/57000 (99%)]\tLoss: 0.277150\n",
            "\n",
            "Test set: Avg. loss: 0.3279, Accuracy: 2693/3000 (90%)\n",
            "\n",
            "Train Epoch: 20 [0/57000 (0%)]\tLoss: 0.259642\n",
            "Train Epoch: 20 [5120/57000 (9%)]\tLoss: 0.261539\n",
            "Train Epoch: 20 [10240/57000 (18%)]\tLoss: 0.290224\n",
            "Train Epoch: 20 [15360/57000 (27%)]\tLoss: 0.329081\n",
            "Train Epoch: 20 [20480/57000 (36%)]\tLoss: 0.275001\n",
            "Train Epoch: 20 [25600/57000 (45%)]\tLoss: 0.253232\n",
            "Train Epoch: 20 [30720/57000 (54%)]\tLoss: 0.318443\n",
            "Train Epoch: 20 [35840/57000 (63%)]\tLoss: 0.262636\n",
            "Train Epoch: 20 [40960/57000 (72%)]\tLoss: 0.275946\n",
            "Train Epoch: 20 [46080/57000 (81%)]\tLoss: 0.281325\n",
            "Train Epoch: 20 [51200/57000 (90%)]\tLoss: 0.192286\n",
            "Train Epoch: 20 [56320/57000 (99%)]\tLoss: 0.269174\n",
            "\n",
            "Test set: Avg. loss: 0.3281, Accuracy: 2692/3000 (90%)\n",
            "\n",
            "Train Epoch: 21 [0/57000 (0%)]\tLoss: 0.256394\n",
            "Train Epoch: 21 [5120/57000 (9%)]\tLoss: 0.250486\n",
            "Train Epoch: 21 [10240/57000 (18%)]\tLoss: 0.282798\n",
            "Train Epoch: 21 [15360/57000 (27%)]\tLoss: 0.318280\n",
            "Train Epoch: 21 [20480/57000 (36%)]\tLoss: 0.268861\n",
            "Train Epoch: 21 [25600/57000 (45%)]\tLoss: 0.257740\n",
            "Train Epoch: 21 [30720/57000 (54%)]\tLoss: 0.312997\n",
            "Train Epoch: 21 [35840/57000 (63%)]\tLoss: 0.255603\n",
            "Train Epoch: 21 [40960/57000 (72%)]\tLoss: 0.270513\n",
            "Train Epoch: 21 [46080/57000 (81%)]\tLoss: 0.276450\n",
            "Train Epoch: 21 [51200/57000 (90%)]\tLoss: 0.178675\n",
            "Train Epoch: 21 [56320/57000 (99%)]\tLoss: 0.264378\n",
            "\n",
            "Test set: Avg. loss: 0.3281, Accuracy: 2686/3000 (90%)\n",
            "\n",
            "Train Epoch: 22 [0/57000 (0%)]\tLoss: 0.252603\n",
            "Train Epoch: 22 [5120/57000 (9%)]\tLoss: 0.238738\n",
            "Train Epoch: 22 [10240/57000 (18%)]\tLoss: 0.279148\n",
            "Train Epoch: 22 [15360/57000 (27%)]\tLoss: 0.304964\n",
            "Train Epoch: 22 [20480/57000 (36%)]\tLoss: 0.266447\n",
            "Train Epoch: 22 [25600/57000 (45%)]\tLoss: 0.254801\n",
            "Train Epoch: 22 [30720/57000 (54%)]\tLoss: 0.305193\n",
            "Train Epoch: 22 [35840/57000 (63%)]\tLoss: 0.250163\n",
            "Train Epoch: 22 [40960/57000 (72%)]\tLoss: 0.247540\n",
            "Train Epoch: 22 [46080/57000 (81%)]\tLoss: 0.269380\n",
            "Train Epoch: 22 [51200/57000 (90%)]\tLoss: 0.174061\n",
            "Train Epoch: 22 [56320/57000 (99%)]\tLoss: 0.255075\n",
            "\n",
            "Test set: Avg. loss: 0.3279, Accuracy: 2692/3000 (90%)\n",
            "\n",
            "Train Epoch: 23 [0/57000 (0%)]\tLoss: 0.244313\n",
            "Train Epoch: 23 [5120/57000 (9%)]\tLoss: 0.228372\n",
            "Train Epoch: 23 [10240/57000 (18%)]\tLoss: 0.277600\n",
            "Train Epoch: 23 [15360/57000 (27%)]\tLoss: 0.294915\n",
            "Train Epoch: 23 [20480/57000 (36%)]\tLoss: 0.256731\n",
            "Train Epoch: 23 [25600/57000 (45%)]\tLoss: 0.251943\n",
            "Train Epoch: 23 [30720/57000 (54%)]\tLoss: 0.295840\n",
            "Train Epoch: 23 [35840/57000 (63%)]\tLoss: 0.243165\n",
            "Train Epoch: 23 [40960/57000 (72%)]\tLoss: 0.236678\n",
            "Train Epoch: 23 [46080/57000 (81%)]\tLoss: 0.265911\n",
            "Train Epoch: 23 [51200/57000 (90%)]\tLoss: 0.168106\n",
            "Train Epoch: 23 [56320/57000 (99%)]\tLoss: 0.254894\n",
            "\n",
            "Test set: Avg. loss: 0.3272, Accuracy: 2692/3000 (90%)\n",
            "\n",
            "Train Epoch: 24 [0/57000 (0%)]\tLoss: 0.238006\n",
            "Train Epoch: 24 [5120/57000 (9%)]\tLoss: 0.218260\n",
            "Train Epoch: 24 [10240/57000 (18%)]\tLoss: 0.270601\n",
            "Train Epoch: 24 [15360/57000 (27%)]\tLoss: 0.286828\n",
            "Train Epoch: 24 [20480/57000 (36%)]\tLoss: 0.243791\n",
            "Train Epoch: 24 [25600/57000 (45%)]\tLoss: 0.247185\n",
            "Train Epoch: 24 [30720/57000 (54%)]\tLoss: 0.287782\n",
            "Train Epoch: 24 [35840/57000 (63%)]\tLoss: 0.233947\n",
            "Train Epoch: 24 [40960/57000 (72%)]\tLoss: 0.227789\n",
            "Train Epoch: 24 [46080/57000 (81%)]\tLoss: 0.271202\n",
            "Train Epoch: 24 [51200/57000 (90%)]\tLoss: 0.166679\n",
            "Train Epoch: 24 [56320/57000 (99%)]\tLoss: 0.248467\n",
            "\n",
            "Test set: Avg. loss: 0.3294, Accuracy: 2687/3000 (90%)\n",
            "\n",
            "Train Epoch: 25 [0/57000 (0%)]\tLoss: 0.237055\n",
            "Train Epoch: 25 [5120/57000 (9%)]\tLoss: 0.212211\n",
            "Train Epoch: 25 [10240/57000 (18%)]\tLoss: 0.272104\n",
            "Train Epoch: 25 [15360/57000 (27%)]\tLoss: 0.275226\n",
            "Train Epoch: 25 [20480/57000 (36%)]\tLoss: 0.245307\n",
            "Train Epoch: 25 [25600/57000 (45%)]\tLoss: 0.242609\n",
            "Train Epoch: 25 [30720/57000 (54%)]\tLoss: 0.285646\n",
            "Train Epoch: 25 [35840/57000 (63%)]\tLoss: 0.225689\n",
            "Train Epoch: 25 [40960/57000 (72%)]\tLoss: 0.222357\n",
            "Train Epoch: 25 [46080/57000 (81%)]\tLoss: 0.269410\n",
            "Train Epoch: 25 [51200/57000 (90%)]\tLoss: 0.160696\n",
            "Train Epoch: 25 [56320/57000 (99%)]\tLoss: 0.257876\n",
            "\n",
            "Test set: Avg. loss: 0.3290, Accuracy: 2693/3000 (90%)\n",
            "\n",
            "Train Epoch: 26 [0/57000 (0%)]\tLoss: 0.233295\n",
            "Train Epoch: 26 [5120/57000 (9%)]\tLoss: 0.211801\n",
            "Train Epoch: 26 [10240/57000 (18%)]\tLoss: 0.273998\n",
            "Train Epoch: 26 [15360/57000 (27%)]\tLoss: 0.268359\n",
            "Train Epoch: 26 [20480/57000 (36%)]\tLoss: 0.242871\n",
            "Train Epoch: 26 [25600/57000 (45%)]\tLoss: 0.239079\n",
            "Train Epoch: 26 [30720/57000 (54%)]\tLoss: 0.279211\n",
            "Train Epoch: 26 [35840/57000 (63%)]\tLoss: 0.217907\n",
            "Train Epoch: 26 [40960/57000 (72%)]\tLoss: 0.202676\n",
            "Train Epoch: 26 [46080/57000 (81%)]\tLoss: 0.273580\n",
            "Train Epoch: 26 [51200/57000 (90%)]\tLoss: 0.163120\n",
            "Train Epoch: 26 [56320/57000 (99%)]\tLoss: 0.256025\n",
            "\n",
            "Test set: Avg. loss: 0.3249, Accuracy: 2695/3000 (90%)\n",
            "\n",
            "Train Epoch: 27 [0/57000 (0%)]\tLoss: 0.225011\n",
            "Train Epoch: 27 [5120/57000 (9%)]\tLoss: 0.203515\n",
            "Train Epoch: 27 [10240/57000 (18%)]\tLoss: 0.275604\n",
            "Train Epoch: 27 [15360/57000 (27%)]\tLoss: 0.266020\n",
            "Train Epoch: 27 [20480/57000 (36%)]\tLoss: 0.232464\n",
            "Train Epoch: 27 [25600/57000 (45%)]\tLoss: 0.229450\n",
            "Train Epoch: 27 [30720/57000 (54%)]\tLoss: 0.275395\n",
            "Train Epoch: 27 [35840/57000 (63%)]\tLoss: 0.216468\n",
            "Train Epoch: 27 [40960/57000 (72%)]\tLoss: 0.186056\n",
            "Train Epoch: 27 [46080/57000 (81%)]\tLoss: 0.285782\n",
            "Train Epoch: 27 [51200/57000 (90%)]\tLoss: 0.171918\n",
            "Train Epoch: 27 [56320/57000 (99%)]\tLoss: 0.240639\n",
            "\n",
            "Test set: Avg. loss: 0.3235, Accuracy: 2691/3000 (90%)\n",
            "\n",
            "Train Epoch: 28 [0/57000 (0%)]\tLoss: 0.219229\n",
            "Train Epoch: 28 [5120/57000 (9%)]\tLoss: 0.190138\n",
            "Train Epoch: 28 [10240/57000 (18%)]\tLoss: 0.273015\n",
            "Train Epoch: 28 [15360/57000 (27%)]\tLoss: 0.256504\n",
            "Train Epoch: 28 [20480/57000 (36%)]\tLoss: 0.225245\n",
            "Train Epoch: 28 [25600/57000 (45%)]\tLoss: 0.225197\n",
            "Train Epoch: 28 [30720/57000 (54%)]\tLoss: 0.272429\n",
            "Train Epoch: 28 [35840/57000 (63%)]\tLoss: 0.215298\n",
            "Train Epoch: 28 [40960/57000 (72%)]\tLoss: 0.177835\n",
            "Train Epoch: 28 [46080/57000 (81%)]\tLoss: 0.280096\n",
            "Train Epoch: 28 [51200/57000 (90%)]\tLoss: 0.203365\n",
            "Train Epoch: 28 [56320/57000 (99%)]\tLoss: 0.220345\n",
            "\n",
            "Test set: Avg. loss: 0.3207, Accuracy: 2701/3000 (90%)\n",
            "\n",
            "Train Epoch: 29 [0/57000 (0%)]\tLoss: 0.214197\n",
            "Train Epoch: 29 [5120/57000 (9%)]\tLoss: 0.172382\n",
            "Train Epoch: 29 [10240/57000 (18%)]\tLoss: 0.259477\n",
            "Train Epoch: 29 [15360/57000 (27%)]\tLoss: 0.256490\n",
            "Train Epoch: 29 [20480/57000 (36%)]\tLoss: 0.209801\n",
            "Train Epoch: 29 [25600/57000 (45%)]\tLoss: 0.233977\n",
            "Train Epoch: 29 [30720/57000 (54%)]\tLoss: 0.284444\n",
            "Train Epoch: 29 [35840/57000 (63%)]\tLoss: 0.231628\n",
            "Train Epoch: 29 [40960/57000 (72%)]\tLoss: 0.170776\n",
            "Train Epoch: 29 [46080/57000 (81%)]\tLoss: 0.249561\n",
            "Train Epoch: 29 [51200/57000 (90%)]\tLoss: 0.187491\n",
            "Train Epoch: 29 [56320/57000 (99%)]\tLoss: 0.213635\n",
            "\n",
            "Test set: Avg. loss: 0.3265, Accuracy: 2690/3000 (90%)\n",
            "\n",
            "Train Epoch: 30 [0/57000 (0%)]\tLoss: 0.214136\n",
            "Train Epoch: 30 [5120/57000 (9%)]\tLoss: 0.160557\n",
            "Train Epoch: 30 [10240/57000 (18%)]\tLoss: 0.250789\n",
            "Train Epoch: 30 [15360/57000 (27%)]\tLoss: 0.270027\n",
            "Train Epoch: 30 [20480/57000 (36%)]\tLoss: 0.194428\n",
            "Train Epoch: 30 [25600/57000 (45%)]\tLoss: 0.228087\n",
            "Train Epoch: 30 [30720/57000 (54%)]\tLoss: 0.273596\n",
            "Train Epoch: 30 [35840/57000 (63%)]\tLoss: 0.228443\n",
            "Train Epoch: 30 [40960/57000 (72%)]\tLoss: 0.169309\n",
            "Train Epoch: 30 [46080/57000 (81%)]\tLoss: 0.231987\n",
            "Train Epoch: 30 [51200/57000 (90%)]\tLoss: 0.148687\n",
            "Train Epoch: 30 [56320/57000 (99%)]\tLoss: 0.211161\n",
            "\n",
            "Test set: Avg. loss: 0.3328, Accuracy: 2691/3000 (90%)\n",
            "\n",
            "Train Epoch: 31 [0/57000 (0%)]\tLoss: 0.214819\n",
            "Train Epoch: 31 [5120/57000 (9%)]\tLoss: 0.161190\n",
            "Train Epoch: 31 [10240/57000 (18%)]\tLoss: 0.235854\n",
            "Train Epoch: 31 [15360/57000 (27%)]\tLoss: 0.260009\n",
            "Train Epoch: 31 [20480/57000 (36%)]\tLoss: 0.197346\n",
            "Train Epoch: 31 [25600/57000 (45%)]\tLoss: 0.226799\n",
            "Train Epoch: 31 [30720/57000 (54%)]\tLoss: 0.254334\n",
            "Train Epoch: 31 [35840/57000 (63%)]\tLoss: 0.198940\n",
            "Train Epoch: 31 [40960/57000 (72%)]\tLoss: 0.154731\n",
            "Train Epoch: 31 [46080/57000 (81%)]\tLoss: 0.219564\n",
            "Train Epoch: 31 [51200/57000 (90%)]\tLoss: 0.141244\n",
            "Train Epoch: 31 [56320/57000 (99%)]\tLoss: 0.203959\n",
            "\n",
            "Test set: Avg. loss: 0.3297, Accuracy: 2685/3000 (90%)\n",
            "\n",
            "Train Epoch: 32 [0/57000 (0%)]\tLoss: 0.204521\n",
            "Train Epoch: 32 [5120/57000 (9%)]\tLoss: 0.157468\n",
            "Train Epoch: 32 [10240/57000 (18%)]\tLoss: 0.231402\n",
            "Train Epoch: 32 [15360/57000 (27%)]\tLoss: 0.257294\n",
            "Train Epoch: 32 [20480/57000 (36%)]\tLoss: 0.193102\n",
            "Train Epoch: 32 [25600/57000 (45%)]\tLoss: 0.222858\n",
            "Train Epoch: 32 [30720/57000 (54%)]\tLoss: 0.239026\n",
            "Train Epoch: 32 [35840/57000 (63%)]\tLoss: 0.183940\n",
            "Train Epoch: 32 [40960/57000 (72%)]\tLoss: 0.134997\n",
            "Train Epoch: 32 [46080/57000 (81%)]\tLoss: 0.209316\n",
            "Train Epoch: 32 [51200/57000 (90%)]\tLoss: 0.136432\n",
            "Train Epoch: 32 [56320/57000 (99%)]\tLoss: 0.202739\n",
            "\n",
            "Test set: Avg. loss: 0.3357, Accuracy: 2687/3000 (90%)\n",
            "\n",
            "Train Epoch: 33 [0/57000 (0%)]\tLoss: 0.196345\n",
            "Train Epoch: 33 [5120/57000 (9%)]\tLoss: 0.153763\n",
            "Train Epoch: 33 [10240/57000 (18%)]\tLoss: 0.237875\n",
            "Train Epoch: 33 [15360/57000 (27%)]\tLoss: 0.248036\n",
            "Train Epoch: 33 [20480/57000 (36%)]\tLoss: 0.187135\n",
            "Train Epoch: 33 [25600/57000 (45%)]\tLoss: 0.212011\n",
            "Train Epoch: 33 [30720/57000 (54%)]\tLoss: 0.226292\n",
            "Train Epoch: 33 [35840/57000 (63%)]\tLoss: 0.163121\n",
            "Train Epoch: 33 [40960/57000 (72%)]\tLoss: 0.133499\n",
            "Train Epoch: 33 [46080/57000 (81%)]\tLoss: 0.205374\n",
            "Train Epoch: 33 [51200/57000 (90%)]\tLoss: 0.129064\n",
            "Train Epoch: 33 [56320/57000 (99%)]\tLoss: 0.194711\n",
            "\n",
            "Test set: Avg. loss: 0.3354, Accuracy: 2683/3000 (89%)\n",
            "\n",
            "Train Epoch: 34 [0/57000 (0%)]\tLoss: 0.190938\n",
            "Train Epoch: 34 [5120/57000 (9%)]\tLoss: 0.152511\n",
            "Train Epoch: 34 [10240/57000 (18%)]\tLoss: 0.237779\n",
            "Train Epoch: 34 [15360/57000 (27%)]\tLoss: 0.253890\n",
            "Train Epoch: 34 [20480/57000 (36%)]\tLoss: 0.190859\n",
            "Train Epoch: 34 [25600/57000 (45%)]\tLoss: 0.212759\n",
            "Train Epoch: 34 [30720/57000 (54%)]\tLoss: 0.230190\n",
            "Train Epoch: 34 [35840/57000 (63%)]\tLoss: 0.163919\n",
            "Train Epoch: 34 [40960/57000 (72%)]\tLoss: 0.129211\n",
            "Train Epoch: 34 [46080/57000 (81%)]\tLoss: 0.207369\n",
            "Train Epoch: 34 [51200/57000 (90%)]\tLoss: 0.123494\n",
            "Train Epoch: 34 [56320/57000 (99%)]\tLoss: 0.190114\n",
            "\n",
            "Test set: Avg. loss: 0.3411, Accuracy: 2678/3000 (89%)\n",
            "\n",
            "Train Epoch: 35 [0/57000 (0%)]\tLoss: 0.189824\n",
            "Train Epoch: 35 [5120/57000 (9%)]\tLoss: 0.146931\n",
            "Train Epoch: 35 [10240/57000 (18%)]\tLoss: 0.235709\n",
            "Train Epoch: 35 [15360/57000 (27%)]\tLoss: 0.255533\n",
            "Train Epoch: 35 [20480/57000 (36%)]\tLoss: 0.191786\n",
            "Train Epoch: 35 [25600/57000 (45%)]\tLoss: 0.215331\n",
            "Train Epoch: 35 [30720/57000 (54%)]\tLoss: 0.243122\n",
            "Train Epoch: 35 [35840/57000 (63%)]\tLoss: 0.158272\n",
            "Train Epoch: 35 [40960/57000 (72%)]\tLoss: 0.129500\n",
            "Train Epoch: 35 [46080/57000 (81%)]\tLoss: 0.201456\n",
            "Train Epoch: 35 [51200/57000 (90%)]\tLoss: 0.128068\n",
            "Train Epoch: 35 [56320/57000 (99%)]\tLoss: 0.179701\n",
            "\n",
            "Test set: Avg. loss: 0.3415, Accuracy: 2685/3000 (90%)\n",
            "\n",
            "Train Epoch: 36 [0/57000 (0%)]\tLoss: 0.183468\n",
            "Train Epoch: 36 [5120/57000 (9%)]\tLoss: 0.146844\n",
            "Train Epoch: 36 [10240/57000 (18%)]\tLoss: 0.228646\n",
            "Train Epoch: 36 [15360/57000 (27%)]\tLoss: 0.263166\n",
            "Train Epoch: 36 [20480/57000 (36%)]\tLoss: 0.179188\n",
            "Train Epoch: 36 [25600/57000 (45%)]\tLoss: 0.216823\n",
            "Train Epoch: 36 [30720/57000 (54%)]\tLoss: 0.243126\n",
            "Train Epoch: 36 [35840/57000 (63%)]\tLoss: 0.159141\n",
            "Train Epoch: 36 [40960/57000 (72%)]\tLoss: 0.137063\n",
            "Train Epoch: 36 [46080/57000 (81%)]\tLoss: 0.202264\n",
            "Train Epoch: 36 [51200/57000 (90%)]\tLoss: 0.131124\n",
            "Train Epoch: 36 [56320/57000 (99%)]\tLoss: 0.183892\n",
            "\n",
            "Test set: Avg. loss: 0.3367, Accuracy: 2687/3000 (90%)\n",
            "\n",
            "Train Epoch: 37 [0/57000 (0%)]\tLoss: 0.174280\n",
            "Train Epoch: 37 [5120/57000 (9%)]\tLoss: 0.143611\n",
            "Train Epoch: 37 [10240/57000 (18%)]\tLoss: 0.215798\n",
            "Train Epoch: 37 [15360/57000 (27%)]\tLoss: 0.277464\n",
            "Train Epoch: 37 [20480/57000 (36%)]\tLoss: 0.169458\n",
            "Train Epoch: 37 [25600/57000 (45%)]\tLoss: 0.207287\n",
            "Train Epoch: 37 [30720/57000 (54%)]\tLoss: 0.229039\n",
            "Train Epoch: 37 [35840/57000 (63%)]\tLoss: 0.153602\n",
            "Train Epoch: 37 [40960/57000 (72%)]\tLoss: 0.140519\n",
            "Train Epoch: 37 [46080/57000 (81%)]\tLoss: 0.218315\n",
            "Train Epoch: 37 [51200/57000 (90%)]\tLoss: 0.127992\n",
            "Train Epoch: 37 [56320/57000 (99%)]\tLoss: 0.181207\n",
            "\n",
            "Test set: Avg. loss: 0.3440, Accuracy: 2681/3000 (89%)\n",
            "\n",
            "Train Epoch: 38 [0/57000 (0%)]\tLoss: 0.176317\n",
            "Train Epoch: 38 [5120/57000 (9%)]\tLoss: 0.158731\n",
            "Train Epoch: 38 [10240/57000 (18%)]\tLoss: 0.212515\n",
            "Train Epoch: 38 [15360/57000 (27%)]\tLoss: 0.255026\n",
            "Train Epoch: 38 [20480/57000 (36%)]\tLoss: 0.158051\n",
            "Train Epoch: 38 [25600/57000 (45%)]\tLoss: 0.197554\n",
            "Train Epoch: 38 [30720/57000 (54%)]\tLoss: 0.220113\n",
            "Train Epoch: 38 [35840/57000 (63%)]\tLoss: 0.147007\n",
            "Train Epoch: 38 [40960/57000 (72%)]\tLoss: 0.127854\n",
            "Train Epoch: 38 [46080/57000 (81%)]\tLoss: 0.186276\n",
            "Train Epoch: 38 [51200/57000 (90%)]\tLoss: 0.135406\n",
            "Train Epoch: 38 [56320/57000 (99%)]\tLoss: 0.165095\n",
            "\n",
            "Test set: Avg. loss: 0.3480, Accuracy: 2681/3000 (89%)\n",
            "\n",
            "Train Epoch: 39 [0/57000 (0%)]\tLoss: 0.185191\n",
            "Train Epoch: 39 [5120/57000 (9%)]\tLoss: 0.169127\n",
            "Train Epoch: 39 [10240/57000 (18%)]\tLoss: 0.204364\n",
            "Train Epoch: 39 [15360/57000 (27%)]\tLoss: 0.240314\n",
            "Train Epoch: 39 [20480/57000 (36%)]\tLoss: 0.165006\n",
            "Train Epoch: 39 [25600/57000 (45%)]\tLoss: 0.189897\n",
            "Train Epoch: 39 [30720/57000 (54%)]\tLoss: 0.204502\n",
            "Train Epoch: 39 [35840/57000 (63%)]\tLoss: 0.142666\n",
            "Train Epoch: 39 [40960/57000 (72%)]\tLoss: 0.109970\n",
            "Train Epoch: 39 [46080/57000 (81%)]\tLoss: 0.160737\n",
            "Train Epoch: 39 [51200/57000 (90%)]\tLoss: 0.147018\n",
            "Train Epoch: 39 [56320/57000 (99%)]\tLoss: 0.146219\n",
            "\n",
            "Test set: Avg. loss: 0.3598, Accuracy: 2672/3000 (89%)\n",
            "\n"
          ],
          "name": "stdout"
        }
      ]
    },
    {
      "cell_type": "code",
      "metadata": {
        "colab": {
          "base_uri": "https://localhost:8080/",
          "height": 296
        },
        "id": "QcRRKE7MzSEQ",
        "outputId": "61d78085-1bd0-47b4-f793-8540ec7d3769"
      },
      "source": [
        "fig = plt.figure()\n",
        "plt.plot(train_counter, train_losses, color='blue')\n",
        "plt.legend(['Train Loss'], loc='upper right')\n",
        "plt.xlabel('number of training examples seen')\n",
        "plt.ylabel('negative log likelihood loss')"
      ],
      "execution_count": 53,
      "outputs": [
        {
          "output_type": "execute_result",
          "data": {
            "text/plain": [
              "Text(0, 0.5, 'negative log likelihood loss')"
            ]
          },
          "metadata": {
            "tags": []
          },
          "execution_count": 53
        },
        {
          "output_type": "display_data",
          "data": {
            "image/png": "[encoded data removed]",
            "text/plain": [
              "<Figure size 432x288 with 1 Axes>"
            ]
          },
          "metadata": {
            "tags": [],
            "needs_background": "light"
          }
        }
      ]
    },
    {
      "cell_type": "markdown",
      "metadata": {
        "id": "DIDJM1PnADIt"
      },
      "source": [
        "## Deeper（doesn't work）"
      ]
    },
    {
      "cell_type": "code",
      "metadata": {
        "id": "Vcqne0XZLcYf"
      },
      "source": [
        "import torch.nn as nn\n",
        "import torch.nn.functional as F\n",
        "import torch.optim as optim"
      ],
      "execution_count": null,
      "outputs": []
    },
    {
      "cell_type": "code",
      "metadata": {
        "id": "tdDmYca6CmXP"
      },
      "source": [
        "device = torch.device('cuda' if torch.cuda.is_available() else 'cpu')"
      ],
      "execution_count": null,
      "outputs": []
    },
    {
      "cell_type": "code",
      "metadata": {
        "id": "8MWRg9T5AFNR"
      },
      "source": [
        "class MyModel(nn.Module):\n",
        "  def __init__(self):\n",
        "    super(MyModel, self).__init__()\n",
        "    \n",
        "    self.model = nn.Sequential(\n",
        "      nn.Conv2d(1, 16, kernel_size=3), nn.ReLU(), # 26*26\n",
        "      nn.Conv2d(16, 16, kernel_size=3), nn.ReLU(), # 24*24\n",
        "      # nn.MaxPool2d(2,2), # 13*13\n",
        "\n",
        "      nn.Conv2d(16, 32, kernel_size=3), nn.ReLU(),  # 22*22\n",
        "      nn.Conv2d(32, 32, kernel_size=3), nn.ReLU(),  # 20*20\n",
        "      # nn.MaxPool2d(2,2),  # 6*6\n",
        "\n",
        "      nn.Conv2d(32, 64, kernel_size=3), nn.ReLU(),  # 18*18\n",
        "      nn.Conv2d(64, 64, kernel_size=3), nn.ReLU(),  # 16*16\n",
        "      # nn.MaxPool2d(2,2),  # 2*2\n",
        "\n",
        "      nn.Conv2d(64, 128, kernel_size=3), nn.ReLU(), # 14*14\n",
        "      nn.Conv2d(128, 128, kernel_size=3), nn.ReLU(),  # 12*12\n",
        "      # nn.MaxPool2d(2,2),\n",
        "\n",
        "      nn.Conv2d(128, 256, kernel_size=3), nn.ReLU(),  # 10*10\n",
        "      nn.Conv2d(256, 256, kernel_size=3), nn.ReLU(),  # 8*8\n",
        "      nn.MaxPool2d(2,2),  # 4*4\n",
        "\n",
        "    )\n",
        "    \n",
        "    self.classifier = nn.Sequential(\n",
        "      nn.Flatten(),\n",
        "      nn.Dropout(0.25),\n",
        "      # nn.Linear(4096, 256),\n",
        "      nn.Linear(4096, 256),\n",
        "      nn.ReLU(),\n",
        "\n",
        "      nn.Dropout(0.5),\n",
        "      nn.Linear(256, 10),\n",
        "      nn.Softmax(dim=1)\n",
        "    )\n",
        "    \n",
        "  def forward(self, x):\n",
        "    f = self.model(x)\n",
        "    y_pred = self.classifier(f)\n",
        "    return y_pred\n",
        "\n",
        "network = MyModel()\n",
        "# summary(model, (3,256,256))"
      ],
      "execution_count": null,
      "outputs": []
    },
    {
      "cell_type": "code",
      "metadata": {
        "id": "7daPmiD_EJ53"
      },
      "source": [
        "optimizer = optim.Adam(network.parameters())\n",
        "\n",
        "train_losses = []\n",
        "train_counter = []\n",
        "test_losses = []\n",
        "test_counter = [i*len(train_loader.dataset) for i in range(3)]"
      ],
      "execution_count": null,
      "outputs": []
    },
    {
      "cell_type": "code",
      "metadata": {
        "id": "tv66liBRDHL9"
      },
      "source": [
        "def train(epoch):\n",
        "  network.train()\n",
        "  for batch_idx, (data, target) in enumerate(train_loader):\n",
        "    optimizer.zero_grad()\n",
        "    output = network(data)\n",
        "\n",
        "    loss = F.nll_loss(output, target) #negative log likelihood loss\n",
        "    loss.backward()\n",
        "    optimizer.step()\n",
        "    if batch_idx % 20 == 0:\n",
        "      print('Train Epoch: {} [{}/{} ({:.0f}%)]\\tLoss: {:.6f}'.format(\n",
        "        epoch, batch_idx * len(data), len(train_loader.dataset),\n",
        "        100. * batch_idx / len(train_loader), loss.item()))\n",
        "      train_losses.append(loss.item())\n",
        "      train_counter.append(\n",
        "        (batch_idx*64) + ((epoch-1)*len(train_loader.dataset)))\n",
        "\n",
        "def test():\n",
        "  network.eval()\n",
        "  test_loss = 0\n",
        "  correct = 0\n",
        "  with torch.no_grad():\n",
        "    for data, target in val_loader:\n",
        "      output = network(data)\n",
        "      # this line is added to convert labels to LongTensor\n",
        "      # target = target.type(torch.LongTensor)\n",
        "      # target = torch.argmax(target, dim=1) # convert from 1-hot to 1D\n",
        "\n",
        "      test_loss += F.nll_loss(output, target, size_average=False).item()\n",
        "      pred = output.data.max(1, keepdim=True)[1]\n",
        "      correct += pred.eq(target.data.view_as(pred)).sum()\n",
        "  test_loss /= len(val_loader.dataset)\n",
        "  test_losses.append(test_loss)\n",
        "  print('\\nTest set: Avg. loss: {:.4f}, Accuracy: {}/{} ({:.0f}%)\\n'.format(\n",
        "    test_loss, correct, len(val_loader.dataset),\n",
        "    100. * correct / len(val_loader.dataset)))"
      ],
      "execution_count": null,
      "outputs": []
    },
    {
      "cell_type": "code",
      "metadata": {
        "colab": {
          "base_uri": "https://localhost:8080/",
          "height": 443
        },
        "id": "30Rz0VM-FKN5",
        "outputId": "1efc1fa5-369e-4747-f0d6-d3bddc46479b"
      },
      "source": [
        "for epoch in range(1, 4):\n",
        "  train(epoch)\n",
        "  test()"
      ],
      "execution_count": null,
      "outputs": [
        {
          "output_type": "stream",
          "text": [
            "Train Epoch: 1 [0/60000 (0%)]\tLoss: -0.099955\n",
            "Train Epoch: 1 [5120/60000 (11%)]\tLoss: -0.097481\n",
            "Train Epoch: 1 [10240/60000 (21%)]\tLoss: -0.074219\n",
            "Train Epoch: 1 [15360/60000 (32%)]\tLoss: -0.109375\n",
            "Train Epoch: 1 [20480/60000 (43%)]\tLoss: -0.101562\n"
          ],
          "name": "stdout"
        },
        {
          "output_type": "error",
          "ename": "KeyboardInterrupt",
          "evalue": "ignored",
          "traceback": [
            "\u001b[0;31m---------------------------------------------------------------------------\u001b[0m",
            "\u001b[0;31mKeyboardInterrupt\u001b[0m                         Traceback (most recent call last)",
            "\u001b[0;32m<ipython-input-39-02379a7662ab>\u001b[0m in \u001b[0;36m<module>\u001b[0;34m()\u001b[0m\n\u001b[1;32m      1\u001b[0m \u001b[0;32mfor\u001b[0m \u001b[0mepoch\u001b[0m \u001b[0;32min\u001b[0m \u001b[0mrange\u001b[0m\u001b[0;34m(\u001b[0m\u001b[0;36m1\u001b[0m\u001b[0;34m,\u001b[0m \u001b[0;36m4\u001b[0m\u001b[0;34m)\u001b[0m\u001b[0;34m:\u001b[0m\u001b[0;34m\u001b[0m\u001b[0;34m\u001b[0m\u001b[0m\n\u001b[0;32m----> 2\u001b[0;31m   \u001b[0mtrain\u001b[0m\u001b[0;34m(\u001b[0m\u001b[0mepoch\u001b[0m\u001b[0;34m)\u001b[0m\u001b[0;34m\u001b[0m\u001b[0;34m\u001b[0m\u001b[0m\n\u001b[0m\u001b[1;32m      3\u001b[0m   \u001b[0mtest\u001b[0m\u001b[0;34m(\u001b[0m\u001b[0;34m)\u001b[0m\u001b[0;34m\u001b[0m\u001b[0;34m\u001b[0m\u001b[0m\n",
            "\u001b[0;32m<ipython-input-38-e15993a0a7ef>\u001b[0m in \u001b[0;36mtrain\u001b[0;34m(epoch)\u001b[0m\n\u001b[1;32m      6\u001b[0m \u001b[0;34m\u001b[0m\u001b[0m\n\u001b[1;32m      7\u001b[0m     \u001b[0mloss\u001b[0m \u001b[0;34m=\u001b[0m \u001b[0mF\u001b[0m\u001b[0;34m.\u001b[0m\u001b[0mnll_loss\u001b[0m\u001b[0;34m(\u001b[0m\u001b[0moutput\u001b[0m\u001b[0;34m,\u001b[0m \u001b[0mtarget\u001b[0m\u001b[0;34m)\u001b[0m \u001b[0;31m#negative log likelihood loss\u001b[0m\u001b[0;34m\u001b[0m\u001b[0;34m\u001b[0m\u001b[0m\n\u001b[0;32m----> 8\u001b[0;31m     \u001b[0mloss\u001b[0m\u001b[0;34m.\u001b[0m\u001b[0mbackward\u001b[0m\u001b[0;34m(\u001b[0m\u001b[0;34m)\u001b[0m\u001b[0;34m\u001b[0m\u001b[0;34m\u001b[0m\u001b[0m\n\u001b[0m\u001b[1;32m      9\u001b[0m     \u001b[0moptimizer\u001b[0m\u001b[0;34m.\u001b[0m\u001b[0mstep\u001b[0m\u001b[0;34m(\u001b[0m\u001b[0;34m)\u001b[0m\u001b[0;34m\u001b[0m\u001b[0;34m\u001b[0m\u001b[0m\n\u001b[1;32m     10\u001b[0m     \u001b[0;32mif\u001b[0m \u001b[0mbatch_idx\u001b[0m \u001b[0;34m%\u001b[0m \u001b[0;36m20\u001b[0m \u001b[0;34m==\u001b[0m \u001b[0;36m0\u001b[0m\u001b[0;34m:\u001b[0m\u001b[0;34m\u001b[0m\u001b[0;34m\u001b[0m\u001b[0m\n",
            "\u001b[0;32m/usr/local/lib/python3.7/dist-packages/torch/tensor.py\u001b[0m in \u001b[0;36mbackward\u001b[0;34m(self, gradient, retain_graph, create_graph, inputs)\u001b[0m\n\u001b[1;32m    243\u001b[0m                 \u001b[0mcreate_graph\u001b[0m\u001b[0;34m=\u001b[0m\u001b[0mcreate_graph\u001b[0m\u001b[0;34m,\u001b[0m\u001b[0;34m\u001b[0m\u001b[0;34m\u001b[0m\u001b[0m\n\u001b[1;32m    244\u001b[0m                 inputs=inputs)\n\u001b[0;32m--> 245\u001b[0;31m         \u001b[0mtorch\u001b[0m\u001b[0;34m.\u001b[0m\u001b[0mautograd\u001b[0m\u001b[0;34m.\u001b[0m\u001b[0mbackward\u001b[0m\u001b[0;34m(\u001b[0m\u001b[0mself\u001b[0m\u001b[0;34m,\u001b[0m \u001b[0mgradient\u001b[0m\u001b[0;34m,\u001b[0m \u001b[0mretain_graph\u001b[0m\u001b[0;34m,\u001b[0m \u001b[0mcreate_graph\u001b[0m\u001b[0;34m,\u001b[0m \u001b[0minputs\u001b[0m\u001b[0;34m=\u001b[0m\u001b[0minputs\u001b[0m\u001b[0;34m)\u001b[0m\u001b[0;34m\u001b[0m\u001b[0;34m\u001b[0m\u001b[0m\n\u001b[0m\u001b[1;32m    246\u001b[0m \u001b[0;34m\u001b[0m\u001b[0m\n\u001b[1;32m    247\u001b[0m     \u001b[0;32mdef\u001b[0m \u001b[0mregister_hook\u001b[0m\u001b[0;34m(\u001b[0m\u001b[0mself\u001b[0m\u001b[0;34m,\u001b[0m \u001b[0mhook\u001b[0m\u001b[0;34m)\u001b[0m\u001b[0;34m:\u001b[0m\u001b[0;34m\u001b[0m\u001b[0;34m\u001b[0m\u001b[0m\n",
            "\u001b[0;32m/usr/local/lib/python3.7/dist-packages/torch/autograd/__init__.py\u001b[0m in \u001b[0;36mbackward\u001b[0;34m(tensors, grad_tensors, retain_graph, create_graph, grad_variables, inputs)\u001b[0m\n\u001b[1;32m    145\u001b[0m     Variable._execution_engine.run_backward(\n\u001b[1;32m    146\u001b[0m         \u001b[0mtensors\u001b[0m\u001b[0;34m,\u001b[0m \u001b[0mgrad_tensors_\u001b[0m\u001b[0;34m,\u001b[0m \u001b[0mretain_graph\u001b[0m\u001b[0;34m,\u001b[0m \u001b[0mcreate_graph\u001b[0m\u001b[0;34m,\u001b[0m \u001b[0minputs\u001b[0m\u001b[0;34m,\u001b[0m\u001b[0;34m\u001b[0m\u001b[0;34m\u001b[0m\u001b[0m\n\u001b[0;32m--> 147\u001b[0;31m         allow_unreachable=True, accumulate_grad=True)  # allow_unreachable flag\n\u001b[0m\u001b[1;32m    148\u001b[0m \u001b[0;34m\u001b[0m\u001b[0m\n\u001b[1;32m    149\u001b[0m \u001b[0;34m\u001b[0m\u001b[0m\n",
            "\u001b[0;31mKeyboardInterrupt\u001b[0m: "
          ]
        }
      ]
    },
    {
      "cell_type": "code",
      "metadata": {
        "colab": {
          "base_uri": "https://localhost:8080/"
        },
        "id": "fJ1U0lhpHojX",
        "outputId": "395e6940-9c14-4507-e62b-0b3a20fa9d83"
      },
      "source": [
        "print(torch.cuda.is_available())"
      ],
      "execution_count": null,
      "outputs": [
        {
          "output_type": "stream",
          "text": [
            "True\n"
          ],
          "name": "stdout"
        }
      ]
    }
  ]
}