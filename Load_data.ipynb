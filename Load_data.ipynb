{
  "nbformat": 4,
  "nbformat_minor": 0,
  "metadata": {
    "colab": {
      "name": "Load_data.ipynb",
      "provenance": [],
      "collapsed_sections": [
        "oo2KSbBVO-iF",
        "eQW5T5eHq8X0",
        "DIDJM1PnADIt"
      ],
      "include_colab_link": true
    },
    "kernelspec": {
      "name": "python3",
      "display_name": "Python 3"
    },
    "accelerator": "GPU"
  },
  "cells": [
    {
      "cell_type": "markdown",
      "metadata": {
        "id": "view-in-github",
        "colab_type": "text"
      },
      "source": [
        "<a href=\"https://colab.research.google.com/github/jwang44/upgraded-octo-chainsaw/blob/main/Load_data.ipynb\" target=\"_parent\"><img src=\"https://colab.research.google.com/assets/colab-badge.svg\" alt=\"Open In Colab\"/></a>"
      ]
    },
    {
      "cell_type": "code",
      "metadata": {
        "colab": {
          "base_uri": "https://localhost:8080/"
        },
        "id": "0dOxAvsuIul3",
        "outputId": "679f7380-d6a8-4c5a-d9f2-b0720537bf4f"
      },
      "source": [
        "from google.colab import drive\n",
        "drive.mount('/content/drive')"
      ],
      "execution_count": 1,
      "outputs": [
        {
          "output_type": "stream",
          "text": [
            "Mounted at /content/drive\n"
          ],
          "name": "stdout"
        }
      ]
    },
    {
      "cell_type": "code",
      "metadata": {
        "colab": {
          "base_uri": "https://localhost:8080/"
        },
        "id": "hgry_nK5mW0a",
        "outputId": "d9b3c7fa-81ea-4065-edbc-5ba17c124a58"
      },
      "source": [
        "%cd '/content/drive/MyDrive/imageunderstanding'\n",
        "!ls"
      ],
      "execution_count": 2,
      "outputs": [
        {
          "output_type": "stream",
          "text": [
            "/content/drive/MyDrive/imageunderstanding\n",
            "ExampleSubmissionRandom.csv  Test.pkl\t       Train.pkl\n",
            "Load_data.ipynb\t\t     Train_labels.csv\n"
          ],
          "name": "stdout"
        }
      ]
    },
    {
      "cell_type": "code",
      "metadata": {
        "id": "T1-Hfwf3lrw4"
      },
      "source": [
        "TRAIN_DATA_PATH = \"Train.pkl\"\n",
        "TRAIN_LABEL_PATH = \"Train_labels.csv\"\n",
        "TEST_DATA_PATH = \"Test.pkl\""
      ],
      "execution_count": 3,
      "outputs": []
    },
    {
      "cell_type": "code",
      "metadata": {
        "id": "7XS2MS7nHzIN"
      },
      "source": [
        "import pickle\n",
        "import matplotlib.pyplot as plt\n",
        "import numpy as np\n",
        "from torchvision import transforms\n",
        "from torch.utils.data import Dataset\n",
        "from torch.utils.data import DataLoader, TensorDataset\n",
        "from PIL import Image\n",
        "import torch"
      ],
      "execution_count": 4,
      "outputs": []
    },
    {
      "cell_type": "code",
      "metadata": {
        "colab": {
          "base_uri": "https://localhost:8080/"
        },
        "id": "FBXdYCpunCp2",
        "outputId": "df7fad61-8148-4623-8e22-caf86c8dfb54"
      },
      "source": [
        "DEVICE = torch.device('cuda' if torch.cuda.is_available() else 'cpu')\n",
        "DEVICE"
      ],
      "execution_count": 5,
      "outputs": [
        {
          "output_type": "execute_result",
          "data": {
            "text/plain": [
              "device(type='cuda')"
            ]
          },
          "metadata": {
            "tags": []
          },
          "execution_count": 5
        }
      ]
    },
    {
      "cell_type": "code",
      "metadata": {
        "id": "zppkOjQwVjy2"
      },
      "source": [
        "torch.manual_seed(0)\n",
        "torch.cuda.manual_seed(0)"
      ],
      "execution_count": null,
      "outputs": []
    },
    {
      "cell_type": "markdown",
      "metadata": {
        "id": "oo2KSbBVO-iF"
      },
      "source": [
        "## Load data (Obsolete)"
      ]
    },
    {
      "cell_type": "code",
      "metadata": {
        "id": "-LNAz6GbXoY2"
      },
      "source": [
        "# Read image data and their label into a Dataset \n",
        "data = pickle.load( open( 'Train.pkl', 'rb' ))\n",
        "# this line is changed to \n",
        "# 1. make sure data and targets are of the same dimension\n",
        "# 2. drop the index column\n",
        "targets = np.genfromtxt('Train_labels.csv', delimiter=',', skip_header=1, usecols=1)"
      ],
      "execution_count": null,
      "outputs": []
    },
    {
      "cell_type": "code",
      "metadata": {
        "colab": {
          "base_uri": "https://localhost:8080/"
        },
        "id": "morX3bucqlDD",
        "outputId": "53778750-7db7-4ad2-9689-3af92d1e5447"
      },
      "source": [
        "# convert targets to one-hot OPTIONAL\n",
        "from sklearn.preprocessing import OneHotEncoder\n",
        "\n",
        "print(\"targets shape: \", targets.shape)\n",
        "one_hot = OneHotEncoder(sparse=False)\n",
        "targets = one_hot.fit_transform(targets.reshape(-1,1))\n",
        "print(\"targets shape: \", targets.shape)"
      ],
      "execution_count": null,
      "outputs": [
        {
          "output_type": "stream",
          "text": [
            "targets shape:  (60000,)\n",
            "targets shape:  (60000, 10)\n"
          ],
          "name": "stdout"
        }
      ]
    },
    {
      "cell_type": "code",
      "metadata": {
        "id": "06TVorE6q0cK"
      },
      "source": [
        "data = torch.from_numpy(data)\n",
        "targets = torch.from_numpy(targets)\n",
        "targets = targets.type(torch.LongTensor)\n",
        "dataset = TensorDataset(data,targets)"
      ],
      "execution_count": null,
      "outputs": []
    },
    {
      "cell_type": "code",
      "metadata": {
        "colab": {
          "base_uri": "https://localhost:8080/"
        },
        "id": "rnl3DArcKvrZ",
        "outputId": "988aecca-ebba-4e09-b6e7-95b2b63f37f3"
      },
      "source": [
        "print(\"data_shape: \", data.shape)\n",
        "print(\"target_shape: \", targets.shape)\n",
        "print(\"dataset_size: \", len(dataset))"
      ],
      "execution_count": null,
      "outputs": [
        {
          "output_type": "stream",
          "text": [
            "data_shape:  torch.Size([60000, 1, 28, 28])\n",
            "target_shape:  torch.Size([60000])\n",
            "dataset_size:  60000\n"
          ],
          "name": "stdout"
        }
      ]
    },
    {
      "cell_type": "markdown",
      "metadata": {
        "id": "_2Vm3wY_K3DA"
      },
      "source": [
        "## Dataset Class / Data Loaders"
      ]
    },
    {
      "cell_type": "code",
      "metadata": {
        "id": "j0MUpn2VnElU"
      },
      "source": [
        "# Transforms are common image transformations. They can be chained together using Compose.\n",
        "# Here we normalize images img=(img-0.5)/0.5\n",
        "img_transform = transforms.Compose([\n",
        "    transforms.ToTensor(),\n",
        "    transforms.Normalize([0.5], [0.5])\n",
        "    # transforms.RandomRotation(10, resample=PIL.Image.BILINEAR)\n",
        "])"
      ],
      "execution_count": 19,
      "outputs": []
    },
    {
      "cell_type": "code",
      "metadata": {
        "id": "CY0SndE2qcmb"
      },
      "source": [
        "# img_file: the pickle file containing the images\n",
        "# label_file: the .csv file containing the labels\n",
        "# transform: We use it for normalizing images (see above)\n",
        "# idx: This is a binary vector that is useful for creating training and validation set.\n",
        "# It return only samples where idx is True\n",
        "\n",
        "class MyDataset(Dataset):\n",
        "    def __init__(self, img_file, label_file, transform=None, idx = None):\n",
        "        self.data = pickle.load( open( img_file, 'rb' ), encoding='bytes')\n",
        "        self.targets = np.genfromtxt(label_file, delimiter=',', skip_header=1, usecols=1) #[:,1:]\n",
        "        if idx is not None:\n",
        "          self.targets = self.targets[idx]\n",
        "          self.data = self.data[idx]\n",
        "        self.transform = transform\n",
        "\n",
        "    def __len__(self):\n",
        "        return len(self.targets)\n",
        "\n",
        "    def __getitem__(self, index):\n",
        "        img, target = self.data[index].squeeze(), int(self.targets[index])\n",
        "        img = Image.fromarray((img*255).astype('uint8'), mode='L')\n",
        "        if self.transform is not None:\n",
        "           img = self.transform(img)\n",
        "        return img, target"
      ],
      "execution_count": 20,
      "outputs": []
    },
    {
      "cell_type": "markdown",
      "metadata": {
        "id": "q3b-QvEvqNE3"
      },
      "source": [
        "Get loader for all train data"
      ]
    },
    {
      "cell_type": "code",
      "metadata": {
        "id": "74kV_DwkqizL"
      },
      "source": [
        "dataset = MyDataset(TRAIN_DATA_PATH, TRAIN_LABEL_PATH,transform=img_transform, idx=None)\n",
        "BATCH_SIZE = 256\n",
        "# dataloader for all data\n",
        "dataloader = DataLoader(dataset, batch_size=BATCH_SIZE, shuffle=True)"
      ],
      "execution_count": 21,
      "outputs": []
    },
    {
      "cell_type": "markdown",
      "metadata": {
        "id": "1ZNiErb-pbPt"
      },
      "source": [
        "Get loaders for train/val data"
      ]
    },
    {
      "cell_type": "code",
      "metadata": {
        "id": "05SXSXBRW4DX"
      },
      "source": [
        "VAL_SPLIT = 0.05\n",
        "shuffle = True\n",
        "\n",
        "# Creating indices for train and val split:\n",
        "dataset_size = len(dataset)\n",
        "indices = list(range(dataset_size))\n",
        "split = int(np.floor(VAL_SPLIT * dataset_size))\n",
        "if shuffle:\n",
        "  # set random seed so that we get the same split everytime\n",
        "  np.random.seed(0)\n",
        "  np.random.shuffle(indices)\n",
        "train_indices, val_indices = indices[split:], indices[:split]\n",
        "\n",
        "train_dataset = MyDataset(TRAIN_DATA_PATH, TRAIN_LABEL_PATH,transform=img_transform, idx=train_indices)\n",
        "val_dataset = MyDataset(TRAIN_DATA_PATH, TRAIN_LABEL_PATH,transform=img_transform, idx=val_indices)\n",
        "\n",
        "# separate loaders for train and val data\n",
        "train_loader = DataLoader(train_dataset, batch_size=BATCH_SIZE, shuffle=False)\n",
        "val_loader = DataLoader(val_dataset, batch_size=BATCH_SIZE, shuffle=False)"
      ],
      "execution_count": 22,
      "outputs": []
    },
    {
      "cell_type": "markdown",
      "metadata": {
        "id": "eQW5T5eHq8X0"
      },
      "source": [
        "## Visualize some data"
      ]
    },
    {
      "cell_type": "code",
      "metadata": {
        "colab": {
          "base_uri": "https://localhost:8080/",
          "height": 318
        },
        "id": "Ksdl4wXps7-8",
        "outputId": "0d998b06-a765-4423-c907-ea307233fb69"
      },
      "source": [
        "# Read a batch of data and their labels and display them\n",
        "[imgs, labels] = (next(iter(train_loader)))\n",
        "print(imgs.shape)\n",
        "# imgs: [256, 1, 28, 28]\n",
        "imgs = np.squeeze(imgs)\n",
        "# imgs: [256, 28, 28]\n",
        "print(imgs.shape)\n",
        "\n",
        "for i in range(6):\n",
        "  plt.subplot(2,3,i+1)\n",
        "  plt.tight_layout()\n",
        "  plt.imshow(imgs[50].cpu().numpy(),cmap='gray',interpolation=\"bicubic\") #.transpose()\n",
        "  plt.imshow(imgs[i], cmap='gray', interpolation='bicubic')\n",
        "  plt.title(\"Ground Truth: {}\".format(labels[i]))\n",
        "  plt.xticks([])\n",
        "  plt.yticks([])"
      ],
      "execution_count": 46,
      "outputs": [
        {
          "output_type": "stream",
          "text": [
            "torch.Size([256, 1, 28, 28])\n",
            "torch.Size([256, 28, 28])\n"
          ],
          "name": "stdout"
        },
        {
          "output_type": "display_data",
          "data": {
            "image/png": "[encoded data removed]",
            "text/plain": [
              "<Figure size 432x288 with 6 Axes>"
            ]
          },
          "metadata": {
            "tags": []
          }
        }
      ]
    },
    {
      "cell_type": "code",
      "metadata": {
        "id": "PCW7x9u4DIWh"
      },
      "source": [
        "# Here is a piece of code that reads data in batch.\n",
        "# In each epoch all samples are read in batches using dataloader\n",
        "\n",
        "num_epochs=2 # Feel free to change it\n",
        "for epoch in range(num_epochs):\n",
        "    for data in dataloader:\n",
        "        [img,label] = data\n",
        "\n"
      ],
      "execution_count": null,
      "outputs": []
    },
    {
      "cell_type": "markdown",
      "metadata": {
        "id": "wdvC0-OfRnQV"
      },
      "source": [
        "## Tutorial CNN model"
      ]
    },
    {
      "cell_type": "code",
      "metadata": {
        "id": "pFVSRS6gs8t7"
      },
      "source": [
        "import torch.nn as nn\n",
        "import torch.nn.functional as F\n",
        "import torch.optim as optim"
      ],
      "execution_count": 23,
      "outputs": []
    },
    {
      "cell_type": "code",
      "metadata": {
        "id": "euCTEzBAzIeD"
      },
      "source": [
        "class Net(nn.Module):\n",
        "    def __init__(self, kernel_size=3):\n",
        "        super(Net, self).__init__()\n",
        "        # input 1*28*28\n",
        "        self.conv1 = nn.Conv2d(1, 10, kernel_size)\n",
        "        # 10*(28-kernel_size+1)*(28-kernel_size+1)\n",
        "        self.conv2 = nn.Conv2d(10, 20, kernel_size)\n",
        "        self.fc1 = nn.Linear(500, 200)\n",
        "        self.fc2 = nn.Linear(200, 50)\n",
        "        self.fc3 = nn.Linear(50, 10)\n",
        "\n",
        "    def forward(self, x):\n",
        "        x = F.relu(F.max_pool2d(self.conv1(x), 2))\n",
        "        x = F.relu(F.max_pool2d(self.conv2(x), 2))\n",
        "        x = x.view(-1, 500) # 20*5*5\n",
        "        x = F.relu(self.fc1(x))\n",
        "        # x = self.fc2(x)\n",
        "        x = F.relu(self.fc2(x))\n",
        "        x = self.fc3(x)\n",
        "        return F.log_softmax(x)"
      ],
      "execution_count": 24,
      "outputs": []
    },
    {
      "cell_type": "code",
      "metadata": {
        "id": "ninyvAXRtU5z"
      },
      "source": [
        "class Net(nn.Module):\n",
        "    # This part defines the layers\n",
        "    def __init__(self):\n",
        "        super(Net, self).__init__()\n",
        "        # At first there is only 1 channel (greyscale). The next channel size will be 10. \n",
        "        self.conv1 = nn.Conv2d(1, 10, kernel_size=5)\n",
        "        # Then, going from channel size (or feature size) 10 to 20. \n",
        "        self.conv2 = nn.Conv2d(10, 20, kernel_size=5)\n",
        "        # Now let us create some feed foreward layers in the end. Remember the sizes (from 320 to 50)\n",
        "        self.fc1 = nn.Linear(320, 50)\n",
        "        # The last layer should have an output with the same dimension as the number of classes\n",
        "        self.fc2 = nn.Linear(50, 10)\n",
        "\n",
        "    # And this part defines the way they are connected to each other\n",
        "    # (In reality, it is our foreward pass)\n",
        "    def forward(self, x):\n",
        "        \n",
        "        # F.relu is ReLU activation. F.max_pool2d is a max pooling layer with n=2\n",
        "        # Max pooling the maximum value of each square of size n. Effectively dividing the image size by n\n",
        "        # At first, x is out input, so it is 1x28x28\n",
        "        # After the first convolution, it is 10x24x24 (24=28-5+1, 10 comes from feature size)\n",
        "        # After max pooling, it is 10x12x12\n",
        "        # ReLU doesn't change the size\n",
        "        x = F.relu(F.max_pool2d(self.conv1(x), 2))\n",
        "\n",
        "        # Again, after convolution layer, size is 20x8x8 (8=12-5+1, 20 comes from feature size)\n",
        "        # After max pooling it becomes 20x4x4\n",
        "        x = F.relu(F.max_pool2d(self.conv2(x), 2))\n",
        "\n",
        "        # This layer is an imaginary one. It simply states that we should see each member of x\n",
        "        # as a vector of 320 elements, instead of a tensor of 20x4x4 (Notice that 20*4*4=320)\n",
        "        x = x.view(-1, 320)\n",
        "\n",
        "        # Feedforeward layers. Remember that fc1 is a layer that goes from 320 to 50 neurons\n",
        "        x = F.relu(self.fc1(x))\n",
        "\n",
        "        # Output layer\n",
        "        x = self.fc2(x)\n",
        "\n",
        "        # We should put an appropriate activation for the output layer.\n",
        "        return F.log_softmax(x)"
      ],
      "execution_count": null,
      "outputs": []
    },
    {
      "cell_type": "markdown",
      "metadata": {
        "id": "BeVwuJHatdb7"
      },
      "source": [
        "Let's train these. But first, create the network, the optimizer and some lists for logging the training process"
      ]
    },
    {
      "cell_type": "code",
      "metadata": {
        "id": "EWuVNrsotfZD"
      },
      "source": [
        "network = Net().to(DEVICE)\n",
        "# optimizer = optim.SGD(network.parameters(), lr=0.01, momentum=0.5)\n",
        "# optimizer = optim.SGD(network.parameters(), lr=1, momentum=0.5)\n",
        "optimizer = optim.Adam(network.parameters())\n",
        "\n",
        "train_losses = []\n",
        "train_counter = []\n",
        "test_losses = []\n",
        "test_counter = [i*len(train_loader.dataset) for i in range(3)]"
      ],
      "execution_count": 25,
      "outputs": []
    },
    {
      "cell_type": "code",
      "metadata": {
        "id": "0Ps3KWsvtlSS"
      },
      "source": [
        "def train(epoch):\n",
        "  network.train()\n",
        "  for batch_idx, (data, target) in enumerate(train_loader):\n",
        "    optimizer.zero_grad()\n",
        "    data = data.to(DEVICE)\n",
        "    target = target.to(DEVICE)\n",
        "    output = network(data)\n",
        "    # target = torch.argmax(target, dim=1) # convert from 1-hot to 1D\n",
        "    loss = F.nll_loss(output, target) #negative log likelihood loss\n",
        "    loss.backward()\n",
        "    optimizer.step()\n",
        "    if batch_idx % 20 == 0:\n",
        "      print('Train Epoch: {} [{}/{} ({:.0f}%)]\\tLoss: {:.6f}'.format(\n",
        "        epoch, batch_idx * len(data), len(train_loader.dataset),\n",
        "        100. * batch_idx / len(train_loader), loss.item()))\n",
        "      train_losses.append(loss.item())\n",
        "      train_counter.append(\n",
        "        (batch_idx*64) + ((epoch-1)*len(train_loader.dataset)))\n",
        "      torch.save(network.state_dict(), '/model.pth')\n",
        "      torch.save(optimizer.state_dict(), '/optimizer.pth')\n",
        "\n",
        "def test():\n",
        "  network.eval()\n",
        "  test_loss = 0\n",
        "  correct = 0\n",
        "  with torch.no_grad():\n",
        "    for data, target in val_loader:\n",
        "      data = data.to(DEVICE)\n",
        "      target = target.to(DEVICE)\n",
        "      output = network(data)\n",
        "      test_loss += F.nll_loss(output, target, size_average=False).item()\n",
        "      pred = output.data.max(1, keepdim=True)[1]\n",
        "      correct += pred.eq(target.data.view_as(pred)).sum()\n",
        "  test_loss /= len(val_loader.dataset)\n",
        "  test_losses.append(test_loss)\n",
        "  print('\\nTest set: Avg. loss: {:.4f}, Accuracy: {}/{} ({:.0f}%)\\n'.format(\n",
        "    test_loss, correct, len(val_loader.dataset),\n",
        "    100. * correct / len(val_loader.dataset)))"
      ],
      "execution_count": 29,
      "outputs": []
    },
    {
      "cell_type": "code",
      "metadata": {
        "colab": {
          "base_uri": "https://localhost:8080/"
        },
        "id": "3gjkriuv8bVO",
        "outputId": "552ac95e-22a7-4c6d-f297-976fc6e7ff7d"
      },
      "source": [
        "len(dataloader.dataset)"
      ],
      "execution_count": 50,
      "outputs": [
        {
          "output_type": "execute_result",
          "data": {
            "text/plain": [
              "60000"
            ]
          },
          "metadata": {
            "tags": []
          },
          "execution_count": 50
        }
      ]
    },
    {
      "cell_type": "code",
      "metadata": {
        "colab": {
          "base_uri": "https://localhost:8080/"
        },
        "id": "1Gl0IR_n8l2X",
        "outputId": "274e5b3a-1aca-4eaa-9b56-1560688d1640"
      },
      "source": [
        "len(train_loader.dataset)"
      ],
      "execution_count": 17,
      "outputs": [
        {
          "output_type": "execute_result",
          "data": {
            "text/plain": [
              "57000"
            ]
          },
          "metadata": {
            "tags": []
          },
          "execution_count": 17
        }
      ]
    },
    {
      "cell_type": "markdown",
      "metadata": {
        "id": "BaaA04yUtj1T"
      },
      "source": [
        "And let us train the network"
      ]
    },
    {
      "cell_type": "code",
      "metadata": {
        "id": "CCgK_yOvtrjz",
        "colab": {
          "base_uri": "https://localhost:8080/"
        },
        "outputId": "7831645a-26c6-45c3-8bf4-d7f9c3a2f9b7"
      },
      "source": [
        "for epoch in range(1, 40):\n",
        "  train(epoch)\n",
        "  test()"
      ],
      "execution_count": 30,
      "outputs": [
        {
          "output_type": "stream",
          "text": [
            "/usr/local/lib/python3.7/dist-packages/ipykernel_launcher.py:20: UserWarning: Implicit dimension choice for log_softmax has been deprecated. Change the call to include dim=X as an argument.\n"
          ],
          "name": "stderr"
        },
        {
          "output_type": "stream",
          "text": [
            "Train Epoch: 1 [0/57000 (0%)]\tLoss: 1.093617\n",
            "Train Epoch: 1 [5120/57000 (9%)]\tLoss: 1.152025\n",
            "Train Epoch: 1 [10240/57000 (18%)]\tLoss: 0.995675\n",
            "Train Epoch: 1 [15360/57000 (27%)]\tLoss: 1.132489\n",
            "Train Epoch: 1 [20480/57000 (36%)]\tLoss: 0.883135\n",
            "Train Epoch: 1 [25600/57000 (45%)]\tLoss: 0.932106\n",
            "Train Epoch: 1 [30720/57000 (54%)]\tLoss: 0.988076\n",
            "Train Epoch: 1 [35840/57000 (63%)]\tLoss: 0.799471\n",
            "Train Epoch: 1 [40960/57000 (72%)]\tLoss: 0.790842\n",
            "Train Epoch: 1 [46080/57000 (81%)]\tLoss: 0.850994\n",
            "Train Epoch: 1 [51200/57000 (90%)]\tLoss: 0.712082\n",
            "Train Epoch: 1 [56320/57000 (99%)]\tLoss: 0.779666\n"
          ],
          "name": "stdout"
        },
        {
          "output_type": "stream",
          "text": [
            "/usr/local/lib/python3.7/dist-packages/torch/nn/_reduction.py:42: UserWarning: size_average and reduce args will be deprecated, please use reduction='sum' instead.\n",
            "  warnings.warn(warning.format(ret))\n"
          ],
          "name": "stderr"
        },
        {
          "output_type": "stream",
          "text": [
            "\n",
            "Test set: Avg. loss: 0.7212, Accuracy: 2264/3000 (75%)\n",
            "\n",
            "Train Epoch: 2 [0/57000 (0%)]\tLoss: 0.703302\n",
            "Train Epoch: 2 [5120/57000 (9%)]\tLoss: 0.830096\n",
            "Train Epoch: 2 [10240/57000 (18%)]\tLoss: 0.733130\n",
            "Train Epoch: 2 [15360/57000 (27%)]\tLoss: 0.866442\n",
            "Train Epoch: 2 [20480/57000 (36%)]\tLoss: 0.678683\n",
            "Train Epoch: 2 [25600/57000 (45%)]\tLoss: 0.693403\n",
            "Train Epoch: 2 [30720/57000 (54%)]\tLoss: 0.789059\n",
            "Train Epoch: 2 [35840/57000 (63%)]\tLoss: 0.624100\n",
            "Train Epoch: 2 [40960/57000 (72%)]\tLoss: 0.595242\n",
            "Train Epoch: 2 [46080/57000 (81%)]\tLoss: 0.701617\n",
            "Train Epoch: 2 [51200/57000 (90%)]\tLoss: 0.556165\n",
            "Train Epoch: 2 [56320/57000 (99%)]\tLoss: 0.656079\n",
            "\n",
            "Test set: Avg. loss: 0.5879, Accuracy: 2417/3000 (81%)\n",
            "\n",
            "Train Epoch: 3 [0/57000 (0%)]\tLoss: 0.576247\n",
            "Train Epoch: 3 [5120/57000 (9%)]\tLoss: 0.663265\n",
            "Train Epoch: 3 [10240/57000 (18%)]\tLoss: 0.571967\n",
            "Train Epoch: 3 [15360/57000 (27%)]\tLoss: 0.709581\n",
            "Train Epoch: 3 [20480/57000 (36%)]\tLoss: 0.579375\n",
            "Train Epoch: 3 [25600/57000 (45%)]\tLoss: 0.573785\n",
            "Train Epoch: 3 [30720/57000 (54%)]\tLoss: 0.633575\n",
            "Train Epoch: 3 [35840/57000 (63%)]\tLoss: 0.508202\n",
            "Train Epoch: 3 [40960/57000 (72%)]\tLoss: 0.503068\n",
            "Train Epoch: 3 [46080/57000 (81%)]\tLoss: 0.583277\n",
            "Train Epoch: 3 [51200/57000 (90%)]\tLoss: 0.457360\n",
            "Train Epoch: 3 [56320/57000 (99%)]\tLoss: 0.582651\n",
            "\n",
            "Test set: Avg. loss: 0.5017, Accuracy: 2498/3000 (83%)\n",
            "\n",
            "Train Epoch: 4 [0/57000 (0%)]\tLoss: 0.501752\n",
            "Train Epoch: 4 [5120/57000 (9%)]\tLoss: 0.574567\n",
            "Train Epoch: 4 [10240/57000 (18%)]\tLoss: 0.518745\n",
            "Train Epoch: 4 [15360/57000 (27%)]\tLoss: 0.635910\n",
            "Train Epoch: 4 [20480/57000 (36%)]\tLoss: 0.548313\n",
            "Train Epoch: 4 [25600/57000 (45%)]\tLoss: 0.504954\n",
            "Train Epoch: 4 [30720/57000 (54%)]\tLoss: 0.556679\n",
            "Train Epoch: 4 [35840/57000 (63%)]\tLoss: 0.453302\n",
            "Train Epoch: 4 [40960/57000 (72%)]\tLoss: 0.430640\n",
            "Train Epoch: 4 [46080/57000 (81%)]\tLoss: 0.519720\n",
            "Train Epoch: 4 [51200/57000 (90%)]\tLoss: 0.393070\n",
            "Train Epoch: 4 [56320/57000 (99%)]\tLoss: 0.531466\n",
            "\n",
            "Test set: Avg. loss: 0.4511, Accuracy: 2546/3000 (85%)\n",
            "\n",
            "Train Epoch: 5 [0/57000 (0%)]\tLoss: 0.459882\n",
            "Train Epoch: 5 [5120/57000 (9%)]\tLoss: 0.515451\n",
            "Train Epoch: 5 [10240/57000 (18%)]\tLoss: 0.480317\n",
            "Train Epoch: 5 [15360/57000 (27%)]\tLoss: 0.578634\n",
            "Train Epoch: 5 [20480/57000 (36%)]\tLoss: 0.535275\n",
            "Train Epoch: 5 [25600/57000 (45%)]\tLoss: 0.460718\n",
            "Train Epoch: 5 [30720/57000 (54%)]\tLoss: 0.553218\n",
            "Train Epoch: 5 [35840/57000 (63%)]\tLoss: 0.429510\n",
            "Train Epoch: 5 [40960/57000 (72%)]\tLoss: 0.380925\n",
            "Train Epoch: 5 [46080/57000 (81%)]\tLoss: 0.480790\n",
            "Train Epoch: 5 [51200/57000 (90%)]\tLoss: 0.358477\n",
            "Train Epoch: 5 [56320/57000 (99%)]\tLoss: 0.524502\n",
            "\n",
            "Test set: Avg. loss: 0.4152, Accuracy: 2588/3000 (86%)\n",
            "\n",
            "Train Epoch: 6 [0/57000 (0%)]\tLoss: 0.423436\n",
            "Train Epoch: 6 [5120/57000 (9%)]\tLoss: 0.468864\n",
            "Train Epoch: 6 [10240/57000 (18%)]\tLoss: 0.455948\n",
            "Train Epoch: 6 [15360/57000 (27%)]\tLoss: 0.558729\n",
            "Train Epoch: 6 [20480/57000 (36%)]\tLoss: 0.508676\n",
            "Train Epoch: 6 [25600/57000 (45%)]\tLoss: 0.436139\n",
            "Train Epoch: 6 [30720/57000 (54%)]\tLoss: 0.502177\n",
            "Train Epoch: 6 [35840/57000 (63%)]\tLoss: 0.425789\n",
            "Train Epoch: 6 [40960/57000 (72%)]\tLoss: 0.312331\n",
            "Train Epoch: 6 [46080/57000 (81%)]\tLoss: 0.461573\n",
            "Train Epoch: 6 [51200/57000 (90%)]\tLoss: 0.322136\n",
            "Train Epoch: 6 [56320/57000 (99%)]\tLoss: 0.509217\n",
            "\n",
            "Test set: Avg. loss: 0.3800, Accuracy: 2636/3000 (88%)\n",
            "\n",
            "Train Epoch: 7 [0/57000 (0%)]\tLoss: 0.385289\n",
            "Train Epoch: 7 [5120/57000 (9%)]\tLoss: 0.431294\n",
            "Train Epoch: 7 [10240/57000 (18%)]\tLoss: 0.432849\n",
            "Train Epoch: 7 [15360/57000 (27%)]\tLoss: 0.562406\n",
            "Train Epoch: 7 [20480/57000 (36%)]\tLoss: 0.521304\n",
            "Train Epoch: 7 [25600/57000 (45%)]\tLoss: 0.412276\n",
            "Train Epoch: 7 [30720/57000 (54%)]\tLoss: 0.458422\n",
            "Train Epoch: 7 [35840/57000 (63%)]\tLoss: 0.392826\n",
            "Train Epoch: 7 [40960/57000 (72%)]\tLoss: 0.287554\n",
            "Train Epoch: 7 [46080/57000 (81%)]\tLoss: 0.445669\n",
            "Train Epoch: 7 [51200/57000 (90%)]\tLoss: 0.289558\n",
            "Train Epoch: 7 [56320/57000 (99%)]\tLoss: 0.464518\n",
            "\n",
            "Test set: Avg. loss: 0.3610, Accuracy: 2656/3000 (89%)\n",
            "\n",
            "Train Epoch: 8 [0/57000 (0%)]\tLoss: 0.359217\n",
            "Train Epoch: 8 [5120/57000 (9%)]\tLoss: 0.390557\n",
            "Train Epoch: 8 [10240/57000 (18%)]\tLoss: 0.407232\n",
            "Train Epoch: 8 [15360/57000 (27%)]\tLoss: 0.518468\n",
            "Train Epoch: 8 [20480/57000 (36%)]\tLoss: 0.493857\n",
            "Train Epoch: 8 [25600/57000 (45%)]\tLoss: 0.376789\n",
            "Train Epoch: 8 [30720/57000 (54%)]\tLoss: 0.420824\n",
            "Train Epoch: 8 [35840/57000 (63%)]\tLoss: 0.368971\n",
            "Train Epoch: 8 [40960/57000 (72%)]\tLoss: 0.269530\n",
            "Train Epoch: 8 [46080/57000 (81%)]\tLoss: 0.426848\n",
            "Train Epoch: 8 [51200/57000 (90%)]\tLoss: 0.263985\n",
            "Train Epoch: 8 [56320/57000 (99%)]\tLoss: 0.420414\n",
            "\n",
            "Test set: Avg. loss: 0.3498, Accuracy: 2668/3000 (89%)\n",
            "\n",
            "Train Epoch: 9 [0/57000 (0%)]\tLoss: 0.347539\n",
            "Train Epoch: 9 [5120/57000 (9%)]\tLoss: 0.365326\n",
            "Train Epoch: 9 [10240/57000 (18%)]\tLoss: 0.379709\n",
            "Train Epoch: 9 [15360/57000 (27%)]\tLoss: 0.465472\n",
            "Train Epoch: 9 [20480/57000 (36%)]\tLoss: 0.453446\n",
            "Train Epoch: 9 [25600/57000 (45%)]\tLoss: 0.357888\n",
            "Train Epoch: 9 [30720/57000 (54%)]\tLoss: 0.409134\n",
            "Train Epoch: 9 [35840/57000 (63%)]\tLoss: 0.348772\n",
            "Train Epoch: 9 [40960/57000 (72%)]\tLoss: 0.247951\n",
            "Train Epoch: 9 [46080/57000 (81%)]\tLoss: 0.405509\n",
            "Train Epoch: 9 [51200/57000 (90%)]\tLoss: 0.249472\n",
            "Train Epoch: 9 [56320/57000 (99%)]\tLoss: 0.390985\n",
            "\n",
            "Test set: Avg. loss: 0.3391, Accuracy: 2680/3000 (89%)\n",
            "\n",
            "Train Epoch: 10 [0/57000 (0%)]\tLoss: 0.335661\n",
            "Train Epoch: 10 [5120/57000 (9%)]\tLoss: 0.346237\n",
            "Train Epoch: 10 [10240/57000 (18%)]\tLoss: 0.360005\n",
            "Train Epoch: 10 [15360/57000 (27%)]\tLoss: 0.428206\n",
            "Train Epoch: 10 [20480/57000 (36%)]\tLoss: 0.424380\n",
            "Train Epoch: 10 [25600/57000 (45%)]\tLoss: 0.344481\n",
            "Train Epoch: 10 [30720/57000 (54%)]\tLoss: 0.396680\n",
            "Train Epoch: 10 [35840/57000 (63%)]\tLoss: 0.338205\n",
            "Train Epoch: 10 [40960/57000 (72%)]\tLoss: 0.226642\n",
            "Train Epoch: 10 [46080/57000 (81%)]\tLoss: 0.384754\n",
            "Train Epoch: 10 [51200/57000 (90%)]\tLoss: 0.239213\n",
            "Train Epoch: 10 [56320/57000 (99%)]\tLoss: 0.363733\n",
            "\n",
            "Test set: Avg. loss: 0.3292, Accuracy: 2685/3000 (90%)\n",
            "\n",
            "Train Epoch: 11 [0/57000 (0%)]\tLoss: 0.328237\n",
            "Train Epoch: 11 [5120/57000 (9%)]\tLoss: 0.322858\n",
            "Train Epoch: 11 [10240/57000 (18%)]\tLoss: 0.343144\n",
            "Train Epoch: 11 [15360/57000 (27%)]\tLoss: 0.400065\n",
            "Train Epoch: 11 [20480/57000 (36%)]\tLoss: 0.407904\n",
            "Train Epoch: 11 [25600/57000 (45%)]\tLoss: 0.335882\n",
            "Train Epoch: 11 [30720/57000 (54%)]\tLoss: 0.398535\n",
            "Train Epoch: 11 [35840/57000 (63%)]\tLoss: 0.331661\n",
            "Train Epoch: 11 [40960/57000 (72%)]\tLoss: 0.208789\n",
            "Train Epoch: 11 [46080/57000 (81%)]\tLoss: 0.373570\n",
            "Train Epoch: 11 [51200/57000 (90%)]\tLoss: 0.231207\n",
            "Train Epoch: 11 [56320/57000 (99%)]\tLoss: 0.343610\n",
            "\n",
            "Test set: Avg. loss: 0.3195, Accuracy: 2691/3000 (90%)\n",
            "\n",
            "Train Epoch: 12 [0/57000 (0%)]\tLoss: 0.319379\n",
            "Train Epoch: 12 [5120/57000 (9%)]\tLoss: 0.310436\n",
            "Train Epoch: 12 [10240/57000 (18%)]\tLoss: 0.328818\n",
            "Train Epoch: 12 [15360/57000 (27%)]\tLoss: 0.376043\n",
            "Train Epoch: 12 [20480/57000 (36%)]\tLoss: 0.392740\n",
            "Train Epoch: 12 [25600/57000 (45%)]\tLoss: 0.325085\n",
            "Train Epoch: 12 [30720/57000 (54%)]\tLoss: 0.403222\n",
            "Train Epoch: 12 [35840/57000 (63%)]\tLoss: 0.319212\n",
            "Train Epoch: 12 [40960/57000 (72%)]\tLoss: 0.195922\n",
            "Train Epoch: 12 [46080/57000 (81%)]\tLoss: 0.364508\n",
            "Train Epoch: 12 [51200/57000 (90%)]\tLoss: 0.216660\n",
            "Train Epoch: 12 [56320/57000 (99%)]\tLoss: 0.326285\n",
            "\n",
            "Test set: Avg. loss: 0.3122, Accuracy: 2697/3000 (90%)\n",
            "\n",
            "Train Epoch: 13 [0/57000 (0%)]\tLoss: 0.312723\n",
            "Train Epoch: 13 [5120/57000 (9%)]\tLoss: 0.299067\n",
            "Train Epoch: 13 [10240/57000 (18%)]\tLoss: 0.320116\n",
            "Train Epoch: 13 [15360/57000 (27%)]\tLoss: 0.356807\n",
            "Train Epoch: 13 [20480/57000 (36%)]\tLoss: 0.379339\n",
            "Train Epoch: 13 [25600/57000 (45%)]\tLoss: 0.316392\n",
            "Train Epoch: 13 [30720/57000 (54%)]\tLoss: 0.407098\n",
            "Train Epoch: 13 [35840/57000 (63%)]\tLoss: 0.309056\n",
            "Train Epoch: 13 [40960/57000 (72%)]\tLoss: 0.185679\n",
            "Train Epoch: 13 [46080/57000 (81%)]\tLoss: 0.351020\n",
            "Train Epoch: 13 [51200/57000 (90%)]\tLoss: 0.204150\n",
            "Train Epoch: 13 [56320/57000 (99%)]\tLoss: 0.311390\n",
            "\n",
            "Test set: Avg. loss: 0.3045, Accuracy: 2708/3000 (90%)\n",
            "\n",
            "Train Epoch: 14 [0/57000 (0%)]\tLoss: 0.306052\n",
            "Train Epoch: 14 [5120/57000 (9%)]\tLoss: 0.286691\n",
            "Train Epoch: 14 [10240/57000 (18%)]\tLoss: 0.316235\n",
            "Train Epoch: 14 [15360/57000 (27%)]\tLoss: 0.338669\n",
            "Train Epoch: 14 [20480/57000 (36%)]\tLoss: 0.371650\n",
            "Train Epoch: 14 [25600/57000 (45%)]\tLoss: 0.308317\n",
            "Train Epoch: 14 [30720/57000 (54%)]\tLoss: 0.408423\n",
            "Train Epoch: 14 [35840/57000 (63%)]\tLoss: 0.293051\n",
            "Train Epoch: 14 [40960/57000 (72%)]\tLoss: 0.179294\n",
            "Train Epoch: 14 [46080/57000 (81%)]\tLoss: 0.338762\n",
            "Train Epoch: 14 [51200/57000 (90%)]\tLoss: 0.195163\n",
            "Train Epoch: 14 [56320/57000 (99%)]\tLoss: 0.295866\n",
            "\n",
            "Test set: Avg. loss: 0.3024, Accuracy: 2708/3000 (90%)\n",
            "\n",
            "Train Epoch: 15 [0/57000 (0%)]\tLoss: 0.296632\n",
            "Train Epoch: 15 [5120/57000 (9%)]\tLoss: 0.274094\n",
            "Train Epoch: 15 [10240/57000 (18%)]\tLoss: 0.310448\n",
            "Train Epoch: 15 [15360/57000 (27%)]\tLoss: 0.322634\n",
            "Train Epoch: 15 [20480/57000 (36%)]\tLoss: 0.364762\n",
            "Train Epoch: 15 [25600/57000 (45%)]\tLoss: 0.305273\n",
            "Train Epoch: 15 [30720/57000 (54%)]\tLoss: 0.398216\n",
            "Train Epoch: 15 [35840/57000 (63%)]\tLoss: 0.276928\n",
            "Train Epoch: 15 [40960/57000 (72%)]\tLoss: 0.173439\n",
            "Train Epoch: 15 [46080/57000 (81%)]\tLoss: 0.326958\n",
            "Train Epoch: 15 [51200/57000 (90%)]\tLoss: 0.189040\n",
            "Train Epoch: 15 [56320/57000 (99%)]\tLoss: 0.282465\n",
            "\n",
            "Test set: Avg. loss: 0.3008, Accuracy: 2703/3000 (90%)\n",
            "\n",
            "Train Epoch: 16 [0/57000 (0%)]\tLoss: 0.289123\n",
            "Train Epoch: 16 [5120/57000 (9%)]\tLoss: 0.265601\n",
            "Train Epoch: 16 [10240/57000 (18%)]\tLoss: 0.309558\n",
            "Train Epoch: 16 [15360/57000 (27%)]\tLoss: 0.303818\n",
            "Train Epoch: 16 [20480/57000 (36%)]\tLoss: 0.352760\n",
            "Train Epoch: 16 [25600/57000 (45%)]\tLoss: 0.292161\n",
            "Train Epoch: 16 [30720/57000 (54%)]\tLoss: 0.381691\n",
            "Train Epoch: 16 [35840/57000 (63%)]\tLoss: 0.270604\n",
            "Train Epoch: 16 [40960/57000 (72%)]\tLoss: 0.165815\n",
            "Train Epoch: 16 [46080/57000 (81%)]\tLoss: 0.320166\n",
            "Train Epoch: 16 [51200/57000 (90%)]\tLoss: 0.182078\n",
            "Train Epoch: 16 [56320/57000 (99%)]\tLoss: 0.268663\n",
            "\n",
            "Test set: Avg. loss: 0.3028, Accuracy: 2711/3000 (90%)\n",
            "\n",
            "Train Epoch: 17 [0/57000 (0%)]\tLoss: 0.280561\n",
            "Train Epoch: 17 [5120/57000 (9%)]\tLoss: 0.262760\n",
            "Train Epoch: 17 [10240/57000 (18%)]\tLoss: 0.313311\n",
            "Train Epoch: 17 [15360/57000 (27%)]\tLoss: 0.286231\n",
            "Train Epoch: 17 [20480/57000 (36%)]\tLoss: 0.336462\n",
            "Train Epoch: 17 [25600/57000 (45%)]\tLoss: 0.280030\n",
            "Train Epoch: 17 [30720/57000 (54%)]\tLoss: 0.371263\n",
            "Train Epoch: 17 [35840/57000 (63%)]\tLoss: 0.267866\n",
            "Train Epoch: 17 [40960/57000 (72%)]\tLoss: 0.153652\n",
            "Train Epoch: 17 [46080/57000 (81%)]\tLoss: 0.311574\n",
            "Train Epoch: 17 [51200/57000 (90%)]\tLoss: 0.177812\n",
            "Train Epoch: 17 [56320/57000 (99%)]\tLoss: 0.255411\n",
            "\n",
            "Test set: Avg. loss: 0.3075, Accuracy: 2713/3000 (90%)\n",
            "\n",
            "Train Epoch: 18 [0/57000 (0%)]\tLoss: 0.273880\n",
            "Train Epoch: 18 [5120/57000 (9%)]\tLoss: 0.267626\n",
            "Train Epoch: 18 [10240/57000 (18%)]\tLoss: 0.307044\n",
            "Train Epoch: 18 [15360/57000 (27%)]\tLoss: 0.277349\n",
            "Train Epoch: 18 [20480/57000 (36%)]\tLoss: 0.307238\n",
            "Train Epoch: 18 [25600/57000 (45%)]\tLoss: 0.261999\n",
            "Train Epoch: 18 [30720/57000 (54%)]\tLoss: 0.361321\n",
            "Train Epoch: 18 [35840/57000 (63%)]\tLoss: 0.265354\n",
            "Train Epoch: 18 [40960/57000 (72%)]\tLoss: 0.153414\n",
            "Train Epoch: 18 [46080/57000 (81%)]\tLoss: 0.296568\n",
            "Train Epoch: 18 [51200/57000 (90%)]\tLoss: 0.174086\n",
            "Train Epoch: 18 [56320/57000 (99%)]\tLoss: 0.239057\n",
            "\n",
            "Test set: Avg. loss: 0.3104, Accuracy: 2703/3000 (90%)\n",
            "\n",
            "Train Epoch: 19 [0/57000 (0%)]\tLoss: 0.269656\n",
            "Train Epoch: 19 [5120/57000 (9%)]\tLoss: 0.271933\n",
            "Train Epoch: 19 [10240/57000 (18%)]\tLoss: 0.296889\n",
            "Train Epoch: 19 [15360/57000 (27%)]\tLoss: 0.275385\n",
            "Train Epoch: 19 [20480/57000 (36%)]\tLoss: 0.295675\n",
            "Train Epoch: 19 [25600/57000 (45%)]\tLoss: 0.251365\n",
            "Train Epoch: 19 [30720/57000 (54%)]\tLoss: 0.341233\n",
            "Train Epoch: 19 [35840/57000 (63%)]\tLoss: 0.260639\n",
            "Train Epoch: 19 [40960/57000 (72%)]\tLoss: 0.161299\n",
            "Train Epoch: 19 [46080/57000 (81%)]\tLoss: 0.286199\n",
            "Train Epoch: 19 [51200/57000 (90%)]\tLoss: 0.162741\n",
            "Train Epoch: 19 [56320/57000 (99%)]\tLoss: 0.230509\n",
            "\n",
            "Test set: Avg. loss: 0.3009, Accuracy: 2714/3000 (90%)\n",
            "\n",
            "Train Epoch: 20 [0/57000 (0%)]\tLoss: 0.256541\n",
            "Train Epoch: 20 [5120/57000 (9%)]\tLoss: 0.276943\n",
            "Train Epoch: 20 [10240/57000 (18%)]\tLoss: 0.289904\n",
            "Train Epoch: 20 [15360/57000 (27%)]\tLoss: 0.274394\n",
            "Train Epoch: 20 [20480/57000 (36%)]\tLoss: 0.293406\n",
            "Train Epoch: 20 [25600/57000 (45%)]\tLoss: 0.244390\n",
            "Train Epoch: 20 [30720/57000 (54%)]\tLoss: 0.315030\n",
            "Train Epoch: 20 [35840/57000 (63%)]\tLoss: 0.242942\n",
            "Train Epoch: 20 [40960/57000 (72%)]\tLoss: 0.165356\n",
            "Train Epoch: 20 [46080/57000 (81%)]\tLoss: 0.280270\n",
            "Train Epoch: 20 [51200/57000 (90%)]\tLoss: 0.154545\n",
            "Train Epoch: 20 [56320/57000 (99%)]\tLoss: 0.219608\n",
            "\n",
            "Test set: Avg. loss: 0.2919, Accuracy: 2724/3000 (91%)\n",
            "\n",
            "Train Epoch: 21 [0/57000 (0%)]\tLoss: 0.250316\n",
            "Train Epoch: 21 [5120/57000 (9%)]\tLoss: 0.279467\n",
            "Train Epoch: 21 [10240/57000 (18%)]\tLoss: 0.282737\n",
            "Train Epoch: 21 [15360/57000 (27%)]\tLoss: 0.261255\n",
            "Train Epoch: 21 [20480/57000 (36%)]\tLoss: 0.290882\n",
            "Train Epoch: 21 [25600/57000 (45%)]\tLoss: 0.242991\n",
            "Train Epoch: 21 [30720/57000 (54%)]\tLoss: 0.310370\n",
            "Train Epoch: 21 [35840/57000 (63%)]\tLoss: 0.224729\n",
            "Train Epoch: 21 [40960/57000 (72%)]\tLoss: 0.158734\n",
            "Train Epoch: 21 [46080/57000 (81%)]\tLoss: 0.266736\n",
            "Train Epoch: 21 [51200/57000 (90%)]\tLoss: 0.153782\n",
            "Train Epoch: 21 [56320/57000 (99%)]\tLoss: 0.214317\n",
            "\n",
            "Test set: Avg. loss: 0.2872, Accuracy: 2722/3000 (91%)\n",
            "\n",
            "Train Epoch: 22 [0/57000 (0%)]\tLoss: 0.244267\n",
            "Train Epoch: 22 [5120/57000 (9%)]\tLoss: 0.288592\n",
            "Train Epoch: 22 [10240/57000 (18%)]\tLoss: 0.276971\n",
            "Train Epoch: 22 [15360/57000 (27%)]\tLoss: 0.243858\n",
            "Train Epoch: 22 [20480/57000 (36%)]\tLoss: 0.290777\n",
            "Train Epoch: 22 [25600/57000 (45%)]\tLoss: 0.230859\n",
            "Train Epoch: 22 [30720/57000 (54%)]\tLoss: 0.305656\n",
            "Train Epoch: 22 [35840/57000 (63%)]\tLoss: 0.205026\n",
            "Train Epoch: 22 [40960/57000 (72%)]\tLoss: 0.150572\n",
            "Train Epoch: 22 [46080/57000 (81%)]\tLoss: 0.257939\n",
            "Train Epoch: 22 [51200/57000 (90%)]\tLoss: 0.152688\n",
            "Train Epoch: 22 [56320/57000 (99%)]\tLoss: 0.207791\n",
            "\n",
            "Test set: Avg. loss: 0.2811, Accuracy: 2731/3000 (91%)\n",
            "\n",
            "Train Epoch: 23 [0/57000 (0%)]\tLoss: 0.242303\n",
            "Train Epoch: 23 [5120/57000 (9%)]\tLoss: 0.284034\n",
            "Train Epoch: 23 [10240/57000 (18%)]\tLoss: 0.280454\n",
            "Train Epoch: 23 [15360/57000 (27%)]\tLoss: 0.229230\n",
            "Train Epoch: 23 [20480/57000 (36%)]\tLoss: 0.276881\n",
            "Train Epoch: 23 [25600/57000 (45%)]\tLoss: 0.222834\n",
            "Train Epoch: 23 [30720/57000 (54%)]\tLoss: 0.297080\n",
            "Train Epoch: 23 [35840/57000 (63%)]\tLoss: 0.198378\n",
            "Train Epoch: 23 [40960/57000 (72%)]\tLoss: 0.140696\n",
            "Train Epoch: 23 [46080/57000 (81%)]\tLoss: 0.251000\n",
            "Train Epoch: 23 [51200/57000 (90%)]\tLoss: 0.152775\n",
            "Train Epoch: 23 [56320/57000 (99%)]\tLoss: 0.203302\n",
            "\n",
            "Test set: Avg. loss: 0.2768, Accuracy: 2730/3000 (91%)\n",
            "\n",
            "Train Epoch: 24 [0/57000 (0%)]\tLoss: 0.244689\n",
            "Train Epoch: 24 [5120/57000 (9%)]\tLoss: 0.273582\n",
            "Train Epoch: 24 [10240/57000 (18%)]\tLoss: 0.275371\n",
            "Train Epoch: 24 [15360/57000 (27%)]\tLoss: 0.218952\n",
            "Train Epoch: 24 [20480/57000 (36%)]\tLoss: 0.271800\n",
            "Train Epoch: 24 [25600/57000 (45%)]\tLoss: 0.219129\n",
            "Train Epoch: 24 [30720/57000 (54%)]\tLoss: 0.279006\n",
            "Train Epoch: 24 [35840/57000 (63%)]\tLoss: 0.189008\n",
            "Train Epoch: 24 [40960/57000 (72%)]\tLoss: 0.133517\n",
            "Train Epoch: 24 [46080/57000 (81%)]\tLoss: 0.238391\n",
            "Train Epoch: 24 [51200/57000 (90%)]\tLoss: 0.157826\n",
            "Train Epoch: 24 [56320/57000 (99%)]\tLoss: 0.194888\n",
            "\n",
            "Test set: Avg. loss: 0.2791, Accuracy: 2726/3000 (91%)\n",
            "\n",
            "Train Epoch: 25 [0/57000 (0%)]\tLoss: 0.245744\n",
            "Train Epoch: 25 [5120/57000 (9%)]\tLoss: 0.255120\n",
            "Train Epoch: 25 [10240/57000 (18%)]\tLoss: 0.260168\n",
            "Train Epoch: 25 [15360/57000 (27%)]\tLoss: 0.214952\n",
            "Train Epoch: 25 [20480/57000 (36%)]\tLoss: 0.272540\n",
            "Train Epoch: 25 [25600/57000 (45%)]\tLoss: 0.210201\n",
            "Train Epoch: 25 [30720/57000 (54%)]\tLoss: 0.257093\n",
            "Train Epoch: 25 [35840/57000 (63%)]\tLoss: 0.184903\n",
            "Train Epoch: 25 [40960/57000 (72%)]\tLoss: 0.129995\n",
            "Train Epoch: 25 [46080/57000 (81%)]\tLoss: 0.232432\n",
            "Train Epoch: 25 [51200/57000 (90%)]\tLoss: 0.158619\n",
            "Train Epoch: 25 [56320/57000 (99%)]\tLoss: 0.186697\n",
            "\n",
            "Test set: Avg. loss: 0.2755, Accuracy: 2741/3000 (91%)\n",
            "\n",
            "Train Epoch: 26 [0/57000 (0%)]\tLoss: 0.237105\n",
            "Train Epoch: 26 [5120/57000 (9%)]\tLoss: 0.228127\n",
            "Train Epoch: 26 [10240/57000 (18%)]\tLoss: 0.242609\n",
            "Train Epoch: 26 [15360/57000 (27%)]\tLoss: 0.205073\n",
            "Train Epoch: 26 [20480/57000 (36%)]\tLoss: 0.270801\n",
            "Train Epoch: 26 [25600/57000 (45%)]\tLoss: 0.212000\n",
            "Train Epoch: 26 [30720/57000 (54%)]\tLoss: 0.240155\n",
            "Train Epoch: 26 [35840/57000 (63%)]\tLoss: 0.187090\n",
            "Train Epoch: 26 [40960/57000 (72%)]\tLoss: 0.122832\n",
            "Train Epoch: 26 [46080/57000 (81%)]\tLoss: 0.222090\n",
            "Train Epoch: 26 [51200/57000 (90%)]\tLoss: 0.155522\n",
            "Train Epoch: 26 [56320/57000 (99%)]\tLoss: 0.177346\n",
            "\n",
            "Test set: Avg. loss: 0.2758, Accuracy: 2743/3000 (91%)\n",
            "\n",
            "Train Epoch: 27 [0/57000 (0%)]\tLoss: 0.229289\n",
            "Train Epoch: 27 [5120/57000 (9%)]\tLoss: 0.205868\n",
            "Train Epoch: 27 [10240/57000 (18%)]\tLoss: 0.231777\n",
            "Train Epoch: 27 [15360/57000 (27%)]\tLoss: 0.191557\n",
            "Train Epoch: 27 [20480/57000 (36%)]\tLoss: 0.268110\n",
            "Train Epoch: 27 [25600/57000 (45%)]\tLoss: 0.213056\n",
            "Train Epoch: 27 [30720/57000 (54%)]\tLoss: 0.226676\n",
            "Train Epoch: 27 [35840/57000 (63%)]\tLoss: 0.179516\n",
            "Train Epoch: 27 [40960/57000 (72%)]\tLoss: 0.118562\n",
            "Train Epoch: 27 [46080/57000 (81%)]\tLoss: 0.215071\n",
            "Train Epoch: 27 [51200/57000 (90%)]\tLoss: 0.155091\n",
            "Train Epoch: 27 [56320/57000 (99%)]\tLoss: 0.165973\n",
            "\n",
            "Test set: Avg. loss: 0.2753, Accuracy: 2745/3000 (92%)\n",
            "\n",
            "Train Epoch: 28 [0/57000 (0%)]\tLoss: 0.219519\n",
            "Train Epoch: 28 [5120/57000 (9%)]\tLoss: 0.194192\n",
            "Train Epoch: 28 [10240/57000 (18%)]\tLoss: 0.222225\n",
            "Train Epoch: 28 [15360/57000 (27%)]\tLoss: 0.175882\n",
            "Train Epoch: 28 [20480/57000 (36%)]\tLoss: 0.260266\n",
            "Train Epoch: 28 [25600/57000 (45%)]\tLoss: 0.207295\n",
            "Train Epoch: 28 [30720/57000 (54%)]\tLoss: 0.216356\n",
            "Train Epoch: 28 [35840/57000 (63%)]\tLoss: 0.178544\n",
            "Train Epoch: 28 [40960/57000 (72%)]\tLoss: 0.112879\n",
            "Train Epoch: 28 [46080/57000 (81%)]\tLoss: 0.203694\n",
            "Train Epoch: 28 [51200/57000 (90%)]\tLoss: 0.152303\n",
            "Train Epoch: 28 [56320/57000 (99%)]\tLoss: 0.160223\n",
            "\n",
            "Test set: Avg. loss: 0.2784, Accuracy: 2745/3000 (92%)\n",
            "\n",
            "Train Epoch: 29 [0/57000 (0%)]\tLoss: 0.210072\n",
            "Train Epoch: 29 [5120/57000 (9%)]\tLoss: 0.185215\n",
            "Train Epoch: 29 [10240/57000 (18%)]\tLoss: 0.212567\n",
            "Train Epoch: 29 [15360/57000 (27%)]\tLoss: 0.163685\n",
            "Train Epoch: 29 [20480/57000 (36%)]\tLoss: 0.249048\n",
            "Train Epoch: 29 [25600/57000 (45%)]\tLoss: 0.203367\n",
            "Train Epoch: 29 [30720/57000 (54%)]\tLoss: 0.210218\n",
            "Train Epoch: 29 [35840/57000 (63%)]\tLoss: 0.173180\n",
            "Train Epoch: 29 [40960/57000 (72%)]\tLoss: 0.108453\n",
            "Train Epoch: 29 [46080/57000 (81%)]\tLoss: 0.195637\n",
            "Train Epoch: 29 [51200/57000 (90%)]\tLoss: 0.150713\n",
            "Train Epoch: 29 [56320/57000 (99%)]\tLoss: 0.155307\n",
            "\n",
            "Test set: Avg. loss: 0.2815, Accuracy: 2745/3000 (92%)\n",
            "\n",
            "Train Epoch: 30 [0/57000 (0%)]\tLoss: 0.204960\n",
            "Train Epoch: 30 [5120/57000 (9%)]\tLoss: 0.175356\n",
            "Train Epoch: 30 [10240/57000 (18%)]\tLoss: 0.210506\n",
            "Train Epoch: 30 [15360/57000 (27%)]\tLoss: 0.156020\n",
            "Train Epoch: 30 [20480/57000 (36%)]\tLoss: 0.236334\n",
            "Train Epoch: 30 [25600/57000 (45%)]\tLoss: 0.199981\n",
            "Train Epoch: 30 [30720/57000 (54%)]\tLoss: 0.197826\n",
            "Train Epoch: 30 [35840/57000 (63%)]\tLoss: 0.170970\n",
            "Train Epoch: 30 [40960/57000 (72%)]\tLoss: 0.105335\n",
            "Train Epoch: 30 [46080/57000 (81%)]\tLoss: 0.186057\n",
            "Train Epoch: 30 [51200/57000 (90%)]\tLoss: 0.147317\n",
            "Train Epoch: 30 [56320/57000 (99%)]\tLoss: 0.153102\n",
            "\n",
            "Test set: Avg. loss: 0.2851, Accuracy: 2748/3000 (92%)\n",
            "\n",
            "Train Epoch: 31 [0/57000 (0%)]\tLoss: 0.199265\n",
            "Train Epoch: 31 [5120/57000 (9%)]\tLoss: 0.167345\n",
            "Train Epoch: 31 [10240/57000 (18%)]\tLoss: 0.210543\n",
            "Train Epoch: 31 [15360/57000 (27%)]\tLoss: 0.143685\n",
            "Train Epoch: 31 [20480/57000 (36%)]\tLoss: 0.215756\n",
            "Train Epoch: 31 [25600/57000 (45%)]\tLoss: 0.192623\n",
            "Train Epoch: 31 [30720/57000 (54%)]\tLoss: 0.187319\n",
            "Train Epoch: 31 [35840/57000 (63%)]\tLoss: 0.161046\n",
            "Train Epoch: 31 [40960/57000 (72%)]\tLoss: 0.099839\n",
            "Train Epoch: 31 [46080/57000 (81%)]\tLoss: 0.176404\n",
            "Train Epoch: 31 [51200/57000 (90%)]\tLoss: 0.144338\n",
            "Train Epoch: 31 [56320/57000 (99%)]\tLoss: 0.145595\n",
            "\n",
            "Test set: Avg. loss: 0.2877, Accuracy: 2749/3000 (92%)\n",
            "\n",
            "Train Epoch: 32 [0/57000 (0%)]\tLoss: 0.190271\n",
            "Train Epoch: 32 [5120/57000 (9%)]\tLoss: 0.164116\n",
            "Train Epoch: 32 [10240/57000 (18%)]\tLoss: 0.204486\n",
            "Train Epoch: 32 [15360/57000 (27%)]\tLoss: 0.133671\n",
            "Train Epoch: 32 [20480/57000 (36%)]\tLoss: 0.197371\n",
            "Train Epoch: 32 [25600/57000 (45%)]\tLoss: 0.188380\n",
            "Train Epoch: 32 [30720/57000 (54%)]\tLoss: 0.180801\n",
            "Train Epoch: 32 [35840/57000 (63%)]\tLoss: 0.155886\n",
            "Train Epoch: 32 [40960/57000 (72%)]\tLoss: 0.100290\n",
            "Train Epoch: 32 [46080/57000 (81%)]\tLoss: 0.174557\n",
            "Train Epoch: 32 [51200/57000 (90%)]\tLoss: 0.140044\n",
            "Train Epoch: 32 [56320/57000 (99%)]\tLoss: 0.146388\n",
            "\n",
            "Test set: Avg. loss: 0.2901, Accuracy: 2750/3000 (92%)\n",
            "\n",
            "Train Epoch: 33 [0/57000 (0%)]\tLoss: 0.188658\n",
            "Train Epoch: 33 [5120/57000 (9%)]\tLoss: 0.161880\n",
            "Train Epoch: 33 [10240/57000 (18%)]\tLoss: 0.199211\n",
            "Train Epoch: 33 [15360/57000 (27%)]\tLoss: 0.119315\n",
            "Train Epoch: 33 [20480/57000 (36%)]\tLoss: 0.175202\n",
            "Train Epoch: 33 [25600/57000 (45%)]\tLoss: 0.188044\n",
            "Train Epoch: 33 [30720/57000 (54%)]\tLoss: 0.178017\n",
            "Train Epoch: 33 [35840/57000 (63%)]\tLoss: 0.145848\n",
            "Train Epoch: 33 [40960/57000 (72%)]\tLoss: 0.102332\n",
            "Train Epoch: 33 [46080/57000 (81%)]\tLoss: 0.175273\n",
            "Train Epoch: 33 [51200/57000 (90%)]\tLoss: 0.138676\n",
            "Train Epoch: 33 [56320/57000 (99%)]\tLoss: 0.151895\n",
            "\n",
            "Test set: Avg. loss: 0.2950, Accuracy: 2746/3000 (92%)\n",
            "\n",
            "Train Epoch: 34 [0/57000 (0%)]\tLoss: 0.182100\n",
            "Train Epoch: 34 [5120/57000 (9%)]\tLoss: 0.174408\n",
            "Train Epoch: 34 [10240/57000 (18%)]\tLoss: 0.183629\n",
            "Train Epoch: 34 [15360/57000 (27%)]\tLoss: 0.121255\n",
            "Train Epoch: 34 [20480/57000 (36%)]\tLoss: 0.156574\n",
            "Train Epoch: 34 [25600/57000 (45%)]\tLoss: 0.184091\n",
            "Train Epoch: 34 [30720/57000 (54%)]\tLoss: 0.176417\n",
            "Train Epoch: 34 [35840/57000 (63%)]\tLoss: 0.135258\n",
            "Train Epoch: 34 [40960/57000 (72%)]\tLoss: 0.104585\n",
            "Train Epoch: 34 [46080/57000 (81%)]\tLoss: 0.167687\n",
            "Train Epoch: 34 [51200/57000 (90%)]\tLoss: 0.144963\n",
            "Train Epoch: 34 [56320/57000 (99%)]\tLoss: 0.147813\n",
            "\n",
            "Test set: Avg. loss: 0.2970, Accuracy: 2742/3000 (91%)\n",
            "\n",
            "Train Epoch: 35 [0/57000 (0%)]\tLoss: 0.180507\n",
            "Train Epoch: 35 [5120/57000 (9%)]\tLoss: 0.186035\n",
            "Train Epoch: 35 [10240/57000 (18%)]\tLoss: 0.162419\n",
            "Train Epoch: 35 [15360/57000 (27%)]\tLoss: 0.133999\n",
            "Train Epoch: 35 [20480/57000 (36%)]\tLoss: 0.148581\n",
            "Train Epoch: 35 [25600/57000 (45%)]\tLoss: 0.170005\n",
            "Train Epoch: 35 [30720/57000 (54%)]\tLoss: 0.178351\n",
            "Train Epoch: 35 [35840/57000 (63%)]\tLoss: 0.146723\n",
            "Train Epoch: 35 [40960/57000 (72%)]\tLoss: 0.117052\n",
            "Train Epoch: 35 [46080/57000 (81%)]\tLoss: 0.162338\n",
            "Train Epoch: 35 [51200/57000 (90%)]\tLoss: 0.140347\n",
            "Train Epoch: 35 [56320/57000 (99%)]\tLoss: 0.123560\n",
            "\n",
            "Test set: Avg. loss: 0.3140, Accuracy: 2735/3000 (91%)\n",
            "\n",
            "Train Epoch: 36 [0/57000 (0%)]\tLoss: 0.198526\n",
            "Train Epoch: 36 [5120/57000 (9%)]\tLoss: 0.192953\n",
            "Train Epoch: 36 [10240/57000 (18%)]\tLoss: 0.173776\n",
            "Train Epoch: 36 [15360/57000 (27%)]\tLoss: 0.123682\n",
            "Train Epoch: 36 [20480/57000 (36%)]\tLoss: 0.158780\n",
            "Train Epoch: 36 [25600/57000 (45%)]\tLoss: 0.150128\n",
            "Train Epoch: 36 [30720/57000 (54%)]\tLoss: 0.200843\n",
            "Train Epoch: 36 [35840/57000 (63%)]\tLoss: 0.118329\n",
            "Train Epoch: 36 [40960/57000 (72%)]\tLoss: 0.131297\n",
            "Train Epoch: 36 [46080/57000 (81%)]\tLoss: 0.147471\n",
            "Train Epoch: 36 [51200/57000 (90%)]\tLoss: 0.124468\n",
            "Train Epoch: 36 [56320/57000 (99%)]\tLoss: 0.087484\n",
            "\n",
            "Test set: Avg. loss: 0.3253, Accuracy: 2720/3000 (91%)\n",
            "\n",
            "Train Epoch: 37 [0/57000 (0%)]\tLoss: 0.180703\n",
            "Train Epoch: 37 [5120/57000 (9%)]\tLoss: 0.122316\n",
            "Train Epoch: 37 [10240/57000 (18%)]\tLoss: 0.192772\n",
            "Train Epoch: 37 [15360/57000 (27%)]\tLoss: 0.099544\n",
            "Train Epoch: 37 [20480/57000 (36%)]\tLoss: 0.161557\n",
            "Train Epoch: 37 [25600/57000 (45%)]\tLoss: 0.126030\n",
            "Train Epoch: 37 [30720/57000 (54%)]\tLoss: 0.248870\n",
            "Train Epoch: 37 [35840/57000 (63%)]\tLoss: 0.097220\n",
            "Train Epoch: 37 [40960/57000 (72%)]\tLoss: 0.113544\n",
            "Train Epoch: 37 [46080/57000 (81%)]\tLoss: 0.150062\n",
            "Train Epoch: 37 [51200/57000 (90%)]\tLoss: 0.142376\n",
            "Train Epoch: 37 [56320/57000 (99%)]\tLoss: 0.091184\n",
            "\n",
            "Test set: Avg. loss: 0.3371, Accuracy: 2729/3000 (91%)\n",
            "\n",
            "Train Epoch: 38 [0/57000 (0%)]\tLoss: 0.171571\n",
            "Train Epoch: 38 [5120/57000 (9%)]\tLoss: 0.095336\n",
            "Train Epoch: 38 [10240/57000 (18%)]\tLoss: 0.171088\n",
            "Train Epoch: 38 [15360/57000 (27%)]\tLoss: 0.098834\n",
            "Train Epoch: 38 [20480/57000 (36%)]\tLoss: 0.162496\n",
            "Train Epoch: 38 [25600/57000 (45%)]\tLoss: 0.114325\n",
            "Train Epoch: 38 [30720/57000 (54%)]\tLoss: 0.210603\n",
            "Train Epoch: 38 [35840/57000 (63%)]\tLoss: 0.091714\n",
            "Train Epoch: 38 [40960/57000 (72%)]\tLoss: 0.084391\n",
            "Train Epoch: 38 [46080/57000 (81%)]\tLoss: 0.174477\n",
            "Train Epoch: 38 [51200/57000 (90%)]\tLoss: 0.151693\n",
            "Train Epoch: 38 [56320/57000 (99%)]\tLoss: 0.084236\n",
            "\n",
            "Test set: Avg. loss: 0.3453, Accuracy: 2718/3000 (91%)\n",
            "\n",
            "Train Epoch: 39 [0/57000 (0%)]\tLoss: 0.172257\n",
            "Train Epoch: 39 [5120/57000 (9%)]\tLoss: 0.081276\n",
            "Train Epoch: 39 [10240/57000 (18%)]\tLoss: 0.149683\n",
            "Train Epoch: 39 [15360/57000 (27%)]\tLoss: 0.090478\n",
            "Train Epoch: 39 [20480/57000 (36%)]\tLoss: 0.151280\n",
            "Train Epoch: 39 [25600/57000 (45%)]\tLoss: 0.101262\n",
            "Train Epoch: 39 [30720/57000 (54%)]\tLoss: 0.188202\n",
            "Train Epoch: 39 [35840/57000 (63%)]\tLoss: 0.079580\n",
            "Train Epoch: 39 [40960/57000 (72%)]\tLoss: 0.070039\n",
            "Train Epoch: 39 [46080/57000 (81%)]\tLoss: 0.125625\n",
            "Train Epoch: 39 [51200/57000 (90%)]\tLoss: 0.140443\n",
            "Train Epoch: 39 [56320/57000 (99%)]\tLoss: 0.080191\n",
            "\n",
            "Test set: Avg. loss: 0.3640, Accuracy: 2708/3000 (90%)\n",
            "\n"
          ],
          "name": "stdout"
        }
      ]
    },
    {
      "cell_type": "code",
      "metadata": {
        "colab": {
          "base_uri": "https://localhost:8080/",
          "height": 296
        },
        "id": "QcRRKE7MzSEQ",
        "outputId": "6636ea06-41f6-4e3c-cb23-526afcdb4a50"
      },
      "source": [
        "fig = plt.figure()\n",
        "plt.plot(train_counter, train_losses, color='blue')\n",
        "plt.legend(['Train Loss'], loc='upper right')\n",
        "plt.xlabel('number of training examples seen')\n",
        "plt.ylabel('negative log likelihood loss')"
      ],
      "execution_count": 31,
      "outputs": [
        {
          "output_type": "execute_result",
          "data": {
            "text/plain": [
              "Text(0, 0.5, 'negative log likelihood loss')"
            ]
          },
          "metadata": {
            "tags": []
          },
          "execution_count": 31
        },
        {
          "output_type": "display_data",
          "data": {
            "image/png": "[encoded data removed]",
            "text/plain": [
              "<Figure size 432x288 with 1 Axes>"
            ]
          },
          "metadata": {
            "tags": [],
            "needs_background": "light"
          }
        }
      ]
    },
    {
      "cell_type": "markdown",
      "metadata": {
        "id": "DIDJM1PnADIt"
      },
      "source": [
        "## Deeper（doesn't work）"
      ]
    },
    {
      "cell_type": "code",
      "metadata": {
        "id": "Vcqne0XZLcYf"
      },
      "source": [
        "import torch.nn as nn\n",
        "import torch.nn.functional as F\n",
        "import torch.optim as optim"
      ],
      "execution_count": null,
      "outputs": []
    },
    {
      "cell_type": "code",
      "metadata": {
        "id": "tdDmYca6CmXP"
      },
      "source": [
        "device = torch.device('cuda' if torch.cuda.is_available() else 'cpu')"
      ],
      "execution_count": null,
      "outputs": []
    },
    {
      "cell_type": "code",
      "metadata": {
        "id": "8MWRg9T5AFNR"
      },
      "source": [
        "class MyModel(nn.Module):\n",
        "  def __init__(self):\n",
        "    super(MyModel, self).__init__()\n",
        "    \n",
        "    self.model = nn.Sequential(\n",
        "      nn.Conv2d(1, 16, kernel_size=3), nn.ReLU(), # 26*26\n",
        "      nn.Conv2d(16, 16, kernel_size=3), nn.ReLU(), # 24*24\n",
        "      # nn.MaxPool2d(2,2), # 13*13\n",
        "\n",
        "      nn.Conv2d(16, 32, kernel_size=3), nn.ReLU(),  # 22*22\n",
        "      nn.Conv2d(32, 32, kernel_size=3), nn.ReLU(),  # 20*20\n",
        "      # nn.MaxPool2d(2,2),  # 6*6\n",
        "\n",
        "      nn.Conv2d(32, 64, kernel_size=3), nn.ReLU(),  # 18*18\n",
        "      nn.Conv2d(64, 64, kernel_size=3), nn.ReLU(),  # 16*16\n",
        "      # nn.MaxPool2d(2,2),  # 2*2\n",
        "\n",
        "      nn.Conv2d(64, 128, kernel_size=3), nn.ReLU(), # 14*14\n",
        "      nn.Conv2d(128, 128, kernel_size=3), nn.ReLU(),  # 12*12\n",
        "      # nn.MaxPool2d(2,2),\n",
        "\n",
        "      nn.Conv2d(128, 256, kernel_size=3), nn.ReLU(),  # 10*10\n",
        "      nn.Conv2d(256, 256, kernel_size=3), nn.ReLU(),  # 8*8\n",
        "      nn.MaxPool2d(2,2),  # 4*4\n",
        "\n",
        "    )\n",
        "    \n",
        "    self.classifier = nn.Sequential(\n",
        "      nn.Flatten(),\n",
        "      nn.Dropout(0.25),\n",
        "      # nn.Linear(4096, 256),\n",
        "      nn.Linear(4096, 256),\n",
        "      nn.ReLU(),\n",
        "\n",
        "      nn.Dropout(0.5),\n",
        "      nn.Linear(256, 10),\n",
        "      nn.Softmax(dim=1)\n",
        "    )\n",
        "    \n",
        "  def forward(self, x):\n",
        "    f = self.model(x)\n",
        "    y_pred = self.classifier(f)\n",
        "    return y_pred\n",
        "\n",
        "network = MyModel()\n",
        "# summary(model, (3,256,256))"
      ],
      "execution_count": null,
      "outputs": []
    },
    {
      "cell_type": "code",
      "metadata": {
        "id": "7daPmiD_EJ53"
      },
      "source": [
        "optimizer = optim.Adam(network.parameters())\n",
        "\n",
        "train_losses = []\n",
        "train_counter = []\n",
        "test_losses = []\n",
        "test_counter = [i*len(train_loader.dataset) for i in range(3)]"
      ],
      "execution_count": null,
      "outputs": []
    },
    {
      "cell_type": "code",
      "metadata": {
        "id": "tv66liBRDHL9"
      },
      "source": [
        "def train(epoch):\n",
        "  network.train()\n",
        "  for batch_idx, (data, target) in enumerate(train_loader):\n",
        "    optimizer.zero_grad()\n",
        "    output = network(data)\n",
        "\n",
        "    loss = F.nll_loss(output, target) #negative log likelihood loss\n",
        "    loss.backward()\n",
        "    optimizer.step()\n",
        "    if batch_idx % 20 == 0:\n",
        "      print('Train Epoch: {} [{}/{} ({:.0f}%)]\\tLoss: {:.6f}'.format(\n",
        "        epoch, batch_idx * len(data), len(train_loader.dataset),\n",
        "        100. * batch_idx / len(train_loader), loss.item()))\n",
        "      train_losses.append(loss.item())\n",
        "      train_counter.append(\n",
        "        (batch_idx*64) + ((epoch-1)*len(train_loader.dataset)))\n",
        "\n",
        "def test():\n",
        "  network.eval()\n",
        "  test_loss = 0\n",
        "  correct = 0\n",
        "  with torch.no_grad():\n",
        "    for data, target in val_loader:\n",
        "      output = network(data)\n",
        "      # this line is added to convert labels to LongTensor\n",
        "      # target = target.type(torch.LongTensor)\n",
        "      # target = torch.argmax(target, dim=1) # convert from 1-hot to 1D\n",
        "\n",
        "      test_loss += F.nll_loss(output, target, size_average=False).item()\n",
        "      pred = output.data.max(1, keepdim=True)[1]\n",
        "      correct += pred.eq(target.data.view_as(pred)).sum()\n",
        "  test_loss /= len(val_loader.dataset)\n",
        "  test_losses.append(test_loss)\n",
        "  print('\\nTest set: Avg. loss: {:.4f}, Accuracy: {}/{} ({:.0f}%)\\n'.format(\n",
        "    test_loss, correct, len(val_loader.dataset),\n",
        "    100. * correct / len(val_loader.dataset)))"
      ],
      "execution_count": null,
      "outputs": []
    },
    {
      "cell_type": "code",
      "metadata": {
        "colab": {
          "base_uri": "https://localhost:8080/",
          "height": 443
        },
        "id": "30Rz0VM-FKN5",
        "outputId": "1efc1fa5-369e-4747-f0d6-d3bddc46479b"
      },
      "source": [
        "for epoch in range(1, 4):\n",
        "  train(epoch)\n",
        "  test()"
      ],
      "execution_count": null,
      "outputs": [
        {
          "output_type": "stream",
          "text": [
            "Train Epoch: 1 [0/60000 (0%)]\tLoss: -0.099955\n",
            "Train Epoch: 1 [5120/60000 (11%)]\tLoss: -0.097481\n",
            "Train Epoch: 1 [10240/60000 (21%)]\tLoss: -0.074219\n",
            "Train Epoch: 1 [15360/60000 (32%)]\tLoss: -0.109375\n",
            "Train Epoch: 1 [20480/60000 (43%)]\tLoss: -0.101562\n"
          ],
          "name": "stdout"
        },
        {
          "output_type": "error",
          "ename": "KeyboardInterrupt",
          "evalue": "ignored",
          "traceback": [
            "\u001b[0;31m---------------------------------------------------------------------------\u001b[0m",
            "\u001b[0;31mKeyboardInterrupt\u001b[0m                         Traceback (most recent call last)",
            "\u001b[0;32m<ipython-input-39-02379a7662ab>\u001b[0m in \u001b[0;36m<module>\u001b[0;34m()\u001b[0m\n\u001b[1;32m      1\u001b[0m \u001b[0;32mfor\u001b[0m \u001b[0mepoch\u001b[0m \u001b[0;32min\u001b[0m \u001b[0mrange\u001b[0m\u001b[0;34m(\u001b[0m\u001b[0;36m1\u001b[0m\u001b[0;34m,\u001b[0m \u001b[0;36m4\u001b[0m\u001b[0;34m)\u001b[0m\u001b[0;34m:\u001b[0m\u001b[0;34m\u001b[0m\u001b[0;34m\u001b[0m\u001b[0m\n\u001b[0;32m----> 2\u001b[0;31m   \u001b[0mtrain\u001b[0m\u001b[0;34m(\u001b[0m\u001b[0mepoch\u001b[0m\u001b[0;34m)\u001b[0m\u001b[0;34m\u001b[0m\u001b[0;34m\u001b[0m\u001b[0m\n\u001b[0m\u001b[1;32m      3\u001b[0m   \u001b[0mtest\u001b[0m\u001b[0;34m(\u001b[0m\u001b[0;34m)\u001b[0m\u001b[0;34m\u001b[0m\u001b[0;34m\u001b[0m\u001b[0m\n",
            "\u001b[0;32m<ipython-input-38-e15993a0a7ef>\u001b[0m in \u001b[0;36mtrain\u001b[0;34m(epoch)\u001b[0m\n\u001b[1;32m      6\u001b[0m \u001b[0;34m\u001b[0m\u001b[0m\n\u001b[1;32m      7\u001b[0m     \u001b[0mloss\u001b[0m \u001b[0;34m=\u001b[0m \u001b[0mF\u001b[0m\u001b[0;34m.\u001b[0m\u001b[0mnll_loss\u001b[0m\u001b[0;34m(\u001b[0m\u001b[0moutput\u001b[0m\u001b[0;34m,\u001b[0m \u001b[0mtarget\u001b[0m\u001b[0;34m)\u001b[0m \u001b[0;31m#negative log likelihood loss\u001b[0m\u001b[0;34m\u001b[0m\u001b[0;34m\u001b[0m\u001b[0m\n\u001b[0;32m----> 8\u001b[0;31m     \u001b[0mloss\u001b[0m\u001b[0;34m.\u001b[0m\u001b[0mbackward\u001b[0m\u001b[0;34m(\u001b[0m\u001b[0;34m)\u001b[0m\u001b[0;34m\u001b[0m\u001b[0;34m\u001b[0m\u001b[0m\n\u001b[0m\u001b[1;32m      9\u001b[0m     \u001b[0moptimizer\u001b[0m\u001b[0;34m.\u001b[0m\u001b[0mstep\u001b[0m\u001b[0;34m(\u001b[0m\u001b[0;34m)\u001b[0m\u001b[0;34m\u001b[0m\u001b[0;34m\u001b[0m\u001b[0m\n\u001b[1;32m     10\u001b[0m     \u001b[0;32mif\u001b[0m \u001b[0mbatch_idx\u001b[0m \u001b[0;34m%\u001b[0m \u001b[0;36m20\u001b[0m \u001b[0;34m==\u001b[0m \u001b[0;36m0\u001b[0m\u001b[0;34m:\u001b[0m\u001b[0;34m\u001b[0m\u001b[0;34m\u001b[0m\u001b[0m\n",
            "\u001b[0;32m/usr/local/lib/python3.7/dist-packages/torch/tensor.py\u001b[0m in \u001b[0;36mbackward\u001b[0;34m(self, gradient, retain_graph, create_graph, inputs)\u001b[0m\n\u001b[1;32m    243\u001b[0m                 \u001b[0mcreate_graph\u001b[0m\u001b[0;34m=\u001b[0m\u001b[0mcreate_graph\u001b[0m\u001b[0;34m,\u001b[0m\u001b[0;34m\u001b[0m\u001b[0;34m\u001b[0m\u001b[0m\n\u001b[1;32m    244\u001b[0m                 inputs=inputs)\n\u001b[0;32m--> 245\u001b[0;31m         \u001b[0mtorch\u001b[0m\u001b[0;34m.\u001b[0m\u001b[0mautograd\u001b[0m\u001b[0;34m.\u001b[0m\u001b[0mbackward\u001b[0m\u001b[0;34m(\u001b[0m\u001b[0mself\u001b[0m\u001b[0;34m,\u001b[0m \u001b[0mgradient\u001b[0m\u001b[0;34m,\u001b[0m \u001b[0mretain_graph\u001b[0m\u001b[0;34m,\u001b[0m \u001b[0mcreate_graph\u001b[0m\u001b[0;34m,\u001b[0m \u001b[0minputs\u001b[0m\u001b[0;34m=\u001b[0m\u001b[0minputs\u001b[0m\u001b[0;34m)\u001b[0m\u001b[0;34m\u001b[0m\u001b[0;34m\u001b[0m\u001b[0m\n\u001b[0m\u001b[1;32m    246\u001b[0m \u001b[0;34m\u001b[0m\u001b[0m\n\u001b[1;32m    247\u001b[0m     \u001b[0;32mdef\u001b[0m \u001b[0mregister_hook\u001b[0m\u001b[0;34m(\u001b[0m\u001b[0mself\u001b[0m\u001b[0;34m,\u001b[0m \u001b[0mhook\u001b[0m\u001b[0;34m)\u001b[0m\u001b[0;34m:\u001b[0m\u001b[0;34m\u001b[0m\u001b[0;34m\u001b[0m\u001b[0m\n",
            "\u001b[0;32m/usr/local/lib/python3.7/dist-packages/torch/autograd/__init__.py\u001b[0m in \u001b[0;36mbackward\u001b[0;34m(tensors, grad_tensors, retain_graph, create_graph, grad_variables, inputs)\u001b[0m\n\u001b[1;32m    145\u001b[0m     Variable._execution_engine.run_backward(\n\u001b[1;32m    146\u001b[0m         \u001b[0mtensors\u001b[0m\u001b[0;34m,\u001b[0m \u001b[0mgrad_tensors_\u001b[0m\u001b[0;34m,\u001b[0m \u001b[0mretain_graph\u001b[0m\u001b[0;34m,\u001b[0m \u001b[0mcreate_graph\u001b[0m\u001b[0;34m,\u001b[0m \u001b[0minputs\u001b[0m\u001b[0;34m,\u001b[0m\u001b[0;34m\u001b[0m\u001b[0;34m\u001b[0m\u001b[0m\n\u001b[0;32m--> 147\u001b[0;31m         allow_unreachable=True, accumulate_grad=True)  # allow_unreachable flag\n\u001b[0m\u001b[1;32m    148\u001b[0m \u001b[0;34m\u001b[0m\u001b[0m\n\u001b[1;32m    149\u001b[0m \u001b[0;34m\u001b[0m\u001b[0m\n",
            "\u001b[0;31mKeyboardInterrupt\u001b[0m: "
          ]
        }
      ]
    },
    {
      "cell_type": "code",
      "metadata": {
        "colab": {
          "base_uri": "https://localhost:8080/"
        },
        "id": "fJ1U0lhpHojX",
        "outputId": "395e6940-9c14-4507-e62b-0b3a20fa9d83"
      },
      "source": [
        "print(torch.cuda.is_available())"
      ],
      "execution_count": null,
      "outputs": [
        {
          "output_type": "stream",
          "text": [
            "True\n"
          ],
          "name": "stdout"
        }
      ]
    }
  ]
}