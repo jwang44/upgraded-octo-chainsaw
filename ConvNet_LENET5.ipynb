{
  "nbformat": 4,
  "nbformat_minor": 0,
  "metadata": {
    "colab": {
      "name": "Copy of LeNet5.ipynb",
      "provenance": [],
      "collapsed_sections": [
        "oo2KSbBVO-iF",
        "CFEyrp_mYmIO",
        "eQW5T5eHq8X0",
        "DIDJM1PnADIt"
      ],
      "include_colab_link": true
    },
    "kernelspec": {
      "name": "python3",
      "display_name": "Python 3"
    },
    "accelerator": "GPU"
  },
  "cells": [
    {
      "cell_type": "markdown",
      "metadata": {
        "id": "view-in-github",
        "colab_type": "text"
      },
      "source": [
        "<a href=\"https://colab.research.google.com/github/jwang44/upgraded-octo-chainsaw/blob/main/ConvNet_LENET5.ipynb\" target=\"_parent\"><img src=\"https://colab.research.google.com/assets/colab-badge.svg\" alt=\"Open In Colab\"/></a>"
      ]
    },
    {
      "cell_type": "code",
      "metadata": {
        "colab": {
          "base_uri": "https://localhost:8080/"
        },
        "id": "0dOxAvsuIul3",
        "outputId": "246394da-be95-4478-dc85-5f758473548f"
      },
      "source": [
        "from google.colab import drive\n",
        "drive.mount('/content/drive')"
      ],
      "execution_count": 1,
      "outputs": [
        {
          "output_type": "stream",
          "text": [
            "Drive already mounted at /content/drive; to attempt to forcibly remount, call drive.mount(\"/content/drive\", force_remount=True).\n"
          ],
          "name": "stdout"
        }
      ]
    },
    {
      "cell_type": "code",
      "metadata": {
        "id": "0x13nsz659Ra"
      },
      "source": [
        "%cd '/content/drive/MyDrive/imageunderstanding'\n",
        "!ls"
      ],
      "execution_count": null,
      "outputs": []
    },
    {
      "cell_type": "code",
      "metadata": {
        "id": "mqRELpG1DsZq",
        "colab": {
          "base_uri": "https://localhost:8080/"
        },
        "outputId": "85f46f64-8377-4487-df69-7381ab2410ec"
      },
      "source": [
        "%cd '/content/drive/MyDrive/551 A3'\n",
        "!ls"
      ],
      "execution_count": 3,
      "outputs": [
        {
          "output_type": "stream",
          "text": [
            "/content/drive/MyDrive/551 A3\n",
            " accu.png\t\t       Train_labels.csv\n",
            " ExampleSubmissionRandom.csv   Train.pkl\n",
            " LoadData.ipynb\t\t       VAL_ACCU_RES18.csv\n",
            " piechart.png\t\t       VAL_ACCU_RES18_ROTATE.csv\n",
            " Test.pkl\t\t       VAL_ACCU_RES34.csv\n",
            "'Train_labels (1).csv'\t       VAL_ACCU_TUTOR.csv\n"
          ],
          "name": "stdout"
        }
      ]
    },
    {
      "cell_type": "code",
      "metadata": {
        "id": "T1-Hfwf3lrw4"
      },
      "source": [
        "TRAIN_DATA_PATH = \"Train.pkl\"\n",
        "TRAIN_LABEL_PATH = \"Train_labels.csv\"\n",
        "TEST_DATA_PATH = \"Test.pkl\"\n",
        "CSV_OUTPUT_PATH = \"PRED_RESULT.csv\""
      ],
      "execution_count": 4,
      "outputs": []
    },
    {
      "cell_type": "code",
      "metadata": {
        "id": "7XS2MS7nHzIN"
      },
      "source": [
        "import pickle\n",
        "import matplotlib.pyplot as plt\n",
        "import numpy as np\n",
        "from torchvision import transforms\n",
        "from torch.utils.data import Dataset\n",
        "from torch.utils.data import DataLoader, TensorDataset\n",
        "from PIL import Image\n",
        "import torch\n",
        "import pandas as pd"
      ],
      "execution_count": 5,
      "outputs": []
    },
    {
      "cell_type": "code",
      "metadata": {
        "colab": {
          "base_uri": "https://localhost:8080/"
        },
        "id": "FBXdYCpunCp2",
        "outputId": "622ddd1f-2d05-4fc2-cc7d-6e47b8251447"
      },
      "source": [
        "DEVICE = torch.device('cuda' if torch.cuda.is_available() else 'cpu')\n",
        "DEVICE"
      ],
      "execution_count": 6,
      "outputs": [
        {
          "output_type": "execute_result",
          "data": {
            "text/plain": [
              "device(type='cuda')"
            ]
          },
          "metadata": {
            "tags": []
          },
          "execution_count": 6
        }
      ]
    },
    {
      "cell_type": "code",
      "metadata": {
        "id": "zppkOjQwVjy2"
      },
      "source": [
        "torch.manual_seed(0)\n",
        "torch.cuda.manual_seed(0)"
      ],
      "execution_count": 7,
      "outputs": []
    },
    {
      "cell_type": "markdown",
      "metadata": {
        "id": "Mj3Hw-EVC0S5"
      },
      "source": [
        ""
      ]
    },
    {
      "cell_type": "markdown",
      "metadata": {
        "id": "_2Vm3wY_K3DA"
      },
      "source": [
        "## Dataset Class / Data Loaders"
      ]
    },
    {
      "cell_type": "code",
      "metadata": {
        "id": "bydOoypc5SAM"
      },
      "source": [
        "IMG_SIZE = (32, 32)"
      ],
      "execution_count": 8,
      "outputs": []
    },
    {
      "cell_type": "code",
      "metadata": {
        "id": "j0MUpn2VnElU"
      },
      "source": [
        "# Transforms are common image transformations. They can be chained together using Compose.\n",
        "# Here we normalize images img=(img-0.5)/0.5\n",
        "img_transform = transforms.Compose([\n",
        "    transforms.ToTensor(),\n",
        "    # transforms.Normalize([0.5], [0.5]),\n",
        "    transforms.Resize(IMG_SIZE)  \n",
        "    # transforms.RandomRotation(10, resample=PIL.Image.BILINEAR)\n",
        "    # transforms.ColorJitter(brightness=0, contrast=0, saturation=0, hue=0)\n",
        "    # transforms.RandomAffine(degrees, translate=None, scale=None, shear=None, interpolation=<InterpolationMode.NEAREST: 'nearest'>, fill=0, fillcolor=None, resample=None)\n",
        "])"
      ],
      "execution_count": 9,
      "outputs": []
    },
    {
      "cell_type": "code",
      "metadata": {
        "id": "CY0SndE2qcmb"
      },
      "source": [
        "# img_file: the pickle file containing the images\n",
        "# label_file: the .csv file containing the labels\n",
        "# transform: We use it for normalizing images (see above)\n",
        "# idx: This is a binary vector that is useful for creating training and validation set.\n",
        "# It return only samples where idx is True\n",
        "\n",
        "class MyDataset(Dataset):\n",
        "    def __init__(self, img_file, label_file, transform=None, idx = None):\n",
        "        self.data = pickle.load( open( img_file, 'rb' ), encoding='bytes')\n",
        "        self.targets = np.genfromtxt(label_file, delimiter=',', skip_header=1, usecols=1) #[:,1:]\n",
        "        if idx is not None:\n",
        "          self.targets = self.targets[idx]\n",
        "          self.data = self.data[idx]\n",
        "        self.transform = transform\n",
        "\n",
        "    def __len__(self):\n",
        "        return len(self.targets)\n",
        "\n",
        "    def __getitem__(self, index):\n",
        "        img, target = self.data[index].squeeze(), int(self.targets[index])\n",
        "        img = Image.fromarray((img*255).astype('uint8'), mode='L')\n",
        "        if self.transform is not None:\n",
        "           img = self.transform(img)\n",
        "        return img, target"
      ],
      "execution_count": 10,
      "outputs": []
    },
    {
      "cell_type": "markdown",
      "metadata": {
        "id": "q3b-QvEvqNE3"
      },
      "source": [
        "Get loader for all train data"
      ]
    },
    {
      "cell_type": "code",
      "metadata": {
        "id": "74kV_DwkqizL"
      },
      "source": [
        "BATCH_SIZE = 128\n",
        "dataset = MyDataset(TRAIN_DATA_PATH, TRAIN_LABEL_PATH,transform=img_transform, idx=None)\n",
        "# dataloader for all data\n",
        "data_loader = DataLoader(dataset, batch_size=BATCH_SIZE, shuffle=True)"
      ],
      "execution_count": 11,
      "outputs": []
    },
    {
      "cell_type": "markdown",
      "metadata": {
        "id": "1ZNiErb-pbPt"
      },
      "source": [
        "Get loaders for train/val data"
      ]
    },
    {
      "cell_type": "code",
      "metadata": {
        "id": "05SXSXBRW4DX"
      },
      "source": [
        "VAL_SPLIT = 0.15\n",
        "shuffle = True\n",
        "\n",
        "# Creating indices for train and val split:\n",
        "dataset_size = len(dataset)\n",
        "indices = list(range(dataset_size))\n",
        "split = int(np.floor(VAL_SPLIT * dataset_size))\n",
        "if shuffle:\n",
        "  # set random seed so that we get the same split everytime\n",
        "  np.random.seed(0)\n",
        "  np.random.shuffle(indices)\n",
        "train_indices, val_indices = indices[split:], indices[:split]\n",
        "\n",
        "train_dataset = MyDataset(TRAIN_DATA_PATH, TRAIN_LABEL_PATH,transform=img_transform, idx=train_indices)\n",
        "val_dataset = MyDataset(TRAIN_DATA_PATH, TRAIN_LABEL_PATH,transform=img_transform, idx=val_indices)\n",
        "\n",
        "# separate loaders for train and val data\n",
        "train_loader = DataLoader(train_dataset, batch_size=BATCH_SIZE, shuffle=False)\n",
        "val_loader = DataLoader(val_dataset, batch_size=BATCH_SIZE, shuffle=False)"
      ],
      "execution_count": 12,
      "outputs": []
    },
    {
      "cell_type": "markdown",
      "metadata": {
        "id": "CFEyrp_mYmIO"
      },
      "source": [
        "## Test Dataset / Loader"
      ]
    },
    {
      "cell_type": "code",
      "metadata": {
        "id": "x1d3LIGlYrDK"
      },
      "source": [
        "class MyTestSet(Dataset):\n",
        "  def __init__(self, img_file, transform=None):\n",
        "    self.data = pickle.load( open(img_file, 'rb' ), encoding='bytes')\n",
        "    self.transform = transform\n",
        "\n",
        "  def __len__(self):\n",
        "    # return self.data.shape[0]\n",
        "    return len(self.data)\n",
        "\n",
        "  def __getitem__(self, index):\n",
        "    img = self.data[index].squeeze()\n",
        "    img = Image.fromarray((img*255).astype('uint8'), mode='L')\n",
        "    if self.transform is not None:\n",
        "      img = self.transform(img)\n",
        "    return img"
      ],
      "execution_count": 13,
      "outputs": []
    },
    {
      "cell_type": "code",
      "metadata": {
        "id": "fk5z7LRha2Uc"
      },
      "source": [
        "test_dataset = MyTestSet(TEST_DATA_PATH,transform=img_transform)\n",
        "# dataloader for test data\n",
        "test_loader = DataLoader(test_dataset, batch_size=BATCH_SIZE, shuffle=False)"
      ],
      "execution_count": 14,
      "outputs": []
    },
    {
      "cell_type": "markdown",
      "metadata": {
        "id": "wdvC0-OfRnQV"
      },
      "source": [
        "## LeNet5"
      ]
    },
    {
      "cell_type": "code",
      "metadata": {
        "id": "pFVSRS6gs8t7"
      },
      "source": [
        "import torch.nn as nn\n",
        "import torch.nn.functional as F\n",
        "import torch.optim as optim\n",
        "import torch"
      ],
      "execution_count": 15,
      "outputs": []
    },
    {
      "cell_type": "code",
      "metadata": {
        "id": "M2fQJEYTUELJ"
      },
      "source": [
        "ActFunc = {\n",
        "    'Relu': nn.ReLU(True), \n",
        "    'Sig': nn.Sigmoid(),  # may vanishing gradient problems \n",
        "    'Tanh': nn.Tanh(), # may  vanishing gradient problems \n",
        "    'LeakyRelu': nn.LeakyReLU(), \n",
        "    'ELU': nn.ELU()\n",
        "}"
      ],
      "execution_count": 16,
      "outputs": []
    },
    {
      "cell_type": "code",
      "metadata": {
        "id": "3714Y8uHiYbV"
      },
      "source": [
        "class LeNet5(nn.Module):\n",
        "    def __init__(self, kernel_size=5,ActFunc=['Tanh']):\n",
        "        super(LeNet5, self).__init__()\n",
        "        # input 1*28*28\n",
        "        self.conv1 = nn.Conv2d(1, 6, kernel_size)\n",
        "        self.conv2 = nn.Conv2d(6, 16, kernel_size)\n",
        "        self.conv3 = nn.Conv2d(16, 120, kernel_size)\n",
        "        self.fc1 = nn.Linear(120, 84)\n",
        "        self.fc2 = nn.Linear(84, 10)\n",
        "\n",
        "    def forward(self, x):\n",
        "        # x = F.avg_pool2d(F.tanh(self.conv1(x)), kernel_size = (2,2),stride = 2) # 6 filters + avgpooling => 6*14*14\n",
        "        # x = F.avg_pool2d(F.tanh(self.conv2(x)), kernel_size = (2,2),stride = 2) # 16 filters + avgpooling => 16*5*5\n",
        "        x = F.avg_pool2d(torch.tanh(self.conv1(x)), kernel_size = (2,2),stride = 2) # 6 filters + avgpooling => 6*14*14\n",
        "        x = F.avg_pool2d(torch.tanh(self.conv2(x)), kernel_size = (2,2),stride = 2) # 16 filters + avgpooling => 16*5*5\n",
        "        x = torch.tanh(self.conv3(x)) # 120 filters => 120*1*1\n",
        "        x = x.view(-1, 120) \n",
        "        x = torch.tanh(self.fc1(x))\n",
        "        x = self.fc2(x)\n",
        "        # x = (self.fc3(x) # output layer\n",
        "        return F.softmax(x)"
      ],
      "execution_count": 17,
      "outputs": []
    },
    {
      "cell_type": "markdown",
      "metadata": {
        "id": "BeVwuJHatdb7"
      },
      "source": [
        "Let's train these. But first, create the network, the optimizer and some lists for logging the training process"
      ]
    },
    {
      "cell_type": "code",
      "metadata": {
        "id": "EWuVNrsotfZD"
      },
      "source": [
        "model = LeNet5().to(DEVICE)\n",
        "# optimizer = optim.SGD(tutor_model.parameters(), lr=0.01, momentum=0.5)\n",
        "# optimizer = optim.SGD(tutor_model.parameters(), lr=1, momentum=0.5)\n",
        "optimizer = optim.Adam(model.parameters())\n",
        "# optimizer = optim.RMSprop(model.parameters())\n",
        "\n",
        "train_losses = []\n",
        "train_counter = []\n",
        "val_accus = []\n",
        "epochs = []\n",
        "val_losses = []\n",
        "val_counter = [i*len(train_loader.dataset) for i in range(3)]"
      ],
      "execution_count": 21,
      "outputs": []
    },
    {
      "cell_type": "markdown",
      "metadata": {
        "id": "Ck4yNKs46Q1Y"
      },
      "source": [
        "### Train and test function, used many times"
      ]
    },
    {
      "cell_type": "code",
      "metadata": {
        "id": "RUEaOuBdRiyA"
      },
      "source": [
        "def train(epoch, model, loader):\n",
        "  model.train()\n",
        "  for batch_idx, (data, target) in enumerate(loader):\n",
        "    optimizer.zero_grad()\n",
        "    data = data.to(DEVICE)\n",
        "    # print(data.shape)\n",
        "    target = target.to(DEVICE)\n",
        "    output = model(data)\n",
        "    # print(output.shape)\n",
        "    # target = torch.argmax(target, dim=1) # convert from 1-hot to 1D\n",
        "    loss = F.cross_entropy(output, target) #negative log likelihood loss\n",
        "    loss.backward()\n",
        "    optimizer.step()\n",
        "    if batch_idx % 200 == 0:\n",
        "      print('Train Epoch: {} [{}/{} ({:.0f}%)]\\tLoss: {:.6f}'.format(\n",
        "        epoch, batch_idx * len(data), len(loader.dataset),\n",
        "        100. * batch_idx / len(loader), loss.item()))\n",
        "      train_losses.append(loss.item())\n",
        "      train_counter.append(\n",
        "        (batch_idx*64) + ((epoch-1)*len(loader.dataset)))\n",
        "      torch.save(model.state_dict(), '/model.pth')\n",
        "      torch.save(optimizer.state_dict(), '/optimizer.pth')\n",
        "\n",
        "def val(model, loader):\n",
        "  model.eval()\n",
        "  val_loss = 0\n",
        "  correct = 0\n",
        "  with torch.no_grad():\n",
        "    for data, target in loader:\n",
        "      data = data.to(DEVICE)\n",
        "      target = target.to(DEVICE)\n",
        "      output = model(data)\n",
        "      val_loss += F.cross_entropy(output, target, size_average=False).item()\n",
        "      pred = output.data.max(1, keepdim=True)[1]\n",
        "      correct += pred.eq(target.data.view_as(pred)).sum()\n",
        "  val_loss /= len(loader.dataset)\n",
        "  val_losses.append(val_loss)\n",
        "\n",
        "  val_accu = 100. * correct / len(loader.dataset)\n",
        "  val_accus.append(val_accu)\n",
        "  epochs.append(epoch)\n",
        "\n",
        "  print('Val set: Epoch: {}, Avg. loss: {:.4f}, Accuracy: {}/{} ({:.2f}%)'.format(\n",
        "    epoch, val_loss, correct, len(loader.dataset),\n",
        "    100. * correct / len(loader.dataset)))"
      ],
      "execution_count": 19,
      "outputs": []
    },
    {
      "cell_type": "code",
      "metadata": {
        "colab": {
          "base_uri": "https://localhost:8080/"
        },
        "id": "3gjkriuv8bVO",
        "outputId": "863d056c-3ac5-434a-d81d-876218978d72"
      },
      "source": [
        "len(data_loader.dataset)"
      ],
      "execution_count": null,
      "outputs": [
        {
          "output_type": "execute_result",
          "data": {
            "text/plain": [
              "60000"
            ]
          },
          "metadata": {
            "tags": []
          },
          "execution_count": 23
        }
      ]
    },
    {
      "cell_type": "code",
      "metadata": {
        "colab": {
          "base_uri": "https://localhost:8080/"
        },
        "id": "1Gl0IR_n8l2X",
        "outputId": "0a92dbcf-7f43-4b74-9d8a-611fbd172e72"
      },
      "source": [
        "len(train_loader.dataset)"
      ],
      "execution_count": null,
      "outputs": [
        {
          "output_type": "execute_result",
          "data": {
            "text/plain": [
              "51000"
            ]
          },
          "metadata": {
            "tags": []
          },
          "execution_count": 24
        }
      ]
    },
    {
      "cell_type": "markdown",
      "metadata": {
        "id": "BaaA04yUtj1T"
      },
      "source": [
        "Train the network"
      ]
    },
    {
      "cell_type": "code",
      "metadata": {
        "id": "CCgK_yOvtrjz",
        "colab": {
          "base_uri": "https://localhost:8080/"
        },
        "outputId": "5f9fa94f-c30e-437d-b0c5-d0c8b1179b94"
      },
      "source": [
        "for epoch in range(1, 41):\n",
        "  train(epoch, model, train_loader)\n",
        "  val(model, val_loader)"
      ],
      "execution_count": 22,
      "outputs": [
        {
          "output_type": "stream",
          "text": [
            "/usr/local/lib/python3.7/dist-packages/ipykernel_launcher.py:21: UserWarning: Implicit dimension choice for softmax has been deprecated. Change the call to include dim=X as an argument.\n"
          ],
          "name": "stderr"
        },
        {
          "output_type": "stream",
          "text": [
            "Train Epoch: 1 [0/51000 (0%)]\tLoss: 2.303004\n",
            "Train Epoch: 1 [25600/51000 (50%)]\tLoss: 2.166087\n"
          ],
          "name": "stdout"
        },
        {
          "output_type": "stream",
          "text": [
            "/usr/local/lib/python3.7/dist-packages/torch/nn/_reduction.py:42: UserWarning: size_average and reduce args will be deprecated, please use reduction='sum' instead.\n",
            "  warnings.warn(warning.format(ret))\n"
          ],
          "name": "stderr"
        },
        {
          "output_type": "stream",
          "text": [
            "Val set: Epoch: 1, Avg. loss: 1.9973, Accuracy: 4194/9000 (46.60%)\n",
            "Train Epoch: 2 [0/51000 (0%)]\tLoss: 2.020764\n",
            "Train Epoch: 2 [25600/51000 (50%)]\tLoss: 1.906048\n",
            "Val set: Epoch: 2, Avg. loss: 1.8407, Accuracy: 5704/9000 (63.38%)\n",
            "Train Epoch: 3 [0/51000 (0%)]\tLoss: 1.856211\n",
            "Train Epoch: 3 [25600/51000 (50%)]\tLoss: 1.843100\n",
            "Val set: Epoch: 3, Avg. loss: 1.7756, Accuracy: 6261/9000 (69.57%)\n",
            "Train Epoch: 4 [0/51000 (0%)]\tLoss: 1.802596\n",
            "Train Epoch: 4 [25600/51000 (50%)]\tLoss: 1.775671\n",
            "Val set: Epoch: 4, Avg. loss: 1.7629, Accuracy: 6339/9000 (70.43%)\n",
            "Train Epoch: 5 [0/51000 (0%)]\tLoss: 1.782844\n",
            "Train Epoch: 5 [25600/51000 (50%)]\tLoss: 1.791290\n",
            "Val set: Epoch: 5, Avg. loss: 1.7224, Accuracy: 6697/9000 (74.41%)\n",
            "Train Epoch: 6 [0/51000 (0%)]\tLoss: 1.747457\n",
            "Train Epoch: 6 [25600/51000 (50%)]\tLoss: 1.733962\n",
            "Val set: Epoch: 6, Avg. loss: 1.7102, Accuracy: 6778/9000 (75.31%)\n",
            "Train Epoch: 7 [0/51000 (0%)]\tLoss: 1.733078\n",
            "Train Epoch: 7 [25600/51000 (50%)]\tLoss: 1.734219\n",
            "Val set: Epoch: 7, Avg. loss: 1.6912, Accuracy: 6952/9000 (77.24%)\n",
            "Train Epoch: 8 [0/51000 (0%)]\tLoss: 1.718294\n",
            "Train Epoch: 8 [25600/51000 (50%)]\tLoss: 1.709168\n",
            "Val set: Epoch: 8, Avg. loss: 1.6720, Accuracy: 7120/9000 (79.11%)\n",
            "Train Epoch: 9 [0/51000 (0%)]\tLoss: 1.690240\n",
            "Train Epoch: 9 [25600/51000 (50%)]\tLoss: 1.678220\n",
            "Val set: Epoch: 9, Avg. loss: 1.6676, Accuracy: 7152/9000 (79.47%)\n",
            "Train Epoch: 10 [0/51000 (0%)]\tLoss: 1.684582\n",
            "Train Epoch: 10 [25600/51000 (50%)]\tLoss: 1.684805\n",
            "Val set: Epoch: 10, Avg. loss: 1.6574, Accuracy: 7244/9000 (80.49%)\n",
            "Train Epoch: 11 [0/51000 (0%)]\tLoss: 1.673482\n",
            "Train Epoch: 11 [25600/51000 (50%)]\tLoss: 1.663819\n",
            "Val set: Epoch: 11, Avg. loss: 1.6501, Accuracy: 7319/9000 (81.32%)\n",
            "Train Epoch: 12 [0/51000 (0%)]\tLoss: 1.675316\n",
            "Train Epoch: 12 [25600/51000 (50%)]\tLoss: 1.668828\n",
            "Val set: Epoch: 12, Avg. loss: 1.6456, Accuracy: 7362/9000 (81.80%)\n",
            "Train Epoch: 13 [0/51000 (0%)]\tLoss: 1.647043\n",
            "Train Epoch: 13 [25600/51000 (50%)]\tLoss: 1.661263\n",
            "Val set: Epoch: 13, Avg. loss: 1.6364, Accuracy: 7450/9000 (82.78%)\n",
            "Train Epoch: 14 [0/51000 (0%)]\tLoss: 1.635771\n",
            "Train Epoch: 14 [25600/51000 (50%)]\tLoss: 1.652477\n",
            "Val set: Epoch: 14, Avg. loss: 1.6316, Accuracy: 7486/9000 (83.18%)\n",
            "Train Epoch: 15 [0/51000 (0%)]\tLoss: 1.637659\n",
            "Train Epoch: 15 [25600/51000 (50%)]\tLoss: 1.646768\n",
            "Val set: Epoch: 15, Avg. loss: 1.6419, Accuracy: 7388/9000 (82.09%)\n",
            "Train Epoch: 16 [0/51000 (0%)]\tLoss: 1.643872\n",
            "Train Epoch: 16 [25600/51000 (50%)]\tLoss: 1.635161\n",
            "Val set: Epoch: 16, Avg. loss: 1.6337, Accuracy: 7469/9000 (82.99%)\n",
            "Train Epoch: 17 [0/51000 (0%)]\tLoss: 1.635309\n",
            "Train Epoch: 17 [25600/51000 (50%)]\tLoss: 1.624368\n",
            "Val set: Epoch: 17, Avg. loss: 1.6215, Accuracy: 7575/9000 (84.17%)\n",
            "Train Epoch: 18 [0/51000 (0%)]\tLoss: 1.598490\n",
            "Train Epoch: 18 [25600/51000 (50%)]\tLoss: 1.595430\n",
            "Val set: Epoch: 18, Avg. loss: 1.6185, Accuracy: 7573/9000 (84.14%)\n",
            "Train Epoch: 19 [0/51000 (0%)]\tLoss: 1.594490\n",
            "Train Epoch: 19 [25600/51000 (50%)]\tLoss: 1.615697\n",
            "Val set: Epoch: 19, Avg. loss: 1.6162, Accuracy: 7620/9000 (84.67%)\n",
            "Train Epoch: 20 [0/51000 (0%)]\tLoss: 1.614078\n",
            "Train Epoch: 20 [25600/51000 (50%)]\tLoss: 1.599618\n",
            "Val set: Epoch: 20, Avg. loss: 1.6143, Accuracy: 7617/9000 (84.63%)\n",
            "Train Epoch: 21 [0/51000 (0%)]\tLoss: 1.597781\n",
            "Train Epoch: 21 [25600/51000 (50%)]\tLoss: 1.616771\n",
            "Val set: Epoch: 21, Avg. loss: 1.6087, Accuracy: 7693/9000 (85.48%)\n",
            "Train Epoch: 22 [0/51000 (0%)]\tLoss: 1.602860\n",
            "Train Epoch: 22 [25600/51000 (50%)]\tLoss: 1.585110\n",
            "Val set: Epoch: 22, Avg. loss: 1.6091, Accuracy: 7697/9000 (85.52%)\n",
            "Train Epoch: 23 [0/51000 (0%)]\tLoss: 1.601162\n",
            "Train Epoch: 23 [25600/51000 (50%)]\tLoss: 1.602105\n",
            "Val set: Epoch: 23, Avg. loss: 1.6168, Accuracy: 7617/9000 (84.63%)\n",
            "Train Epoch: 24 [0/51000 (0%)]\tLoss: 1.608246\n",
            "Train Epoch: 24 [25600/51000 (50%)]\tLoss: 1.578520\n",
            "Val set: Epoch: 24, Avg. loss: 1.6062, Accuracy: 7706/9000 (85.62%)\n",
            "Train Epoch: 25 [0/51000 (0%)]\tLoss: 1.604166\n",
            "Train Epoch: 25 [25600/51000 (50%)]\tLoss: 1.591460\n",
            "Val set: Epoch: 25, Avg. loss: 1.6016, Accuracy: 7747/9000 (86.08%)\n",
            "Train Epoch: 26 [0/51000 (0%)]\tLoss: 1.579605\n",
            "Train Epoch: 26 [25600/51000 (50%)]\tLoss: 1.576275\n",
            "Val set: Epoch: 26, Avg. loss: 1.6030, Accuracy: 7734/9000 (85.93%)\n",
            "Train Epoch: 27 [0/51000 (0%)]\tLoss: 1.591879\n",
            "Train Epoch: 27 [25600/51000 (50%)]\tLoss: 1.582623\n",
            "Val set: Epoch: 27, Avg. loss: 1.6046, Accuracy: 7719/9000 (85.77%)\n",
            "Train Epoch: 28 [0/51000 (0%)]\tLoss: 1.580748\n",
            "Train Epoch: 28 [25600/51000 (50%)]\tLoss: 1.579979\n",
            "Val set: Epoch: 28, Avg. loss: 1.6060, Accuracy: 7700/9000 (85.56%)\n",
            "Train Epoch: 29 [0/51000 (0%)]\tLoss: 1.604794\n",
            "Train Epoch: 29 [25600/51000 (50%)]\tLoss: 1.586786\n",
            "Val set: Epoch: 29, Avg. loss: 1.6006, Accuracy: 7755/9000 (86.17%)\n",
            "Train Epoch: 30 [0/51000 (0%)]\tLoss: 1.585561\n",
            "Train Epoch: 30 [25600/51000 (50%)]\tLoss: 1.580848\n",
            "Val set: Epoch: 30, Avg. loss: 1.6017, Accuracy: 7727/9000 (85.86%)\n",
            "Train Epoch: 31 [0/51000 (0%)]\tLoss: 1.590050\n",
            "Train Epoch: 31 [25600/51000 (50%)]\tLoss: 1.593715\n",
            "Val set: Epoch: 31, Avg. loss: 1.5960, Accuracy: 7799/9000 (86.66%)\n",
            "Train Epoch: 32 [0/51000 (0%)]\tLoss: 1.570632\n",
            "Train Epoch: 32 [25600/51000 (50%)]\tLoss: 1.587785\n",
            "Val set: Epoch: 32, Avg. loss: 1.6027, Accuracy: 7729/9000 (85.88%)\n",
            "Train Epoch: 33 [0/51000 (0%)]\tLoss: 1.582074\n",
            "Train Epoch: 33 [25600/51000 (50%)]\tLoss: 1.585654\n",
            "Val set: Epoch: 33, Avg. loss: 1.5936, Accuracy: 7802/9000 (86.69%)\n",
            "Train Epoch: 34 [0/51000 (0%)]\tLoss: 1.562961\n",
            "Train Epoch: 34 [25600/51000 (50%)]\tLoss: 1.584108\n",
            "Val set: Epoch: 34, Avg. loss: 1.6002, Accuracy: 7751/9000 (86.12%)\n",
            "Train Epoch: 35 [0/51000 (0%)]\tLoss: 1.580366\n",
            "Train Epoch: 35 [25600/51000 (50%)]\tLoss: 1.587415\n",
            "Val set: Epoch: 35, Avg. loss: 1.5977, Accuracy: 7764/9000 (86.27%)\n",
            "Train Epoch: 36 [0/51000 (0%)]\tLoss: 1.580341\n",
            "Train Epoch: 36 [25600/51000 (50%)]\tLoss: 1.583115\n",
            "Val set: Epoch: 36, Avg. loss: 1.5986, Accuracy: 7774/9000 (86.38%)\n",
            "Train Epoch: 37 [0/51000 (0%)]\tLoss: 1.559327\n",
            "Train Epoch: 37 [25600/51000 (50%)]\tLoss: 1.555337\n",
            "Val set: Epoch: 37, Avg. loss: 1.5937, Accuracy: 7817/9000 (86.86%)\n",
            "Train Epoch: 38 [0/51000 (0%)]\tLoss: 1.589715\n",
            "Train Epoch: 38 [25600/51000 (50%)]\tLoss: 1.583615\n",
            "Val set: Epoch: 38, Avg. loss: 1.5926, Accuracy: 7831/9000 (87.01%)\n",
            "Train Epoch: 39 [0/51000 (0%)]\tLoss: 1.557768\n",
            "Train Epoch: 39 [25600/51000 (50%)]\tLoss: 1.565041\n",
            "Val set: Epoch: 39, Avg. loss: 1.5925, Accuracy: 7826/9000 (86.96%)\n",
            "Train Epoch: 40 [0/51000 (0%)]\tLoss: 1.554866\n",
            "Train Epoch: 40 [25600/51000 (50%)]\tLoss: 1.554526\n",
            "Val set: Epoch: 40, Avg. loss: 1.5903, Accuracy: 7855/9000 (87.28%)\n"
          ],
          "name": "stdout"
        }
      ]
    },
    {
      "cell_type": "code",
      "metadata": {
        "colab": {
          "base_uri": "https://localhost:8080/",
          "height": 279
        },
        "id": "UoXfVJvjRrdt",
        "outputId": "b6df5405-033c-4d59-f49c-3f0626c69360"
      },
      "source": [
        "fig = plt.figure()\n",
        "plt.plot(epochs, val_accus, color='skyblue',marker='.')\n",
        "# plt.legend(['Validation Accuracy'], loc='lower right')\n",
        "plt.xlabel('epochs')\n",
        "plt.ylabel('Validation Accuracy')\n",
        "plt.grid(linestyle='-.')"
      ],
      "execution_count": 23,
      "outputs": [
        {
          "output_type": "display_data",
          "data": {
            "image/png": "[encoded data removed]",
            "text/plain": [
              "<Figure size 432x288 with 1 Axes>"
            ]
          },
          "metadata": {
            "tags": [],
            "needs_background": "light"
          }
        }
      ]
    },
    {
      "cell_type": "code",
      "metadata": {
        "id": "T5ZcrqE2RuXE"
      },
      "source": [
        "# convert val_accus (tensor) to list, for plotting\n",
        "accu_list = []\n",
        "for accu in val_accus:\n",
        "  accu_list.append(accu.item())\n",
        "\n",
        "df = pd.DataFrame(accu_list) \n",
        "df.to_csv('VAL_ACCU_LENET5.csv')"
      ],
      "execution_count": 24,
      "outputs": []
    },
    {
      "cell_type": "code",
      "metadata": {
        "colab": {
          "base_uri": "https://localhost:8080/",
          "height": 279
        },
        "id": "QcRRKE7MzSEQ",
        "outputId": "5a419210-d31a-4935-e198-3be6a6d2ef4a"
      },
      "source": [
        "fig = plt.figure()\n",
        "plt.plot(train_counter, train_losses, color='skyblue')\n",
        "plt.legend(['Train Loss'], loc='upper right')\n",
        "plt.xlabel('number of training examples seen')\n",
        "plt.ylabel('negative log likelihood loss')\n",
        "plt.grid(linestyle='-.')"
      ],
      "execution_count": null,
      "outputs": [
        {
          "output_type": "display_data",
          "data": {
            "image/png": "[encoded data removed]",
            "text/plain": [
              "<Figure size 432x288 with 1 Axes>"
            ]
          },
          "metadata": {
            "tags": [],
            "needs_background": "light"
          }
        }
      ]
    },
    {
      "cell_type": "markdown",
      "metadata": {
        "id": "ZX0XLJDjkqX_"
      },
      "source": [
        "## Train on ALL data"
      ]
    },
    {
      "cell_type": "code",
      "metadata": {
        "id": "LZmnWuVmmUCU"
      },
      "source": [
        "full_model = Tutor_model().to(DEVICE)\n",
        "optimizer = optim.Adam(full_model.parameters())"
      ],
      "execution_count": null,
      "outputs": []
    },
    {
      "cell_type": "code",
      "metadata": {
        "id": "56cCdP5Ektpl"
      },
      "source": [
        "for epoch in range(1, 40):\n",
        "  train(epoch, full_model, data_loader)\n",
        "  val(full_model, val_loader)"
      ],
      "execution_count": null,
      "outputs": []
    },
    {
      "cell_type": "markdown",
      "metadata": {
        "id": "3yEtGFpwdYx1"
      },
      "source": [
        "## Make predictions on test data"
      ]
    },
    {
      "cell_type": "code",
      "metadata": {
        "id": "16kAGX5Hdcur"
      },
      "source": [
        "def predict(model):\n",
        "  pred_test = []\n",
        "  model.eval()\n",
        "  with torch.no_grad():\n",
        "    for data in test_loader:\n",
        "      data = data.to(DEVICE)\n",
        "      output = model(data)\n",
        "      pred = output.data.max(1, keepdim=True)[1]\n",
        "      for x in pred:\n",
        "        pred_test.append(x.item())\n",
        "  return pred_test"
      ],
      "execution_count": null,
      "outputs": []
    },
    {
      "cell_type": "code",
      "metadata": {
        "colab": {
          "base_uri": "https://localhost:8080/"
        },
        "id": "UWdnJKhigtM7",
        "outputId": "7e51513d-16ad-4e25-f62a-c5aa34d3cbde"
      },
      "source": [
        "pred_test = predict(full_model)\n",
        "print(len(pred_test))\n",
        "df_pred_test = pd.DataFrame({'id': range(10000), 'class': pred_test})\n",
        "df_pred_test.to_csv(CSV_OUTPUT_PATH, index=False)"
      ],
      "execution_count": null,
      "outputs": [
        {
          "output_type": "stream",
          "text": [
            "/usr/local/lib/python3.7/dist-packages/ipykernel_launcher.py:20: UserWarning: Implicit dimension choice for log_softmax has been deprecated. Change the call to include dim=X as an argument.\n"
          ],
          "name": "stderr"
        },
        {
          "output_type": "stream",
          "text": [
            "Length 10000\n"
          ],
          "name": "stdout"
        }
      ]
    }
  ]
}