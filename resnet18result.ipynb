{
  "nbformat": 4,
  "nbformat_minor": 0,
  "metadata": {
    "colab": {
      "name": "resnet18result.ipynb",
      "provenance": [],
      "collapsed_sections": [
        "CFEyrp_mYmIO",
        "DIDJM1PnADIt"
      ],
      "include_colab_link": true
    },
    "kernelspec": {
      "name": "python3",
      "display_name": "Python 3"
    },
    "accelerator": "GPU"
  },
  "cells": [
    {
      "cell_type": "markdown",
      "metadata": {
        "id": "view-in-github",
        "colab_type": "text"
      },
      "source": [
        "<a href=\"https://colab.research.google.com/github/jwang44/upgraded-octo-chainsaw/blob/main/resnet18result.ipynb\" target=\"_parent\"><img src=\"https://colab.research.google.com/assets/colab-badge.svg\" alt=\"Open In Colab\"/></a>"
      ]
    },
    {
      "cell_type": "code",
      "metadata": {
        "colab": {
          "base_uri": "https://localhost:8080/"
        },
        "id": "0dOxAvsuIul3",
        "outputId": "61faea91-34ae-4a63-f25a-5d11f239ec40"
      },
      "source": [
        "from google.colab import drive\n",
        "drive.mount('/content/drive')"
      ],
      "execution_count": 1,
      "outputs": [
        {
          "output_type": "stream",
          "text": [
            "Drive already mounted at /content/drive; to attempt to forcibly remount, call drive.mount(\"/content/drive\", force_remount=True).\n"
          ],
          "name": "stdout"
        }
      ]
    },
    {
      "cell_type": "code",
      "metadata": {
        "id": "mqRELpG1DsZq",
        "colab": {
          "base_uri": "https://localhost:8080/"
        },
        "outputId": "7ea5b10c-4e81-4792-9f33-cd2801b1b344"
      },
      "source": [
        "%cd '/content/drive/MyDrive/551 A3'\n",
        "!ls"
      ],
      "execution_count": 2,
      "outputs": [
        {
          "output_type": "stream",
          "text": [
            "/content/drive/MyDrive/551 A3\n",
            " ExampleSubmissionRandom.csv   Test.pkl\t\t       Train_labels.csv\n",
            " LoadData.ipynb\t\t      'Train_labels (1).csv'   Train.pkl\n"
          ],
          "name": "stdout"
        }
      ]
    },
    {
      "cell_type": "code",
      "metadata": {
        "id": "hgry_nK5mW0a",
        "colab": {
          "base_uri": "https://localhost:8080/"
        },
        "outputId": "146824a6-5d3f-4aee-d417-56c849b531e0"
      },
      "source": [
        "%cd '/content/drive/MyDrive/imageunderstanding'\n",
        "!ls"
      ],
      "execution_count": 3,
      "outputs": [
        {
          "output_type": "stream",
          "text": [
            "[Errno 2] No such file or directory: '/content/drive/MyDrive/imageunderstanding'\n",
            "/content/drive/MyDrive/551 A3\n",
            " ExampleSubmissionRandom.csv   Test.pkl\t\t       Train_labels.csv\n",
            " LoadData.ipynb\t\t      'Train_labels (1).csv'   Train.pkl\n"
          ],
          "name": "stdout"
        }
      ]
    },
    {
      "cell_type": "code",
      "metadata": {
        "id": "T1-Hfwf3lrw4"
      },
      "source": [
        "TRAIN_DATA_PATH = \"Train.pkl\"\n",
        "TRAIN_LABEL_PATH = \"Train_labels.csv\"\n",
        "TEST_DATA_PATH = \"Test.pkl\"\n",
        "CSV_OUTPUT_PATH = \"PRED_RESULT.csv\""
      ],
      "execution_count": 4,
      "outputs": []
    },
    {
      "cell_type": "code",
      "metadata": {
        "id": "7XS2MS7nHzIN"
      },
      "source": [
        "import pickle\n",
        "import matplotlib.pyplot as plt\n",
        "import numpy as np\n",
        "from torchvision import transforms\n",
        "from torch.utils.data import Dataset\n",
        "from torch.utils.data import DataLoader, TensorDataset\n",
        "from PIL import Image\n",
        "import torch\n",
        "import pandas as pd"
      ],
      "execution_count": 5,
      "outputs": []
    },
    {
      "cell_type": "code",
      "metadata": {
        "colab": {
          "base_uri": "https://localhost:8080/"
        },
        "id": "FBXdYCpunCp2",
        "outputId": "f19e7f68-b974-497b-ae30-100fedfa171c"
      },
      "source": [
        "DEVICE = torch.device('cuda' if torch.cuda.is_available() else 'cpu')\n",
        "DEVICE"
      ],
      "execution_count": 6,
      "outputs": [
        {
          "output_type": "execute_result",
          "data": {
            "text/plain": [
              "device(type='cuda')"
            ]
          },
          "metadata": {
            "tags": []
          },
          "execution_count": 6
        }
      ]
    },
    {
      "cell_type": "code",
      "metadata": {
        "id": "zppkOjQwVjy2"
      },
      "source": [
        "torch.manual_seed(0)\n",
        "torch.cuda.manual_seed(0)"
      ],
      "execution_count": 7,
      "outputs": []
    },
    {
      "cell_type": "markdown",
      "metadata": {
        "id": "_2Vm3wY_K3DA"
      },
      "source": [
        "## Dataset Class / Data Loaders"
      ]
    },
    {
      "cell_type": "code",
      "metadata": {
        "id": "bydOoypc5SAM"
      },
      "source": [
        "IMG_SIZE = (224, 224)"
      ],
      "execution_count": 8,
      "outputs": []
    },
    {
      "cell_type": "code",
      "metadata": {
        "id": "RMnXBwXMCqd5"
      },
      "source": [
        "# Transforms are common image transformations. They can be chained together using Compose.\n",
        "# Here we normalize images img=(img-0.5)/0.5\n",
        "img_transform = transforms.Compose([\n",
        "    transforms.ToTensor(),\n",
        "    transforms.Normalize([0.5], [0.5]),\n",
        "    transforms.Resize(IMG_SIZE)  \n",
        "    # transforms.RandomRotation(10, resample=PIL.Image.BILINEAR)\n",
        "    # transforms.ColorJitter(brightness=0, contrast=0, saturation=0, hue=0)\n",
        "    # transforms.RandomAffine(degrees, translate=None, scale=None, shear=None, interpolation=<InterpolationMode.NEAREST: 'nearest'>, fill=0, fillcolor=None, resample=None)\n",
        "])"
      ],
      "execution_count": 9,
      "outputs": []
    },
    {
      "cell_type": "code",
      "metadata": {
        "id": "CY0SndE2qcmb"
      },
      "source": [
        "# img_file: the pickle file containing the images\n",
        "# label_file: the .csv file containing the labels\n",
        "# transform: We use it for normalizing images (see above)\n",
        "# idx: This is a binary vector that is useful for creating training and validation set.\n",
        "# It return only samples where idx is True\n",
        "\n",
        "class MyDataset(Dataset):\n",
        "    def __init__(self, img_file, label_file, transform=None, idx = None):\n",
        "        self.data = pickle.load( open( img_file, 'rb' ), encoding='bytes')\n",
        "        self.targets = np.genfromtxt(label_file, delimiter=',', skip_header=1, usecols=1) #[:,1:]\n",
        "        if idx is not None:\n",
        "          self.targets = self.targets[idx]\n",
        "          self.data = self.data[idx]\n",
        "        self.transform = transform\n",
        "\n",
        "    def __len__(self):\n",
        "        return len(self.targets)\n",
        "\n",
        "    def __getitem__(self, index):\n",
        "        img, target = self.data[index].squeeze(), int(self.targets[index])\n",
        "        img = Image.fromarray((img*255).astype('uint8'), mode='L')\n",
        "        if self.transform is not None:\n",
        "           img = self.transform(img)\n",
        "        return img, target"
      ],
      "execution_count": 10,
      "outputs": []
    },
    {
      "cell_type": "markdown",
      "metadata": {
        "id": "q3b-QvEvqNE3"
      },
      "source": [
        "Get loader for all train data"
      ]
    },
    {
      "cell_type": "code",
      "metadata": {
        "id": "74kV_DwkqizL"
      },
      "source": [
        "BATCH_SIZE = 256\n",
        "dataset = MyDataset(TRAIN_DATA_PATH, TRAIN_LABEL_PATH,transform=img_transform, idx=None)\n",
        "# dataloader for all data\n",
        "data_loader = DataLoader(dataset, batch_size=BATCH_SIZE, shuffle=True)"
      ],
      "execution_count": 11,
      "outputs": []
    },
    {
      "cell_type": "markdown",
      "metadata": {
        "id": "1ZNiErb-pbPt"
      },
      "source": [
        "Get loaders for train/val data"
      ]
    },
    {
      "cell_type": "code",
      "metadata": {
        "id": "05SXSXBRW4DX"
      },
      "source": [
        "VAL_SPLIT = 0.15\n",
        "shuffle = True\n",
        "\n",
        "# Creating indices for train and val split:\n",
        "dataset_size = len(dataset)\n",
        "indices = list(range(dataset_size))\n",
        "split = int(np.floor(VAL_SPLIT * dataset_size))\n",
        "if shuffle:\n",
        "  # set random seed so that we get the same split everytime\n",
        "  np.random.seed(0)\n",
        "  np.random.shuffle(indices)\n",
        "train_indices, val_indices = indices[split:], indices[:split]\n",
        "\n",
        "train_dataset = MyDataset(TRAIN_DATA_PATH, TRAIN_LABEL_PATH,transform=img_transform, idx=train_indices)\n",
        "val_dataset = MyDataset(TRAIN_DATA_PATH, TRAIN_LABEL_PATH,transform=img_transform, idx=val_indices)\n",
        "\n",
        "# separate loaders for train and val data\n",
        "train_loader = DataLoader(train_dataset, batch_size=BATCH_SIZE, shuffle=False)\n",
        "val_loader = DataLoader(val_dataset, batch_size=BATCH_SIZE, shuffle=False)"
      ],
      "execution_count": 12,
      "outputs": []
    },
    {
      "cell_type": "markdown",
      "metadata": {
        "id": "CFEyrp_mYmIO"
      },
      "source": [
        "## Test Dataset / Loader"
      ]
    },
    {
      "cell_type": "code",
      "metadata": {
        "id": "x1d3LIGlYrDK"
      },
      "source": [
        "class MyTestSet(Dataset):\n",
        "  def __init__(self, img_file, transform=None):\n",
        "    self.data = pickle.load( open(img_file, 'rb' ), encoding='bytes')\n",
        "    self.transform = transform\n",
        "\n",
        "  def __len__(self):\n",
        "    # return self.data.shape[0]\n",
        "    return len(self.data)\n",
        "\n",
        "  def __getitem__(self, index):\n",
        "    img = self.data[index].squeeze()\n",
        "    img = Image.fromarray((img*255).astype('uint8'), mode='L')\n",
        "    if self.transform is not None:\n",
        "      img = self.transform(img)\n",
        "    return img"
      ],
      "execution_count": 13,
      "outputs": []
    },
    {
      "cell_type": "code",
      "metadata": {
        "id": "fk5z7LRha2Uc"
      },
      "source": [
        "test_dataset = MyTestSet(TEST_DATA_PATH,transform=img_transform)\n",
        "# dataloader for test data\n",
        "test_loader = DataLoader(test_dataset, batch_size=BATCH_SIZE, shuffle=False)"
      ],
      "execution_count": 14,
      "outputs": []
    },
    {
      "cell_type": "markdown",
      "metadata": {
        "id": "wdvC0-OfRnQV"
      },
      "source": [
        "## VGG11 model"
      ]
    },
    {
      "cell_type": "code",
      "metadata": {
        "id": "pFVSRS6gs8t7"
      },
      "source": [
        "import torch.nn as nn\n",
        "import torch.nn.functional as F\n",
        "import torch.optim as optim\n",
        "import torchvision.models as models"
      ],
      "execution_count": 15,
      "outputs": []
    },
    {
      "cell_type": "code",
      "metadata": {
        "id": "Vx68ZfoSGgZy"
      },
      "source": [
        "# model = models.vgg11(pretrained=False)\n",
        "# model.features[0] = nn.Conv2d(1, 64, kernel_size=(3, 3), stride=(1, 1), padding=(1, 1))\n",
        "# model.classifier[6] = nn.Linear(4096, 10)\n",
        "# model = model.to(DEVICE)"
      ],
      "execution_count": 16,
      "outputs": []
    },
    {
      "cell_type": "code",
      "metadata": {
        "id": "aTDluOmBMzfY"
      },
      "source": [
        "model = models.resnet18(pretrained=False)\n",
        "model.conv1 = nn.Conv2d(1, 64, kernel_size=(7, 7), stride=(2, 2), padding=(3, 3), bias=False)\n",
        "model = model.to(DEVICE)"
      ],
      "execution_count": 17,
      "outputs": []
    },
    {
      "cell_type": "markdown",
      "metadata": {
        "id": "BeVwuJHatdb7"
      },
      "source": [
        "Let's train these. But first, create the network, the optimizer and some lists for logging the training process"
      ]
    },
    {
      "cell_type": "code",
      "metadata": {
        "id": "fJqfMWSFIztX"
      },
      "source": [
        "# optimizer = optim.SGD(tutor_model.parameters(), lr=0.01, momentum=0.5)\n",
        "# optimizer = optim.SGD(tutor_model.parameters(), lr=1, momentum=0.5)\n",
        "# optimizer = optim.Adam(model.parameters())\n",
        "optimizer = optim.RMSprop(model.parameters())\n",
        "\n",
        "train_losses = []\n",
        "train_counter = []\n",
        "val_losses = []\n",
        "val_counter = [i*len(train_loader.dataset) for i in range(3)]"
      ],
      "execution_count": 18,
      "outputs": []
    },
    {
      "cell_type": "markdown",
      "metadata": {
        "id": "Ck4yNKs46Q1Y"
      },
      "source": [
        "Train and test function, used many times"
      ]
    },
    {
      "cell_type": "code",
      "metadata": {
        "id": "0Ps3KWsvtlSS"
      },
      "source": [
        "def train(epoch, model, loader):\n",
        "  model.train()\n",
        "  for batch_idx, (data, target) in enumerate(loader):\n",
        "    optimizer.zero_grad()\n",
        "    data = data.to(DEVICE)\n",
        "    # print(data.shape)\n",
        "    target = target.to(DEVICE)\n",
        "    output = model(data)\n",
        "    # print(output.shape)\n",
        "    # target = torch.argmax(target, dim=1) # convert from 1-hot to 1D\n",
        "    loss = F.cross_entropy(output, target) #negative log likelihood loss\n",
        "    loss.backward()\n",
        "    optimizer.step()\n",
        "    if batch_idx % 20 == 0:\n",
        "      print('Train Epoch: {} [{}/{} ({:.0f}%)]\\tLoss: {:.6f}'.format(\n",
        "        epoch, batch_idx * len(data), len(loader.dataset),\n",
        "        100. * batch_idx / len(loader), loss.item()))\n",
        "      train_losses.append(loss.item())\n",
        "      train_counter.append(\n",
        "        (batch_idx*64) + ((epoch-1)*len(loader.dataset)))\n",
        "      torch.save(model.state_dict(), '/model.pth')\n",
        "      torch.save(optimizer.state_dict(), '/optimizer.pth')\n",
        "\n",
        "def val(model, loader):\n",
        "  model.eval()\n",
        "  val_loss = 0\n",
        "  correct = 0\n",
        "  with torch.no_grad():\n",
        "    for data, target in loader:\n",
        "      data = data.to(DEVICE)\n",
        "      target = target.to(DEVICE)\n",
        "      output = model(data)\n",
        "      val_loss += F.cross_entropy(output, target, size_average=False).item()\n",
        "      pred = output.data.max(1, keepdim=True)[1]\n",
        "      correct += pred.eq(target.data.view_as(pred)).sum()\n",
        "  val_loss /= len(loader.dataset)\n",
        "  val_losses.append(val_loss)\n",
        "  print('Test set: Epoch: {}, Avg. loss: {:.4f}, Accuracy: {}/{} ({:.0f}%)'.format(\n",
        "    epoch, val_loss, correct, len(loader.dataset),\n",
        "    100. * correct / len(loader.dataset)))"
      ],
      "execution_count": 19,
      "outputs": []
    },
    {
      "cell_type": "code",
      "metadata": {
        "colab": {
          "base_uri": "https://localhost:8080/"
        },
        "id": "3gjkriuv8bVO",
        "outputId": "70c9ac1a-d545-4ede-ceef-888679ce923d"
      },
      "source": [
        "len(data_loader.dataset)"
      ],
      "execution_count": 20,
      "outputs": [
        {
          "output_type": "execute_result",
          "data": {
            "text/plain": [
              "60000"
            ]
          },
          "metadata": {
            "tags": []
          },
          "execution_count": 20
        }
      ]
    },
    {
      "cell_type": "code",
      "metadata": {
        "colab": {
          "base_uri": "https://localhost:8080/"
        },
        "id": "1Gl0IR_n8l2X",
        "outputId": "6162b3d4-fda3-4a2d-9ed7-79a6a81720a3"
      },
      "source": [
        "len(train_loader.dataset)"
      ],
      "execution_count": 21,
      "outputs": [
        {
          "output_type": "execute_result",
          "data": {
            "text/plain": [
              "51000"
            ]
          },
          "metadata": {
            "tags": []
          },
          "execution_count": 21
        }
      ]
    },
    {
      "cell_type": "markdown",
      "metadata": {
        "id": "BaaA04yUtj1T"
      },
      "source": [
        "Train the network"
      ]
    },
    {
      "cell_type": "code",
      "metadata": {
        "id": "CCgK_yOvtrjz",
        "colab": {
          "base_uri": "https://localhost:8080/"
        },
        "outputId": "ddc4cdda-608f-4f55-b000-f9b71f8527ad"
      },
      "source": [
        "for epoch in range(1, 11):\n",
        "  train(epoch, model, train_loader)\n",
        "  val(model, val_loader)"
      ],
      "execution_count": 22,
      "outputs": [
        {
          "output_type": "stream",
          "text": [
            "Train Epoch: 1 [0/51000 (0%)]\tLoss: 6.939177\n",
            "Train Epoch: 1 [5120/51000 (10%)]\tLoss: 2.335359\n",
            "Train Epoch: 1 [10240/51000 (20%)]\tLoss: 2.324701\n",
            "Train Epoch: 1 [15360/51000 (30%)]\tLoss: 2.310109\n",
            "Train Epoch: 1 [20480/51000 (40%)]\tLoss: 2.308717\n",
            "Train Epoch: 1 [25600/51000 (50%)]\tLoss: 2.319846\n",
            "Train Epoch: 1 [30720/51000 (60%)]\tLoss: 2.263237\n",
            "Train Epoch: 1 [35840/51000 (70%)]\tLoss: 2.106173\n",
            "Train Epoch: 1 [40960/51000 (80%)]\tLoss: 2.164541\n",
            "Train Epoch: 1 [46080/51000 (90%)]\tLoss: 1.668436\n"
          ],
          "name": "stdout"
        },
        {
          "output_type": "stream",
          "text": [
            "/usr/local/lib/python3.7/dist-packages/torch/nn/_reduction.py:42: UserWarning: size_average and reduce args will be deprecated, please use reduction='sum' instead.\n",
            "  warnings.warn(warning.format(ret))\n"
          ],
          "name": "stderr"
        },
        {
          "output_type": "stream",
          "text": [
            "Test set: Epoch: 1, Avg. loss: 4.1063, Accuracy: 1054/9000 (12%)\n",
            "Train Epoch: 2 [0/51000 (0%)]\tLoss: 2.335454\n",
            "Train Epoch: 2 [5120/51000 (10%)]\tLoss: 1.408960\n",
            "Train Epoch: 2 [10240/51000 (20%)]\tLoss: 1.309521\n",
            "Train Epoch: 2 [15360/51000 (30%)]\tLoss: 0.919402\n",
            "Train Epoch: 2 [20480/51000 (40%)]\tLoss: 0.713506\n",
            "Train Epoch: 2 [25600/51000 (50%)]\tLoss: 0.523784\n",
            "Train Epoch: 2 [30720/51000 (60%)]\tLoss: 0.536613\n",
            "Train Epoch: 2 [35840/51000 (70%)]\tLoss: 0.324499\n",
            "Train Epoch: 2 [40960/51000 (80%)]\tLoss: 0.334528\n",
            "Train Epoch: 2 [46080/51000 (90%)]\tLoss: 0.237457\n",
            "Test set: Epoch: 2, Avg. loss: 1.5546, Accuracy: 5858/9000 (65%)\n",
            "Train Epoch: 3 [0/51000 (0%)]\tLoss: 0.595968\n",
            "Train Epoch: 3 [5120/51000 (10%)]\tLoss: 0.191579\n",
            "Train Epoch: 3 [10240/51000 (20%)]\tLoss: 0.245297\n",
            "Train Epoch: 3 [15360/51000 (30%)]\tLoss: 0.206105\n",
            "Train Epoch: 3 [20480/51000 (40%)]\tLoss: 0.247322\n",
            "Train Epoch: 3 [25600/51000 (50%)]\tLoss: 0.293863\n",
            "Train Epoch: 3 [30720/51000 (60%)]\tLoss: 0.265514\n",
            "Train Epoch: 3 [35840/51000 (70%)]\tLoss: 0.162971\n",
            "Train Epoch: 3 [40960/51000 (80%)]\tLoss: 0.125658\n",
            "Train Epoch: 3 [46080/51000 (90%)]\tLoss: 0.121876\n",
            "Test set: Epoch: 3, Avg. loss: 1.3117, Accuracy: 5904/9000 (66%)\n",
            "Train Epoch: 4 [0/51000 (0%)]\tLoss: 0.517827\n",
            "Train Epoch: 4 [5120/51000 (10%)]\tLoss: 0.118261\n",
            "Train Epoch: 4 [10240/51000 (20%)]\tLoss: 0.140436\n",
            "Train Epoch: 4 [15360/51000 (30%)]\tLoss: 0.174487\n",
            "Train Epoch: 4 [20480/51000 (40%)]\tLoss: 0.196746\n",
            "Train Epoch: 4 [25600/51000 (50%)]\tLoss: 0.109823\n",
            "Train Epoch: 4 [30720/51000 (60%)]\tLoss: 0.166285\n",
            "Train Epoch: 4 [35840/51000 (70%)]\tLoss: 0.139602\n",
            "Train Epoch: 4 [40960/51000 (80%)]\tLoss: 0.128750\n",
            "Train Epoch: 4 [46080/51000 (90%)]\tLoss: 0.065189\n",
            "Test set: Epoch: 4, Avg. loss: 2.8453, Accuracy: 5425/9000 (60%)\n",
            "Train Epoch: 5 [0/51000 (0%)]\tLoss: 0.462786\n",
            "Train Epoch: 5 [5120/51000 (10%)]\tLoss: 0.080011\n",
            "Train Epoch: 5 [10240/51000 (20%)]\tLoss: 0.139639\n",
            "Train Epoch: 5 [15360/51000 (30%)]\tLoss: 0.131748\n",
            "Train Epoch: 5 [20480/51000 (40%)]\tLoss: 0.089841\n",
            "Train Epoch: 5 [25600/51000 (50%)]\tLoss: 0.107325\n",
            "Train Epoch: 5 [30720/51000 (60%)]\tLoss: 0.093478\n",
            "Train Epoch: 5 [35840/51000 (70%)]\tLoss: 0.077330\n",
            "Train Epoch: 5 [40960/51000 (80%)]\tLoss: 0.120400\n",
            "Train Epoch: 5 [46080/51000 (90%)]\tLoss: 0.041896\n",
            "Test set: Epoch: 5, Avg. loss: 0.1491, Accuracy: 8613/9000 (96%)\n",
            "Train Epoch: 6 [0/51000 (0%)]\tLoss: 0.075704\n",
            "Train Epoch: 6 [5120/51000 (10%)]\tLoss: 0.073266\n",
            "Train Epoch: 6 [10240/51000 (20%)]\tLoss: 0.225757\n",
            "Train Epoch: 6 [15360/51000 (30%)]\tLoss: 0.074732\n",
            "Train Epoch: 6 [20480/51000 (40%)]\tLoss: 0.076131\n",
            "Train Epoch: 6 [25600/51000 (50%)]\tLoss: 0.065200\n",
            "Train Epoch: 6 [30720/51000 (60%)]\tLoss: 0.074352\n",
            "Train Epoch: 6 [35840/51000 (70%)]\tLoss: 0.050464\n",
            "Train Epoch: 6 [40960/51000 (80%)]\tLoss: 0.043710\n",
            "Train Epoch: 6 [46080/51000 (90%)]\tLoss: 0.034876\n",
            "Test set: Epoch: 6, Avg. loss: 0.2353, Accuracy: 8437/9000 (94%)\n",
            "Train Epoch: 7 [0/51000 (0%)]\tLoss: 0.077547\n",
            "Train Epoch: 7 [5120/51000 (10%)]\tLoss: 0.038512\n",
            "Train Epoch: 7 [10240/51000 (20%)]\tLoss: 0.093184\n",
            "Train Epoch: 7 [15360/51000 (30%)]\tLoss: 0.070786\n",
            "Train Epoch: 7 [20480/51000 (40%)]\tLoss: 0.040800\n",
            "Train Epoch: 7 [25600/51000 (50%)]\tLoss: 0.060470\n",
            "Train Epoch: 7 [30720/51000 (60%)]\tLoss: 0.066202\n",
            "Train Epoch: 7 [35840/51000 (70%)]\tLoss: 0.043203\n",
            "Train Epoch: 7 [40960/51000 (80%)]\tLoss: 0.029432\n",
            "Train Epoch: 7 [46080/51000 (90%)]\tLoss: 0.033318\n",
            "Test set: Epoch: 7, Avg. loss: 0.1345, Accuracy: 8702/9000 (97%)\n",
            "Train Epoch: 8 [0/51000 (0%)]\tLoss: 0.026211\n",
            "Train Epoch: 8 [5120/51000 (10%)]\tLoss: 0.053026\n",
            "Train Epoch: 8 [10240/51000 (20%)]\tLoss: 0.053709\n",
            "Train Epoch: 8 [15360/51000 (30%)]\tLoss: 0.034193\n",
            "Train Epoch: 8 [20480/51000 (40%)]\tLoss: 0.085716\n",
            "Train Epoch: 8 [25600/51000 (50%)]\tLoss: 0.064548\n",
            "Train Epoch: 8 [30720/51000 (60%)]\tLoss: 0.076916\n",
            "Train Epoch: 8 [35840/51000 (70%)]\tLoss: 0.019967\n",
            "Train Epoch: 8 [40960/51000 (80%)]\tLoss: 0.048122\n",
            "Train Epoch: 8 [46080/51000 (90%)]\tLoss: 0.034704\n",
            "Test set: Epoch: 8, Avg. loss: 0.5927, Accuracy: 7726/9000 (86%)\n",
            "Train Epoch: 9 [0/51000 (0%)]\tLoss: 0.179813\n",
            "Train Epoch: 9 [5120/51000 (10%)]\tLoss: 0.116130\n",
            "Train Epoch: 9 [10240/51000 (20%)]\tLoss: 0.063699\n",
            "Train Epoch: 9 [15360/51000 (30%)]\tLoss: 0.082291\n",
            "Train Epoch: 9 [20480/51000 (40%)]\tLoss: 0.012768\n",
            "Train Epoch: 9 [25600/51000 (50%)]\tLoss: 0.016027\n",
            "Train Epoch: 9 [30720/51000 (60%)]\tLoss: 0.037331\n",
            "Train Epoch: 9 [35840/51000 (70%)]\tLoss: 0.060568\n",
            "Train Epoch: 9 [40960/51000 (80%)]\tLoss: 0.004835\n",
            "Train Epoch: 9 [46080/51000 (90%)]\tLoss: 0.016101\n",
            "Test set: Epoch: 9, Avg. loss: 0.1820, Accuracy: 8631/9000 (96%)\n",
            "Train Epoch: 10 [0/51000 (0%)]\tLoss: 0.058417\n",
            "Train Epoch: 10 [5120/51000 (10%)]\tLoss: 0.053380\n",
            "Train Epoch: 10 [10240/51000 (20%)]\tLoss: 0.015651\n",
            "Train Epoch: 10 [15360/51000 (30%)]\tLoss: 0.013483\n",
            "Train Epoch: 10 [20480/51000 (40%)]\tLoss: 0.014916\n",
            "Train Epoch: 10 [25600/51000 (50%)]\tLoss: 0.008634\n",
            "Train Epoch: 10 [30720/51000 (60%)]\tLoss: 0.029294\n",
            "Train Epoch: 10 [35840/51000 (70%)]\tLoss: 0.031409\n",
            "Train Epoch: 10 [40960/51000 (80%)]\tLoss: 0.022505\n",
            "Train Epoch: 10 [46080/51000 (90%)]\tLoss: 0.034077\n",
            "Test set: Epoch: 10, Avg. loss: 0.1268, Accuracy: 8710/9000 (97%)\n"
          ],
          "name": "stdout"
        }
      ]
    },
    {
      "cell_type": "code",
      "metadata": {
        "id": "QcRRKE7MzSEQ",
        "colab": {
          "base_uri": "https://localhost:8080/",
          "height": 296
        },
        "outputId": "c0bf745a-32b9-4286-924c-cd2f5f1f1b68"
      },
      "source": [
        "fig = plt.figure()\n",
        "plt.plot(train_counter, train_losses, color='blue')\n",
        "plt.legend(['Train Loss'], loc='upper right')\n",
        "plt.xlabel('number of training examples seen')\n",
        "plt.ylabel('negative log likelihood loss')"
      ],
      "execution_count": 23,
      "outputs": [
        {
          "output_type": "execute_result",
          "data": {
            "text/plain": [
              "Text(0, 0.5, 'negative log likelihood loss')"
            ]
          },
          "metadata": {
            "tags": []
          },
          "execution_count": 23
        },
        {
          "output_type": "display_data",
          "data": {
            "image/png": "[encoded data removed]",
            "text/plain": [
              "<Figure size 432x288 with 1 Axes>"
            ]
          },
          "metadata": {
            "tags": [],
            "needs_background": "light"
          }
        }
      ]
    },
    {
      "cell_type": "markdown",
      "metadata": {
        "id": "ZX0XLJDjkqX_"
      },
      "source": [
        "## Train on ALL data"
      ]
    },
    {
      "cell_type": "code",
      "metadata": {
        "id": "LZmnWuVmmUCU",
        "colab": {
          "base_uri": "https://localhost:8080/",
          "height": 178
        },
        "outputId": "14474eea-d753-4938-e914-a45d346cf15b"
      },
      "source": [
        "full_model = Tutor_model().to(DEVICE)\n",
        "optimizer = optim.Adam(full_model.parameters())"
      ],
      "execution_count": 24,
      "outputs": [
        {
          "output_type": "error",
          "ename": "NameError",
          "evalue": "ignored",
          "traceback": [
            "\u001b[0;31m---------------------------------------------------------------------------\u001b[0m",
            "\u001b[0;31mNameError\u001b[0m                                 Traceback (most recent call last)",
            "\u001b[0;32m<ipython-input-24-ff53b232a8ae>\u001b[0m in \u001b[0;36m<module>\u001b[0;34m()\u001b[0m\n\u001b[0;32m----> 1\u001b[0;31m \u001b[0mfull_model\u001b[0m \u001b[0;34m=\u001b[0m \u001b[0mTutor_model\u001b[0m\u001b[0;34m(\u001b[0m\u001b[0;34m)\u001b[0m\u001b[0;34m.\u001b[0m\u001b[0mto\u001b[0m\u001b[0;34m(\u001b[0m\u001b[0mDEVICE\u001b[0m\u001b[0;34m)\u001b[0m\u001b[0;34m\u001b[0m\u001b[0;34m\u001b[0m\u001b[0m\n\u001b[0m\u001b[1;32m      2\u001b[0m \u001b[0moptimizer\u001b[0m \u001b[0;34m=\u001b[0m \u001b[0moptim\u001b[0m\u001b[0;34m.\u001b[0m\u001b[0mAdam\u001b[0m\u001b[0;34m(\u001b[0m\u001b[0mfull_model\u001b[0m\u001b[0;34m.\u001b[0m\u001b[0mparameters\u001b[0m\u001b[0;34m(\u001b[0m\u001b[0;34m)\u001b[0m\u001b[0;34m)\u001b[0m\u001b[0;34m\u001b[0m\u001b[0;34m\u001b[0m\u001b[0m\n",
            "\u001b[0;31mNameError\u001b[0m: name 'Tutor_model' is not defined"
          ]
        }
      ]
    },
    {
      "cell_type": "code",
      "metadata": {
        "id": "56cCdP5Ektpl"
      },
      "source": [
        "for epoch in range(1, 40):\n",
        "  train(epoch, full_model, data_loader)\n",
        "  val(full_model, val_loader)"
      ],
      "execution_count": null,
      "outputs": []
    },
    {
      "cell_type": "markdown",
      "metadata": {
        "id": "3yEtGFpwdYx1"
      },
      "source": [
        "## Make predictions on test data"
      ]
    },
    {
      "cell_type": "code",
      "metadata": {
        "id": "16kAGX5Hdcur"
      },
      "source": [
        "def predict(model):\n",
        "  pred_test = []\n",
        "  model.eval()\n",
        "  with torch.no_grad():\n",
        "    for data in test_loader:\n",
        "      data = data.to(DEVICE)\n",
        "      output = model(data)\n",
        "      pred = output.data.max(1, keepdim=True)[1]\n",
        "      for x in pred:\n",
        "        pred_test.append(x.item())\n",
        "  return pred_test"
      ],
      "execution_count": null,
      "outputs": []
    },
    {
      "cell_type": "code",
      "metadata": {
        "id": "UWdnJKhigtM7"
      },
      "source": [
        "pred_test = predict(full_model)\n",
        "print(len(pred_test))\n",
        "df_pred_test = pd.DataFrame({'id': range(10000), 'class': pred_test})\n",
        "df_pred_test.to_csv(CSV_OUTPUT_PATH, index=False)"
      ],
      "execution_count": null,
      "outputs": []
    },
    {
      "cell_type": "markdown",
      "metadata": {
        "id": "K7VpSLb22POJ"
      },
      "source": [
        "## Manually check prediction results"
      ]
    },
    {
      "cell_type": "code",
      "metadata": {
        "id": "8Gp4fBi5iipd"
      },
      "source": [
        "# Read many TEST data and display them, compare with our prediction in CSV\n",
        "test_loader = DataLoader(test_dataset, batch_size=BATCH_SIZE, shuffle=False)\n",
        "imgs = (next(iter(test_loader)))\n",
        "print(imgs.shape)\n",
        "# imgs: [256, 1, 28, 28]\n",
        "imgs = np.squeeze(imgs)\n",
        "# imgs: [256, 28, 28]\n",
        "print(imgs.shape)\n",
        "\n",
        "for i in range(20):\n",
        "  plt.subplot(4,5,i+1)\n",
        "  plt.tight_layout()\n",
        "  plt.imshow(imgs[i], cmap='gray', interpolation='bicubic')\n",
        "  plt.xticks([])\n",
        "  plt.yticks([])"
      ],
      "execution_count": null,
      "outputs": []
    },
    {
      "cell_type": "markdown",
      "metadata": {
        "id": "DIDJM1PnADIt"
      },
      "source": [
        "## Deeper（doesn't work）"
      ]
    },
    {
      "cell_type": "code",
      "metadata": {
        "id": "Vcqne0XZLcYf"
      },
      "source": [
        "import torch.nn as nn\n",
        "import torch.nn.functional as F\n",
        "import torch.optim as optim"
      ],
      "execution_count": null,
      "outputs": []
    },
    {
      "cell_type": "code",
      "metadata": {
        "id": "tdDmYca6CmXP"
      },
      "source": [
        "device = torch.device('cuda' if torch.cuda.is_available() else 'cpu')"
      ],
      "execution_count": null,
      "outputs": []
    },
    {
      "cell_type": "code",
      "metadata": {
        "id": "8MWRg9T5AFNR"
      },
      "source": [
        "class MyModel(nn.Module):\n",
        "  def __init__(self):\n",
        "    super(MyModel, self).__init__()\n",
        "    \n",
        "    self.model = nn.Sequential(\n",
        "      nn.Conv2d(1, 16, kernel_size=3), nn.ReLU(), # 26*26\n",
        "      nn.Conv2d(16, 16, kernel_size=3), nn.ReLU(), # 24*24\n",
        "      # nn.MaxPool2d(2,2), # 13*13\n",
        "\n",
        "      nn.Conv2d(16, 32, kernel_size=3), nn.ReLU(),  # 22*22\n",
        "      nn.Conv2d(32, 32, kernel_size=3), nn.ReLU(),  # 20*20\n",
        "      # nn.MaxPool2d(2,2),  # 6*6\n",
        "\n",
        "      nn.Conv2d(32, 64, kernel_size=3), nn.ReLU(),  # 18*18\n",
        "      nn.Conv2d(64, 64, kernel_size=3), nn.ReLU(),  # 16*16\n",
        "      # nn.MaxPool2d(2,2),  # 2*2\n",
        "\n",
        "      nn.Conv2d(64, 128, kernel_size=3), nn.ReLU(), # 14*14\n",
        "      nn.Conv2d(128, 128, kernel_size=3), nn.ReLU(),  # 12*12\n",
        "      # nn.MaxPool2d(2,2),\n",
        "\n",
        "      nn.Conv2d(128, 256, kernel_size=3), nn.ReLU(),  # 10*10\n",
        "      nn.Conv2d(256, 256, kernel_size=3), nn.ReLU(),  # 8*8\n",
        "      nn.MaxPool2d(2,2),  # 4*4\n",
        "\n",
        "    )\n",
        "    \n",
        "    self.classifier = nn.Sequential(\n",
        "      nn.Flatten(),\n",
        "      nn.Dropout(0.25),\n",
        "      # nn.Linear(4096, 256),\n",
        "      nn.Linear(4096, 256),\n",
        "      nn.ReLU(),\n",
        "\n",
        "      nn.Dropout(0.5),\n",
        "      nn.Linear(256, 10),\n",
        "      nn.Softmax(dim=1)\n",
        "    )\n",
        "    \n",
        "  def forward(self, x):\n",
        "    f = self.model(x)\n",
        "    y_pred = self.classifier(f)\n",
        "    return y_pred\n",
        "\n",
        "network = MyModel()\n",
        "# summary(model, (3,256,256))"
      ],
      "execution_count": null,
      "outputs": []
    },
    {
      "cell_type": "code",
      "metadata": {
        "id": "7daPmiD_EJ53"
      },
      "source": [
        "optimizer = optim.Adam(network.parameters())\n",
        "\n",
        "train_losses = []\n",
        "train_counter = []\n",
        "test_losses = []\n",
        "test_counter = [i*len(train_loader.dataset) for i in range(3)]"
      ],
      "execution_count": null,
      "outputs": []
    },
    {
      "cell_type": "code",
      "metadata": {
        "id": "tv66liBRDHL9"
      },
      "source": [
        "def train(epoch):\n",
        "  network.train()\n",
        "  for batch_idx, (data, target) in enumerate(train_loader):\n",
        "    optimizer.zero_grad()\n",
        "    output = network(data)\n",
        "\n",
        "    loss = F.nll_loss(output, target) #negative log likelihood loss\n",
        "    loss.backward()\n",
        "    optimizer.step()\n",
        "    if batch_idx % 20 == 0:\n",
        "      print('Train Epoch: {} [{}/{} ({:.0f}%)]\\tLoss: {:.6f}'.format(\n",
        "        epoch, batch_idx * len(data), len(train_loader.dataset),\n",
        "        100. * batch_idx / len(train_loader), loss.item()))\n",
        "      train_losses.append(loss.item())\n",
        "      train_counter.append(\n",
        "        (batch_idx*64) + ((epoch-1)*len(train_loader.dataset)))\n",
        "\n",
        "def test():\n",
        "  network.eval()\n",
        "  test_loss = 0\n",
        "  correct = 0\n",
        "  with torch.no_grad():\n",
        "    for data, target in val_loader:\n",
        "      output = network(data)\n",
        "      # this line is added to convert labels to LongTensor\n",
        "      # target = target.type(torch.LongTensor)\n",
        "      # target = torch.argmax(target, dim=1) # convert from 1-hot to 1D\n",
        "\n",
        "      test_loss += F.nll_loss(output, target, size_average=False).item()\n",
        "      pred = output.data.max(1, keepdim=True)[1]\n",
        "      correct += pred.eq(target.data.view_as(pred)).sum()\n",
        "  test_loss /= len(val_loader.dataset)\n",
        "  test_losses.append(test_loss)\n",
        "  print('\\nTest set: Avg. loss: {:.4f}, Accuracy: {}/{} ({:.0f}%)\\n'.format(\n",
        "    test_loss, correct, len(val_loader.dataset),\n",
        "    100. * correct / len(val_loader.dataset)))"
      ],
      "execution_count": null,
      "outputs": []
    },
    {
      "cell_type": "code",
      "metadata": {
        "id": "30Rz0VM-FKN5"
      },
      "source": [
        "for epoch in range(1, 4):\n",
        "  train(epoch)\n",
        "  test()"
      ],
      "execution_count": null,
      "outputs": []
    },
    {
      "cell_type": "code",
      "metadata": {
        "id": "fJ1U0lhpHojX"
      },
      "source": [
        "print(torch.cuda.is_available())"
      ],
      "execution_count": null,
      "outputs": []
    },
    {
      "cell_type": "code",
      "metadata": {
        "id": "3714Y8uHiYbV"
      },
      "source": [
        "class VGG11(nn.Module):\n",
        "    def __init__(self, kernel_size=3):\n",
        "        super(VGG11, self).__init__()\n",
        "        # input 1*28*28\n",
        "        self.conv1 = nn.Conv2d(1, 64, kernel_size,padding=1)\n",
        "        # 64*(28-kernel_size+1)*(28-kernel_size+1)\n",
        "        self.conv2 = nn.Conv2d(64, 128, kernel_size,padding=1)\n",
        "        self.conv3 = nn.Conv2d(128, 256, kernel_size,padding=1)\n",
        "        self.conv4 = nn.Conv2d(256, 256, kernel_size,padding=1)\n",
        "        self.conv5 = nn.Conv2d(256, 512, kernel_size,padding=1)\n",
        "        self.conv6 = nn.Conv2d(512, 512, kernel_size,padding=1)\n",
        "        self.fc1 = nn.Linear(512*7*7, 4096)\n",
        "        self.fc2 = nn.Linear(4096, 4096)\n",
        "        self.fc3 = nn.Linear(4096, 1000)\n",
        "        self.fc4 = nn.Linear(1000, 10)\n",
        "\n",
        "    def forward(self, x):\n",
        "        x = F.max_pool2d(F.relu(self.conv1(x)), 2) # 64 filters + maxpooling => 64*112*112\n",
        "        x = F.max_pool2d(F.relu(self.conv2(x)), 2) # 128 filters + maxpooling => 128*56*56\n",
        "        x = F.relu(self.conv3(x))                  # 256 filters => 256*56*56 \n",
        "        x = F.max_pool2d(F.relu(self.conv4(x)), 2) # 256 filters + maxpooling => 256*28*28\n",
        "        x = F.relu(self.conv5(x))                  # 512 filters => 512*28*28\n",
        "        x = F.max_pool2d(F.relu(self.conv6(x)), 2) # 512 filters + maxpooling => 512*14*14\n",
        "        x = F.relu(self.conv6(x))                  # 512 filters => 512*14*14\n",
        "        x = F.max_pool2d(F.relu(self.conv6(x)), 2) # 512 filters + maxpooling => 512*7*7\n",
        "        x = x.view(-1, 512*7*7) # 512*7*7\n",
        "        x = F.relu(self.fc1(x)) # FC with 4096 nodes\n",
        "        x = F.relu(self.fc2(x)) # FC with 4096 nodes\n",
        "        x = F.relu(self.fc3(x)) # FC with 1000 nodes\n",
        "        x = self.fc4(x) # output layer\n",
        "        return F.log_softmax(x)"
      ],
      "execution_count": null,
      "outputs": []
    }
  ]
}