{
  "nbformat": 4,
  "nbformat_minor": 0,
  "metadata": {
    "accelerator": "GPU",
    "colab": {
      "name": "ConvNet.ipynb",
      "provenance": [],
      "collapsed_sections": [
        "CFEyrp_mYmIO",
        "ZX0XLJDjkqX_",
        "3yEtGFpwdYx1",
        "K7VpSLb22POJ"
      ],
      "include_colab_link": true
    },
    "kernelspec": {
      "display_name": "Python 3",
      "name": "python3"
    }
  },
  "cells": [
    {
      "cell_type": "markdown",
      "metadata": {
        "id": "view-in-github",
        "colab_type": "text"
      },
      "source": [
        "<a href=\"https://colab.research.google.com/github/jwang44/upgraded-octo-chainsaw/blob/main/ConvNet_ResNet34.ipynb\" target=\"_parent\"><img src=\"https://colab.research.google.com/assets/colab-badge.svg\" alt=\"Open In Colab\"/></a>"
      ]
    },
    {
      "cell_type": "code",
      "metadata": {
        "colab": {
          "base_uri": "https://localhost:8080/"
        },
        "id": "0dOxAvsuIul3",
        "outputId": "2ed77f85-0e1d-4564-b787-708883c40065"
      },
      "source": [
        "from google.colab import drive\n",
        "drive.mount('/content/drive')"
      ],
      "execution_count": 1,
      "outputs": [
        {
          "output_type": "stream",
          "text": [
            "Mounted at /content/drive\n"
          ],
          "name": "stdout"
        }
      ]
    },
    {
      "cell_type": "code",
      "metadata": {
        "colab": {
          "base_uri": "https://localhost:8080/"
        },
        "id": "4tj7sHHnv5fa",
        "outputId": "1e45cb7c-c33f-4b40-d7ab-bf88040719a3"
      },
      "source": [
        "%cd '/content/drive/MyDrive/imageunderstanding'\n",
        "!ls"
      ],
      "execution_count": 2,
      "outputs": [
        {
          "output_type": "stream",
          "text": [
            "/content/drive/MyDrive/imageunderstanding\n",
            "ExampleSubmissionRandom.csv  PRED_RESULT.csv  Train_labels.csv\n",
            "Load_data.ipynb\t\t     Test.pkl\t      Train.pkl\n"
          ],
          "name": "stdout"
        }
      ]
    },
    {
      "cell_type": "code",
      "metadata": {
        "colab": {
          "base_uri": "https://localhost:8080/"
        },
        "id": "mqRELpG1DsZq",
        "outputId": "50d5756d-0163-497a-ef46-0673b538bf5a"
      },
      "source": [
        "%cd '/content/drive/MyDrive/551 A3'\n",
        "!ls"
      ],
      "execution_count": null,
      "outputs": [
        {
          "output_type": "stream",
          "text": [
            "/content/drive/MyDrive/551 A3\n",
            " ExampleSubmissionRandom.csv   Test.pkl\t\t       Train_labels.csv\n",
            " LoadData.ipynb\t\t      'Train_labels (1).csv'   Train.pkl\n"
          ],
          "name": "stdout"
        }
      ]
    },
    {
      "cell_type": "code",
      "metadata": {
        "id": "T1-Hfwf3lrw4"
      },
      "source": [
        "TRAIN_DATA_PATH = \"Train.pkl\"\n",
        "TRAIN_LABEL_PATH = \"Train_labels.csv\"\n",
        "TEST_DATA_PATH = \"Test.pkl\"\n",
        "CSV_OUTPUT_PATH = \"PRED_RESULT.csv\""
      ],
      "execution_count": 3,
      "outputs": []
    },
    {
      "cell_type": "code",
      "metadata": {
        "id": "7XS2MS7nHzIN"
      },
      "source": [
        "import pickle\n",
        "import matplotlib.pyplot as plt\n",
        "import numpy as np\n",
        "from torchvision import transforms\n",
        "from torch.utils.data import Dataset\n",
        "from torch.utils.data import DataLoader, TensorDataset\n",
        "from PIL import Image\n",
        "import torch\n",
        "import pandas as pd"
      ],
      "execution_count": 4,
      "outputs": []
    },
    {
      "cell_type": "code",
      "metadata": {
        "colab": {
          "base_uri": "https://localhost:8080/"
        },
        "id": "FBXdYCpunCp2",
        "outputId": "68cd63d5-6f3b-40d5-90a4-de8813e69d6f"
      },
      "source": [
        "DEVICE = torch.device('cuda' if torch.cuda.is_available() else 'cpu')\n",
        "DEVICE"
      ],
      "execution_count": 5,
      "outputs": [
        {
          "output_type": "execute_result",
          "data": {
            "text/plain": [
              "device(type='cuda')"
            ]
          },
          "metadata": {
            "tags": []
          },
          "execution_count": 5
        }
      ]
    },
    {
      "cell_type": "code",
      "metadata": {
        "id": "zppkOjQwVjy2"
      },
      "source": [
        "torch.manual_seed(0)\n",
        "torch.cuda.manual_seed(0)"
      ],
      "execution_count": 6,
      "outputs": []
    },
    {
      "cell_type": "markdown",
      "metadata": {
        "id": "_2Vm3wY_K3DA"
      },
      "source": [
        "## Dataset Class / Data Loaders"
      ]
    },
    {
      "cell_type": "code",
      "metadata": {
        "id": "bydOoypc5SAM"
      },
      "source": [
        "IMG_SIZE = (224, 224)"
      ],
      "execution_count": 7,
      "outputs": []
    },
    {
      "cell_type": "code",
      "metadata": {
        "id": "RMnXBwXMCqd5"
      },
      "source": [
        "# Transforms are common image transformations. They can be chained together using Compose.\n",
        "# Here we normalize images img=(img-0.5)/0.5\n",
        "img_transform = transforms.Compose([\n",
        "    transforms.ToTensor(),\n",
        "    # transforms.Normalize([0.5], [0.5]),\n",
        "    transforms.Resize(IMG_SIZE)  \n",
        "    # transforms.RandomRotation(10, resample=PIL.Image.BILINEAR)\n",
        "    # transforms.ColorJitter(brightness=0, contrast=0, saturation=0, hue=0)\n",
        "    # transforms.RandomAffine(degrees, translate=None, scale=None, shear=None, interpolation=<InterpolationMode.NEAREST: 'nearest'>, fill=0, fillcolor=None, resample=None)\n",
        "])"
      ],
      "execution_count": 8,
      "outputs": []
    },
    {
      "cell_type": "code",
      "metadata": {
        "id": "CY0SndE2qcmb"
      },
      "source": [
        "# img_file: the pickle file containing the images\n",
        "# label_file: the .csv file containing the labels\n",
        "# transform: We use it for normalizing images (see above)\n",
        "# idx: This is a binary vector that is useful for creating training and validation set.\n",
        "# It return only samples where idx is True\n",
        "\n",
        "class MyDataset(Dataset):\n",
        "    def __init__(self, img_file, label_file, transform=None, idx = None):\n",
        "        self.data = pickle.load( open( img_file, 'rb' ), encoding='bytes')\n",
        "        self.targets = np.genfromtxt(label_file, delimiter=',', skip_header=1, usecols=1) #[:,1:]\n",
        "        if idx is not None:\n",
        "          self.targets = self.targets[idx]\n",
        "          self.data = self.data[idx]\n",
        "        self.transform = transform\n",
        "\n",
        "    def __len__(self):\n",
        "        return len(self.targets)\n",
        "\n",
        "    def __getitem__(self, index):\n",
        "        img, target = self.data[index].squeeze(), int(self.targets[index])\n",
        "        img = Image.fromarray((img*255).astype('uint8'), mode='L')\n",
        "        if self.transform is not None:\n",
        "           img = self.transform(img)\n",
        "        return img, target"
      ],
      "execution_count": 9,
      "outputs": []
    },
    {
      "cell_type": "markdown",
      "metadata": {
        "id": "q3b-QvEvqNE3"
      },
      "source": [
        "Get loader for all train data"
      ]
    },
    {
      "cell_type": "code",
      "metadata": {
        "id": "74kV_DwkqizL"
      },
      "source": [
        "BATCH_SIZE = 128\n",
        "dataset = MyDataset(TRAIN_DATA_PATH, TRAIN_LABEL_PATH,transform=img_transform, idx=None)\n",
        "# dataloader for all data\n",
        "data_loader = DataLoader(dataset, batch_size=BATCH_SIZE, shuffle=True)"
      ],
      "execution_count": 10,
      "outputs": []
    },
    {
      "cell_type": "markdown",
      "metadata": {
        "id": "1ZNiErb-pbPt"
      },
      "source": [
        "Get loaders for train/val data"
      ]
    },
    {
      "cell_type": "code",
      "metadata": {
        "id": "05SXSXBRW4DX"
      },
      "source": [
        "VAL_SPLIT = 0.15\n",
        "shuffle = True\n",
        "\n",
        "# Creating indices for train and val split:\n",
        "dataset_size = len(dataset)\n",
        "indices = list(range(dataset_size))\n",
        "split = int(np.floor(VAL_SPLIT * dataset_size))\n",
        "if shuffle:\n",
        "  # set random seed so that we get the same split everytime\n",
        "  np.random.seed(0)\n",
        "  np.random.shuffle(indices)\n",
        "train_indices, val_indices = indices[split:], indices[:split]\n",
        "\n",
        "train_dataset = MyDataset(TRAIN_DATA_PATH, TRAIN_LABEL_PATH,transform=img_transform, idx=train_indices)\n",
        "val_dataset = MyDataset(TRAIN_DATA_PATH, TRAIN_LABEL_PATH,transform=img_transform, idx=val_indices)\n",
        "\n",
        "# separate loaders for train and val data\n",
        "train_loader = DataLoader(train_dataset, batch_size=BATCH_SIZE, shuffle=False)\n",
        "val_loader = DataLoader(val_dataset, batch_size=BATCH_SIZE, shuffle=False)"
      ],
      "execution_count": 11,
      "outputs": []
    },
    {
      "cell_type": "markdown",
      "metadata": {
        "id": "CFEyrp_mYmIO"
      },
      "source": [
        "## Test Dataset / Loader"
      ]
    },
    {
      "cell_type": "code",
      "metadata": {
        "id": "x1d3LIGlYrDK"
      },
      "source": [
        "class MyTestSet(Dataset):\n",
        "  def __init__(self, img_file, transform=None):\n",
        "    self.data = pickle.load( open(img_file, 'rb' ), encoding='bytes')\n",
        "    self.transform = transform\n",
        "\n",
        "  def __len__(self):\n",
        "    # return self.data.shape[0]\n",
        "    return len(self.data)\n",
        "\n",
        "  def __getitem__(self, index):\n",
        "    img = self.data[index].squeeze()\n",
        "    img = Image.fromarray((img*255).astype('uint8'), mode='L')\n",
        "    if self.transform is not None:\n",
        "      img = self.transform(img)\n",
        "    return img"
      ],
      "execution_count": 12,
      "outputs": []
    },
    {
      "cell_type": "code",
      "metadata": {
        "id": "fk5z7LRha2Uc"
      },
      "source": [
        "test_dataset = MyTestSet(TEST_DATA_PATH,transform=img_transform)\n",
        "# dataloader for test data\n",
        "test_loader = DataLoader(test_dataset, batch_size=BATCH_SIZE, shuffle=False)"
      ],
      "execution_count": 13,
      "outputs": []
    },
    {
      "cell_type": "markdown",
      "metadata": {
        "id": "wdvC0-OfRnQV"
      },
      "source": [
        "## ResNet18"
      ]
    },
    {
      "cell_type": "code",
      "metadata": {
        "id": "pFVSRS6gs8t7"
      },
      "source": [
        "import torch.nn as nn\n",
        "import torch.nn.functional as F\n",
        "import torch.optim as optim\n",
        "import torch\n",
        "import torchvision.models as models"
      ],
      "execution_count": 14,
      "outputs": []
    },
    {
      "cell_type": "markdown",
      "metadata": {
        "id": "BeVwuJHatdb7"
      },
      "source": [
        "Let's train these. But first, create the network, the optimizer and some lists for logging the training process"
      ]
    },
    {
      "cell_type": "markdown",
      "metadata": {
        "id": "MGj4HgAEMsxA"
      },
      "source": [
        "### alexnet"
      ]
    },
    {
      "cell_type": "code",
      "metadata": {
        "id": "Vx68ZfoSGgZy"
      },
      "source": [
        "# model = models.alexnet(pretrained=False)\n",
        "# model.features[0] = nn.Conv2d(1, 64, kernel_size=(11, 11), stride=(4, 4), padding=(2, 2))\n",
        "# model.classifier[6] = nn.Linear(4096, 10)\n",
        "# model = model.to(DEVICE)"
      ],
      "execution_count": null,
      "outputs": []
    },
    {
      "cell_type": "markdown",
      "metadata": {
        "id": "ci11eU_mKnkX"
      },
      "source": [
        "### resnet18"
      ]
    },
    {
      "cell_type": "code",
      "metadata": {
        "id": "VfN0avQP398k"
      },
      "source": [
        "model = models.resnet18(pretrained=False)\n",
        "model.conv1 = nn.Conv2d(1, 64, kernel_size=(7, 7), stride=(2, 2), padding=(3, 3), bias=False)\n",
        "model.fc = nn.Linear(in_features=512, out_features=10, bias=True)\n",
        "model = model.to(DEVICE)"
      ],
      "execution_count": null,
      "outputs": []
    },
    {
      "cell_type": "markdown",
      "metadata": {
        "id": "8Kcb2ohYKrRk"
      },
      "source": [
        "### resnet34"
      ]
    },
    {
      "cell_type": "code",
      "metadata": {
        "id": "Q-Lb5h6MJmXv"
      },
      "source": [
        "model = models.resnet34(pretrained=False)\n",
        "model.conv1 = nn.Conv2d(1, 64, kernel_size=(7, 7), stride=(2, 2), padding=(3, 3), bias=False)\n",
        "model.fc = nn.Linear(in_features=512, out_features=10, bias=True)\n",
        "model = model.to(DEVICE)"
      ],
      "execution_count": 15,
      "outputs": []
    },
    {
      "cell_type": "markdown",
      "metadata": {
        "id": "ZFDcK-NeKvm4"
      },
      "source": [
        "### optimizer & initialization"
      ]
    },
    {
      "cell_type": "code",
      "metadata": {
        "id": "fJqfMWSFIztX"
      },
      "source": [
        "# optimizer = optim.SGD(tutor_model.parameters(), lr=0.01, momentum=0.5)\n",
        "# optimizer = optim.SGD(tutor_model.parameters(), lr=1, momentum=0.5)\n",
        "# optimizer = optim.Adam(model.parameters())\n",
        "optimizer = optim.RMSprop(model.parameters())\n",
        "\n",
        "train_losses = []\n",
        "train_counter = []\n",
        "val_losses = []\n",
        "val_counter = [i*len(train_loader.dataset) for i in range(3)]"
      ],
      "execution_count": 18,
      "outputs": []
    },
    {
      "cell_type": "markdown",
      "metadata": {
        "id": "Ck4yNKs46Q1Y"
      },
      "source": [
        "### Train and test function, used many times"
      ]
    },
    {
      "cell_type": "code",
      "metadata": {
        "id": "0Ps3KWsvtlSS"
      },
      "source": [
        "def train(epoch, model, loader):\n",
        "  model.train()\n",
        "  for batch_idx, (data, target) in enumerate(loader):\n",
        "    optimizer.zero_grad()\n",
        "    data = data.to(DEVICE)\n",
        "    # print(data.shape)\n",
        "    target = target.to(DEVICE)\n",
        "    output = model(data)\n",
        "    # print(output.shape)\n",
        "    # target = torch.argmax(target, dim=1) # convert from 1-hot to 1D\n",
        "    loss = F.cross_entropy(output, target) #negative log likelihood loss\n",
        "    loss.backward()\n",
        "    optimizer.step()\n",
        "    if batch_idx % 200 == 0:\n",
        "      print('Train Epoch: {} [{}/{} ({:.0f}%)]\\tLoss: {:.6f}'.format(\n",
        "        epoch, batch_idx * len(data), len(loader.dataset),\n",
        "        100. * batch_idx / len(loader), loss.item()))\n",
        "      train_losses.append(loss.item())\n",
        "      train_counter.append(\n",
        "        (batch_idx*64) + ((epoch-1)*len(loader.dataset)))\n",
        "      torch.save(model.state_dict(), '/model.pth')\n",
        "      torch.save(optimizer.state_dict(), '/optimizer.pth')\n",
        "\n",
        "def val(model, loader):\n",
        "  model.eval()\n",
        "  val_loss = 0\n",
        "  correct = 0\n",
        "  with torch.no_grad():\n",
        "    for data, target in loader:\n",
        "      data = data.to(DEVICE)\n",
        "      target = target.to(DEVICE)\n",
        "      output = model(data)\n",
        "      val_loss += F.cross_entropy(output, target, size_average=False).item()\n",
        "      pred = output.data.max(1, keepdim=True)[1]\n",
        "      correct += pred.eq(target.data.view_as(pred)).sum()\n",
        "  val_loss /= len(loader.dataset)\n",
        "  val_losses.append(val_loss)\n",
        "  print('Val set: Epoch: {}, Avg. loss: {:.4f}, Accuracy: {}/{} ({:.2f}%)'.format(\n",
        "    epoch, val_loss, correct, len(loader.dataset),\n",
        "    100. * correct / len(loader.dataset)))"
      ],
      "execution_count": 22,
      "outputs": []
    },
    {
      "cell_type": "markdown",
      "metadata": {
        "id": "BaaA04yUtj1T"
      },
      "source": [
        "Train the network"
      ]
    },
    {
      "cell_type": "code",
      "metadata": {
        "id": "CCgK_yOvtrjz",
        "colab": {
          "base_uri": "https://localhost:8080/"
        },
        "outputId": "3ab9cc72-8c90-446a-c2ea-721f9face58b"
      },
      "source": [
        "for epoch in range(1, 30):\n",
        "  train(epoch, model, train_loader)\n",
        "  val(model, val_loader)"
      ],
      "execution_count": 20,
      "outputs": [
        {
          "output_type": "stream",
          "text": [
            "Train Epoch: 1 [0/51000 (0%)]\tLoss: 2.510531\n",
            "Train Epoch: 1 [25600/51000 (50%)]\tLoss: 1.556017\n"
          ],
          "name": "stdout"
        },
        {
          "output_type": "stream",
          "text": [
            "/usr/local/lib/python3.7/dist-packages/torch/nn/_reduction.py:42: UserWarning: size_average and reduce args will be deprecated, please use reduction='sum' instead.\n",
            "  warnings.warn(warning.format(ret))\n"
          ],
          "name": "stderr"
        },
        {
          "output_type": "stream",
          "text": [
            "Val set: Epoch: 1, Avg. loss: 1.2686, Accuracy: 5900/9000 (66%)\n",
            "Train Epoch: 2 [0/51000 (0%)]\tLoss: 0.572796\n",
            "Train Epoch: 2 [25600/51000 (50%)]\tLoss: 0.233853\n",
            "Val set: Epoch: 2, Avg. loss: 1.4659, Accuracy: 6148/9000 (68%)\n",
            "Train Epoch: 3 [0/51000 (0%)]\tLoss: 0.888014\n",
            "Train Epoch: 3 [25600/51000 (50%)]\tLoss: 0.161264\n",
            "Val set: Epoch: 3, Avg. loss: 0.3924, Accuracy: 8083/9000 (90%)\n",
            "Train Epoch: 4 [0/51000 (0%)]\tLoss: 0.164351\n",
            "Train Epoch: 4 [25600/51000 (50%)]\tLoss: 0.145888\n",
            "Val set: Epoch: 4, Avg. loss: 0.3041, Accuracy: 8238/9000 (92%)\n",
            "Train Epoch: 5 [0/51000 (0%)]\tLoss: 0.199020\n",
            "Train Epoch: 5 [25600/51000 (50%)]\tLoss: 0.121279\n",
            "Val set: Epoch: 5, Avg. loss: 2.3097, Accuracy: 5868/9000 (65%)\n",
            "Train Epoch: 6 [0/51000 (0%)]\tLoss: 0.274825\n",
            "Train Epoch: 6 [25600/51000 (50%)]\tLoss: 0.128755\n",
            "Val set: Epoch: 6, Avg. loss: 0.1473, Accuracy: 8652/9000 (96%)\n",
            "Train Epoch: 7 [0/51000 (0%)]\tLoss: 0.061915\n",
            "Train Epoch: 7 [25600/51000 (50%)]\tLoss: 0.037681\n",
            "Val set: Epoch: 7, Avg. loss: 0.1382, Accuracy: 8660/9000 (96%)\n",
            "Train Epoch: 8 [0/51000 (0%)]\tLoss: 0.017949\n",
            "Train Epoch: 8 [25600/51000 (50%)]\tLoss: 0.019200\n",
            "Val set: Epoch: 8, Avg. loss: 0.0866, Accuracy: 8781/9000 (98%)\n",
            "Train Epoch: 9 [0/51000 (0%)]\tLoss: 0.016168\n",
            "Train Epoch: 9 [25600/51000 (50%)]\tLoss: 0.036157\n",
            "Val set: Epoch: 9, Avg. loss: 0.1281, Accuracy: 8725/9000 (97%)\n",
            "Train Epoch: 10 [0/51000 (0%)]\tLoss: 0.020748\n",
            "Train Epoch: 10 [25600/51000 (50%)]\tLoss: 0.057282\n",
            "Val set: Epoch: 10, Avg. loss: 0.1010, Accuracy: 8773/9000 (97%)\n",
            "Train Epoch: 11 [0/51000 (0%)]\tLoss: 0.004135\n",
            "Train Epoch: 11 [25600/51000 (50%)]\tLoss: 0.019261\n",
            "Val set: Epoch: 11, Avg. loss: 0.1534, Accuracy: 8684/9000 (96%)\n",
            "Train Epoch: 12 [0/51000 (0%)]\tLoss: 0.023727\n",
            "Train Epoch: 12 [25600/51000 (50%)]\tLoss: 0.014500\n",
            "Val set: Epoch: 12, Avg. loss: 0.0953, Accuracy: 8786/9000 (98%)\n",
            "Train Epoch: 13 [0/51000 (0%)]\tLoss: 0.006385\n",
            "Train Epoch: 13 [25600/51000 (50%)]\tLoss: 0.125540\n",
            "Val set: Epoch: 13, Avg. loss: 0.2785, Accuracy: 8545/9000 (95%)\n",
            "Train Epoch: 14 [0/51000 (0%)]\tLoss: 0.115639\n",
            "Train Epoch: 14 [25600/51000 (50%)]\tLoss: 0.012719\n",
            "Val set: Epoch: 14, Avg. loss: 0.6760, Accuracy: 8400/9000 (93%)\n",
            "Train Epoch: 15 [0/51000 (0%)]\tLoss: 0.051308\n",
            "Train Epoch: 15 [25600/51000 (50%)]\tLoss: 0.001136\n",
            "Val set: Epoch: 15, Avg. loss: 0.1323, Accuracy: 8756/9000 (97%)\n",
            "Train Epoch: 16 [0/51000 (0%)]\tLoss: 0.067415\n",
            "Train Epoch: 16 [25600/51000 (50%)]\tLoss: 0.022659\n",
            "Val set: Epoch: 16, Avg. loss: 0.0870, Accuracy: 8833/9000 (98%)\n",
            "Train Epoch: 17 [0/51000 (0%)]\tLoss: 0.001038\n",
            "Train Epoch: 17 [25600/51000 (50%)]\tLoss: 0.021637\n",
            "Val set: Epoch: 17, Avg. loss: 0.1087, Accuracy: 8794/9000 (98%)\n",
            "Train Epoch: 18 [0/51000 (0%)]\tLoss: 0.023907\n",
            "Train Epoch: 18 [25600/51000 (50%)]\tLoss: 0.009407\n",
            "Val set: Epoch: 18, Avg. loss: 0.0741, Accuracy: 8856/9000 (98%)\n",
            "Train Epoch: 19 [0/51000 (0%)]\tLoss: 0.000265\n",
            "Train Epoch: 19 [25600/51000 (50%)]\tLoss: 0.011537\n",
            "Val set: Epoch: 19, Avg. loss: 0.0810, Accuracy: 8847/9000 (98%)\n",
            "Train Epoch: 20 [0/51000 (0%)]\tLoss: 0.000154\n",
            "Train Epoch: 20 [25600/51000 (50%)]\tLoss: 0.006830\n",
            "Val set: Epoch: 20, Avg. loss: 0.1031, Accuracy: 8810/9000 (98%)\n",
            "Train Epoch: 21 [0/51000 (0%)]\tLoss: 0.008336\n",
            "Train Epoch: 21 [25600/51000 (50%)]\tLoss: 0.003451\n",
            "Val set: Epoch: 21, Avg. loss: 0.0951, Accuracy: 8829/9000 (98%)\n",
            "Train Epoch: 22 [0/51000 (0%)]\tLoss: 0.003655\n",
            "Train Epoch: 22 [25600/51000 (50%)]\tLoss: 0.106834\n",
            "Val set: Epoch: 22, Avg. loss: 0.0811, Accuracy: 8840/9000 (98%)\n",
            "Train Epoch: 23 [0/51000 (0%)]\tLoss: 0.002557\n",
            "Train Epoch: 23 [25600/51000 (50%)]\tLoss: 0.000700\n",
            "Val set: Epoch: 23, Avg. loss: 0.1216, Accuracy: 8807/9000 (98%)\n",
            "Train Epoch: 24 [0/51000 (0%)]\tLoss: 0.063522\n",
            "Train Epoch: 24 [25600/51000 (50%)]\tLoss: 0.000872\n",
            "Val set: Epoch: 24, Avg. loss: 0.0988, Accuracy: 8839/9000 (98%)\n",
            "Train Epoch: 25 [0/51000 (0%)]\tLoss: 0.001188\n",
            "Train Epoch: 25 [25600/51000 (50%)]\tLoss: 0.001223\n",
            "Val set: Epoch: 25, Avg. loss: 0.1337, Accuracy: 8748/9000 (97%)\n",
            "Train Epoch: 26 [0/51000 (0%)]\tLoss: 0.001063\n",
            "Train Epoch: 26 [25600/51000 (50%)]\tLoss: 0.001157\n",
            "Val set: Epoch: 26, Avg. loss: 0.0846, Accuracy: 8845/9000 (98%)\n",
            "Train Epoch: 27 [0/51000 (0%)]\tLoss: 0.001582\n",
            "Train Epoch: 27 [25600/51000 (50%)]\tLoss: 0.003141\n",
            "Val set: Epoch: 27, Avg. loss: 0.0853, Accuracy: 8861/9000 (98%)\n",
            "Train Epoch: 28 [0/51000 (0%)]\tLoss: 0.002838\n",
            "Train Epoch: 28 [25600/51000 (50%)]\tLoss: 0.000058\n",
            "Val set: Epoch: 28, Avg. loss: 0.0853, Accuracy: 8855/9000 (98%)\n",
            "Train Epoch: 29 [0/51000 (0%)]\tLoss: 0.000816\n",
            "Train Epoch: 29 [25600/51000 (50%)]\tLoss: 0.009127\n",
            "Val set: Epoch: 29, Avg. loss: 0.0910, Accuracy: 8860/9000 (98%)\n"
          ],
          "name": "stdout"
        }
      ]
    },
    {
      "cell_type": "code",
      "metadata": {
        "id": "QcRRKE7MzSEQ",
        "colab": {
          "base_uri": "https://localhost:8080/",
          "height": 279
        },
        "outputId": "1d8644a4-fb6f-4c71-da59-cc600d2aa5ae"
      },
      "source": [
        "fig = plt.figure()\n",
        "plt.plot(train_counter, train_losses, color='skyblue',marker='.')\n",
        "plt.legend(['Train Loss'], loc='upper right')\n",
        "plt.xlabel('number of training examples seen')\n",
        "plt.ylabel('negative log likelihood loss')\n",
        "plt.grid(linestyle='-.')"
      ],
      "execution_count": 21,
      "outputs": [
        {
          "output_type": "display_data",
          "data": {
            "image/png": "[encoded data removed]",
            "text/plain": [
              "<Figure size 432x288 with 1 Axes>"
            ]
          },
          "metadata": {
            "tags": [],
            "needs_background": "light"
          }
        }
      ]
    },
    {
      "cell_type": "markdown",
      "metadata": {
        "id": "ZX0XLJDjkqX_"
      },
      "source": [
        "## Train on ALL data"
      ]
    },
    {
      "cell_type": "code",
      "metadata": {
        "id": "LZmnWuVmmUCU"
      },
      "source": [
        "full_model = models.resnet34(pretrained=False)\n",
        "full_model.conv1 = nn.Conv2d(1, 64, kernel_size=(7, 7), stride=(2, 2), padding=(3, 3), bias=False)\n",
        "full_model.fc = nn.Linear(in_features=512, out_features=10, bias=True)\n",
        "full_model = full_model.to(DEVICE)\n",
        "optimizer = optim.RMSprop(full_model.parameters())"
      ],
      "execution_count": 23,
      "outputs": []
    },
    {
      "cell_type": "code",
      "metadata": {
        "id": "56cCdP5Ektpl",
        "colab": {
          "base_uri": "https://localhost:8080/"
        },
        "outputId": "2a07a14b-ec8b-475a-cc0e-f249edc80b1a"
      },
      "source": [
        "for epoch in range(1, 28):\n",
        "  train(epoch, full_model, data_loader)\n",
        "  val(full_model, val_loader)"
      ],
      "execution_count": 24,
      "outputs": [
        {
          "output_type": "stream",
          "text": [
            "Train Epoch: 1 [0/60000 (0%)]\tLoss: 2.399856\n",
            "Train Epoch: 1 [25600/60000 (43%)]\tLoss: 1.602639\n",
            "Train Epoch: 1 [51200/60000 (85%)]\tLoss: 0.589910\n"
          ],
          "name": "stdout"
        },
        {
          "output_type": "stream",
          "text": [
            "/usr/local/lib/python3.7/dist-packages/torch/nn/_reduction.py:42: UserWarning: size_average and reduce args will be deprecated, please use reduction='sum' instead.\n",
            "  warnings.warn(warning.format(ret))\n"
          ],
          "name": "stderr"
        },
        {
          "output_type": "stream",
          "text": [
            "Val set: Epoch: 1, Avg. loss: 3.2175, Accuracy: 3782/9000 (42.02%)\n",
            "Train Epoch: 2 [0/60000 (0%)]\tLoss: 0.417773\n",
            "Train Epoch: 2 [25600/60000 (43%)]\tLoss: 0.256783\n",
            "Train Epoch: 2 [51200/60000 (85%)]\tLoss: 0.178114\n",
            "Val set: Epoch: 2, Avg. loss: 1.0682, Accuracy: 6594/9000 (73.27%)\n",
            "Train Epoch: 3 [0/60000 (0%)]\tLoss: 0.165450\n",
            "Train Epoch: 3 [25600/60000 (43%)]\tLoss: 0.091979\n",
            "Train Epoch: 3 [51200/60000 (85%)]\tLoss: 0.154500\n",
            "Val set: Epoch: 3, Avg. loss: 0.1638, Accuracy: 8526/9000 (94.73%)\n",
            "Train Epoch: 4 [0/60000 (0%)]\tLoss: 0.188917\n",
            "Train Epoch: 4 [25600/60000 (43%)]\tLoss: 0.073150\n",
            "Train Epoch: 4 [51200/60000 (85%)]\tLoss: 0.118020\n",
            "Val set: Epoch: 4, Avg. loss: 0.1087, Accuracy: 8682/9000 (96.47%)\n",
            "Train Epoch: 5 [0/60000 (0%)]\tLoss: 0.132723\n",
            "Train Epoch: 5 [25600/60000 (43%)]\tLoss: 0.145378\n",
            "Train Epoch: 5 [51200/60000 (85%)]\tLoss: 0.043925\n",
            "Val set: Epoch: 5, Avg. loss: 0.0845, Accuracy: 8769/9000 (97.43%)\n",
            "Train Epoch: 6 [0/60000 (0%)]\tLoss: 0.062098\n",
            "Train Epoch: 6 [25600/60000 (43%)]\tLoss: 0.054967\n",
            "Train Epoch: 6 [51200/60000 (85%)]\tLoss: 0.016773\n",
            "Val set: Epoch: 6, Avg. loss: 0.0577, Accuracy: 8842/9000 (98.24%)\n",
            "Train Epoch: 7 [0/60000 (0%)]\tLoss: 0.028255\n",
            "Train Epoch: 7 [25600/60000 (43%)]\tLoss: 0.075628\n",
            "Train Epoch: 7 [51200/60000 (85%)]\tLoss: 0.023154\n",
            "Val set: Epoch: 7, Avg. loss: 0.0436, Accuracy: 8869/9000 (98.54%)\n",
            "Train Epoch: 8 [0/60000 (0%)]\tLoss: 0.031102\n",
            "Train Epoch: 8 [25600/60000 (43%)]\tLoss: 0.182188\n",
            "Train Epoch: 8 [51200/60000 (85%)]\tLoss: 0.061379\n",
            "Val set: Epoch: 8, Avg. loss: 0.2611, Accuracy: 8278/9000 (91.98%)\n",
            "Train Epoch: 9 [0/60000 (0%)]\tLoss: 0.035728\n",
            "Train Epoch: 9 [25600/60000 (43%)]\tLoss: 0.088833\n",
            "Train Epoch: 9 [51200/60000 (85%)]\tLoss: 0.078457\n",
            "Val set: Epoch: 9, Avg. loss: 0.0372, Accuracy: 8885/9000 (98.72%)\n",
            "Train Epoch: 10 [0/60000 (0%)]\tLoss: 0.076085\n",
            "Train Epoch: 10 [25600/60000 (43%)]\tLoss: 0.012812\n",
            "Train Epoch: 10 [51200/60000 (85%)]\tLoss: 0.018643\n",
            "Val set: Epoch: 10, Avg. loss: 0.0126, Accuracy: 8964/9000 (99.60%)\n",
            "Train Epoch: 11 [0/60000 (0%)]\tLoss: 0.002043\n",
            "Train Epoch: 11 [25600/60000 (43%)]\tLoss: 0.044773\n",
            "Train Epoch: 11 [51200/60000 (85%)]\tLoss: 0.039002\n",
            "Val set: Epoch: 11, Avg. loss: 0.0260, Accuracy: 8926/9000 (99.18%)\n",
            "Train Epoch: 12 [0/60000 (0%)]\tLoss: 0.004966\n",
            "Train Epoch: 12 [25600/60000 (43%)]\tLoss: 0.002540\n",
            "Train Epoch: 12 [51200/60000 (85%)]\tLoss: 0.019130\n",
            "Val set: Epoch: 12, Avg. loss: 0.0166, Accuracy: 8951/9000 (99.46%)\n",
            "Train Epoch: 13 [0/60000 (0%)]\tLoss: 0.018796\n",
            "Train Epoch: 13 [25600/60000 (43%)]\tLoss: 0.000472\n",
            "Train Epoch: 13 [51200/60000 (85%)]\tLoss: 0.036524\n",
            "Val set: Epoch: 13, Avg. loss: 0.0689, Accuracy: 8810/9000 (97.89%)\n",
            "Train Epoch: 14 [0/60000 (0%)]\tLoss: 0.011886\n",
            "Train Epoch: 14 [25600/60000 (43%)]\tLoss: 0.003195\n",
            "Train Epoch: 14 [51200/60000 (85%)]\tLoss: 0.003526\n",
            "Val set: Epoch: 14, Avg. loss: 0.1106, Accuracy: 8773/9000 (97.48%)\n",
            "Train Epoch: 15 [0/60000 (0%)]\tLoss: 0.010021\n",
            "Train Epoch: 15 [25600/60000 (43%)]\tLoss: 0.000757\n",
            "Train Epoch: 15 [51200/60000 (85%)]\tLoss: 0.038388\n",
            "Val set: Epoch: 15, Avg. loss: 0.0406, Accuracy: 8911/9000 (99.01%)\n",
            "Train Epoch: 16 [0/60000 (0%)]\tLoss: 0.012124\n",
            "Train Epoch: 16 [25600/60000 (43%)]\tLoss: 0.005685\n",
            "Train Epoch: 16 [51200/60000 (85%)]\tLoss: 0.001332\n",
            "Val set: Epoch: 16, Avg. loss: 0.0132, Accuracy: 8954/9000 (99.49%)\n",
            "Train Epoch: 17 [0/60000 (0%)]\tLoss: 0.009386\n",
            "Train Epoch: 17 [25600/60000 (43%)]\tLoss: 0.006875\n",
            "Train Epoch: 17 [51200/60000 (85%)]\tLoss: 0.009838\n",
            "Val set: Epoch: 17, Avg. loss: 0.0120, Accuracy: 8977/9000 (99.74%)\n",
            "Train Epoch: 18 [0/60000 (0%)]\tLoss: 0.003206\n",
            "Train Epoch: 18 [25600/60000 (43%)]\tLoss: 0.025116\n",
            "Train Epoch: 18 [51200/60000 (85%)]\tLoss: 0.041386\n",
            "Val set: Epoch: 18, Avg. loss: 0.0046, Accuracy: 8984/9000 (99.82%)\n",
            "Train Epoch: 19 [0/60000 (0%)]\tLoss: 0.002010\n",
            "Train Epoch: 19 [25600/60000 (43%)]\tLoss: 0.000985\n",
            "Train Epoch: 19 [51200/60000 (85%)]\tLoss: 0.017757\n",
            "Val set: Epoch: 19, Avg. loss: 0.0053, Accuracy: 8984/9000 (99.82%)\n",
            "Train Epoch: 20 [0/60000 (0%)]\tLoss: 0.002283\n",
            "Train Epoch: 20 [25600/60000 (43%)]\tLoss: 0.027419\n",
            "Train Epoch: 20 [51200/60000 (85%)]\tLoss: 0.048426\n",
            "Val set: Epoch: 20, Avg. loss: 0.0043, Accuracy: 8989/9000 (99.88%)\n",
            "Train Epoch: 21 [0/60000 (0%)]\tLoss: 0.000130\n",
            "Train Epoch: 21 [25600/60000 (43%)]\tLoss: 0.006020\n",
            "Train Epoch: 21 [51200/60000 (85%)]\tLoss: 0.001513\n",
            "Val set: Epoch: 21, Avg. loss: 0.0029, Accuracy: 8991/9000 (99.90%)\n",
            "Train Epoch: 22 [0/60000 (0%)]\tLoss: 0.001139\n",
            "Train Epoch: 22 [25600/60000 (43%)]\tLoss: 0.000130\n",
            "Train Epoch: 22 [51200/60000 (85%)]\tLoss: 0.000155\n",
            "Val set: Epoch: 22, Avg. loss: 0.0050, Accuracy: 8990/9000 (99.89%)\n",
            "Train Epoch: 23 [0/60000 (0%)]\tLoss: 0.000195\n",
            "Train Epoch: 23 [25600/60000 (43%)]\tLoss: 0.000139\n",
            "Train Epoch: 23 [51200/60000 (85%)]\tLoss: 0.000907\n",
            "Val set: Epoch: 23, Avg. loss: 0.0022, Accuracy: 8994/9000 (99.93%)\n",
            "Train Epoch: 24 [0/60000 (0%)]\tLoss: 0.000325\n",
            "Train Epoch: 24 [25600/60000 (43%)]\tLoss: 0.002648\n",
            "Train Epoch: 24 [51200/60000 (85%)]\tLoss: 0.037284\n",
            "Val set: Epoch: 24, Avg. loss: 0.0100, Accuracy: 8966/9000 (99.62%)\n",
            "Train Epoch: 25 [0/60000 (0%)]\tLoss: 0.000965\n",
            "Train Epoch: 25 [25600/60000 (43%)]\tLoss: 0.030295\n",
            "Train Epoch: 25 [51200/60000 (85%)]\tLoss: 0.013691\n",
            "Val set: Epoch: 25, Avg. loss: 0.0014, Accuracy: 8998/9000 (99.98%)\n",
            "Train Epoch: 26 [0/60000 (0%)]\tLoss: 0.006942\n",
            "Train Epoch: 26 [25600/60000 (43%)]\tLoss: 0.002885\n",
            "Train Epoch: 26 [51200/60000 (85%)]\tLoss: 0.001136\n",
            "Val set: Epoch: 26, Avg. loss: 0.0074, Accuracy: 8980/9000 (99.78%)\n",
            "Train Epoch: 27 [0/60000 (0%)]\tLoss: 0.004773\n",
            "Train Epoch: 27 [25600/60000 (43%)]\tLoss: 0.027062\n",
            "Train Epoch: 27 [51200/60000 (85%)]\tLoss: 0.039673\n",
            "Val set: Epoch: 27, Avg. loss: 0.0068, Accuracy: 8979/9000 (99.77%)\n"
          ],
          "name": "stdout"
        }
      ]
    },
    {
      "cell_type": "markdown",
      "metadata": {
        "id": "3yEtGFpwdYx1"
      },
      "source": [
        "## Make predictions on test data"
      ]
    },
    {
      "cell_type": "code",
      "metadata": {
        "id": "16kAGX5Hdcur"
      },
      "source": [
        "def predict(model):\n",
        "  pred_test = []\n",
        "  model.eval()\n",
        "  with torch.no_grad():\n",
        "    for data in test_loader:\n",
        "      data = data.to(DEVICE)\n",
        "      output = model(data)\n",
        "      pred = output.data.max(1, keepdim=True)[1]\n",
        "      for x in pred:\n",
        "        pred_test.append(x.item())\n",
        "  return pred_test"
      ],
      "execution_count": 25,
      "outputs": []
    },
    {
      "cell_type": "code",
      "metadata": {
        "id": "UWdnJKhigtM7",
        "colab": {
          "base_uri": "https://localhost:8080/"
        },
        "outputId": "23410a13-ebab-4366-e4b6-acdfcdc3e267"
      },
      "source": [
        "pred_test = predict(full_model)\n",
        "print(len(pred_test))\n",
        "df_pred_test = pd.DataFrame({'id': range(10000), 'class': pred_test})\n",
        "df_pred_test.to_csv(CSV_OUTPUT_PATH, index=False)"
      ],
      "execution_count": 26,
      "outputs": [
        {
          "output_type": "stream",
          "text": [
            "10000\n"
          ],
          "name": "stdout"
        }
      ]
    },
    {
      "cell_type": "markdown",
      "metadata": {
        "id": "K7VpSLb22POJ"
      },
      "source": [
        "## Manually check prediction results"
      ]
    },
    {
      "cell_type": "code",
      "metadata": {
        "id": "8Gp4fBi5iipd",
        "colab": {
          "base_uri": "https://localhost:8080/",
          "height": 318
        },
        "outputId": "f7786b0c-9db3-4ce9-bcc7-031a9c03fdd5"
      },
      "source": [
        "# Read many TEST data and display them, compare with our prediction in CSV\n",
        "test_loader = DataLoader(test_dataset, batch_size=BATCH_SIZE, shuffle=False)\n",
        "imgs = (next(iter(test_loader)))\n",
        "print(imgs.shape)\n",
        "# imgs: [256, 1, 28, 28]\n",
        "imgs = np.squeeze(imgs)\n",
        "# imgs: [256, 28, 28]\n",
        "print(imgs.shape)\n",
        "\n",
        "for i in range(20):\n",
        "  plt.subplot(4,5,i+1)\n",
        "  plt.tight_layout()\n",
        "  plt.imshow(imgs[i], cmap='gray', interpolation='bicubic')\n",
        "  plt.xticks([])\n",
        "  plt.yticks([])"
      ],
      "execution_count": null,
      "outputs": [
        {
          "output_type": "stream",
          "text": [
            "torch.Size([128, 1, 224, 224])\n",
            "torch.Size([128, 224, 224])\n"
          ],
          "name": "stdout"
        },
        {
          "output_type": "display_data",
          "data": {
            "image/png": "[encoded data removed]",
            "text/plain": [
              "<Figure size 432x288 with 20 Axes>"
            ]
          },
          "metadata": {
            "tags": []
          }
        }
      ]
    },
    {
      "cell_type": "markdown",
      "metadata": {
        "id": "DIDJM1PnADIt"
      },
      "source": [
        "## Deeper（doesn't work）"
      ]
    },
    {
      "cell_type": "code",
      "metadata": {
        "id": "Vcqne0XZLcYf"
      },
      "source": [
        "import torch.nn as nn\n",
        "import torch.nn.functional as F\n",
        "import torch.optim as optim"
      ],
      "execution_count": null,
      "outputs": []
    },
    {
      "cell_type": "code",
      "metadata": {
        "id": "tdDmYca6CmXP"
      },
      "source": [
        "device = torch.device('cuda' if torch.cuda.is_available() else 'cpu')"
      ],
      "execution_count": null,
      "outputs": []
    },
    {
      "cell_type": "code",
      "metadata": {
        "id": "8MWRg9T5AFNR"
      },
      "source": [
        "class MyModel(nn.Module):\n",
        "  def __init__(self):\n",
        "    super(MyModel, self).__init__()\n",
        "    \n",
        "    self.model = nn.Sequential(\n",
        "      nn.Conv2d(1, 16, kernel_size=3), nn.ReLU(), # 26*26\n",
        "      nn.Conv2d(16, 16, kernel_size=3), nn.ReLU(), # 24*24\n",
        "      # nn.MaxPool2d(2,2), # 13*13\n",
        "\n",
        "      nn.Conv2d(16, 32, kernel_size=3), nn.ReLU(),  # 22*22\n",
        "      nn.Conv2d(32, 32, kernel_size=3), nn.ReLU(),  # 20*20\n",
        "      # nn.MaxPool2d(2,2),  # 6*6\n",
        "\n",
        "      nn.Conv2d(32, 64, kernel_size=3), nn.ReLU(),  # 18*18\n",
        "      nn.Conv2d(64, 64, kernel_size=3), nn.ReLU(),  # 16*16\n",
        "      # nn.MaxPool2d(2,2),  # 2*2\n",
        "\n",
        "      nn.Conv2d(64, 128, kernel_size=3), nn.ReLU(), # 14*14\n",
        "      nn.Conv2d(128, 128, kernel_size=3), nn.ReLU(),  # 12*12\n",
        "      # nn.MaxPool2d(2,2),\n",
        "\n",
        "      nn.Conv2d(128, 256, kernel_size=3), nn.ReLU(),  # 10*10\n",
        "      nn.Conv2d(256, 256, kernel_size=3), nn.ReLU(),  # 8*8\n",
        "      nn.MaxPool2d(2,2),  # 4*4\n",
        "\n",
        "    )\n",
        "    \n",
        "    self.classifier = nn.Sequential(\n",
        "      nn.Flatten(),\n",
        "      nn.Dropout(0.25),\n",
        "      # nn.Linear(4096, 256),\n",
        "      nn.Linear(4096, 256),\n",
        "      nn.ReLU(),\n",
        "\n",
        "      nn.Dropout(0.5),\n",
        "      nn.Linear(256, 10),\n",
        "      nn.Softmax(dim=1)\n",
        "    )\n",
        "    \n",
        "  def forward(self, x):\n",
        "    f = self.model(x)\n",
        "    y_pred = self.classifier(f)\n",
        "    return y_pred\n",
        "\n",
        "network = MyModel()\n",
        "# summary(model, (3,256,256))"
      ],
      "execution_count": null,
      "outputs": []
    },
    {
      "cell_type": "code",
      "metadata": {
        "id": "7daPmiD_EJ53"
      },
      "source": [
        "optimizer = optim.Adam(network.parameters())\n",
        "\n",
        "train_losses = []\n",
        "train_counter = []\n",
        "test_losses = []\n",
        "test_counter = [i*len(train_loader.dataset) for i in range(3)]"
      ],
      "execution_count": null,
      "outputs": []
    },
    {
      "cell_type": "code",
      "metadata": {
        "id": "tv66liBRDHL9"
      },
      "source": [
        "def train(epoch):\n",
        "  network.train()\n",
        "  for batch_idx, (data, target) in enumerate(train_loader):\n",
        "    optimizer.zero_grad()\n",
        "    output = network(data)\n",
        "\n",
        "    loss = F.nll_loss(output, target) #negative log likelihood loss\n",
        "    loss.backward()\n",
        "    optimizer.step()\n",
        "    if batch_idx % 20 == 0:\n",
        "      print('Train Epoch: {} [{}/{} ({:.0f}%)]\\tLoss: {:.6f}'.format(\n",
        "        epoch, batch_idx * len(data), len(train_loader.dataset),\n",
        "        100. * batch_idx / len(train_loader), loss.item()))\n",
        "      train_losses.append(loss.item())\n",
        "      train_counter.append(\n",
        "        (batch_idx*64) + ((epoch-1)*len(train_loader.dataset)))\n",
        "\n",
        "def test():\n",
        "  network.eval()\n",
        "  test_loss = 0\n",
        "  correct = 0\n",
        "  with torch.no_grad():\n",
        "    for data, target in val_loader:\n",
        "      output = network(data)\n",
        "      # this line is added to convert labels to LongTensor\n",
        "      # target = target.type(torch.LongTensor)\n",
        "      # target = torch.argmax(target, dim=1) # convert from 1-hot to 1D\n",
        "\n",
        "      test_loss += F.nll_loss(output, target, size_average=False).item()\n",
        "      pred = output.data.max(1, keepdim=True)[1]\n",
        "      correct += pred.eq(target.data.view_as(pred)).sum()\n",
        "  test_loss /= len(val_loader.dataset)\n",
        "  test_losses.append(test_loss)\n",
        "  print('\\nTest set: Avg. loss: {:.4f}, Accuracy: {}/{} ({:.0f}%)\\n'.format(\n",
        "    test_loss, correct, len(val_loader.dataset),\n",
        "    100. * correct / len(val_loader.dataset)))"
      ],
      "execution_count": null,
      "outputs": []
    },
    {
      "cell_type": "code",
      "metadata": {
        "id": "30Rz0VM-FKN5"
      },
      "source": [
        "for epoch in range(1, 4):\n",
        "  train(epoch)\n",
        "  test()"
      ],
      "execution_count": null,
      "outputs": []
    },
    {
      "cell_type": "code",
      "metadata": {
        "id": "fJ1U0lhpHojX"
      },
      "source": [
        "print(torch.cuda.is_available())"
      ],
      "execution_count": null,
      "outputs": []
    },
    {
      "cell_type": "code",
      "metadata": {
        "id": "q3I5ztq6EYnV"
      },
      "source": [
        "class ConvNet(nn.Module):\n",
        "    def __init__(self):\n",
        "        super(ConvNet, self).__init__()\n",
        "        self.layer1 = nn.Sequential(\n",
        "            nn.Conv2d(1, 32, kernel_size=5, stride=1, padding=2),\n",
        "            nn.ReLU(),\n",
        "            nn.MaxPool2d(kernel_size=2, stride=2))\n",
        "        self.layer2 = nn.Sequential(\n",
        "            nn.Conv2d(32, 64, kernel_size=5, stride=1, padding=2),\n",
        "            nn.ReLU(),\n",
        "            nn.MaxPool2d(kernel_size=2, stride=2))\n",
        "\n",
        "        self.fc1 = nn.Linear(3136, 1000)\n",
        "        self.fc2 = nn.Linear(1000, 10)\n",
        "\n",
        "    def forward(self, x):\n",
        "        out = self.layer1(x)\n",
        "        out = self.layer2(out)\n",
        "        out = out.reshape(out.size(0), -1)\n",
        "        # print(out.shape)\n",
        "        out = self.fc1(out)\n",
        "        out = self.fc2(out)\n",
        "        return out\n"
      ],
      "execution_count": null,
      "outputs": []
    },
    {
      "cell_type": "code",
      "metadata": {
        "id": "3714Y8uHiYbV"
      },
      "source": [
        "class AlexNet(nn.Module):\n",
        "    def __init__(self):\n",
        "        super(AlexNet, self).__init__()\n",
        "        # input 1*28*28\n",
        "        self.conv1 = nn.Conv2d(1, 96, kernel_size=11, stride=4)\n",
        "        self.conv2 = nn.Conv2d(96, 256, kernel_size=5, padding=2)\n",
        "        self.conv3 = nn.Conv2d(256, 384, kernel_size=3,padding=1)\n",
        "        self.conv4 = nn.Conv2d(384, 384, kernel_size=3,padding=1)\n",
        "        self.conv5 = nn.Conv2d(384, 256, kernel_size=3,padding=1)\n",
        "        self.fc1 = nn.Linear(256*6*6, 4096)\n",
        "        self.fc2 = nn.Linear(4096, 4096)\n",
        "        self.fc3 = nn.Linear(4096, 10)\n",
        "        self.dropout = nn.Dropout(0.5)\n",
        "\n",
        "    def forward(self, x):\n",
        "        x = F.max_pool2d(torch.relu(self.conv1(x)), kernel_size=3, stride=2) # 96 filters + maxpooling => 96*27*27\n",
        "        x = F.max_pool2d(torch.relu(self.conv2(x)), kernel_size=3, stride=2) # 256 filters + maxpooling => 256*13*13\n",
        "        x = torch.relu(self.conv3(x)) # 384 filters => 384*13*13\n",
        "        x = torch.relu(self.conv4(x)) # 384 filters => 384*13*13\n",
        "        x = F.max_pool2d(torch.relu(self.conv5(x)), kernel_size=3, stride=2) # 256 filters => 256*6*6\n",
        "        x = self.dropout(x) \n",
        "        x = x.view(-1, 256*6*6) \n",
        "        x = torch.relu(self.fc1(x))\n",
        "        x = self.dropout(x)\n",
        "        x = torch.relu(self.fc2(x))\n",
        "        x = self.fc3(x)\n",
        "        return F.softmax(x)"
      ],
      "execution_count": null,
      "outputs": []
    }
  ]
}